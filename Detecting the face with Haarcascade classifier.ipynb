{
 "cells": [
  {
   "cell_type": "code",
   "execution_count": null,
   "metadata": {},
   "outputs": [],
   "source": [
    "import cv2\n",
    "\n",
    "cap = cv2.VideoCapture(0) #Capturing the image\n",
    "classifier = cv2.CascadeClassifier(\"Haarcascade.xml\")\n",
    "while True:\n",
    "\n",
    "    success,img = cap.read() #Reading image and checking if it was read succesfully\n",
    "\n",
    "    if not success: #If image was not read we just continue \n",
    "        continue\n",
    "        \n",
    "    faces = classifier.detectMultiScale(img,1.3,5) #1.3 is the scaling factor while 5 is no of neighbours\n",
    "    #Haarcascade works on image of certain sizes, so scaling factor keeps shrinking images until it is acceptable\n",
    "    #If we put 1.3 it means image would be shrunk 30% in every iteration\n",
    "    \n",
    "    for x,y,w,h in faces: #x and y are just the starting coordinates, and w and h are width and height of the picture\n",
    "        cv2.rectangle(img,(x,y),(x+w,y+w),(255,0,0),2) #So according to the colour defined by us a box of that colour will cover img\n",
    "        \n",
    "    cv2.imshow(\"color\",img) #Showing simple image\n",
    "   \n",
    "    #Let's say we want to stop the stream on press of certain key like 'a'\n",
    "    key = cv2.waitKey(1)&0xFF #Multiplying eight digits with 32 bits to get 8 bit number\n",
    "    if key== ord('a'):\n",
    "        break\n",
    "cap.release()\n",
    "cv2.destroyAllWindows()"
   ]
  },
  {
   "cell_type": "code",
   "execution_count": null,
   "metadata": {},
   "outputs": [],
   "source": []
  },
  {
   "cell_type": "code",
   "execution_count": null,
   "metadata": {},
   "outputs": [],
   "source": []
  }
 ],
 "metadata": {
  "kernelspec": {
   "display_name": "Python 3",
   "language": "python",
   "name": "python3"
  },
  "language_info": {
   "codemirror_mode": {
    "name": "ipython",
    "version": 3
   },
   "file_extension": ".py",
   "mimetype": "text/x-python",
   "name": "python",
   "nbconvert_exporter": "python",
   "pygments_lexer": "ipython3",
   "version": "3.6.5"
  }
 },
 "nbformat": 4,
 "nbformat_minor": 2
}
