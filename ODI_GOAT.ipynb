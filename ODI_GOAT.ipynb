{
  "nbformat": 4,
  "nbformat_minor": 0,
  "metadata": {
    "colab": {
      "name": "Stats.ipynb",
      "provenance": [],
      "authorship_tag": "ABX9TyPgfaIXkT2z1uBbzitVNoYD",
      "include_colab_link": true
    },
    "kernelspec": {
      "name": "python3",
      "display_name": "Python 3"
    }
  },
  "cells": [
    {
      "cell_type": "markdown",
      "metadata": {
        "id": "view-in-github",
        "colab_type": "text"
      },
      "source": [
        "<a href=\"https://colab.research.google.com/github/SachinSouravJha/Machine-Learning-Basics/blob/master/ODI_GOAT.ipynb\" target=\"_parent\"><img src=\"https://colab.research.google.com/assets/colab-badge.svg\" alt=\"Open In Colab\"/></a>"
      ]
    },
    {
      "cell_type": "code",
      "metadata": {
        "id": "HjCbsB4Np7Uq",
        "colab_type": "code",
        "outputId": "1cf0c3c2-d7bf-4b3f-a0c8-e80d34d15e41",
        "colab": {
          "base_uri": "https://localhost:8080/",
          "height": 377
        }
      },
      "source": [
        "!wget https://www.dropbox.com/s/pxw4ps4xeqgyzr8/Year_wise_batting_stats_all_ODI_players%2820-12-19%29.csv?dl=0\n"
      ],
      "execution_count": 1,
      "outputs": [
        {
          "output_type": "stream",
          "text": [
            "--2020-03-09 23:14:35--  https://www.dropbox.com/s/pxw4ps4xeqgyzr8/Year_wise_batting_stats_all_ODI_players%2820-12-19%29.csv?dl=0\n",
            "Resolving www.dropbox.com (www.dropbox.com)... 162.125.9.1, 2620:100:601f:1::a27d:901\n",
            "Connecting to www.dropbox.com (www.dropbox.com)|162.125.9.1|:443... connected.\n",
            "HTTP request sent, awaiting response... 301 Moved Permanently\n",
            "Location: /s/raw/pxw4ps4xeqgyzr8/Year_wise_batting_stats_all_ODI_players%2820-12-19%29.csv [following]\n",
            "--2020-03-09 23:14:35--  https://www.dropbox.com/s/raw/pxw4ps4xeqgyzr8/Year_wise_batting_stats_all_ODI_players%2820-12-19%29.csv\n",
            "Reusing existing connection to www.dropbox.com:443.\n",
            "HTTP request sent, awaiting response... 302 Found\n",
            "Location: https://uc9dd26a2329af8baf91d693a6ca.dl.dropboxusercontent.com/cd/0/inline/AzmfA8iMakw-6lWDa8X8EY_GGtQR_SsqZPzx34Q6Us99W9OmJM1-8D4HkOjhjsFxWxyswQKDAzdhHEr3WGFUFVNh-HUK4jQRGaWzNuxo0EmCiWE1hHkIe1R0JenXFd_PGdI/file# [following]\n",
            "--2020-03-09 23:14:35--  https://uc9dd26a2329af8baf91d693a6ca.dl.dropboxusercontent.com/cd/0/inline/AzmfA8iMakw-6lWDa8X8EY_GGtQR_SsqZPzx34Q6Us99W9OmJM1-8D4HkOjhjsFxWxyswQKDAzdhHEr3WGFUFVNh-HUK4jQRGaWzNuxo0EmCiWE1hHkIe1R0JenXFd_PGdI/file\n",
            "Resolving uc9dd26a2329af8baf91d693a6ca.dl.dropboxusercontent.com (uc9dd26a2329af8baf91d693a6ca.dl.dropboxusercontent.com)... 162.125.9.6, 2620:100:601b:6::a27d:806\n",
            "Connecting to uc9dd26a2329af8baf91d693a6ca.dl.dropboxusercontent.com (uc9dd26a2329af8baf91d693a6ca.dl.dropboxusercontent.com)|162.125.9.6|:443... connected.\n",
            "HTTP request sent, awaiting response... 200 OK\n",
            "Length: 764617 (747K) [text/plain]\n",
            "Saving to: ‘Year_wise_batting_stats_all_ODI_players(20-12-19).csv?dl=0’\n",
            "\n",
            "Year_wise_batting_s 100%[===================>] 746.70K  --.-KB/s    in 0.1s    \n",
            "\n",
            "2020-03-09 23:14:36 (7.45 MB/s) - ‘Year_wise_batting_stats_all_ODI_players(20-12-19).csv?dl=0’ saved [764617/764617]\n",
            "\n"
          ],
          "name": "stdout"
        }
      ]
    },
    {
      "cell_type": "code",
      "metadata": {
        "id": "v6aNyJol0B0e",
        "colab_type": "code",
        "outputId": "f8956cca-9a37-4c2b-d6da-7152c168831c",
        "colab": {
          "base_uri": "https://localhost:8080/",
          "height": 34
        }
      },
      "source": [
        "!ls"
      ],
      "execution_count": 2,
      "outputs": [
        {
          "output_type": "stream",
          "text": [
            " sample_data  'Year_wise_batting_stats_all_ODI_players(20-12-19).csv?dl=0'\n"
          ],
          "name": "stdout"
        }
      ]
    },
    {
      "cell_type": "code",
      "metadata": {
        "id": "Nk8drWpg0CJq",
        "colab_type": "code",
        "colab": {}
      },
      "source": [
        "import pandas as pd\n",
        "stats = pd.read_csv('Year_wise_batting_stats_all_ODI_players(20-12-19).csv?dl=0')"
      ],
      "execution_count": 0,
      "outputs": []
    },
    {
      "cell_type": "code",
      "metadata": {
        "id": "Sa5UrRdY2xc6",
        "colab_type": "code",
        "outputId": "4df5a33a-a754-4e5f-f4b8-5929de69b3b1",
        "colab": {
          "base_uri": "https://localhost:8080/",
          "height": 204
        }
      },
      "source": [
        "stats.head()"
      ],
      "execution_count": 60,
      "outputs": [
        {
          "output_type": "execute_result",
          "data": {
            "text/html": [
              "<div>\n",
              "<style scoped>\n",
              "    .dataframe tbody tr th:only-of-type {\n",
              "        vertical-align: middle;\n",
              "    }\n",
              "\n",
              "    .dataframe tbody tr th {\n",
              "        vertical-align: top;\n",
              "    }\n",
              "\n",
              "    .dataframe thead th {\n",
              "        text-align: right;\n",
              "    }\n",
              "</style>\n",
              "<table border=\"1\" class=\"dataframe\">\n",
              "  <thead>\n",
              "    <tr style=\"text-align: right;\">\n",
              "      <th></th>\n",
              "      <th>country</th>\n",
              "      <th>player_name</th>\n",
              "      <th>0s</th>\n",
              "      <th>100s</th>\n",
              "      <th>50s</th>\n",
              "      <th>Avg</th>\n",
              "      <th>Ca</th>\n",
              "      <th>HS</th>\n",
              "      <th>Inns</th>\n",
              "      <th>Mat</th>\n",
              "      <th>NO</th>\n",
              "      <th>Runs</th>\n",
              "      <th>S/R</th>\n",
              "      <th>St</th>\n",
              "      <th>Year</th>\n",
              "    </tr>\n",
              "  </thead>\n",
              "  <tbody>\n",
              "    <tr>\n",
              "      <th>0</th>\n",
              "      <td>AFG</td>\n",
              "      <td>Najeeb Tarakai</td>\n",
              "      <td>0</td>\n",
              "      <td>0</td>\n",
              "      <td>0</td>\n",
              "      <td>5.0</td>\n",
              "      <td>0</td>\n",
              "      <td>5</td>\n",
              "      <td>1</td>\n",
              "      <td>1</td>\n",
              "      <td>0</td>\n",
              "      <td>5</td>\n",
              "      <td>27.78</td>\n",
              "      <td>0</td>\n",
              "      <td>2017</td>\n",
              "    </tr>\n",
              "    <tr>\n",
              "      <th>1</th>\n",
              "      <td>AFG</td>\n",
              "      <td>Najeeb Tarakai</td>\n",
              "      <td>0</td>\n",
              "      <td>0</td>\n",
              "      <td>0</td>\n",
              "      <td>5.0</td>\n",
              "      <td>0</td>\n",
              "      <td>5</td>\n",
              "      <td>1</td>\n",
              "      <td>1</td>\n",
              "      <td>0</td>\n",
              "      <td>5</td>\n",
              "      <td>27.78</td>\n",
              "      <td>0</td>\n",
              "      <td>Overall</td>\n",
              "    </tr>\n",
              "    <tr>\n",
              "      <th>2</th>\n",
              "      <td>AFG</td>\n",
              "      <td>Naveen -ul-Haq</td>\n",
              "      <td>0</td>\n",
              "      <td>0</td>\n",
              "      <td>0</td>\n",
              "      <td>NaN</td>\n",
              "      <td>2</td>\n",
              "      <td>0*</td>\n",
              "      <td>1</td>\n",
              "      <td>2</td>\n",
              "      <td>1</td>\n",
              "      <td>0</td>\n",
              "      <td>NaN</td>\n",
              "      <td>0</td>\n",
              "      <td>2016</td>\n",
              "    </tr>\n",
              "    <tr>\n",
              "      <th>3</th>\n",
              "      <td>AFG</td>\n",
              "      <td>Naveen -ul-Haq</td>\n",
              "      <td>0</td>\n",
              "      <td>0</td>\n",
              "      <td>0</td>\n",
              "      <td>9.0</td>\n",
              "      <td>0</td>\n",
              "      <td>8*</td>\n",
              "      <td>2</td>\n",
              "      <td>2</td>\n",
              "      <td>1</td>\n",
              "      <td>9</td>\n",
              "      <td>45.00</td>\n",
              "      <td>0</td>\n",
              "      <td>2019</td>\n",
              "    </tr>\n",
              "    <tr>\n",
              "      <th>4</th>\n",
              "      <td>AFG</td>\n",
              "      <td>Naveen -ul-Haq</td>\n",
              "      <td>0</td>\n",
              "      <td>0</td>\n",
              "      <td>0</td>\n",
              "      <td>9.0</td>\n",
              "      <td>2</td>\n",
              "      <td>8*</td>\n",
              "      <td>3</td>\n",
              "      <td>4</td>\n",
              "      <td>2</td>\n",
              "      <td>9</td>\n",
              "      <td>42.86</td>\n",
              "      <td>0</td>\n",
              "      <td>Overall</td>\n",
              "    </tr>\n",
              "  </tbody>\n",
              "</table>\n",
              "</div>"
            ],
            "text/plain": [
              "  country     player_name  0s  100s  50s  ...  NO  Runs    S/R  St     Year\n",
              "0     AFG  Najeeb Tarakai   0     0    0  ...   0     5  27.78   0     2017\n",
              "1     AFG  Najeeb Tarakai   0     0    0  ...   0     5  27.78   0  Overall\n",
              "2     AFG  Naveen -ul-Haq   0     0    0  ...   1     0    NaN   0     2016\n",
              "3     AFG  Naveen -ul-Haq   0     0    0  ...   1     9  45.00   0     2019\n",
              "4     AFG  Naveen -ul-Haq   0     0    0  ...   2     9  42.86   0  Overall\n",
              "\n",
              "[5 rows x 15 columns]"
            ]
          },
          "metadata": {
            "tags": []
          },
          "execution_count": 60
        }
      ]
    },
    {
      "cell_type": "code",
      "metadata": {
        "id": "X49YTOuC2yZK",
        "colab_type": "code",
        "outputId": "743398a5-6195-4c3a-8415-7dab32ee8699",
        "colab": {
          "base_uri": "https://localhost:8080/",
          "height": 204
        }
      },
      "source": [
        "stats1 = stats[stats['Year']!=\"Overall\"]\n",
        "stats1.head()"
      ],
      "execution_count": 61,
      "outputs": [
        {
          "output_type": "execute_result",
          "data": {
            "text/html": [
              "<div>\n",
              "<style scoped>\n",
              "    .dataframe tbody tr th:only-of-type {\n",
              "        vertical-align: middle;\n",
              "    }\n",
              "\n",
              "    .dataframe tbody tr th {\n",
              "        vertical-align: top;\n",
              "    }\n",
              "\n",
              "    .dataframe thead th {\n",
              "        text-align: right;\n",
              "    }\n",
              "</style>\n",
              "<table border=\"1\" class=\"dataframe\">\n",
              "  <thead>\n",
              "    <tr style=\"text-align: right;\">\n",
              "      <th></th>\n",
              "      <th>country</th>\n",
              "      <th>player_name</th>\n",
              "      <th>0s</th>\n",
              "      <th>100s</th>\n",
              "      <th>50s</th>\n",
              "      <th>Avg</th>\n",
              "      <th>Ca</th>\n",
              "      <th>HS</th>\n",
              "      <th>Inns</th>\n",
              "      <th>Mat</th>\n",
              "      <th>NO</th>\n",
              "      <th>Runs</th>\n",
              "      <th>S/R</th>\n",
              "      <th>St</th>\n",
              "      <th>Year</th>\n",
              "    </tr>\n",
              "  </thead>\n",
              "  <tbody>\n",
              "    <tr>\n",
              "      <th>0</th>\n",
              "      <td>AFG</td>\n",
              "      <td>Najeeb Tarakai</td>\n",
              "      <td>0</td>\n",
              "      <td>0</td>\n",
              "      <td>0</td>\n",
              "      <td>5.0</td>\n",
              "      <td>0</td>\n",
              "      <td>5</td>\n",
              "      <td>1</td>\n",
              "      <td>1</td>\n",
              "      <td>0</td>\n",
              "      <td>5</td>\n",
              "      <td>27.78</td>\n",
              "      <td>0</td>\n",
              "      <td>2017</td>\n",
              "    </tr>\n",
              "    <tr>\n",
              "      <th>2</th>\n",
              "      <td>AFG</td>\n",
              "      <td>Naveen -ul-Haq</td>\n",
              "      <td>0</td>\n",
              "      <td>0</td>\n",
              "      <td>0</td>\n",
              "      <td>NaN</td>\n",
              "      <td>2</td>\n",
              "      <td>0*</td>\n",
              "      <td>1</td>\n",
              "      <td>2</td>\n",
              "      <td>1</td>\n",
              "      <td>0</td>\n",
              "      <td>NaN</td>\n",
              "      <td>0</td>\n",
              "      <td>2016</td>\n",
              "    </tr>\n",
              "    <tr>\n",
              "      <th>3</th>\n",
              "      <td>AFG</td>\n",
              "      <td>Naveen -ul-Haq</td>\n",
              "      <td>0</td>\n",
              "      <td>0</td>\n",
              "      <td>0</td>\n",
              "      <td>9.0</td>\n",
              "      <td>0</td>\n",
              "      <td>8*</td>\n",
              "      <td>2</td>\n",
              "      <td>2</td>\n",
              "      <td>1</td>\n",
              "      <td>9</td>\n",
              "      <td>45.00</td>\n",
              "      <td>0</td>\n",
              "      <td>2019</td>\n",
              "    </tr>\n",
              "    <tr>\n",
              "      <th>5</th>\n",
              "      <td>AFG</td>\n",
              "      <td>Zakiullah Zaki</td>\n",
              "      <td>0</td>\n",
              "      <td>0</td>\n",
              "      <td>0</td>\n",
              "      <td>NaN</td>\n",
              "      <td>0</td>\n",
              "      <td>3*</td>\n",
              "      <td>1</td>\n",
              "      <td>1</td>\n",
              "      <td>1</td>\n",
              "      <td>3</td>\n",
              "      <td>13.64</td>\n",
              "      <td>0</td>\n",
              "      <td>2012</td>\n",
              "    </tr>\n",
              "    <tr>\n",
              "      <th>7</th>\n",
              "      <td>AFG</td>\n",
              "      <td>Usman Ghani</td>\n",
              "      <td>1</td>\n",
              "      <td>1</td>\n",
              "      <td>2</td>\n",
              "      <td>39.5</td>\n",
              "      <td>2</td>\n",
              "      <td>118</td>\n",
              "      <td>8</td>\n",
              "      <td>8</td>\n",
              "      <td>0</td>\n",
              "      <td>316</td>\n",
              "      <td>78.61</td>\n",
              "      <td>0</td>\n",
              "      <td>2014</td>\n",
              "    </tr>\n",
              "  </tbody>\n",
              "</table>\n",
              "</div>"
            ],
            "text/plain": [
              "  country     player_name  0s  100s  50s   Avg  ...  Mat NO  Runs    S/R  St  Year\n",
              "0     AFG  Najeeb Tarakai   0     0    0   5.0  ...    1  0     5  27.78   0  2017\n",
              "2     AFG  Naveen -ul-Haq   0     0    0   NaN  ...    2  1     0    NaN   0  2016\n",
              "3     AFG  Naveen -ul-Haq   0     0    0   9.0  ...    2  1     9  45.00   0  2019\n",
              "5     AFG  Zakiullah Zaki   0     0    0   NaN  ...    1  1     3  13.64   0  2012\n",
              "7     AFG     Usman Ghani   1     1    2  39.5  ...    8  0   316  78.61   0  2014\n",
              "\n",
              "[5 rows x 15 columns]"
            ]
          },
          "metadata": {
            "tags": []
          },
          "execution_count": 61
        }
      ]
    },
    {
      "cell_type": "code",
      "metadata": {
        "id": "GnP0gPaG0CW4",
        "colab_type": "code",
        "outputId": "167e2a2a-c279-4396-c554-cd3ea3a66fe7",
        "colab": {
          "base_uri": "https://localhost:8080/",
          "height": 408
        }
      },
      "source": [
        "stats1[\"Avg\"] = stats1[\"Avg\"].fillna(0)\n",
        "stats1[\"S/R\"] = stats1[\"S/R\"].fillna(0)\n",
        "stats1.head()"
      ],
      "execution_count": 62,
      "outputs": [
        {
          "output_type": "stream",
          "text": [
            "/usr/local/lib/python3.6/dist-packages/ipykernel_launcher.py:1: SettingWithCopyWarning: \n",
            "A value is trying to be set on a copy of a slice from a DataFrame.\n",
            "Try using .loc[row_indexer,col_indexer] = value instead\n",
            "\n",
            "See the caveats in the documentation: http://pandas.pydata.org/pandas-docs/stable/user_guide/indexing.html#returning-a-view-versus-a-copy\n",
            "  \"\"\"Entry point for launching an IPython kernel.\n",
            "/usr/local/lib/python3.6/dist-packages/ipykernel_launcher.py:2: SettingWithCopyWarning: \n",
            "A value is trying to be set on a copy of a slice from a DataFrame.\n",
            "Try using .loc[row_indexer,col_indexer] = value instead\n",
            "\n",
            "See the caveats in the documentation: http://pandas.pydata.org/pandas-docs/stable/user_guide/indexing.html#returning-a-view-versus-a-copy\n",
            "  \n"
          ],
          "name": "stderr"
        },
        {
          "output_type": "execute_result",
          "data": {
            "text/html": [
              "<div>\n",
              "<style scoped>\n",
              "    .dataframe tbody tr th:only-of-type {\n",
              "        vertical-align: middle;\n",
              "    }\n",
              "\n",
              "    .dataframe tbody tr th {\n",
              "        vertical-align: top;\n",
              "    }\n",
              "\n",
              "    .dataframe thead th {\n",
              "        text-align: right;\n",
              "    }\n",
              "</style>\n",
              "<table border=\"1\" class=\"dataframe\">\n",
              "  <thead>\n",
              "    <tr style=\"text-align: right;\">\n",
              "      <th></th>\n",
              "      <th>country</th>\n",
              "      <th>player_name</th>\n",
              "      <th>0s</th>\n",
              "      <th>100s</th>\n",
              "      <th>50s</th>\n",
              "      <th>Avg</th>\n",
              "      <th>Ca</th>\n",
              "      <th>HS</th>\n",
              "      <th>Inns</th>\n",
              "      <th>Mat</th>\n",
              "      <th>NO</th>\n",
              "      <th>Runs</th>\n",
              "      <th>S/R</th>\n",
              "      <th>St</th>\n",
              "      <th>Year</th>\n",
              "    </tr>\n",
              "  </thead>\n",
              "  <tbody>\n",
              "    <tr>\n",
              "      <th>0</th>\n",
              "      <td>AFG</td>\n",
              "      <td>Najeeb Tarakai</td>\n",
              "      <td>0</td>\n",
              "      <td>0</td>\n",
              "      <td>0</td>\n",
              "      <td>5.0</td>\n",
              "      <td>0</td>\n",
              "      <td>5</td>\n",
              "      <td>1</td>\n",
              "      <td>1</td>\n",
              "      <td>0</td>\n",
              "      <td>5</td>\n",
              "      <td>27.78</td>\n",
              "      <td>0</td>\n",
              "      <td>2017</td>\n",
              "    </tr>\n",
              "    <tr>\n",
              "      <th>2</th>\n",
              "      <td>AFG</td>\n",
              "      <td>Naveen -ul-Haq</td>\n",
              "      <td>0</td>\n",
              "      <td>0</td>\n",
              "      <td>0</td>\n",
              "      <td>0.0</td>\n",
              "      <td>2</td>\n",
              "      <td>0*</td>\n",
              "      <td>1</td>\n",
              "      <td>2</td>\n",
              "      <td>1</td>\n",
              "      <td>0</td>\n",
              "      <td>0.00</td>\n",
              "      <td>0</td>\n",
              "      <td>2016</td>\n",
              "    </tr>\n",
              "    <tr>\n",
              "      <th>3</th>\n",
              "      <td>AFG</td>\n",
              "      <td>Naveen -ul-Haq</td>\n",
              "      <td>0</td>\n",
              "      <td>0</td>\n",
              "      <td>0</td>\n",
              "      <td>9.0</td>\n",
              "      <td>0</td>\n",
              "      <td>8*</td>\n",
              "      <td>2</td>\n",
              "      <td>2</td>\n",
              "      <td>1</td>\n",
              "      <td>9</td>\n",
              "      <td>45.00</td>\n",
              "      <td>0</td>\n",
              "      <td>2019</td>\n",
              "    </tr>\n",
              "    <tr>\n",
              "      <th>5</th>\n",
              "      <td>AFG</td>\n",
              "      <td>Zakiullah Zaki</td>\n",
              "      <td>0</td>\n",
              "      <td>0</td>\n",
              "      <td>0</td>\n",
              "      <td>0.0</td>\n",
              "      <td>0</td>\n",
              "      <td>3*</td>\n",
              "      <td>1</td>\n",
              "      <td>1</td>\n",
              "      <td>1</td>\n",
              "      <td>3</td>\n",
              "      <td>13.64</td>\n",
              "      <td>0</td>\n",
              "      <td>2012</td>\n",
              "    </tr>\n",
              "    <tr>\n",
              "      <th>7</th>\n",
              "      <td>AFG</td>\n",
              "      <td>Usman Ghani</td>\n",
              "      <td>1</td>\n",
              "      <td>1</td>\n",
              "      <td>2</td>\n",
              "      <td>39.5</td>\n",
              "      <td>2</td>\n",
              "      <td>118</td>\n",
              "      <td>8</td>\n",
              "      <td>8</td>\n",
              "      <td>0</td>\n",
              "      <td>316</td>\n",
              "      <td>78.61</td>\n",
              "      <td>0</td>\n",
              "      <td>2014</td>\n",
              "    </tr>\n",
              "  </tbody>\n",
              "</table>\n",
              "</div>"
            ],
            "text/plain": [
              "  country     player_name  0s  100s  50s   Avg  ...  Mat NO  Runs    S/R  St  Year\n",
              "0     AFG  Najeeb Tarakai   0     0    0   5.0  ...    1  0     5  27.78   0  2017\n",
              "2     AFG  Naveen -ul-Haq   0     0    0   0.0  ...    2  1     0   0.00   0  2016\n",
              "3     AFG  Naveen -ul-Haq   0     0    0   9.0  ...    2  1     9  45.00   0  2019\n",
              "5     AFG  Zakiullah Zaki   0     0    0   0.0  ...    1  1     3  13.64   0  2012\n",
              "7     AFG     Usman Ghani   1     1    2  39.5  ...    8  0   316  78.61   0  2014\n",
              "\n",
              "[5 rows x 15 columns]"
            ]
          },
          "metadata": {
            "tags": []
          },
          "execution_count": 62
        }
      ]
    },
    {
      "cell_type": "code",
      "metadata": {
        "id": "TxlSIfDv0CmA",
        "colab_type": "code",
        "outputId": "52d5bd29-be1c-4701-b4e2-839575b16a47",
        "colab": {
          "base_uri": "https://localhost:8080/",
          "height": 51
        }
      },
      "source": [
        "Unique = stats.player_name.unique()\n",
        "Unique"
      ],
      "execution_count": 63,
      "outputs": [
        {
          "output_type": "execute_result",
          "data": {
            "text/plain": [
              "array(['Najeeb Tarakai', 'Naveen -ul-Haq', 'Zakiullah Zaki', ...,\n",
              "       'Babu Meman', 'Vincent Hogg', 'John Rennie'], dtype=object)"
            ]
          },
          "metadata": {
            "tags": []
          },
          "execution_count": 63
        }
      ]
    },
    {
      "cell_type": "code",
      "metadata": {
        "id": "rPyR5V078_Vl",
        "colab_type": "code",
        "outputId": "5043b193-80d3-447a-807f-cbbb973b2ea0",
        "colab": {
          "base_uri": "https://localhost:8080/",
          "height": 306
        }
      },
      "source": [
        "stats1[\"Avg\"] = stats1[\"Avg\"]-stats[\"NO\"]\n",
        "stats1.head()"
      ],
      "execution_count": 64,
      "outputs": [
        {
          "output_type": "stream",
          "text": [
            "/usr/local/lib/python3.6/dist-packages/ipykernel_launcher.py:1: SettingWithCopyWarning: \n",
            "A value is trying to be set on a copy of a slice from a DataFrame.\n",
            "Try using .loc[row_indexer,col_indexer] = value instead\n",
            "\n",
            "See the caveats in the documentation: http://pandas.pydata.org/pandas-docs/stable/user_guide/indexing.html#returning-a-view-versus-a-copy\n",
            "  \"\"\"Entry point for launching an IPython kernel.\n"
          ],
          "name": "stderr"
        },
        {
          "output_type": "execute_result",
          "data": {
            "text/html": [
              "<div>\n",
              "<style scoped>\n",
              "    .dataframe tbody tr th:only-of-type {\n",
              "        vertical-align: middle;\n",
              "    }\n",
              "\n",
              "    .dataframe tbody tr th {\n",
              "        vertical-align: top;\n",
              "    }\n",
              "\n",
              "    .dataframe thead th {\n",
              "        text-align: right;\n",
              "    }\n",
              "</style>\n",
              "<table border=\"1\" class=\"dataframe\">\n",
              "  <thead>\n",
              "    <tr style=\"text-align: right;\">\n",
              "      <th></th>\n",
              "      <th>country</th>\n",
              "      <th>player_name</th>\n",
              "      <th>0s</th>\n",
              "      <th>100s</th>\n",
              "      <th>50s</th>\n",
              "      <th>Avg</th>\n",
              "      <th>Ca</th>\n",
              "      <th>HS</th>\n",
              "      <th>Inns</th>\n",
              "      <th>Mat</th>\n",
              "      <th>NO</th>\n",
              "      <th>Runs</th>\n",
              "      <th>S/R</th>\n",
              "      <th>St</th>\n",
              "      <th>Year</th>\n",
              "    </tr>\n",
              "  </thead>\n",
              "  <tbody>\n",
              "    <tr>\n",
              "      <th>0</th>\n",
              "      <td>AFG</td>\n",
              "      <td>Najeeb Tarakai</td>\n",
              "      <td>0</td>\n",
              "      <td>0</td>\n",
              "      <td>0</td>\n",
              "      <td>5.0</td>\n",
              "      <td>0</td>\n",
              "      <td>5</td>\n",
              "      <td>1</td>\n",
              "      <td>1</td>\n",
              "      <td>0</td>\n",
              "      <td>5</td>\n",
              "      <td>27.78</td>\n",
              "      <td>0</td>\n",
              "      <td>2017</td>\n",
              "    </tr>\n",
              "    <tr>\n",
              "      <th>2</th>\n",
              "      <td>AFG</td>\n",
              "      <td>Naveen -ul-Haq</td>\n",
              "      <td>0</td>\n",
              "      <td>0</td>\n",
              "      <td>0</td>\n",
              "      <td>-1.0</td>\n",
              "      <td>2</td>\n",
              "      <td>0*</td>\n",
              "      <td>1</td>\n",
              "      <td>2</td>\n",
              "      <td>1</td>\n",
              "      <td>0</td>\n",
              "      <td>0.00</td>\n",
              "      <td>0</td>\n",
              "      <td>2016</td>\n",
              "    </tr>\n",
              "    <tr>\n",
              "      <th>3</th>\n",
              "      <td>AFG</td>\n",
              "      <td>Naveen -ul-Haq</td>\n",
              "      <td>0</td>\n",
              "      <td>0</td>\n",
              "      <td>0</td>\n",
              "      <td>8.0</td>\n",
              "      <td>0</td>\n",
              "      <td>8*</td>\n",
              "      <td>2</td>\n",
              "      <td>2</td>\n",
              "      <td>1</td>\n",
              "      <td>9</td>\n",
              "      <td>45.00</td>\n",
              "      <td>0</td>\n",
              "      <td>2019</td>\n",
              "    </tr>\n",
              "    <tr>\n",
              "      <th>5</th>\n",
              "      <td>AFG</td>\n",
              "      <td>Zakiullah Zaki</td>\n",
              "      <td>0</td>\n",
              "      <td>0</td>\n",
              "      <td>0</td>\n",
              "      <td>-1.0</td>\n",
              "      <td>0</td>\n",
              "      <td>3*</td>\n",
              "      <td>1</td>\n",
              "      <td>1</td>\n",
              "      <td>1</td>\n",
              "      <td>3</td>\n",
              "      <td>13.64</td>\n",
              "      <td>0</td>\n",
              "      <td>2012</td>\n",
              "    </tr>\n",
              "    <tr>\n",
              "      <th>7</th>\n",
              "      <td>AFG</td>\n",
              "      <td>Usman Ghani</td>\n",
              "      <td>1</td>\n",
              "      <td>1</td>\n",
              "      <td>2</td>\n",
              "      <td>39.5</td>\n",
              "      <td>2</td>\n",
              "      <td>118</td>\n",
              "      <td>8</td>\n",
              "      <td>8</td>\n",
              "      <td>0</td>\n",
              "      <td>316</td>\n",
              "      <td>78.61</td>\n",
              "      <td>0</td>\n",
              "      <td>2014</td>\n",
              "    </tr>\n",
              "  </tbody>\n",
              "</table>\n",
              "</div>"
            ],
            "text/plain": [
              "  country     player_name  0s  100s  50s   Avg  ...  Mat NO  Runs    S/R  St  Year\n",
              "0     AFG  Najeeb Tarakai   0     0    0   5.0  ...    1  0     5  27.78   0  2017\n",
              "2     AFG  Naveen -ul-Haq   0     0    0  -1.0  ...    2  1     0   0.00   0  2016\n",
              "3     AFG  Naveen -ul-Haq   0     0    0   8.0  ...    2  1     9  45.00   0  2019\n",
              "5     AFG  Zakiullah Zaki   0     0    0  -1.0  ...    1  1     3  13.64   0  2012\n",
              "7     AFG     Usman Ghani   1     1    2  39.5  ...    8  0   316  78.61   0  2014\n",
              "\n",
              "[5 rows x 15 columns]"
            ]
          },
          "metadata": {
            "tags": []
          },
          "execution_count": 64
        }
      ]
    },
    {
      "cell_type": "code",
      "metadata": {
        "id": "w0H-W8Np8_ew",
        "colab_type": "code",
        "outputId": "471e1144-cabc-4642-e8b4-821c400eeac1",
        "colab": {
          "base_uri": "https://localhost:8080/",
          "height": 54
        }
      },
      "source": [
        "gradient = 2.5\n",
        "Year_Dict = {}\n",
        "for i in range(1971,2020):\n",
        "  Year_Dict[i] = gradient\n",
        "  gradient = gradient-0.035\n",
        "print(Year_Dict)"
      ],
      "execution_count": 65,
      "outputs": [
        {
          "output_type": "stream",
          "text": [
            "{1971: 2.5, 1972: 2.465, 1973: 2.4299999999999997, 1974: 2.3949999999999996, 1975: 2.3599999999999994, 1976: 2.3249999999999993, 1977: 2.289999999999999, 1978: 2.254999999999999, 1979: 2.219999999999999, 1980: 2.1849999999999987, 1981: 2.1499999999999986, 1982: 2.1149999999999984, 1983: 2.0799999999999983, 1984: 2.044999999999998, 1985: 2.009999999999998, 1986: 1.974999999999998, 1987: 1.9399999999999982, 1988: 1.9049999999999983, 1989: 1.8699999999999983, 1990: 1.8349999999999984, 1991: 1.7999999999999985, 1992: 1.7649999999999986, 1993: 1.7299999999999986, 1994: 1.6949999999999987, 1995: 1.6599999999999988, 1996: 1.624999999999999, 1997: 1.589999999999999, 1998: 1.554999999999999, 1999: 1.5199999999999991, 2000: 1.4849999999999992, 2001: 1.4499999999999993, 2002: 1.4149999999999994, 2003: 1.3799999999999994, 2004: 1.3449999999999995, 2005: 1.3099999999999996, 2006: 1.2749999999999997, 2007: 1.2399999999999998, 2008: 1.2049999999999998, 2009: 1.17, 2010: 1.135, 2011: 1.1, 2012: 1.0650000000000002, 2013: 1.0300000000000002, 2014: 0.9950000000000002, 2015: 0.9600000000000002, 2016: 0.9250000000000002, 2017: 0.8900000000000001, 2018: 0.8550000000000001, 2019: 0.8200000000000001}\n"
          ],
          "name": "stdout"
        }
      ]
    },
    {
      "cell_type": "code",
      "metadata": {
        "id": "PRQz-rTonLEf",
        "colab_type": "code",
        "colab": {}
      },
      "source": [
        "#Start"
      ],
      "execution_count": 0,
      "outputs": []
    },
    {
      "cell_type": "code",
      "metadata": {
        "id": "PIrVQFKgCYeV",
        "colab_type": "code",
        "outputId": "d3bf9f28-6df0-41cf-a9aa-d49b2973e6fb",
        "colab": {
          "base_uri": "https://localhost:8080/",
          "height": 204
        }
      },
      "source": [
        "stats3 = stats1[stats1['Inns']>10]\n",
        "\n",
        "stats3.head()"
      ],
      "execution_count": 67,
      "outputs": [
        {
          "output_type": "execute_result",
          "data": {
            "text/html": [
              "<div>\n",
              "<style scoped>\n",
              "    .dataframe tbody tr th:only-of-type {\n",
              "        vertical-align: middle;\n",
              "    }\n",
              "\n",
              "    .dataframe tbody tr th {\n",
              "        vertical-align: top;\n",
              "    }\n",
              "\n",
              "    .dataframe thead th {\n",
              "        text-align: right;\n",
              "    }\n",
              "</style>\n",
              "<table border=\"1\" class=\"dataframe\">\n",
              "  <thead>\n",
              "    <tr style=\"text-align: right;\">\n",
              "      <th></th>\n",
              "      <th>country</th>\n",
              "      <th>player_name</th>\n",
              "      <th>0s</th>\n",
              "      <th>100s</th>\n",
              "      <th>50s</th>\n",
              "      <th>Avg</th>\n",
              "      <th>Ca</th>\n",
              "      <th>HS</th>\n",
              "      <th>Inns</th>\n",
              "      <th>Mat</th>\n",
              "      <th>NO</th>\n",
              "      <th>Runs</th>\n",
              "      <th>S/R</th>\n",
              "      <th>St</th>\n",
              "      <th>Year</th>\n",
              "    </tr>\n",
              "  </thead>\n",
              "  <tbody>\n",
              "    <tr>\n",
              "      <th>12</th>\n",
              "      <td>AFG</td>\n",
              "      <td>Karim Sadiq</td>\n",
              "      <td>3</td>\n",
              "      <td>1</td>\n",
              "      <td>0</td>\n",
              "      <td>21.50</td>\n",
              "      <td>3</td>\n",
              "      <td>114*</td>\n",
              "      <td>12</td>\n",
              "      <td>13</td>\n",
              "      <td>2</td>\n",
              "      <td>235</td>\n",
              "      <td>74.13</td>\n",
              "      <td>0</td>\n",
              "      <td>2010</td>\n",
              "    </tr>\n",
              "    <tr>\n",
              "      <th>39</th>\n",
              "      <td>AFG</td>\n",
              "      <td>Hashmatullah Shahidi</td>\n",
              "      <td>1</td>\n",
              "      <td>0</td>\n",
              "      <td>4</td>\n",
              "      <td>28.77</td>\n",
              "      <td>3</td>\n",
              "      <td>76</td>\n",
              "      <td>14</td>\n",
              "      <td>14</td>\n",
              "      <td>1</td>\n",
              "      <td>387</td>\n",
              "      <td>63.44</td>\n",
              "      <td>0</td>\n",
              "      <td>2019</td>\n",
              "    </tr>\n",
              "    <tr>\n",
              "      <th>87</th>\n",
              "      <td>AFG</td>\n",
              "      <td>Rahmat Shah</td>\n",
              "      <td>1</td>\n",
              "      <td>1</td>\n",
              "      <td>5</td>\n",
              "      <td>38.36</td>\n",
              "      <td>3</td>\n",
              "      <td>108*</td>\n",
              "      <td>15</td>\n",
              "      <td>16</td>\n",
              "      <td>1</td>\n",
              "      <td>551</td>\n",
              "      <td>70.10</td>\n",
              "      <td>0</td>\n",
              "      <td>2017</td>\n",
              "    </tr>\n",
              "    <tr>\n",
              "      <th>88</th>\n",
              "      <td>AFG</td>\n",
              "      <td>Rahmat Shah</td>\n",
              "      <td>0</td>\n",
              "      <td>1</td>\n",
              "      <td>6</td>\n",
              "      <td>38.00</td>\n",
              "      <td>6</td>\n",
              "      <td>114</td>\n",
              "      <td>19</td>\n",
              "      <td>20</td>\n",
              "      <td>0</td>\n",
              "      <td>722</td>\n",
              "      <td>74.74</td>\n",
              "      <td>0</td>\n",
              "      <td>2018</td>\n",
              "    </tr>\n",
              "    <tr>\n",
              "      <th>89</th>\n",
              "      <td>AFG</td>\n",
              "      <td>Rahmat Shah</td>\n",
              "      <td>1</td>\n",
              "      <td>1</td>\n",
              "      <td>4</td>\n",
              "      <td>32.30</td>\n",
              "      <td>6</td>\n",
              "      <td>113</td>\n",
              "      <td>20</td>\n",
              "      <td>20</td>\n",
              "      <td>0</td>\n",
              "      <td>646</td>\n",
              "      <td>68.58</td>\n",
              "      <td>0</td>\n",
              "      <td>2019</td>\n",
              "    </tr>\n",
              "  </tbody>\n",
              "</table>\n",
              "</div>"
            ],
            "text/plain": [
              "   country           player_name  0s  100s  50s  ...  NO  Runs    S/R  St  Year\n",
              "12     AFG           Karim Sadiq   3     1    0  ...   2   235  74.13   0  2010\n",
              "39     AFG  Hashmatullah Shahidi   1     0    4  ...   1   387  63.44   0  2019\n",
              "87     AFG           Rahmat Shah   1     1    5  ...   1   551  70.10   0  2017\n",
              "88     AFG           Rahmat Shah   0     1    6  ...   0   722  74.74   0  2018\n",
              "89     AFG           Rahmat Shah   1     1    4  ...   0   646  68.58   0  2019\n",
              "\n",
              "[5 rows x 15 columns]"
            ]
          },
          "metadata": {
            "tags": []
          },
          "execution_count": 67
        }
      ]
    },
    {
      "cell_type": "code",
      "metadata": {
        "id": "YgwTzqq9Jf05",
        "colab_type": "code",
        "colab": {}
      },
      "source": [
        "scaled_features = stats3.copy()"
      ],
      "execution_count": 0,
      "outputs": []
    },
    {
      "cell_type": "code",
      "metadata": {
        "id": "Eb5EhsSEJf-r",
        "colab_type": "code",
        "colab": {}
      },
      "source": [
        "from sklearn.preprocessing import MinMaxScaler\n",
        "col_names = ['Avg', 'S/R']\n",
        "features = scaled_features[col_names]\n",
        "scaler = MinMaxScaler().fit(features.values)\n",
        "features = scaler.transform(features.values)"
      ],
      "execution_count": 0,
      "outputs": []
    },
    {
      "cell_type": "code",
      "metadata": {
        "id": "INjojbyzCYxg",
        "colab_type": "code",
        "outputId": "00efb028-4a2d-493d-aa74-3362a4ade19c",
        "colab": {
          "base_uri": "https://localhost:8080/",
          "height": 204
        }
      },
      "source": [
        "scaled_features[col_names] = features\n",
        "scaled_features.head()"
      ],
      "execution_count": 70,
      "outputs": [
        {
          "output_type": "execute_result",
          "data": {
            "text/html": [
              "<div>\n",
              "<style scoped>\n",
              "    .dataframe tbody tr th:only-of-type {\n",
              "        vertical-align: middle;\n",
              "    }\n",
              "\n",
              "    .dataframe tbody tr th {\n",
              "        vertical-align: top;\n",
              "    }\n",
              "\n",
              "    .dataframe thead th {\n",
              "        text-align: right;\n",
              "    }\n",
              "</style>\n",
              "<table border=\"1\" class=\"dataframe\">\n",
              "  <thead>\n",
              "    <tr style=\"text-align: right;\">\n",
              "      <th></th>\n",
              "      <th>country</th>\n",
              "      <th>player_name</th>\n",
              "      <th>0s</th>\n",
              "      <th>100s</th>\n",
              "      <th>50s</th>\n",
              "      <th>Avg</th>\n",
              "      <th>Ca</th>\n",
              "      <th>HS</th>\n",
              "      <th>Inns</th>\n",
              "      <th>Mat</th>\n",
              "      <th>NO</th>\n",
              "      <th>Runs</th>\n",
              "      <th>S/R</th>\n",
              "      <th>St</th>\n",
              "      <th>Year</th>\n",
              "    </tr>\n",
              "  </thead>\n",
              "  <tbody>\n",
              "    <tr>\n",
              "      <th>12</th>\n",
              "      <td>AFG</td>\n",
              "      <td>Karim Sadiq</td>\n",
              "      <td>3</td>\n",
              "      <td>1</td>\n",
              "      <td>0</td>\n",
              "      <td>0.189237</td>\n",
              "      <td>3</td>\n",
              "      <td>114*</td>\n",
              "      <td>12</td>\n",
              "      <td>13</td>\n",
              "      <td>2</td>\n",
              "      <td>235</td>\n",
              "      <td>0.417258</td>\n",
              "      <td>0</td>\n",
              "      <td>2010</td>\n",
              "    </tr>\n",
              "    <tr>\n",
              "      <th>39</th>\n",
              "      <td>AFG</td>\n",
              "      <td>Hashmatullah Shahidi</td>\n",
              "      <td>1</td>\n",
              "      <td>0</td>\n",
              "      <td>4</td>\n",
              "      <td>0.240380</td>\n",
              "      <td>3</td>\n",
              "      <td>76</td>\n",
              "      <td>14</td>\n",
              "      <td>14</td>\n",
              "      <td>1</td>\n",
              "      <td>387</td>\n",
              "      <td>0.357087</td>\n",
              "      <td>0</td>\n",
              "      <td>2019</td>\n",
              "    </tr>\n",
              "    <tr>\n",
              "      <th>87</th>\n",
              "      <td>AFG</td>\n",
              "      <td>Rahmat Shah</td>\n",
              "      <td>1</td>\n",
              "      <td>1</td>\n",
              "      <td>5</td>\n",
              "      <td>0.307844</td>\n",
              "      <td>3</td>\n",
              "      <td>108*</td>\n",
              "      <td>15</td>\n",
              "      <td>16</td>\n",
              "      <td>1</td>\n",
              "      <td>551</td>\n",
              "      <td>0.394574</td>\n",
              "      <td>0</td>\n",
              "      <td>2017</td>\n",
              "    </tr>\n",
              "    <tr>\n",
              "      <th>88</th>\n",
              "      <td>AFG</td>\n",
              "      <td>Rahmat Shah</td>\n",
              "      <td>0</td>\n",
              "      <td>1</td>\n",
              "      <td>6</td>\n",
              "      <td>0.305311</td>\n",
              "      <td>6</td>\n",
              "      <td>114</td>\n",
              "      <td>19</td>\n",
              "      <td>20</td>\n",
              "      <td>0</td>\n",
              "      <td>722</td>\n",
              "      <td>0.420691</td>\n",
              "      <td>0</td>\n",
              "      <td>2018</td>\n",
              "    </tr>\n",
              "    <tr>\n",
              "      <th>89</th>\n",
              "      <td>AFG</td>\n",
              "      <td>Rahmat Shah</td>\n",
              "      <td>1</td>\n",
              "      <td>1</td>\n",
              "      <td>4</td>\n",
              "      <td>0.265213</td>\n",
              "      <td>6</td>\n",
              "      <td>113</td>\n",
              "      <td>20</td>\n",
              "      <td>20</td>\n",
              "      <td>0</td>\n",
              "      <td>646</td>\n",
              "      <td>0.386018</td>\n",
              "      <td>0</td>\n",
              "      <td>2019</td>\n",
              "    </tr>\n",
              "  </tbody>\n",
              "</table>\n",
              "</div>"
            ],
            "text/plain": [
              "   country           player_name  0s  100s  50s  ...  NO  Runs       S/R  St  Year\n",
              "12     AFG           Karim Sadiq   3     1    0  ...   2   235  0.417258   0  2010\n",
              "39     AFG  Hashmatullah Shahidi   1     0    4  ...   1   387  0.357087   0  2019\n",
              "87     AFG           Rahmat Shah   1     1    5  ...   1   551  0.394574   0  2017\n",
              "88     AFG           Rahmat Shah   0     1    6  ...   0   722  0.420691   0  2018\n",
              "89     AFG           Rahmat Shah   1     1    4  ...   0   646  0.386018   0  2019\n",
              "\n",
              "[5 rows x 15 columns]"
            ]
          },
          "metadata": {
            "tags": []
          },
          "execution_count": 70
        }
      ]
    },
    {
      "cell_type": "code",
      "metadata": {
        "id": "qC8ixZymLmy8",
        "colab_type": "code",
        "outputId": "2290e06a-95a8-4b60-ea72-46fccaafea21",
        "colab": {
          "base_uri": "https://localhost:8080/",
          "height": 221
        }
      },
      "source": [
        "stats3.player_name.value_counts()"
      ],
      "execution_count": 71,
      "outputs": [
        {
          "output_type": "execute_result",
          "data": {
            "text/plain": [
              "Sachin Tendulkar       20\n",
              "Sanath Jayasuriya      18\n",
              "Mahela Jayawardene     17\n",
              "Kumar Sangakkara       16\n",
              "Inzamam-ul-Haq         15\n",
              "                       ..\n",
              "Mominul Haque           1\n",
              "Blessing Muzarabani     1\n",
              "Hannan Sarkar           1\n",
              "Lee Germon              1\n",
              "Fraser Watts            1\n",
              "Name: player_name, Length: 676, dtype: int64"
            ]
          },
          "metadata": {
            "tags": []
          },
          "execution_count": 71
        }
      ]
    },
    {
      "cell_type": "code",
      "metadata": {
        "id": "gxby6ngm8_pS",
        "colab_type": "code",
        "outputId": "dc74357b-b7cd-41b7-b23e-766f7588702c",
        "colab": {
          "base_uri": "https://localhost:8080/",
          "height": 34
        }
      },
      "source": [
        "(stats3['player_name']=='Rahmat Shah').sum()"
      ],
      "execution_count": 72,
      "outputs": [
        {
          "output_type": "execute_result",
          "data": {
            "text/plain": [
              "3"
            ]
          },
          "metadata": {
            "tags": []
          },
          "execution_count": 72
        }
      ]
    },
    {
      "cell_type": "code",
      "metadata": {
        "id": "ueEQhniXONk3",
        "colab_type": "code",
        "outputId": "a20813a6-32e0-4cbf-e8b7-787637d50bce",
        "colab": {
          "base_uri": "https://localhost:8080/",
          "height": 204
        }
      },
      "source": [
        "stats3.reset_index(drop=True, inplace=True)\n",
        "stats3.head()"
      ],
      "execution_count": 73,
      "outputs": [
        {
          "output_type": "execute_result",
          "data": {
            "text/html": [
              "<div>\n",
              "<style scoped>\n",
              "    .dataframe tbody tr th:only-of-type {\n",
              "        vertical-align: middle;\n",
              "    }\n",
              "\n",
              "    .dataframe tbody tr th {\n",
              "        vertical-align: top;\n",
              "    }\n",
              "\n",
              "    .dataframe thead th {\n",
              "        text-align: right;\n",
              "    }\n",
              "</style>\n",
              "<table border=\"1\" class=\"dataframe\">\n",
              "  <thead>\n",
              "    <tr style=\"text-align: right;\">\n",
              "      <th></th>\n",
              "      <th>country</th>\n",
              "      <th>player_name</th>\n",
              "      <th>0s</th>\n",
              "      <th>100s</th>\n",
              "      <th>50s</th>\n",
              "      <th>Avg</th>\n",
              "      <th>Ca</th>\n",
              "      <th>HS</th>\n",
              "      <th>Inns</th>\n",
              "      <th>Mat</th>\n",
              "      <th>NO</th>\n",
              "      <th>Runs</th>\n",
              "      <th>S/R</th>\n",
              "      <th>St</th>\n",
              "      <th>Year</th>\n",
              "    </tr>\n",
              "  </thead>\n",
              "  <tbody>\n",
              "    <tr>\n",
              "      <th>0</th>\n",
              "      <td>AFG</td>\n",
              "      <td>Karim Sadiq</td>\n",
              "      <td>3</td>\n",
              "      <td>1</td>\n",
              "      <td>0</td>\n",
              "      <td>21.50</td>\n",
              "      <td>3</td>\n",
              "      <td>114*</td>\n",
              "      <td>12</td>\n",
              "      <td>13</td>\n",
              "      <td>2</td>\n",
              "      <td>235</td>\n",
              "      <td>74.13</td>\n",
              "      <td>0</td>\n",
              "      <td>2010</td>\n",
              "    </tr>\n",
              "    <tr>\n",
              "      <th>1</th>\n",
              "      <td>AFG</td>\n",
              "      <td>Hashmatullah Shahidi</td>\n",
              "      <td>1</td>\n",
              "      <td>0</td>\n",
              "      <td>4</td>\n",
              "      <td>28.77</td>\n",
              "      <td>3</td>\n",
              "      <td>76</td>\n",
              "      <td>14</td>\n",
              "      <td>14</td>\n",
              "      <td>1</td>\n",
              "      <td>387</td>\n",
              "      <td>63.44</td>\n",
              "      <td>0</td>\n",
              "      <td>2019</td>\n",
              "    </tr>\n",
              "    <tr>\n",
              "      <th>2</th>\n",
              "      <td>AFG</td>\n",
              "      <td>Rahmat Shah</td>\n",
              "      <td>1</td>\n",
              "      <td>1</td>\n",
              "      <td>5</td>\n",
              "      <td>38.36</td>\n",
              "      <td>3</td>\n",
              "      <td>108*</td>\n",
              "      <td>15</td>\n",
              "      <td>16</td>\n",
              "      <td>1</td>\n",
              "      <td>551</td>\n",
              "      <td>70.10</td>\n",
              "      <td>0</td>\n",
              "      <td>2017</td>\n",
              "    </tr>\n",
              "    <tr>\n",
              "      <th>3</th>\n",
              "      <td>AFG</td>\n",
              "      <td>Rahmat Shah</td>\n",
              "      <td>0</td>\n",
              "      <td>1</td>\n",
              "      <td>6</td>\n",
              "      <td>38.00</td>\n",
              "      <td>6</td>\n",
              "      <td>114</td>\n",
              "      <td>19</td>\n",
              "      <td>20</td>\n",
              "      <td>0</td>\n",
              "      <td>722</td>\n",
              "      <td>74.74</td>\n",
              "      <td>0</td>\n",
              "      <td>2018</td>\n",
              "    </tr>\n",
              "    <tr>\n",
              "      <th>4</th>\n",
              "      <td>AFG</td>\n",
              "      <td>Rahmat Shah</td>\n",
              "      <td>1</td>\n",
              "      <td>1</td>\n",
              "      <td>4</td>\n",
              "      <td>32.30</td>\n",
              "      <td>6</td>\n",
              "      <td>113</td>\n",
              "      <td>20</td>\n",
              "      <td>20</td>\n",
              "      <td>0</td>\n",
              "      <td>646</td>\n",
              "      <td>68.58</td>\n",
              "      <td>0</td>\n",
              "      <td>2019</td>\n",
              "    </tr>\n",
              "  </tbody>\n",
              "</table>\n",
              "</div>"
            ],
            "text/plain": [
              "  country           player_name  0s  100s  50s  ...  NO  Runs    S/R  St  Year\n",
              "0     AFG           Karim Sadiq   3     1    0  ...   2   235  74.13   0  2010\n",
              "1     AFG  Hashmatullah Shahidi   1     0    4  ...   1   387  63.44   0  2019\n",
              "2     AFG           Rahmat Shah   1     1    5  ...   1   551  70.10   0  2017\n",
              "3     AFG           Rahmat Shah   0     1    6  ...   0   722  74.74   0  2018\n",
              "4     AFG           Rahmat Shah   1     1    4  ...   0   646  68.58   0  2019\n",
              "\n",
              "[5 rows x 15 columns]"
            ]
          },
          "metadata": {
            "tags": []
          },
          "execution_count": 73
        }
      ]
    },
    {
      "cell_type": "code",
      "metadata": {
        "id": "NZULF1NOO-JE",
        "colab_type": "code",
        "outputId": "ddc254eb-4896-488f-edd5-1d8ed512d639",
        "colab": {
          "base_uri": "https://localhost:8080/",
          "height": 34
        }
      },
      "source": [
        "stats3.shape"
      ],
      "execution_count": 74,
      "outputs": [
        {
          "output_type": "execute_result",
          "data": {
            "text/plain": [
              "(2422, 15)"
            ]
          },
          "metadata": {
            "tags": []
          },
          "execution_count": 74
        }
      ]
    },
    {
      "cell_type": "code",
      "metadata": {
        "id": "Iu6zDDt8P2Xa",
        "colab_type": "code",
        "outputId": "feb4b3bc-56c3-46ad-b553-864f32d0bbf4",
        "colab": {
          "base_uri": "https://localhost:8080/",
          "height": 54
        }
      },
      "source": [
        "impact = {}\n",
        "experience = 1\n",
        "for i in range(2422): \n",
        "  career = (stats3['player_name']==stats3.loc[i, \"player_name\"]).sum()\n",
        "  if(career<4):\n",
        "    experience = 0\n",
        "  elif(career<8):\n",
        "    experience = 0.6\n",
        "  elif(career<12):\n",
        "    experience = 0.8\n",
        "  elif(career<16):\n",
        "    experience = 1.0\n",
        "  elif(career<16):\n",
        "    experience = 1.2\n",
        "  else:\n",
        "    experience = 1.4\n",
        "  if(stats3.loc[i, \"Avg\"]<30):\n",
        "    fluke = 3\n",
        "  if stats3.loc[i, \"player_name\"] in impact.keys(): \n",
        "    impact[stats3.loc[i, \"player_name\"]] += ((stats3.loc[i, \"Avg\"]*((stats3.loc[i, \"S/R\"])/3))/(career*fluke))*experience\n",
        "  else:\n",
        "    impact[stats3.loc[i, \"player_name\"]] = ((stats2.loc[i, \"Avg\"]*((stats3.loc[i, \"S/R\"]/3)))/(career*fluke))*experience\n",
        "print(impact)\n",
        "  \n"
      ],
      "execution_count": 75,
      "outputs": [
        {
          "output_type": "stream",
          "text": [
            "{'Karim Sadiq': 0.0, 'Hashmatullah Shahidi': 0.0, 'Rahmat Shah': 0.0, 'Asghar Afghan': 107.80154888888887, 'Samiullah Shinwari': 0.0, 'Hazratullah Zazai': 0.0, 'Mirwais Ashraf': 0.0, 'Ihsanullah': 0.0, 'Rashid Khan': 0.0, 'Najibullah Zadran': 0.0, 'Gulbadin Naib': 0.0, 'Ikram Ali Khil': 0.0, 'Mohammad Nabi': 146.06796095238096, 'Nawroz Mangal': 0.0, 'Andy Bichel': 0.0, 'Graeme Wood': 142.12293333333332, 'James Hopes': 0.0, 'Kim Hughes': 100.30348399999998, 'Phillip Hughes': 0.0, 'Bradley Hodge': 0.0, 'Shaun Marsh': 0.0, 'Adam Voges': 0.0, 'Wayne Phillips': 0.0, 'Shane Lee': 0.0, 'Michael Veletta': 0.0, 'Ian Healy': 103.3248219047619, 'Greg Matthews': 0.0, 'Geoff Marsh': 152.10937555555557, 'Bruce Laird': 0.0, 'Steve Smith': 0.0, 'Tim Paine': 0.0, 'Usman Khawaja': 0.0, 'Mitchell Marsh': 0.0, 'Michael Bevan': 308.6067786666667, 'Dean Jones': 285.15749827160494, 'Shane Warne': 47.36998833333333, 'Rod Marsh': 0.0, 'Patrick Cummins': 0.0, 'Michael Slater': 0.0, 'Cameron White': 0.0, 'John Hastings': 0.0, 'Tom Moody': 0.0, 'Rodney Hogg': 0.0, 'Greg Blewett': 0.0, 'David Boon': 206.73749432098765, 'Matthew Hayden': 229.77272933333336, 'Brendon Julian': 0.0, 'Darren Lehmann': 221.04413833333334, 'Paul Reiffel': 0.0, 'Greg Chappell': 0.0, 'Geoff Lawson': 0.0, 'Marcus Stoinis': 0.0, 'Ian Harvey': 0.0, 'David Warner': 326.37933466666664, 'Clinton McKay': 0.0, 'Timothy Zoehrer': 0.0, 'Mark Waugh': 254.75666311111112, 'Damien Martyn': 296.11595111111114, 'Matthew Wade': 0.0, 'Michael Clarke': 285.3685965432099, 'Brad Hogg': 0.0, 'Daniel Christian': 0.0, 'David Hussey': 0.0, 'Glenn Maxwell': 261.84164, 'Ricky Ponting': 368.20215703703707, 'Mitchell Johnson': 0.0, 'Michael Hussey': 418.42488999999995, 'Travis Head': 0.0, 'Brett Lee': 87.60609333333332, 'Alex Carey': 0.0, 'Simon Katich': 0.0, 'George Bailey': 226.70908333333335, 'Shane Watson': 303.64089222222225, 'Steve Waugh': 253.0858992592592, 'Brad Haddin': 0.0, 'Adam Gilchrist': 307.4800016161617, 'Nathan Hauritz': 0.0, 'Craig McDermott': 0.0, \"Simon O'Donnell\": 0.0, 'Greg Ritchie': 0.0, 'Aaron Finch': 235.15506555555555, 'Peter Handscomb': 0.0, 'Allan Border': 238.22814761904758, 'Mark Taylor': 143.05525333333333, 'Dirk Wellham': 0.0, 'Andrew Symonds': 238.9895619047619, 'Peter Forrest': 0.0, 'Stuart Law': 0.0, 'James Faulkner': 0.0, 'David Hookes': 0.0, 'Callum Ferguson': 0.0, 'Anamul Haque': 0.0, 'Aminul Islam': 0.0, 'Sanwar Hossain': 0.0, 'Tapash Baisya': 0.0, 'Mehidy Hasan': 0.0, 'Shakib Al Hasan': 271.89024, 'Abdur Razzak': 33.027863999999994, 'Farhad Reza': 0.0, 'Rajin Saleh': 0.0, 'Mominul Haque': 0.0, 'Mashrafe Mortaza': 75.05437444444443, 'Tamim Iqbal': 279.53131851851856, 'Nasir Hossain': 0.0, 'Mohammad Rafique': 53.386027999999996, 'Tushar Imran': 0.0, 'Liton Das': 0.0, 'Al Sahariar Rokon': 0.0, 'Aftab Ahmed': 0.0, 'Mushfiqur Rahman': 0.0, 'Soumya Sarkar': 0.0, 'Alok Kapali': 0.0, 'Manjural Islam Rana': 0.0, 'Mohammad Ashraful': 136.58926555555556, 'Hannan Sarkar': 0.0, 'Shahriar Nafees': 121.76180333333332, 'Khaled Mashud': 92.654148, 'Mahmudullah': 205.5645688888889, 'Sabbir Rahman': 0.0, 'Khaled Mahmud': 52.994085, 'Shafiul Islam': 0.0, 'Naeem Islam': 0.0, 'Imrul Kayes': 0.0, 'Dhiman Ghosh': 0.0, 'Mushfiqur Rahim': 248.3414826666667, 'Habibul Bashar': 88.88713999999999, 'David Hemp': 0.0, 'Lionel Cann': 0.0, 'Saleem Mukuddem': 0.0, 'Janeiro Tucker': 0.0, 'Irvine Romaine': 0.0, 'Ashif Mulla': 0.0, 'John Davison': 0.0, 'Abdool Samad': 0.0, 'Sunil Dhaniram': 0.0, 'Ashish Bagai': 0.0, 'Anderson Cummins': 0.0, 'Michael Vaughan': 118.11057666666667, 'Charles Athey': 0.0, 'Nicholas Knight': 179.44085888888887, 'Jos Butler': 309.65129619047616, 'Chris Jordan': 0.0, 'Nasser Hussain': 0.0, 'Victor Marks': 0.0, 'Paul Nixon': 0.0, 'James Tredwell': 0.0, 'Jonathan Trott': 0.0, 'Ian Bell': 278.0777811111111, 'Robert Croft': 0.0, 'Ed Joyce': 0.0, 'Derek Randall': 0.0, 'Graeme Hick': 190.92783866666667, 'Timothy Bresnan': 0.0, 'Vikram Solanki': 0.0, 'Graham Gooch': 162.64348166666667, 'Jason Roy': 316.516372, 'Geraint Jones': 0.0, 'Andrew Strauss': 194.16161904761904, 'Moeen Ali': 178.9047522222222, 'Ian Gould': 0.0, 'Alexander Hales': 262.59743, 'David Gower': 0.0, 'Andy Caddick': 0.0, 'Ronald Irani': 0.0, 'Liam Plunkett': 0.0, 'Jack Richards': 0.0, 'Neil Fairbrother': 0.0, 'Ravinda Bopara': 135.3908622222222, 'Chris Lewis': 0.0, 'Ben Stokes': 291.00588833333336, 'Craig White': 0.0, 'Jonny Bairstow': 0.0, 'Neil Foster': 0.0, 'Luke Wright': 0.0, 'Mark Ealham': 0.0, 'Chris Tavare': 0.0, 'Eoin Morgan': 399.41934444444445, 'Graeme Swann': 0.0, 'Michael Atherton': 0.0, 'Adam Hollioake': 0.0, 'Graham Thorpe': 0.0, 'James Taylor': 0.0, 'John Emburey': 0.0, 'Andrew Flintoff': 210.82622399999997, 'Phillip De Freitas': 0.0, 'James Anderson': -0.0, 'Mike Gatting': 0.0, 'Matthew Prior': 0.0, 'Darren Gough': 0.0, 'Geoff Boycott': 0.0, 'Joe Root': 290.26806, 'Stuart Broad': 0.0, 'Gavin Hamilton': 0.0, 'Chris Broad': 0.0, 'Allan Lamb': 164.93311166666666, 'Chris Woakes': 0.0, 'Marcus Trescothick': 200.98097777777778, 'Alastair Cook': 190.0098933333333, 'Craig Kieswetter': 0.0, 'Michael Yardy': 0.0, 'Kevin Pietersen': 258.04388666666665, 'Paul Collingwood': 219.40540444444449, 'Robin Smith': 0.0, 'Mike Brearley': 0.0, 'Alec Stewart': 172.07816666666665, 'James Dalrymple': 0.0, 'Sir Ian Botham': 101.15672166666667, 'Owais Shah': 0.0, 'Yusuf Pathan': 0.0, 'Rohit Sharma': 372.07531377777775, 'Kris Srikkanth': 119.67273523809526, 'Javagal Srinath': 52.657756666666664, 'Zaheer Khan': 0.0, 'Sourav Ganguly': 247.55091022222226, 'Sunil Gavaskar': 177.92013333333333, 'Ajay Jadeja': 148.9546419047619, 'Abey Kuruvilla': -0.0, 'Parthiv Patel': 0.0, 'Ravichandran Ashwin': 0.0, 'Hardik Pandya': 0.0, 'Gautam Gambhir': 243.00922666666665, 'Hemang Badani': 0.0, 'Rahul Dravid': 278.3893268518518, 'Lakshmipathy Balaji': 0.0, 'Kapil Dev': 180.2154906666667, 'Roger Binny': 0.0, 'Virat Kohli': 514.6756059259259, 'Syed Kirmani': 0.0, 'Anil Kumble': 25.10588333333333, 'Axar Patel': 0.0, 'M S Dhoni': 453.45198034188036, 'Raman Lamba': 0.0, 'Sadagopan Ramesh': 0.0, 'Irfan Pathan': 108.15291833333333, 'Kedar Jadhav': 0.0, 'Harbhajan Singh': 56.950134285714284, 'Ravishankar Shastri': 108.90752476190474, 'Ajit Agarkar': 74.397785, 'Virender Sehwag': 354.6651644444445, 'Kiran More': 0.0, 'Dinesh Mongia': 0.0, 'Sandeep Patil': 0.0, 'Dinesh Karthik': 0.0, 'Navjot Sidhu': 163.3812122222222, 'Ajinkya Rahane': 195.82280333333333, 'KL Rahul': 0.0, 'Nayan Mongia': 68.38940333333332, 'Manoj Prabhakar': 108.26169999999999, 'Mohinder Amarnath': 0.0, 'Praveen Amre': 0.0, 'Sunil Joshi': 0.0, 'Mohammad Azharuddin': 282.0821718518518, 'Robin Singh': 119.57418666666666, 'Venkatesh Prasad': 0.0, 'Ravindra Jadeja': 0.0, 'Yashpal Sharma': 0.0, 'Robin Uthappa': 0.0, 'Suresh Raina': 280.4779358024692, 'Ambati Rayudu': 0.0, 'Vinod Kambli': 0.0, 'Chetan Sharma': 0.0, 'Shikhar Dhawan': 276.7178933333333, 'Saba Karim': 0.0, 'Bhuvneshwar Kumar': 0.0, 'Ajay Sharma': 0.0, 'Sanjay Manjrekar': 136.76095833333332, 'Sachin Tendulkar': 576.9640395555556, 'Mohammad Kaif': 136.54044, 'Dillip Vengsarkar': 158.039935, 'Yuvraj Singh': 315.1483846153846, 'Hrishikesh Kanitkar': 0.0, 'Nikhil Chopra': 0.0, 'V V S Laxman': 0.0, \"Niall O'Brien\": 134.70250499999997, 'Gary Wilson': 0.0, 'George Dockrell': 0.0, 'Jeremy Bray': 0.0, 'Andy Balbirnie': 177.465645, 'Andrew White': 0.0, 'Andre Botha': 0.0, 'William Porterfield': 146.81061999999997, 'Paul Stirling': 246.22186333333332, 'Trent Johnston': 0.0, 'William McCallan': 0.0, \"Kevin O'Brien\": 175.66555666666665, 'John Mooney': 0.0, 'Dave Langford-Smith': 0.0, 'David Obuya': 0.0, 'Maurice Ouma': 0.0, 'Peter Ongondo': 0.0, 'Alex Obanda': 0.0, 'Ravindu Shah': 0.0, 'Collins Obuya': 0.0, 'Thomas Odoyo': 0.0, 'Hiren Varaiya': 0.0, 'Maurice Odumbe': 0.0, 'Tanmay Mishra': 0.0, 'Stephen Tikolo': 120.67168666666669, 'Kennedy Otieno': 0.0, 'James Kamande': 0.0, 'Nehemiah Odhiambo': 0.0, 'Bas Zuiderent': 0.0, 'Eric Szwarczynski': 0.0, 'Peter Borren': 0.0, 'Chris Pringle': 0.0, 'Martin Guptill': 304.3649491358025, 'Matthew Sinclair': 0.0, 'Ross Taylor': 332.0873173333334, 'Shane Thomson': 0.0, 'Jeffrey Crowe': 0.0, 'Martin Crowe': 190.70324888888888, 'Daryl Tuffey': 0.0, 'Warren Lees': 0.0, 'Dipak Patel': 0.0, 'Chris Cairns': 223.73729511111114, 'Scott Styris': 217.54328777777778, 'Jeremy Coney': 110.64943333333332, 'Mitchell Santner': 0.0, 'Gavin Larsen': 0.0, 'Lou Vincent': 134.96875666666665, 'Lance Cairns': 0.0, 'Sir Richard Hadlee': 0.0, 'Colin de Grandhomme': 0.0, 'Kane Williamson': 306.39752444444446, 'Rodney Latham': 0.0, 'Jacob Oram': 137.58928666666665, 'Neil Broom': 0.0, 'Lee Germon': 0.0, 'Robert Nicol': 0.0, 'Luke Ronchi': 0.0, 'Nathan Astle': 232.3620121212121, 'Mark Greatbatch': 158.8738833333333, 'Christopher Nevin': 0.0, 'Jamie How': 0.0, 'Grant Elliott': 0.0, 'Chris Harris': 164.67748000000003, 'Tim Southee': 0.0, 'John Wright': 93.93835555555556, 'Roger Twose': 180.794625, 'Hamish Marshall': 0.0, 'Craig Spearman': 0.0, 'Brendon McCullum': 255.22313777777777, 'Dion Nash': 0.0, 'James Neesham': 0.0, 'Ervin McSweeney': 0.0, 'Colin Munro': 0.0, 'Tom Latham': 183.67256666666668, 'Ian Smith': 0.0, 'Peter Fulton': 0.0, 'Blair Hartland': 0.0, 'Ken Rutherford': 121.61992166666667, 'Andre Adams': 0.0, 'Andrew Jones': 0.0, 'Bryan Young': 0.0, 'Adam Parore': 138.54693444444447, 'Matthew Horne': 0.0, 'Tony Blain': 0.0, 'Glenn Turner': 0.0, 'Henry Nicholls': 0.0, 'Bruce Blair': 0.0, 'Jesse Ryder': 0.0, 'Martin Snedden': 0.0, 'Daniel Vettori': 88.88206333333336, 'Craig McMillan': 183.92354666666665, 'John Bracewell': 0.0, 'Geoff Howarth': 0.0, 'James Franklin': 0.0, 'Stephen Fleming': 247.37735634920637, 'Nathan McCullum': 0.0, 'Bruce Edgar': 0.0, 'Llorne Howell': 0.0, 'Kyle Mills': 0.0, 'Corey Anderson': 0.0, 'Abdul Razzaq': 211.36608533333336, 'Shoaib Akhtar': 0.0, 'Haris Sohail': 0.0, 'Mohammad Wasim': 0.0, 'Nasir Jamshed': 0.0, 'Ahmed Shehzad': 169.45803166666667, 'Younis Khan': 263.5216212962963, 'Junaid Khan': -0.0, 'Naved-ul-Hasan': 0.0, 'Saeed Anwar': 278.77551022222224, 'Fawad Alam': 0.0, 'Sarfaraz Ahmed': 203.73118333333332, 'Zaheer Abbas': 0.0, 'Shoaib Mohammad': 0.0, 'Imran Nazir': 0.0, 'Salman Butt': 0.0, 'Saleem Malik': 216.90045599999996, 'Mohammad Yousuf': 282.0680476767677, 'Imad Wasim': 0.0, 'Azhar Ali': 0.0, 'Mohammad Hafeez': 223.2542725925926, 'Umar Gul': 0.0, 'Aamer Malik': 0.0, 'Mohammad Rizwan': 0.0, 'Waqar Younis': 41.99437555555556, 'Basit Ali': 0.0, 'Misbah-ul-Haq': 168.66357333333332, 'Imran Khan': 132.95716, 'Fakhar Zaman': 0.0, 'Yasir Hameed': 0.0, 'Umar Amin': 0.0, 'Saeed Ajmal': 0.0, 'Qasim Omar': 0.0, 'Shadab Khan': 0.0, 'Akram Raza': 0.0, 'Mudassar Nazar': 83.924864, 'Rashid Latif': 111.03452333333333, 'Imam-ul-Haq': 0.0, 'Mushtaq Ahmed': 0.0, 'Arshad Khan': 0.0, 'Aamir Sohail': 110.28487619047618, 'Asif Mujtaba': 0.0, 'Azhar Mahmood': 0.0, 'Imran Farhat': 0.0, 'Umar Akmal': 196.84478266666665, 'Kamran Akmal': 133.36298952380952, 'Manzoor Elahi': 0.0, 'Asad Shafiq': 0.0, 'Saleem Yousuf': 0.0, 'Inzamam-ul-Haq': 299.8080451851852, 'Javed Miandad': 223.95129244444448, 'Moin Khan': 126.86276555555554, 'Wahab Riaz': 0.0, 'Mohsin Khan': 166.90751999999998, 'Babar Azam': 316.8042533333333, 'Wasim Akram': 178.68423015873012, 'Ramiz Raja': 205.894936, 'Mohammad Sami': 0.0, 'Abdul Qadir': 0.0, 'Saqlain Mushtaq': 33.887829999999994, 'Taufeeq Umar': 0.0, 'Shoaib Malik': 341.64561574074077, 'Mohammad Irfan': 0.0, 'Wajahatullah Wasti': 0.0, 'Matthew Cross': 0.0, 'Navdeep Poonia': 0.0, 'Craig Wright': 0.0, 'Calum MacLeod': 0.0, 'Fraser Watts': 0.0, 'Ryan Watson': 0.0, 'Douglas Brown': 0.0, 'Neil McCallum': 0.0, 'Richard Berrington': 0.0, 'George Munsey': 0.0, 'Rana Haq': 0.0, 'Colin Smith': 0.0, 'John Blain': 0.0, 'Andrew Hudson': 153.659535, 'Jean-Paul Duminy': 261.99742222222227, 'Hashim Amla': 347.08933688888885, 'Neil McKenzie': 0.0, 'Mark Boucher': 211.49079901234566, 'Jacques Kallis': 368.1078103703704, 'Pat Symcox': 0.0, 'Johan Botha': 0.0, 'Aiden Markram': 0.0, 'Adrian Kuiper': 0.0, 'Nico Boje': 0.0, 'Boeta Dippenaar': 0.0, 'Albie Morkel': 0.0, 'Graeme Smith': 278.39942545454545, 'Ashwell Prince': 0.0, 'Jacques Rudolph': 0.0, 'Lance Klusener': 218.97257555555552, 'Rilee Rossouw': 0.0, 'David Miller': 234.33652, 'Hansie Cronje': 254.60042555555555, 'Colin Ingram': 0.0, 'Shaun Pollock': 206.19464646464647, 'Eric Simons': 0.0, 'Jonty Rhodes': 240.74872266666668, 'Justin Kemp': 0.0, 'Peter Kirsten': 0.0, 'Faf du Plessis': 346.3042977777778, 'Daryll Cullinan': 152.28025238095236, 'Herschelle Gibbs': 264.00952727272727, 'Farhaan Behardien': 0.0, 'Gary Kirsten': 254.99265777777782, 'Brian McMillan': 0.0, 'Fanie De Villiers': 0.0, 'Rassie van der Dussen': 0.0, 'Quinton de Kock': 294.45478555555553, 'David Richardson': 0.0, 'Andile Phehlukwayo': 0.0, 'Robin Peterson': 0.0, 'Andrew Hall': 0.0, 'Ryan McLaren': 0.0, 'Lonwabo Tsotsobe': 0.0, 'Michael Rindel': 0.0, 'Kepler Wessels': 139.3227877777778, 'Heinrich Klaasen': 0.0, 'A B de Villiers': 518.0868517171717, 'Thilina Kandamby': 0.0, 'Kusal Mendis': 171.2651866666667, 'Angelo Mathews': 277.7019683950617, 'Chandika Hathurusingha': 0.0, 'Thilan Thushara': 0.0, 'Danushka Gunathilaka': 0.0, 'Jeevan Mendis': 0.0, 'Somachandra De Silva': 0.0, 'Ashan Priyanjan': 0.0, 'Thisara Perera': 150.46316952380954, 'Jehan Mubarak': 0.0, 'Amal Silva': 0.0, 'Dimuth Karunaratne': 0.0, 'Sanath Jayasuriya': 465.2127407407407, 'Sidath Wettimuny': 0.0, 'Tillakaratne Dilshan': 359.3871805555556, 'Niroshan Dickwella': 0.0, 'Avishka Fernando': 0.0, 'Duleep Mendis': 0.0, 'Ravi Ratnayeke': 0.0, 'Hashan Tillakaratne': 140.197704691358, 'Lasith Malinga': 128.11274999999998, 'Milinda Siriwardana': 0.0, 'Suranga Lakmal': 0.0, 'Russel Arnold': 187.6730144444445, 'Kumar Sangakkara': 510.7292458333333, 'Isuru Udana': 0.0, 'Muttiah Muralitharan': 46.19130285714286, 'Lahiru Thirimanne': 170.18639000000002, 'Roy Dias': 0.0, 'Ranjan Madugalle': 0.0, 'Ajantha Mendis': 0.0, 'Nuwan Zoysa': 0.0, 'Brendon Kuruppu': 0.0, 'Sachithra Senanayake': 0.0, 'Upul Chandana': 55.536923333333334, 'Arjuna Ranatunga': 281.11637499999995, 'Chaminda Vaas': 64.59920197530865, 'Graeme Labrooy': 0.0, 'Rumesh Ratnayake': 0.0, 'Ruwan Kalpage': 0.0, 'Asanka Gurusinha': 97.85092761904761, 'Dinesh Chandimal': 136.68259333333333, 'Aravinda de Silva': 298.42174017094015, 'Avishka Gunawardene': 0.0, 'Farveez Maharoof': 0.0, 'Mahela Jayawardene': 388.7914873202614, 'Thilan Samaraweera': 0.0, 'Chamara Silva': 0.0, 'Pramodya Wickremasinghe': 0.0, 'Chamara Kapugedera': 0.0, 'Asela Gunaratne': 0.0, 'Nuwan Kulasekara': 84.38670555555555, 'Shaul Karnain': 0.0, 'Marvan Atapattu': 220.86919111111112, 'Upul Tharanga': 237.3450586666667, 'Roshan Mahanama': 155.2671328395062, 'Kumar Dharmasena': 111.08591166666666, 'Kusal Perera': 201.32670266666668, 'Dhananjaya de Silva': 0.0, 'Dilhara Fernando': 0.0, 'Romesh Kaluwitharana': 153.0294311111111, 'W Jayantha': 0.0, 'Akila Dananjaya': 0.0, 'Rohan Mustafa': 0.0, 'Adnan Mufti': 0.0, 'Muhammad Usman': 0.0, 'Xavier Marshall': 0.0, 'Andre Russell': 0.0, 'Jason Mohammed': 0.0, 'Larry Gomes': 0.0, 'Devon Smith': 0.0, 'Shai Hope': 0.0, 'Nehemiah Perry': 0.0, 'Courtney Walsh': 0.0, 'Ashley Nurse': 0.0, 'Ramnaresh Sarwan': 236.31028888888892, 'Denesh Ramdin': 142.52707888888887, 'Philip Simmons': 109.58605619047619, 'Narsingh Deonarine': 0.0, 'Rovman Powell': 0.0, 'Jeff Dujon': 87.53728111111111, 'Nicholas Pooran': 0.0, 'Dwayne Bravo': 137.93322857142857, 'Kieran Powell': 0.0, 'Curtly Ambrose': 55.023303999999996, 'Merwyn Dillon': 0.0, 'Carl Hooper': 212.2307012345679, 'Shimron Hetmeyer': 0.0, 'Roger Harper': 0.0, 'Carlos Brathwaite': 0.0, 'Keith Arthurton': 111.468575, 'Gus Logie': 115.12072476190475, 'Jonathan Carter': 0.0, 'Shivnarine Chanderpaul': 282.6634238383839, 'Sunil Narine': 0.0, 'Sherwin Campbell': 123.064535, 'Desmond Haynes': 221.47651466666667, 'Sir Viv Richards': 275.0686419047619, 'Sewnarine Chattergoon': 0.0, 'Lendl Simmons': 0.0, 'Darren Ganga': 0.0, 'Evin Lewis': 0.0, 'Malcolm Marshall': 0.0, 'Carlton Baugh': 0.0, 'Johnson Charles': 0.0, 'Courtney Browne': 0.0, 'Jason Holder': 157.831156, 'Darren Bravo': 148.29605666666666, 'Kemar Roach': 0.0, 'Gordon Greenidge': 176.31617666666665, 'Ricardo Powell': 148.22900533333333, 'Franklyn Rose': 0.0, 'Brian Lara': 355.1435880952381, 'Marlon Samuels': 189.95448493827163, 'Reon King': 0.0, 'Runako Morton': 0.0, 'Richard Gabriel': 0.0, 'Wavell Hinds': 134.26492222222222, 'Clive Lloyd': 0.0, 'Jimmy Adams': 69.42474555555556, 'Nixon McLean': 0.0, 'Ridley Jacobs': 71.27738666666667, 'Kieron Pollard': 170.6902, 'Richie Richardson': 167.46306311111115, 'Dwayne Smith': 98.04683999999997, 'Ian Bradshaw': 0.0, 'Stuart Williams': 0.0, 'Darren Sammy': 150.911595, 'Vasbert Drakes': 0.0, 'Chris Gayle': 386.58732222222227, 'Hamilton Masakadza': 183.16333155555554, 'Brendan Taylor': 219.29432888888886, 'Andrew Whittall': 0.0, 'Guy Whittall': 96.54671555555558, 'Sean Williams': 177.54958, 'Douglas Marillier': 0.0, 'Andrew Flower': 218.23530469135807, 'Sikandar Raza': 0.0, 'Mark Vermeulen': 0.0, 'Craig Evans': 0.0, 'Dion Ebrahim': 0.0, 'Ray Price': 0.0, 'Sean Ervine': 0.0, 'Heath Streak': 113.43747333333333, 'Kyle Jarvis': 0.0, 'Charles Coventry': 0.0, 'Vusi Sibanda': 139.77604666666664, 'Solomon Mire': 0.0, 'David Houghton': 0.0, 'Andy Blignaut': 0.0, 'Blessing Muzarabani': 0.0, 'Elton Chigumbura': 167.43993283950618, 'Murray Goodwin': 0.0, 'Gary Brent': 0.0, 'Luke Jongwe': 0.0, 'Blessing Mahwire': 0.0, 'Peter Moor': 0.0, 'Tendai Chatara': -0.0, 'Neil Johnson': 0.0, 'Paul Strang': 0.0, 'Malcolm Waller': 0.0, 'Prosper Utseya': 60.471866666666656, 'Alistair Campbell': 120.06565904761904, 'Terry Duffin': 0.0, 'Mluleki Nkala': 0.0, 'Travis Friend': 0.0, 'Tawanda Mupariwa': 0.0, 'Stuart Matsikenyeri': 0.0, 'Craig Ervine': 100.17646833333332, 'Craig Wishart': 0.0, 'Douglas Hondo': 0.0, 'Stuart Carlisle': 0.0, 'Justice Chibhabha': 0.0, 'Grant Flower': 192.1754588888889, 'Tinashe Panyangara': 0.0, 'Graeme Cremer': 60.72028333333333, 'Tatenda Taibu': 129.19107, 'Richmond Mutumbami': 0.0, 'Dirk Viljoen': 0.0, 'Piet Rinke': 0.0}\n"
          ],
          "name": "stdout"
        }
      ]
    },
    {
      "cell_type": "code",
      "metadata": {
        "id": "uGQ7vZPZ8_yQ",
        "colab_type": "code",
        "outputId": "7c2ce3b1-670c-4e29-b7bc-68e1749b8876",
        "colab": {
          "base_uri": "https://localhost:8080/",
          "height": 255
        }
      },
      "source": [
        "data_items = impact.items()\n",
        "data_list = list(data_items)\n",
        "\n",
        "df = pd.DataFrame(data_list,columns = [\"Name\",\"Points\"])\n",
        "print(df)"
      ],
      "execution_count": 76,
      "outputs": [
        {
          "output_type": "stream",
          "text": [
            "                     Name      Points\n",
            "0             Karim Sadiq    0.000000\n",
            "1    Hashmatullah Shahidi    0.000000\n",
            "2             Rahmat Shah    0.000000\n",
            "3           Asghar Afghan  107.801549\n",
            "4      Samiullah Shinwari    0.000000\n",
            "..                    ...         ...\n",
            "671         Graeme Cremer   60.720283\n",
            "672         Tatenda Taibu  129.191070\n",
            "673    Richmond Mutumbami    0.000000\n",
            "674          Dirk Viljoen    0.000000\n",
            "675            Piet Rinke    0.000000\n",
            "\n",
            "[676 rows x 2 columns]\n"
          ],
          "name": "stdout"
        }
      ]
    },
    {
      "cell_type": "code",
      "metadata": {
        "id": "VEo9ltkoNOHj",
        "colab_type": "code",
        "outputId": "94ffb931-a166-4baa-c318-c30f03477f0d",
        "colab": {
          "base_uri": "https://localhost:8080/",
          "height": 255
        }
      },
      "source": [
        "df.sort_values(\"Points\", axis = 0, ascending = False, \n",
        "                 inplace = True)\n",
        "df.reset_index(drop=True, inplace=True)\n",
        "print(df)"
      ],
      "execution_count": 79,
      "outputs": [
        {
          "output_type": "stream",
          "text": [
            "                      Name      Points\n",
            "0         Sachin Tendulkar  576.964040\n",
            "1          A B de Villiers  518.086852\n",
            "2              Virat Kohli  514.675606\n",
            "3         Kumar Sangakkara  510.729246\n",
            "4        Sanath Jayasuriya  465.212741\n",
            "..                     ...         ...\n",
            "671         Brian McMillan    0.000000\n",
            "672      Fanie De Villiers    0.000000\n",
            "673  Rassie van der Dussen    0.000000\n",
            "674           Solomon Mire    0.000000\n",
            "675             Piet Rinke    0.000000\n",
            "\n",
            "[676 rows x 2 columns]\n"
          ],
          "name": "stdout"
        }
      ]
    },
    {
      "cell_type": "code",
      "metadata": {
        "id": "T2VaMjfrNOSK",
        "colab_type": "code",
        "outputId": "8bfcfdc8-e23e-44b5-905e-a2bd448f0183",
        "colab": {
          "base_uri": "https://localhost:8080/",
          "height": 669
        }
      },
      "source": [
        "df.head(20)"
      ],
      "execution_count": 80,
      "outputs": [
        {
          "output_type": "execute_result",
          "data": {
            "text/html": [
              "<div>\n",
              "<style scoped>\n",
              "    .dataframe tbody tr th:only-of-type {\n",
              "        vertical-align: middle;\n",
              "    }\n",
              "\n",
              "    .dataframe tbody tr th {\n",
              "        vertical-align: top;\n",
              "    }\n",
              "\n",
              "    .dataframe thead th {\n",
              "        text-align: right;\n",
              "    }\n",
              "</style>\n",
              "<table border=\"1\" class=\"dataframe\">\n",
              "  <thead>\n",
              "    <tr style=\"text-align: right;\">\n",
              "      <th></th>\n",
              "      <th>Name</th>\n",
              "      <th>Points</th>\n",
              "    </tr>\n",
              "  </thead>\n",
              "  <tbody>\n",
              "    <tr>\n",
              "      <th>0</th>\n",
              "      <td>Sachin Tendulkar</td>\n",
              "      <td>576.964040</td>\n",
              "    </tr>\n",
              "    <tr>\n",
              "      <th>1</th>\n",
              "      <td>A B de Villiers</td>\n",
              "      <td>518.086852</td>\n",
              "    </tr>\n",
              "    <tr>\n",
              "      <th>2</th>\n",
              "      <td>Virat Kohli</td>\n",
              "      <td>514.675606</td>\n",
              "    </tr>\n",
              "    <tr>\n",
              "      <th>3</th>\n",
              "      <td>Kumar Sangakkara</td>\n",
              "      <td>510.729246</td>\n",
              "    </tr>\n",
              "    <tr>\n",
              "      <th>4</th>\n",
              "      <td>Sanath Jayasuriya</td>\n",
              "      <td>465.212741</td>\n",
              "    </tr>\n",
              "    <tr>\n",
              "      <th>5</th>\n",
              "      <td>M S Dhoni</td>\n",
              "      <td>453.451980</td>\n",
              "    </tr>\n",
              "    <tr>\n",
              "      <th>6</th>\n",
              "      <td>Michael Hussey</td>\n",
              "      <td>418.424890</td>\n",
              "    </tr>\n",
              "    <tr>\n",
              "      <th>7</th>\n",
              "      <td>Eoin Morgan</td>\n",
              "      <td>399.419344</td>\n",
              "    </tr>\n",
              "    <tr>\n",
              "      <th>8</th>\n",
              "      <td>Mahela Jayawardene</td>\n",
              "      <td>388.791487</td>\n",
              "    </tr>\n",
              "    <tr>\n",
              "      <th>9</th>\n",
              "      <td>Chris Gayle</td>\n",
              "      <td>386.587322</td>\n",
              "    </tr>\n",
              "    <tr>\n",
              "      <th>10</th>\n",
              "      <td>Rohit Sharma</td>\n",
              "      <td>372.075314</td>\n",
              "    </tr>\n",
              "    <tr>\n",
              "      <th>11</th>\n",
              "      <td>Ricky Ponting</td>\n",
              "      <td>368.202157</td>\n",
              "    </tr>\n",
              "    <tr>\n",
              "      <th>12</th>\n",
              "      <td>Jacques Kallis</td>\n",
              "      <td>368.107810</td>\n",
              "    </tr>\n",
              "    <tr>\n",
              "      <th>13</th>\n",
              "      <td>Tillakaratne Dilshan</td>\n",
              "      <td>359.387181</td>\n",
              "    </tr>\n",
              "    <tr>\n",
              "      <th>14</th>\n",
              "      <td>Brian Lara</td>\n",
              "      <td>355.143588</td>\n",
              "    </tr>\n",
              "    <tr>\n",
              "      <th>15</th>\n",
              "      <td>Virender Sehwag</td>\n",
              "      <td>354.665164</td>\n",
              "    </tr>\n",
              "    <tr>\n",
              "      <th>16</th>\n",
              "      <td>Hashim Amla</td>\n",
              "      <td>347.089337</td>\n",
              "    </tr>\n",
              "    <tr>\n",
              "      <th>17</th>\n",
              "      <td>Faf du Plessis</td>\n",
              "      <td>346.304298</td>\n",
              "    </tr>\n",
              "    <tr>\n",
              "      <th>18</th>\n",
              "      <td>Shoaib Malik</td>\n",
              "      <td>341.645616</td>\n",
              "    </tr>\n",
              "    <tr>\n",
              "      <th>19</th>\n",
              "      <td>Ross Taylor</td>\n",
              "      <td>332.087317</td>\n",
              "    </tr>\n",
              "  </tbody>\n",
              "</table>\n",
              "</div>"
            ],
            "text/plain": [
              "                    Name      Points\n",
              "0       Sachin Tendulkar  576.964040\n",
              "1        A B de Villiers  518.086852\n",
              "2            Virat Kohli  514.675606\n",
              "3       Kumar Sangakkara  510.729246\n",
              "4      Sanath Jayasuriya  465.212741\n",
              "5              M S Dhoni  453.451980\n",
              "6         Michael Hussey  418.424890\n",
              "7            Eoin Morgan  399.419344\n",
              "8     Mahela Jayawardene  388.791487\n",
              "9            Chris Gayle  386.587322\n",
              "10          Rohit Sharma  372.075314\n",
              "11         Ricky Ponting  368.202157\n",
              "12        Jacques Kallis  368.107810\n",
              "13  Tillakaratne Dilshan  359.387181\n",
              "14            Brian Lara  355.143588\n",
              "15       Virender Sehwag  354.665164\n",
              "16           Hashim Amla  347.089337\n",
              "17        Faf du Plessis  346.304298\n",
              "18          Shoaib Malik  341.645616\n",
              "19           Ross Taylor  332.087317"
            ]
          },
          "metadata": {
            "tags": []
          },
          "execution_count": 80
        }
      ]
    },
    {
      "cell_type": "code",
      "metadata": {
        "id": "VpQKR7N6NOim",
        "colab_type": "code",
        "colab": {}
      },
      "source": [
        ""
      ],
      "execution_count": 0,
      "outputs": []
    }
  ]
}