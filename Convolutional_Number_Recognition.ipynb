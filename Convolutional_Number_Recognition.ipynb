{
  "nbformat": 4,
  "nbformat_minor": 0,
  "metadata": {
    "colab": {
      "name": "Convolutional Number Recognition.ipynb",
      "provenance": [],
      "authorship_tag": "ABX9TyPAVD8NgR1srH/JbX2su3l3",
      "include_colab_link": true
    },
    "kernelspec": {
      "name": "python3",
      "display_name": "Python 3"
    },
    "accelerator": "GPU"
  },
  "cells": [
    {
      "cell_type": "markdown",
      "metadata": {
        "id": "view-in-github",
        "colab_type": "text"
      },
      "source": [
        "<a href=\"https://colab.research.google.com/github/SachinSouravJha/Machine-Learning-Basics/blob/master/Convolutional_Number_Recognition.ipynb\" target=\"_parent\"><img src=\"https://colab.research.google.com/assets/colab-badge.svg\" alt=\"Open In Colab\"/></a>"
      ]
    },
    {
      "cell_type": "code",
      "metadata": {
        "id": "yCNaVDFCVNO0",
        "colab_type": "code",
        "colab": {
          "base_uri": "https://localhost:8080/",
          "height": 80
        },
        "outputId": "d079d8db-fac4-4167-823c-af9354b87f0f"
      },
      "source": [
        "from keras.layers import * # * will import all types of layers \n",
        "from keras.models import Sequential # There are two types of models sequential and functional\n",
        "#Functional is needed when we are working on complex projects\n",
        "#This project is relatively simple so we imported sequential \n"
      ],
      "execution_count": 1,
      "outputs": [
        {
          "output_type": "stream",
          "text": [
            "Using TensorFlow backend.\n"
          ],
          "name": "stderr"
        },
        {
          "output_type": "display_data",
          "data": {
            "text/html": [
              "<p style=\"color: red;\">\n",
              "The default version of TensorFlow in Colab will soon switch to TensorFlow 2.x.<br>\n",
              "We recommend you <a href=\"https://www.tensorflow.org/guide/migrate\" target=\"_blank\">upgrade</a> now \n",
              "or ensure your notebook will continue to use TensorFlow 1.x via the <code>%tensorflow_version 1.x</code> magic:\n",
              "<a href=\"https://colab.research.google.com/notebooks/tensorflow_version.ipynb\" target=\"_blank\">more info</a>.</p>\n"
            ],
            "text/plain": [
              "<IPython.core.display.HTML object>"
            ]
          },
          "metadata": {
            "tags": []
          }
        }
      ]
    },
    {
      "cell_type": "code",
      "metadata": {
        "id": "jO2EZr4GVpcI",
        "colab_type": "code",
        "colab": {
          "base_uri": "https://localhost:8080/",
          "height": 425
        },
        "outputId": "f8233f25-4056-42a8-c3cc-f6fbaf3b3833"
      },
      "source": [
        "# Build a Model \n",
        "\n",
        "model = Sequential() #We will use sequential\n",
        "model.add(Conv2D(32,(5,5),activation='relu',input_shape=(28,28,1))) #Need to give input shape in the first layer\n",
        "model.add(MaxPool2D((2,2))) #Value of stripes is 2 by default while we specified window size as 2*2\n",
        "model.add(Conv2D(64,(4,4),activation='relu'))\n",
        "model.add(MaxPool2D((2,2)))\n",
        "model.add(Conv2D(64,(3,3),activation='relu'))\n",
        "model.add(Flatten())\n",
        "model.add(Dense(64,activation='relu'))\n",
        "model.add(Dense(10,activation='softmax')) #This is output\n",
        "model.summary()\n",
        "#We keep on increasing channels as we move to next layer"
      ],
      "execution_count": 4,
      "outputs": [
        {
          "output_type": "stream",
          "text": [
            "Model: \"sequential_2\"\n",
            "_________________________________________________________________\n",
            "Layer (type)                 Output Shape              Param #   \n",
            "=================================================================\n",
            "conv2d_4 (Conv2D)            (None, 24, 24, 32)        832       \n",
            "_________________________________________________________________\n",
            "max_pooling2d_3 (MaxPooling2 (None, 12, 12, 32)        0         \n",
            "_________________________________________________________________\n",
            "conv2d_5 (Conv2D)            (None, 9, 9, 64)          32832     \n",
            "_________________________________________________________________\n",
            "max_pooling2d_4 (MaxPooling2 (None, 4, 4, 64)          0         \n",
            "_________________________________________________________________\n",
            "conv2d_6 (Conv2D)            (None, 2, 2, 64)          36928     \n",
            "_________________________________________________________________\n",
            "flatten_2 (Flatten)          (None, 256)               0         \n",
            "_________________________________________________________________\n",
            "dense_3 (Dense)              (None, 64)                16448     \n",
            "_________________________________________________________________\n",
            "dense_4 (Dense)              (None, 10)                650       \n",
            "=================================================================\n",
            "Total params: 87,690\n",
            "Trainable params: 87,690\n",
            "Non-trainable params: 0\n",
            "_________________________________________________________________\n"
          ],
          "name": "stdout"
        }
      ]
    },
    {
      "cell_type": "code",
      "metadata": {
        "id": "GjRPMPJObPmc",
        "colab_type": "code",
        "colab": {}
      },
      "source": [
        "#Dataset\n",
        "from keras.datasets import mnist #Importing the required dataset\n",
        "from keras.utils import to_categorical #Hot encoder \n",
        "(XTrain,YTrain),(XTest,YTest) = mnist.load_data() "
      ],
      "execution_count": 0,
      "outputs": []
    },
    {
      "cell_type": "code",
      "metadata": {
        "id": "-p6i9MtjevIi",
        "colab_type": "code",
        "colab": {}
      },
      "source": [
        "def preprocess_data(X,Y): #To preprocess data\n",
        "    X = X.reshape((-1,28,28,1)) #Reshaping in required manner\n",
        "    X = X/255.0\n",
        "    Y = to_categorical(Y) #Hot code encoder\n",
        "    return X,Y\n"
      ],
      "execution_count": 0,
      "outputs": []
    },
    {
      "cell_type": "code",
      "metadata": {
        "id": "lQzdi3Y1e-Br",
        "colab_type": "code",
        "colab": {
          "base_uri": "https://localhost:8080/",
          "height": 34
        },
        "outputId": "76de01fb-ea3f-4617-f609-64683cb02e65"
      },
      "source": [
        "XTrain,YTrain = preprocess_data(XTrain,YTrain) #Preprocessing the train set\n",
        "print(XTrain.shape,YTrain.shape)"
      ],
      "execution_count": 15,
      "outputs": [
        {
          "output_type": "stream",
          "text": [
            "(60000, 28, 28, 1) (60000, 10)\n"
          ],
          "name": "stdout"
        }
      ]
    },
    {
      "cell_type": "code",
      "metadata": {
        "id": "FMmrFXKrfBjJ",
        "colab_type": "code",
        "colab": {
          "base_uri": "https://localhost:8080/",
          "height": 34
        },
        "outputId": "674f7f67-71f2-4707-a1ee-4dc9d5f1a9ce"
      },
      "source": [
        "XTest,YTest = preprocess_data(XTest,YTest) #Preprocessing the test set\n",
        "print(XTest.shape,YTest.shape)"
      ],
      "execution_count": 16,
      "outputs": [
        {
          "output_type": "stream",
          "text": [
            "(10000, 28, 28, 1) (10000, 10)\n"
          ],
          "name": "stdout"
        }
      ]
    },
    {
      "cell_type": "code",
      "metadata": {
        "id": "NYtPiegye6Hx",
        "colab_type": "code",
        "colab": {
          "base_uri": "https://localhost:8080/",
          "height": 1000
        },
        "outputId": "457e825b-9c23-4c0a-9e1d-e448b7eb5a15"
      },
      "source": [
        "\n",
        "# Model Compilation\n",
        "model.compile(optimizer='adam',loss='categorical_crossentropy',metrics=['accuracy'])\n",
        "hist = model.fit(XTrain,YTrain,epochs=20,validation_split=0.1,batch_size=64)"
      ],
      "execution_count": 17,
      "outputs": [
        {
          "output_type": "stream",
          "text": [
            "WARNING:tensorflow:From /usr/local/lib/python3.6/dist-packages/tensorflow_core/python/ops/math_grad.py:1424: where (from tensorflow.python.ops.array_ops) is deprecated and will be removed in a future version.\n",
            "Instructions for updating:\n",
            "Use tf.where in 2.0, which has the same broadcast rule as np.where\n",
            "WARNING:tensorflow:From /usr/local/lib/python3.6/dist-packages/keras/backend/tensorflow_backend.py:1033: The name tf.assign_add is deprecated. Please use tf.compat.v1.assign_add instead.\n",
            "\n",
            "WARNING:tensorflow:From /usr/local/lib/python3.6/dist-packages/keras/backend/tensorflow_backend.py:1020: The name tf.assign is deprecated. Please use tf.compat.v1.assign instead.\n",
            "\n",
            "WARNING:tensorflow:From /usr/local/lib/python3.6/dist-packages/keras/backend/tensorflow_backend.py:3005: The name tf.Session is deprecated. Please use tf.compat.v1.Session instead.\n",
            "\n",
            "Train on 54000 samples, validate on 6000 samples\n",
            "Epoch 1/20\n",
            "WARNING:tensorflow:From /usr/local/lib/python3.6/dist-packages/keras/backend/tensorflow_backend.py:190: The name tf.get_default_session is deprecated. Please use tf.compat.v1.get_default_session instead.\n",
            "\n",
            "WARNING:tensorflow:From /usr/local/lib/python3.6/dist-packages/keras/backend/tensorflow_backend.py:197: The name tf.ConfigProto is deprecated. Please use tf.compat.v1.ConfigProto instead.\n",
            "\n",
            "WARNING:tensorflow:From /usr/local/lib/python3.6/dist-packages/keras/backend/tensorflow_backend.py:207: The name tf.global_variables is deprecated. Please use tf.compat.v1.global_variables instead.\n",
            "\n",
            "WARNING:tensorflow:From /usr/local/lib/python3.6/dist-packages/keras/backend/tensorflow_backend.py:216: The name tf.is_variable_initialized is deprecated. Please use tf.compat.v1.is_variable_initialized instead.\n",
            "\n",
            "WARNING:tensorflow:From /usr/local/lib/python3.6/dist-packages/keras/backend/tensorflow_backend.py:223: The name tf.variables_initializer is deprecated. Please use tf.compat.v1.variables_initializer instead.\n",
            "\n",
            "54000/54000 [==============================] - 20s 365us/step - loss: 0.2070 - acc: 0.9381 - val_loss: 0.0732 - val_acc: 0.9772\n",
            "Epoch 2/20\n",
            "54000/54000 [==============================] - 4s 81us/step - loss: 0.0617 - acc: 0.9803 - val_loss: 0.0528 - val_acc: 0.9838\n",
            "Epoch 3/20\n",
            "54000/54000 [==============================] - 5s 84us/step - loss: 0.0416 - acc: 0.9870 - val_loss: 0.0444 - val_acc: 0.9873\n",
            "Epoch 4/20\n",
            "54000/54000 [==============================] - 4s 83us/step - loss: 0.0336 - acc: 0.9894 - val_loss: 0.0390 - val_acc: 0.9887\n",
            "Epoch 5/20\n",
            "54000/54000 [==============================] - 5s 83us/step - loss: 0.0262 - acc: 0.9915 - val_loss: 0.0330 - val_acc: 0.9893\n",
            "Epoch 6/20\n",
            "54000/54000 [==============================] - 4s 82us/step - loss: 0.0218 - acc: 0.9929 - val_loss: 0.0391 - val_acc: 0.9907\n",
            "Epoch 7/20\n",
            "54000/54000 [==============================] - 4s 81us/step - loss: 0.0177 - acc: 0.9944 - val_loss: 0.0375 - val_acc: 0.9907\n",
            "Epoch 8/20\n",
            "54000/54000 [==============================] - 4s 82us/step - loss: 0.0156 - acc: 0.9948 - val_loss: 0.0341 - val_acc: 0.9920\n",
            "Epoch 9/20\n",
            "54000/54000 [==============================] - 4s 82us/step - loss: 0.0139 - acc: 0.9954 - val_loss: 0.0375 - val_acc: 0.9913\n",
            "Epoch 10/20\n",
            "54000/54000 [==============================] - 4s 81us/step - loss: 0.0117 - acc: 0.9964 - val_loss: 0.0350 - val_acc: 0.9912\n",
            "Epoch 11/20\n",
            "54000/54000 [==============================] - 5s 84us/step - loss: 0.0105 - acc: 0.9967 - val_loss: 0.0458 - val_acc: 0.9910\n",
            "Epoch 12/20\n",
            "54000/54000 [==============================] - 5s 84us/step - loss: 0.0106 - acc: 0.9966 - val_loss: 0.0333 - val_acc: 0.9922\n",
            "Epoch 13/20\n",
            "54000/54000 [==============================] - 4s 83us/step - loss: 0.0080 - acc: 0.9973 - val_loss: 0.0358 - val_acc: 0.9900\n",
            "Epoch 14/20\n",
            "54000/54000 [==============================] - 4s 83us/step - loss: 0.0076 - acc: 0.9975 - val_loss: 0.0454 - val_acc: 0.9908\n",
            "Epoch 15/20\n",
            "54000/54000 [==============================] - 4s 81us/step - loss: 0.0072 - acc: 0.9973 - val_loss: 0.0369 - val_acc: 0.9925\n",
            "Epoch 16/20\n",
            "54000/54000 [==============================] - 4s 83us/step - loss: 0.0068 - acc: 0.9976 - val_loss: 0.0600 - val_acc: 0.9893\n",
            "Epoch 17/20\n",
            "54000/54000 [==============================] - 4s 82us/step - loss: 0.0068 - acc: 0.9973 - val_loss: 0.0434 - val_acc: 0.9923\n",
            "Epoch 18/20\n",
            "54000/54000 [==============================] - 5s 85us/step - loss: 0.0071 - acc: 0.9976 - val_loss: 0.0401 - val_acc: 0.9928\n",
            "Epoch 19/20\n",
            "54000/54000 [==============================] - 5s 85us/step - loss: 0.0051 - acc: 0.9982 - val_loss: 0.0445 - val_acc: 0.9920\n",
            "Epoch 20/20\n",
            "54000/54000 [==============================] - 4s 82us/step - loss: 0.0051 - acc: 0.9984 - val_loss: 0.0372 - val_acc: 0.9912\n"
          ],
          "name": "stdout"
        }
      ]
    },
    {
      "cell_type": "code",
      "metadata": {
        "id": "WmoT_nyFhSfy",
        "colab_type": "code",
        "colab": {
          "base_uri": "https://localhost:8080/",
          "height": 51
        },
        "outputId": "5c0336cf-98dc-4ad6-a7a3-010a01e8021d"
      },
      "source": [
        "model.evaluate(XTest,YTest)"
      ],
      "execution_count": 18,
      "outputs": [
        {
          "output_type": "stream",
          "text": [
            "10000/10000 [==============================] - 1s 69us/step\n"
          ],
          "name": "stdout"
        },
        {
          "output_type": "execute_result",
          "data": {
            "text/plain": [
              "[0.03752087125478242, 0.9924]"
            ]
          },
          "metadata": {
            "tags": []
          },
          "execution_count": 18
        }
      ]
    }
  ]
}