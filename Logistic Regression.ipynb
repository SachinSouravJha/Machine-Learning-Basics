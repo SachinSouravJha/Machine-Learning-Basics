{
 "cells": [
  {
   "cell_type": "code",
   "execution_count": 1,
   "metadata": {},
   "outputs": [],
   "source": [
    "import numpy as np\n",
    "import matplotlib.pyplot as plt\n",
    "import pandas as pd"
   ]
  },
  {
   "cell_type": "code",
   "execution_count": 2,
   "metadata": {},
   "outputs": [
    {
     "name": "stdout",
     "output_type": "stream",
     "text": [
      "(500, 2)\n",
      "(500, 2)\n"
     ]
    }
   ],
   "source": [
    "mean_01 = np.array([1,0.5])\n",
    "cov_01 = np.array([[1,0.1],[0.1,1.2]])\n",
    "\n",
    "mean_02 = np.array([4,5])\n",
    "cov_02 = np.array([[1.21,0.1],[0.1,1.3]])\n",
    "\n",
    "#We have two distributions with two features and we are generating two distributions with them \n",
    "# Normal Distribution\n",
    "dist_01 = np.random.multivariate_normal(mean_01,cov_01,500)\n",
    "dist_02 = np.random.multivariate_normal(mean_02,cov_02,500)\n",
    "\n",
    "print(dist_01.shape)\n",
    "print(dist_02.shape)"
   ]
  },
  {
   "cell_type": "code",
   "execution_count": 3,
   "metadata": {},
   "outputs": [
    {
     "data": {
      "image/png": "[encoded data removed]",
      "text/plain": [
       "<Figure size 432x288 with 1 Axes>"
      ]
     },
     "metadata": {},
     "output_type": "display_data"
    }
   ],
   "source": [
    "plt.figure(0)\n",
    "\n",
    "plt.scatter(dist_01[:,0],dist_01[:,1],label='Class 0')\n",
    "plt.scatter(dist_02[:,0],dist_02[:,1],color='r',marker='^',label='Class 1')\n",
    "plt.xlim(-5,10)\n",
    "plt.ylim(-5,10)\n",
    "plt.xlabel('x1')\n",
    "plt.ylabel('x2')\n",
    "plt.legend()\n",
    "plt.show()\n"
   ]
  },
  {
   "cell_type": "code",
   "execution_count": 4,
   "metadata": {},
   "outputs": [
    {
     "name": "stdout",
     "output_type": "stream",
     "text": [
      "(1000, 3)\n"
     ]
    }
   ],
   "source": [
    "data = np.zeros((1000,3))\n",
    "print(data.shape)\n",
    "#Creating a blank matrix with 1000 rows and three columns\n",
    "#Two columns will have the variables while the third will have the value to identify the distribution"
   ]
  },
  {
   "cell_type": "code",
   "execution_count": 5,
   "metadata": {},
   "outputs": [],
   "source": [
    "data[:500,:2] = dist_01 #Put first distribution in first 500 rows\n",
    "data[500:,:2] = dist_02 #Put second distribution in last 500 rows\n",
    "data[500:,-1] = 1.0 #Labelled the second distribution as 1\n",
    "#Now the dataset is ready"
   ]
  },
  {
   "cell_type": "code",
   "execution_count": 6,
   "metadata": {},
   "outputs": [
    {
     "name": "stdout",
     "output_type": "stream",
     "text": [
      "[[ 3.22607419  4.98405952  1.        ]\n",
      " [ 2.78905494  2.72782484  0.        ]\n",
      " [ 0.49477642  1.03245935  0.        ]\n",
      " [ 0.30207083  0.87888642  0.        ]\n",
      " [ 2.01136474  4.85117105  1.        ]\n",
      " [ 6.11380352  4.93184976  1.        ]\n",
      " [-0.12475507  0.22222449  0.        ]\n",
      " [ 2.5135065   5.67957376  1.        ]\n",
      " [ 4.0398178   4.15698265  1.        ]\n",
      " [ 3.40990947 -0.04409419  0.        ]]\n"
     ]
    }
   ],
   "source": [
    "np.random.shuffle(data)\n",
    "print(data[:10])\n",
    "#Shuffled the data a little bit"
   ]
  },
  {
   "cell_type": "code",
   "execution_count": 7,
   "metadata": {},
   "outputs": [
    {
     "name": "stdout",
     "output_type": "stream",
     "text": [
      "(800, 2) (200, 2)\n",
      "(800,) (200,)\n"
     ]
    }
   ],
   "source": [
    "split = int(0.8*data.shape[0]) #We will include 80% in training set while rest will go to test\n",
    "X_train = data[:split,:-1]\n",
    "X_test = data[split:,:-1]\n",
    "\n",
    "Y_train = data[:split,-1]\n",
    "Y_test  = data[split:,-1]\n",
    "\n",
    "print(X_train.shape,X_test.shape)\n",
    "print(Y_train.shape,Y_test.shape)\n"
   ]
  },
  {
   "cell_type": "code",
   "execution_count": 10,
   "metadata": {},
   "outputs": [],
   "source": [
    "def hypothesis(x,w,b):\n",
    "    '''accepts input vector x, input weight vector w and bias b'''\n",
    "    \n",
    "    h = np.dot(x,w) + b #Doing dot ensures we don't need to use loop to multiply both variables with their respective weights\n",
    "    return sigmoid(h)\n",
    "    #Calculating the score on the basis of weight and variable's value + bias\n",
    "    #Then simply put that value in sigmoid to get a value between 0 and 1\n",
    "def sigmoid(z):\n",
    "    return 1.0/(1.0 + np.exp(-1.0*z))\n",
    "\n",
    "def error(y_true,x,w,b):\n",
    "    \n",
    "    m = x.shape[0]\n",
    "    \n",
    "    err = 0.0\n",
    "    \n",
    "    for i in range(m):\n",
    "        hx = hypothesis(x[i],w,b) \n",
    "        err += y_true[i]*np.log2(hx) + (1-y_true[i])*np.log2(1-hx) #This is simply LL function which we need to maximize\n",
    "        \n",
    "    \n",
    "    return -err/m #Negative of LL\n",
    "\n",
    "\n",
    "def get_grads(y_true,x,w,b):\n",
    "    \n",
    "    grad_w = np.zeros(w.shape)\n",
    "    grad_b = 0.0\n",
    "    \n",
    "    m = x.shape[0]\n",
    "    \n",
    "    for i in range(m):\n",
    "        hx = hypothesis(x[i],w,b)\n",
    "        \n",
    "        grad_w += (y_true[i] - hx)*x[i]\n",
    "        grad_b +=  (y_true[i]-hx) #Basically multiplies by x[0] which is 1\n",
    "        \n",
    "    \n",
    "    grad_w /= m\n",
    "    grad_b /= m #Average Error and Average Gradient\n",
    "    \n",
    "    return [grad_w,grad_b]\n",
    "\n",
    "\n",
    "# One Iteration of Gradient Descent\n",
    "def grad_descent(x,y_true,w,b,learning_rate=0.1):\n",
    "    loss = []\n",
    "    for i in range(100):\n",
    "        err = error(y_true,x,w,b)\n",
    "        loss.append(err)\n",
    "        [grad_w,grad_b] = get_grads(y_true,x,w,b)\n",
    "    \n",
    "        w = w + learning_rate*grad_w\n",
    "        b = b + learning_rate*grad_b\n",
    "    #So after applying gradient descent our weights and biases are updating themselves \n",
    "    return loss,w,b\n",
    "    \n"
   ]
  },
  {
   "cell_type": "code",
   "execution_count": 9,
   "metadata": {},
   "outputs": [],
   "source": [
    "def predict(x,w,b):\n",
    "    \n",
    "    confidence = hypothesis(x,w,b)\n",
    "    if confidence<0.5:\n",
    "        return 0\n",
    "    else:\n",
    "        return 1\n",
    "    \n",
    "def get_acc(x_tst,y_tst,w,b):\n",
    "    \n",
    "    y_pred = []\n",
    "    \n",
    "    for i in range(y_tst.shape[0]):\n",
    "        p = predict(x_tst[i],w,b)\n",
    "        y_pred.append(p)\n",
    "        \n",
    "    y_pred = np.array(y_pred)\n",
    "    \n",
    "    return  float((y_pred==y_tst).sum())/y_tst.shape[0]"
   ]
  },
  {
   "cell_type": "code",
   "execution_count": 12,
   "metadata": {},
   "outputs": [
    {
     "name": "stdout",
     "output_type": "stream",
     "text": [
      "[3.795755919436591, 3.7077677227513557, 3.6199087981913785, 3.5321920561702007, 3.444632097371187, 3.3572454956703606, 3.2700511438944613, 3.183070680737197, 3.096329023584167, 3.009855040862144, 2.92368240973584, 2.8378507216937328, 2.7524069212451834, 2.6674071932148173, 2.5829194534348523, 2.4990266464542104, 2.4158311097579634, 2.3334603177143425, 2.2520743466985693, 2.1718753550894987, 2.0931191498758412, 2.016128343263146, 1.9413054256200537, 1.8691419881251559, 1.80021719209258, 1.735175037698572, 1.6746684151193665, 1.619263104765489, 1.569311990827925, 1.5248369821264136, 1.485476001301779, 1.4505378422936233, 1.4191532128231632, 1.3904546728889589, 1.3637105352276386, 1.3383794869859964, 1.3141001696904808, 1.2906495341924837, 1.2678974149782973, 1.245770374110942, 1.2242272729452626, 1.2032443597024083, 1.1828067555342747, 1.1629038108593541, 1.1435266547453788, 1.1246669371662605, 1.106316204562307, 1.0884656077291976, 1.0711057838558382, 1.0542268304394282, 1.0378183282138327, 1.02186939041308, 1.0063687259864258, 0.9913047096636166, 0.9766654545359917, 0.9624388843315184, 0.9486128034478498, 0.9351749633773286, 0.9221131245624169, 0.9094151130314144, 0.8970688714163607, 0.885062504163197, 0.8733843169158259, 0.8620228501947786, 0.8509669076002389, 0.8402055788512905, 0.8297282580310155, 0.8195246574438406, 0.8095848175102617, 0.7998991131282893, 0.7904582569234325, 0.7812532997925234, 0.7722756291240046, 0.7635169650500431, 0.7549693550562167, 0.7466251672436072, 0.7384770825073511, 0.73051808586558, 0.7227414571440757, 0.7151407611950792, 0.7077098378040051, 0.7004427914151123, 0.6933339807869485, 0.6863780086700857, 0.6795697115836168, 0.6729041497527448, 0.6663765972574014, 0.6599825324312768, 0.6537176285413101, 0.6475777447700473, 0.6415589175164778, 0.6356573520254903, 0.629869414351387, 0.6241916236570658, 0.6186206448473057, 0.6131532815320804, 0.6077864693137327, 0.602517269390308, 0.5973428624660516, 0.5922605429592354]\n",
      "0.82\n"
     ]
    }
   ],
   "source": [
    "w = 2*np.random.random((X_train.shape[1],))#Taking same number of random variables as weights\n",
    "b = 5*np.random.random()#Taking a random bias\n",
    "loss = []\n",
    "loss,w,b = grad_descent(X_train,Y_train,w,b,learning_rate=0.1)\n",
    "acc = get_acc(X_test,Y_test,w,b)\n",
    "print(loss)\n",
    "print(acc)"
   ]
  },
  {
   "cell_type": "code",
   "execution_count": 13,
   "metadata": {},
   "outputs": [
    {
     "data": {
      "image/png": "[encoded data removed]",
      "text/plain": [
       "<Figure size 432x288 with 1 Axes>"
      ]
     },
     "metadata": {},
     "output_type": "display_data"
    }
   ],
   "source": [
    "plt.plot(loss)\n",
    "plt.ylabel(\"Negative of Log Likelihood\")\n",
    "plt.xlabel(\"Time\")\n",
    "plt.show()"
   ]
  },
  {
   "cell_type": "code",
   "execution_count": 15,
   "metadata": {},
   "outputs": [
    {
     "data": {
      "image/png": "[encoded data removed]",
      "text/plain": [
       "<Figure size 432x288 with 1 Axes>"
      ]
     },
     "metadata": {},
     "output_type": "display_data"
    }
   ],
   "source": [
    "plt.scatter(dist_01[:,0],dist_01[:,1],label='Class 0')\n",
    "plt.scatter(dist_02[:,0],dist_02[:,1],color='r',marker='^',label='Class 1')\n",
    "plt.xlim(-5,10)\n",
    "plt.ylim(-5,10)\n",
    "plt.xlabel('x1')\n",
    "plt.ylabel('x2')\n",
    "\n",
    "x = np.linspace(-4,8,10)\n",
    "y = -(w[0]*x + b)/w[1]\n",
    "plt.plot(x,y,color='k')\n",
    "#Equation should be w0x0+w1xi+b=0 for every point, hence we got line equation accordingly\n",
    "plt.legend()\n",
    "plt.show()\n"
   ]
  },
  {
   "cell_type": "code",
   "execution_count": null,
   "metadata": {},
   "outputs": [],
   "source": []
  }
 ],
 "metadata": {
  "kernelspec": {
   "display_name": "Python 3",
   "language": "python",
   "name": "python3"
  },
  "language_info": {
   "codemirror_mode": {
    "name": "ipython",
    "version": 3
   },
   "file_extension": ".py",
   "mimetype": "text/x-python",
   "name": "python",
   "nbconvert_exporter": "python",
   "pygments_lexer": "ipython3",
   "version": "3.6.5"
  }
 },
 "nbformat": 4,
 "nbformat_minor": 2
}
