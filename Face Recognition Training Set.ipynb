{
 "cells": [
  {
   "cell_type": "code",
   "execution_count": 4,
   "metadata": {},
   "outputs": [
    {
     "name": "stdout",
     "output_type": "stream",
     "text": [
      "Enter the name of the person : Sachin\n",
      "1\n",
      "2\n",
      "3\n",
      "4\n",
      "5\n",
      "6\n",
      "7\n",
      "8\n",
      "9\n",
      "10\n",
      "11\n",
      "12\n",
      "13\n",
      "(13, 10000)\n",
      "Data Successfully save at ./data/Sachin.npy\n"
     ]
    }
   ],
   "source": [
    "#First we got to import CV2 to record pictures from the webcam\n",
    "#Detect Faces and show bounding box using the(haarcascade)\n",
    "#Flatten the largest face image(gray scale). We are using grayscale images to save memory \n",
    "#Repeat the above for multiple people to generate training data \n",
    "#1. Import the two libraries\n",
    "import cv2\n",
    "import numpy as np\n",
    "\n",
    "#Camera \n",
    "cap = cv2.VideoCapture(0)\n",
    "classifier = cv2.CascadeClassifier(\"Haarcascade.xml\")\n",
    "\n",
    "#2. Set the path and took array where we will store the photograohs\n",
    "skip = 0 #To count every 10th\n",
    "face_data = []\n",
    "dataset_path = './data/' #Will store in this folder\n",
    "file_name = input(\"Enter the name of the person : \")\n",
    "\n",
    "#3 The procedure\n",
    "while True:\n",
    "    ret,img = cap.read()\n",
    "    gray = cv2.cvtColor(img,cv2.COLOR_BGR2GRAY) #Using only gray colour because it saves memory\n",
    "    if ret == False:\n",
    "        continue\n",
    "  \n",
    "    faces = classifier.detectMultiScale(gray,1.3,5) #4.The claasifier which is used to find face from whole picture\n",
    "    #print(faces) Will print all the coordinates\n",
    "    if len(faces)==0:\n",
    "        continue\n",
    "\n",
    "    faces = sorted(faces,key=lambda f:f[2]*f[3]) \n",
    "    #We have four parameters in each face that is is x,y, w and h. W and H defines area so we will multiply and sort on that basis\n",
    "    for face in faces[-1:]: #As we sorted aaccording to area, this will pick last one which is largest area\n",
    "        x,y,w,h = face #Will draw the rectangle of the required colour\n",
    "        cv2.rectangle(gray,(x,y),(x+w,y+h),(0,0,255),2)\n",
    "#5. Extract (Crop out the required face) : Region of Interest\n",
    "        offset = 10 #Taken to ensure that we have some extra length taken\n",
    "        face_section = gray[y-offset:y+h+offset,x-offset:x+w+offset] #Taking out only required length\n",
    "        face_section = cv2.resize(face_section,(100,100)) #Resizing it\n",
    "\n",
    "        skip += 1\n",
    "        #6. Adding picture in the array\n",
    "        if skip%10==0:\n",
    "            face_data.append(face_section) #Storing every 10th data in the array\n",
    "            print(len(face_data))\n",
    "    \n",
    "    cv2.imshow(\"gray\",gray)\n",
    "    cv2.imshow(\"Face Section\",face_section)\n",
    "    key = cv2.waitKey(1)&0xFF #Multiplying eight digits with 32 bits to get 8 bit number\n",
    "    if key== ord('a'):\n",
    "        break\n",
    "#7. Convert our face list array into a numpy array\n",
    "face_data = np.asarray(face_data) #converting the face_data list into a np array\n",
    "face_data = face_data.reshape((face_data.shape[0],-1)) #Reshaping it into number of rows that we had in face data and number of columns should be same\n",
    "print(face_data.shape)\n",
    "\n",
    "#8. Save this data into file system\n",
    "np.save(dataset_path+file_name+'.npy',face_data)\n",
    "print(\"Data Successfully save at \"+dataset_path+file_name+'.npy')\n",
    "\n",
    "cap.release()\n",
    "cv2.destroyAllWindows() #Forgetting this can lead to your program crashing"
   ]
  },
  {
   "cell_type": "code",
   "execution_count": null,
   "metadata": {},
   "outputs": [],
   "source": []
  }
 ],
 "metadata": {
  "kernelspec": {
   "display_name": "Python 3",
   "language": "python",
   "name": "python3"
  },
  "language_info": {
   "codemirror_mode": {
    "name": "ipython",
    "version": 3
   },
   "file_extension": ".py",
   "mimetype": "text/x-python",
   "name": "python",
   "nbconvert_exporter": "python",
   "pygments_lexer": "ipython3",
   "version": "3.6.5"
  }
 },
 "nbformat": 4,
 "nbformat_minor": 2
}
