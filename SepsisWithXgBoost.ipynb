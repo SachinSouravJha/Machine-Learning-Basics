{
  "nbformat": 4,
  "nbformat_minor": 0,
  "metadata": {
    "colab": {
      "name": "Sepsis.ipynb",
      "provenance": [],
      "authorship_tag": "ABX9TyP8eu4Mj84VP2DOp98QMhwT",
      "include_colab_link": true
    },
    "kernelspec": {
      "name": "python3",
      "display_name": "Python 3"
    },
    "accelerator": "GPU"
  },
  "cells": [
    {
      "cell_type": "markdown",
      "metadata": {
        "id": "view-in-github",
        "colab_type": "text"
      },
      "source": [
        "<a href=\"https://colab.research.google.com/github/SachinSouravJha/Machine-Learning-Basics/blob/master/SepsisWithXgBoost.ipynb\" target=\"_parent\"><img src=\"https://colab.research.google.com/assets/colab-badge.svg\" alt=\"Open In Colab\"/></a>"
      ]
    },
    {
      "cell_type": "code",
      "metadata": {
        "id": "cFpKWPeDNgc8",
        "colab_type": "code",
        "outputId": "515d23d7-d7a0-4d6f-dcdf-c740c3879369",
        "colab": {
          "base_uri": "https://localhost:8080/",
          "height": 377
        }
      },
      "source": [
        "!wget https://www.dropbox.com/s/xdqcrhlh5rwrvzm/sepsis.csv?dl=0"
      ],
      "execution_count": 0,
      "outputs": [
        {
          "output_type": "stream",
          "text": [
            "--2020-02-26 20:38:31--  https://www.dropbox.com/s/xdqcrhlh5rwrvzm/sepsis.csv?dl=0\n",
            "Resolving www.dropbox.com (www.dropbox.com)... 162.125.8.1, 2620:100:601b:1::a27d:801\n",
            "Connecting to www.dropbox.com (www.dropbox.com)|162.125.8.1|:443... connected.\n",
            "HTTP request sent, awaiting response... 301 Moved Permanently\n",
            "Location: /s/raw/xdqcrhlh5rwrvzm/sepsis.csv [following]\n",
            "--2020-02-26 20:38:31--  https://www.dropbox.com/s/raw/xdqcrhlh5rwrvzm/sepsis.csv\n",
            "Reusing existing connection to www.dropbox.com:443.\n",
            "HTTP request sent, awaiting response... 302 Found\n",
            "Location: https://uc75332a72ef0f42dcce6f7f98ff.dl.dropboxusercontent.com/cd/0/inline/Ay3xXqJKEfYejSek70xKNp4RRhxiqqxiX3ITrj97bmPXNuPCR0mlNAf4KpkFuTpqarC9BexpGC_qXsu1QpIvJvkuHwdTBP3csAGif7lxLTBYx-YJgvqcJLoCqGIjj14IUak/file# [following]\n",
            "--2020-02-26 20:38:32--  https://uc75332a72ef0f42dcce6f7f98ff.dl.dropboxusercontent.com/cd/0/inline/Ay3xXqJKEfYejSek70xKNp4RRhxiqqxiX3ITrj97bmPXNuPCR0mlNAf4KpkFuTpqarC9BexpGC_qXsu1QpIvJvkuHwdTBP3csAGif7lxLTBYx-YJgvqcJLoCqGIjj14IUak/file\n",
            "Resolving uc75332a72ef0f42dcce6f7f98ff.dl.dropboxusercontent.com (uc75332a72ef0f42dcce6f7f98ff.dl.dropboxusercontent.com)... 162.125.8.6, 2620:100:601b:6::a27d:806\n",
            "Connecting to uc75332a72ef0f42dcce6f7f98ff.dl.dropboxusercontent.com (uc75332a72ef0f42dcce6f7f98ff.dl.dropboxusercontent.com)|162.125.8.6|:443... connected.\n",
            "HTTP request sent, awaiting response... 200 OK\n",
            "Length: 213491517 (204M) [text/plain]\n",
            "Saving to: ‘sepsis.csv?dl=0’\n",
            "\n",
            "sepsis.csv?dl=0     100%[===================>] 203.60M  45.0MB/s    in 4.5s    \n",
            "\n",
            "2020-02-26 20:38:37 (45.0 MB/s) - ‘sepsis.csv?dl=0’ saved [213491517/213491517]\n",
            "\n"
          ],
          "name": "stdout"
        }
      ]
    },
    {
      "cell_type": "code",
      "metadata": {
        "id": "OqjlLXKANjpo",
        "colab_type": "code",
        "outputId": "687afb95-e6d1-4483-8e0d-209feb483261",
        "colab": {
          "base_uri": "https://localhost:8080/",
          "height": 34
        }
      },
      "source": [
        "!ls"
      ],
      "execution_count": 0,
      "outputs": [
        {
          "output_type": "stream",
          "text": [
            " sample_data  'sepsis.csv?dl=0'\n"
          ],
          "name": "stdout"
        }
      ]
    },
    {
      "cell_type": "code",
      "metadata": {
        "id": "7xIJtLg3NxAo",
        "colab_type": "code",
        "colab": {}
      },
      "source": [
        "import pandas as pd\n",
        "sepsis_data = pd.read_csv('sepsis.csv?dl=0', sep ='|')"
      ],
      "execution_count": 0,
      "outputs": []
    },
    {
      "cell_type": "code",
      "metadata": {
        "id": "CP5kr5K8QRDb",
        "colab_type": "code",
        "outputId": "b38976d5-346c-4683-a148-5c226e9bcbd5",
        "colab": {
          "base_uri": "https://localhost:8080/",
          "height": 153
        }
      },
      "source": [
        "print(sepsis_data.head())"
      ],
      "execution_count": 0,
      "outputs": [
        {
          "output_type": "stream",
          "text": [
            "      HR  O2Sat  Temp    SBP  ...  Unit2  HospAdmTime  ICULOS  SepsisLabel\n",
            "0    NaN    NaN   NaN    NaN  ...    NaN        -0.03       1            0\n",
            "1   97.0   95.0   NaN   98.0  ...    NaN        -0.03       2            0\n",
            "2   89.0   99.0   NaN  122.0  ...    NaN        -0.03       3            0\n",
            "3   90.0   95.0   NaN    NaN  ...    NaN        -0.03       4            0\n",
            "4  103.0   88.5   NaN  122.0  ...    NaN        -0.03       5            0\n",
            "\n",
            "[5 rows x 41 columns]\n"
          ],
          "name": "stdout"
        }
      ]
    },
    {
      "cell_type": "code",
      "metadata": {
        "id": "SNiV4tKkQVvW",
        "colab_type": "code",
        "outputId": "6c83d6f4-d566-4146-cd8e-1cc178ad9430",
        "colab": {
          "base_uri": "https://localhost:8080/",
          "height": 34
        }
      },
      "source": [
        "sepsis_data.shape"
      ],
      "execution_count": 0,
      "outputs": [
        {
          "output_type": "execute_result",
          "data": {
            "text/plain": [
              "(1361672, 41)"
            ]
          },
          "metadata": {
            "tags": []
          },
          "execution_count": 4
        }
      ]
    },
    {
      "cell_type": "code",
      "metadata": {
        "id": "K1GNGcZGfCAd",
        "colab_type": "code",
        "colab": {}
      },
      "source": [
        "#We have a lot of columns with a lot of missing values so we just need to remove those columns "
      ],
      "execution_count": 0,
      "outputs": []
    },
    {
      "cell_type": "code",
      "metadata": {
        "id": "g_F2EpewfCYU",
        "colab_type": "code",
        "outputId": "f8cb6665-cac7-426c-b862-af07c1c1bce6",
        "colab": {
          "base_uri": "https://localhost:8080/",
          "height": 731
        }
      },
      "source": [
        "# Sum of all missing values in dataset\n",
        "missing = sepsis_data.isnull().sum() #Using this we will get the number of rows in which the value is null for that column \n",
        "missing"
      ],
      "execution_count": 0,
      "outputs": [
        {
          "output_type": "execute_result",
          "data": {
            "text/plain": [
              "HR                   130133\n",
              "O2Sat                175676\n",
              "Temp                 902590\n",
              "SBP                  199680\n",
              "MAP                  165134\n",
              "DBP                  459960\n",
              "Resp                 198043\n",
              "EtCO2               1319201\n",
              "BaseExcess          1277998\n",
              "HCO3                1297001\n",
              "FiO2                1236770\n",
              "pH                  1258514\n",
              "PaCO2               1279813\n",
              "SaO2                1311871\n",
              "AST                 1339842\n",
              "BUN                 1265550\n",
              "Alkalinephos        1340093\n",
              "Calcium             1283397\n",
              "Chloride            1292412\n",
              "Creatinine          1277512\n",
              "Bilirubin_direct    1359132\n",
              "Glucose             1138773\n",
              "Lactate             1323998\n",
              "Magnesium           1272850\n",
              "Phosphate           1304990\n",
              "Potassium           1231945\n",
              "Bilirubin_total     1341905\n",
              "TroponinI           1350388\n",
              "Hct                 1235350\n",
              "Hgb                 1258251\n",
              "PTT                 1317887\n",
              "WBC                 1272210\n",
              "Fibrinogen          1352505\n",
              "Platelets           1279609\n",
              "Age                       0\n",
              "Gender                    0\n",
              "Unit1                555263\n",
              "Unit2                555263\n",
              "HospAdmTime               8\n",
              "ICULOS                    0\n",
              "SepsisLabel               0\n",
              "dtype: int64"
            ]
          },
          "metadata": {
            "tags": []
          },
          "execution_count": 5
        }
      ]
    },
    {
      "cell_type": "code",
      "metadata": {
        "id": "qVk9Q0rLfCfT",
        "colab_type": "code",
        "outputId": "72f3e701-8ecc-447c-d590-94f00d663776",
        "colab": {
          "base_uri": "https://localhost:8080/",
          "height": 731
        }
      },
      "source": [
        "#We can see that there are rows in which the numbe of missing values is a lot, so let's take percentage and then we can just remove columns with more than 90% values\n",
        "missing_percent = (missing/1361672)*100 #Missing in all columns/Number of rows in each column \n",
        "missing_percent"
      ],
      "execution_count": 0,
      "outputs": [
        {
          "output_type": "execute_result",
          "data": {
            "text/plain": [
              "HR                   9.556854\n",
              "O2Sat               12.901492\n",
              "Temp                66.285420\n",
              "SBP                 14.664324\n",
              "MAP                 12.127296\n",
              "DBP                 33.779060\n",
              "Resp                14.544105\n",
              "EtCO2               96.880967\n",
              "BaseExcess          93.855055\n",
              "HCO3                95.250618\n",
              "FiO2                90.827306\n",
              "pH                  92.424167\n",
              "PaCO2               93.988347\n",
              "SaO2                96.342658\n",
              "AST                 98.396824\n",
              "BUN                 92.940884\n",
              "Alkalinephos        98.415257\n",
              "Calcium             94.251553\n",
              "Chloride            94.913606\n",
              "Creatinine          93.819363\n",
              "Bilirubin_direct    99.813465\n",
              "Glucose             83.630493\n",
              "Lactate             97.233254\n",
              "Magnesium           93.476990\n",
              "Phosphate           95.837324\n",
              "Potassium           90.472963\n",
              "Bilirubin_total     98.548329\n",
              "TroponinI           99.171313\n",
              "Hct                 90.723023\n",
              "Hgb                 92.404852\n",
              "PTT                 96.784468\n",
              "WBC                 93.429989\n",
              "Fibrinogen          99.326784\n",
              "Platelets           93.973365\n",
              "Age                  0.000000\n",
              "Gender               0.000000\n",
              "Unit1               40.778029\n",
              "Unit2               40.778029\n",
              "HospAdmTime          0.000588\n",
              "ICULOS               0.000000\n",
              "SepsisLabel          0.000000\n",
              "dtype: float64"
            ]
          },
          "metadata": {
            "tags": []
          },
          "execution_count": 6
        }
      ]
    },
    {
      "cell_type": "code",
      "metadata": {
        "id": "Vf6vsgyjijTn",
        "colab_type": "code",
        "outputId": "29225021-875a-4830-8ca5-162d2009e76e",
        "colab": {
          "base_uri": "https://localhost:8080/",
          "height": 459
        }
      },
      "source": [
        "#Taking the list the of all columns which has more than 90% missing values\n",
        "drop_cols = list(missing_percent[missing_percent > 90].index)\n",
        "drop_cols"
      ],
      "execution_count": 0,
      "outputs": [
        {
          "output_type": "execute_result",
          "data": {
            "text/plain": [
              "['EtCO2',\n",
              " 'BaseExcess',\n",
              " 'HCO3',\n",
              " 'FiO2',\n",
              " 'pH',\n",
              " 'PaCO2',\n",
              " 'SaO2',\n",
              " 'AST',\n",
              " 'BUN',\n",
              " 'Alkalinephos',\n",
              " 'Calcium',\n",
              " 'Chloride',\n",
              " 'Creatinine',\n",
              " 'Bilirubin_direct',\n",
              " 'Lactate',\n",
              " 'Magnesium',\n",
              " 'Phosphate',\n",
              " 'Potassium',\n",
              " 'Bilirubin_total',\n",
              " 'TroponinI',\n",
              " 'Hct',\n",
              " 'Hgb',\n",
              " 'PTT',\n",
              " 'WBC',\n",
              " 'Fibrinogen',\n",
              " 'Platelets']"
            ]
          },
          "metadata": {
            "tags": []
          },
          "execution_count": 7
        }
      ]
    },
    {
      "cell_type": "code",
      "metadata": {
        "id": "0efQOe3lijjg",
        "colab_type": "code",
        "outputId": "2caada0a-07f5-44ca-9d02-adaadeaddf2e",
        "colab": {
          "base_uri": "https://localhost:8080/",
          "height": 289
        }
      },
      "source": [
        "sepsis_data = sepsis_data.drop(drop_cols,axis=1) #Removes those columns\n",
        "missing_data = sepsis_data.isnull().sum() #Checking missed percent in the columns which are left\n",
        "missing_percent = (missing_data/sepsis_data.shape[0])*100 #Calculating the percentage \n",
        "missing_percent"
      ],
      "execution_count": 0,
      "outputs": [
        {
          "output_type": "execute_result",
          "data": {
            "text/plain": [
              "HR              9.556854\n",
              "O2Sat          12.901492\n",
              "Temp           66.285420\n",
              "SBP            14.664324\n",
              "MAP            12.127296\n",
              "DBP            33.779060\n",
              "Resp           14.544105\n",
              "Glucose        83.630493\n",
              "Age             0.000000\n",
              "Gender          0.000000\n",
              "Unit1          40.778029\n",
              "Unit2          40.778029\n",
              "HospAdmTime     0.000588\n",
              "ICULOS          0.000000\n",
              "SepsisLabel     0.000000\n",
              "dtype: float64"
            ]
          },
          "metadata": {
            "tags": []
          },
          "execution_count": 8
        }
      ]
    },
    {
      "cell_type": "code",
      "metadata": {
        "id": "xkwcTyzJfCrq",
        "colab_type": "code",
        "outputId": "26b6d41d-6ed9-49dd-f1f5-b17c796839bb",
        "colab": {
          "base_uri": "https://localhost:8080/",
          "height": 204
        }
      },
      "source": [
        "sepsis_data.head()"
      ],
      "execution_count": 0,
      "outputs": [
        {
          "output_type": "execute_result",
          "data": {
            "text/html": [
              "<div>\n",
              "<style scoped>\n",
              "    .dataframe tbody tr th:only-of-type {\n",
              "        vertical-align: middle;\n",
              "    }\n",
              "\n",
              "    .dataframe tbody tr th {\n",
              "        vertical-align: top;\n",
              "    }\n",
              "\n",
              "    .dataframe thead th {\n",
              "        text-align: right;\n",
              "    }\n",
              "</style>\n",
              "<table border=\"1\" class=\"dataframe\">\n",
              "  <thead>\n",
              "    <tr style=\"text-align: right;\">\n",
              "      <th></th>\n",
              "      <th>HR</th>\n",
              "      <th>O2Sat</th>\n",
              "      <th>Temp</th>\n",
              "      <th>SBP</th>\n",
              "      <th>MAP</th>\n",
              "      <th>DBP</th>\n",
              "      <th>Resp</th>\n",
              "      <th>Glucose</th>\n",
              "      <th>Age</th>\n",
              "      <th>Gender</th>\n",
              "      <th>Unit1</th>\n",
              "      <th>Unit2</th>\n",
              "      <th>HospAdmTime</th>\n",
              "      <th>ICULOS</th>\n",
              "      <th>SepsisLabel</th>\n",
              "    </tr>\n",
              "  </thead>\n",
              "  <tbody>\n",
              "    <tr>\n",
              "      <th>0</th>\n",
              "      <td>NaN</td>\n",
              "      <td>NaN</td>\n",
              "      <td>NaN</td>\n",
              "      <td>NaN</td>\n",
              "      <td>NaN</td>\n",
              "      <td>NaN</td>\n",
              "      <td>NaN</td>\n",
              "      <td>NaN</td>\n",
              "      <td>83.14</td>\n",
              "      <td>0</td>\n",
              "      <td>NaN</td>\n",
              "      <td>NaN</td>\n",
              "      <td>-0.03</td>\n",
              "      <td>1</td>\n",
              "      <td>0</td>\n",
              "    </tr>\n",
              "    <tr>\n",
              "      <th>1</th>\n",
              "      <td>97.0</td>\n",
              "      <td>95.0</td>\n",
              "      <td>NaN</td>\n",
              "      <td>98.0</td>\n",
              "      <td>75.33</td>\n",
              "      <td>NaN</td>\n",
              "      <td>19.0</td>\n",
              "      <td>NaN</td>\n",
              "      <td>83.14</td>\n",
              "      <td>0</td>\n",
              "      <td>NaN</td>\n",
              "      <td>NaN</td>\n",
              "      <td>-0.03</td>\n",
              "      <td>2</td>\n",
              "      <td>0</td>\n",
              "    </tr>\n",
              "    <tr>\n",
              "      <th>2</th>\n",
              "      <td>89.0</td>\n",
              "      <td>99.0</td>\n",
              "      <td>NaN</td>\n",
              "      <td>122.0</td>\n",
              "      <td>86.00</td>\n",
              "      <td>NaN</td>\n",
              "      <td>22.0</td>\n",
              "      <td>NaN</td>\n",
              "      <td>83.14</td>\n",
              "      <td>0</td>\n",
              "      <td>NaN</td>\n",
              "      <td>NaN</td>\n",
              "      <td>-0.03</td>\n",
              "      <td>3</td>\n",
              "      <td>0</td>\n",
              "    </tr>\n",
              "    <tr>\n",
              "      <th>3</th>\n",
              "      <td>90.0</td>\n",
              "      <td>95.0</td>\n",
              "      <td>NaN</td>\n",
              "      <td>NaN</td>\n",
              "      <td>NaN</td>\n",
              "      <td>NaN</td>\n",
              "      <td>30.0</td>\n",
              "      <td>NaN</td>\n",
              "      <td>83.14</td>\n",
              "      <td>0</td>\n",
              "      <td>NaN</td>\n",
              "      <td>NaN</td>\n",
              "      <td>-0.03</td>\n",
              "      <td>4</td>\n",
              "      <td>0</td>\n",
              "    </tr>\n",
              "    <tr>\n",
              "      <th>4</th>\n",
              "      <td>103.0</td>\n",
              "      <td>88.5</td>\n",
              "      <td>NaN</td>\n",
              "      <td>122.0</td>\n",
              "      <td>91.33</td>\n",
              "      <td>NaN</td>\n",
              "      <td>24.5</td>\n",
              "      <td>NaN</td>\n",
              "      <td>83.14</td>\n",
              "      <td>0</td>\n",
              "      <td>NaN</td>\n",
              "      <td>NaN</td>\n",
              "      <td>-0.03</td>\n",
              "      <td>5</td>\n",
              "      <td>0</td>\n",
              "    </tr>\n",
              "  </tbody>\n",
              "</table>\n",
              "</div>"
            ],
            "text/plain": [
              "      HR  O2Sat  Temp    SBP  ...  Unit2  HospAdmTime  ICULOS  SepsisLabel\n",
              "0    NaN    NaN   NaN    NaN  ...    NaN        -0.03       1            0\n",
              "1   97.0   95.0   NaN   98.0  ...    NaN        -0.03       2            0\n",
              "2   89.0   99.0   NaN  122.0  ...    NaN        -0.03       3            0\n",
              "3   90.0   95.0   NaN    NaN  ...    NaN        -0.03       4            0\n",
              "4  103.0   88.5   NaN  122.0  ...    NaN        -0.03       5            0\n",
              "\n",
              "[5 rows x 15 columns]"
            ]
          },
          "metadata": {
            "tags": []
          },
          "execution_count": 10
        }
      ]
    },
    {
      "cell_type": "code",
      "metadata": {
        "id": "SLGYB-R0kIoT",
        "colab_type": "code",
        "outputId": "883ff883-554b-404a-90e5-ebdb4d5a89e7",
        "colab": {
          "base_uri": "https://localhost:8080/",
          "height": 34
        }
      },
      "source": [
        "sepsis_data.shape"
      ],
      "execution_count": 0,
      "outputs": [
        {
          "output_type": "execute_result",
          "data": {
            "text/plain": [
              "(1361672, 15)"
            ]
          },
          "metadata": {
            "tags": []
          },
          "execution_count": 11
        }
      ]
    },
    {
      "cell_type": "code",
      "metadata": {
        "id": "rXT3enHUkI0L",
        "colab_type": "code",
        "colab": {}
      },
      "source": [
        "#We are now left with 15 columns instead of 41 we had at start, in this the HospAdmTime does not look useful so I will drop this too\n",
        "sepsis_data = sepsis_data.drop([\"HospAdmTime\"],axis=1)"
      ],
      "execution_count": 0,
      "outputs": []
    },
    {
      "cell_type": "code",
      "metadata": {
        "id": "B_Lwj5TDfCv5",
        "colab_type": "code",
        "colab": {}
      },
      "source": [
        "sepsis_data.head()"
      ],
      "execution_count": 0,
      "outputs": []
    },
    {
      "cell_type": "code",
      "metadata": {
        "id": "q5DTe6p2fCya",
        "colab_type": "code",
        "colab": {}
      },
      "source": [
        "sepsis_data[\"HR\"] = sepsis_data[\"HR\"].fillna(80)\n",
        "#I googled to find heart rate of a normal person and filled that for missing values\n",
        "#If I am a doctor and I don't have report, I will assume it to be normal so it makes sense"
      ],
      "execution_count": 0,
      "outputs": []
    },
    {
      "cell_type": "code",
      "metadata": {
        "id": "yknhH0cWpd6y",
        "colab_type": "code",
        "outputId": "1b89161e-7b3f-400b-f4d9-4436c4709a6c",
        "colab": {
          "base_uri": "https://localhost:8080/",
          "height": 204
        }
      },
      "source": [
        "sepsis_data.head()"
      ],
      "execution_count": 0,
      "outputs": [
        {
          "output_type": "execute_result",
          "data": {
            "text/html": [
              "<div>\n",
              "<style scoped>\n",
              "    .dataframe tbody tr th:only-of-type {\n",
              "        vertical-align: middle;\n",
              "    }\n",
              "\n",
              "    .dataframe tbody tr th {\n",
              "        vertical-align: top;\n",
              "    }\n",
              "\n",
              "    .dataframe thead th {\n",
              "        text-align: right;\n",
              "    }\n",
              "</style>\n",
              "<table border=\"1\" class=\"dataframe\">\n",
              "  <thead>\n",
              "    <tr style=\"text-align: right;\">\n",
              "      <th></th>\n",
              "      <th>HR</th>\n",
              "      <th>O2Sat</th>\n",
              "      <th>Temp</th>\n",
              "      <th>SBP</th>\n",
              "      <th>MAP</th>\n",
              "      <th>DBP</th>\n",
              "      <th>Resp</th>\n",
              "      <th>Glucose</th>\n",
              "      <th>Age</th>\n",
              "      <th>Gender</th>\n",
              "      <th>Unit1</th>\n",
              "      <th>Unit2</th>\n",
              "      <th>ICULOS</th>\n",
              "      <th>SepsisLabel</th>\n",
              "    </tr>\n",
              "  </thead>\n",
              "  <tbody>\n",
              "    <tr>\n",
              "      <th>0</th>\n",
              "      <td>80.0</td>\n",
              "      <td>NaN</td>\n",
              "      <td>NaN</td>\n",
              "      <td>NaN</td>\n",
              "      <td>NaN</td>\n",
              "      <td>NaN</td>\n",
              "      <td>NaN</td>\n",
              "      <td>NaN</td>\n",
              "      <td>83.14</td>\n",
              "      <td>0</td>\n",
              "      <td>NaN</td>\n",
              "      <td>NaN</td>\n",
              "      <td>1</td>\n",
              "      <td>0</td>\n",
              "    </tr>\n",
              "    <tr>\n",
              "      <th>1</th>\n",
              "      <td>97.0</td>\n",
              "      <td>95.0</td>\n",
              "      <td>NaN</td>\n",
              "      <td>98.0</td>\n",
              "      <td>75.33</td>\n",
              "      <td>NaN</td>\n",
              "      <td>19.0</td>\n",
              "      <td>NaN</td>\n",
              "      <td>83.14</td>\n",
              "      <td>0</td>\n",
              "      <td>NaN</td>\n",
              "      <td>NaN</td>\n",
              "      <td>2</td>\n",
              "      <td>0</td>\n",
              "    </tr>\n",
              "    <tr>\n",
              "      <th>2</th>\n",
              "      <td>89.0</td>\n",
              "      <td>99.0</td>\n",
              "      <td>NaN</td>\n",
              "      <td>122.0</td>\n",
              "      <td>86.00</td>\n",
              "      <td>NaN</td>\n",
              "      <td>22.0</td>\n",
              "      <td>NaN</td>\n",
              "      <td>83.14</td>\n",
              "      <td>0</td>\n",
              "      <td>NaN</td>\n",
              "      <td>NaN</td>\n",
              "      <td>3</td>\n",
              "      <td>0</td>\n",
              "    </tr>\n",
              "    <tr>\n",
              "      <th>3</th>\n",
              "      <td>90.0</td>\n",
              "      <td>95.0</td>\n",
              "      <td>NaN</td>\n",
              "      <td>NaN</td>\n",
              "      <td>NaN</td>\n",
              "      <td>NaN</td>\n",
              "      <td>30.0</td>\n",
              "      <td>NaN</td>\n",
              "      <td>83.14</td>\n",
              "      <td>0</td>\n",
              "      <td>NaN</td>\n",
              "      <td>NaN</td>\n",
              "      <td>4</td>\n",
              "      <td>0</td>\n",
              "    </tr>\n",
              "    <tr>\n",
              "      <th>4</th>\n",
              "      <td>103.0</td>\n",
              "      <td>88.5</td>\n",
              "      <td>NaN</td>\n",
              "      <td>122.0</td>\n",
              "      <td>91.33</td>\n",
              "      <td>NaN</td>\n",
              "      <td>24.5</td>\n",
              "      <td>NaN</td>\n",
              "      <td>83.14</td>\n",
              "      <td>0</td>\n",
              "      <td>NaN</td>\n",
              "      <td>NaN</td>\n",
              "      <td>5</td>\n",
              "      <td>0</td>\n",
              "    </tr>\n",
              "  </tbody>\n",
              "</table>\n",
              "</div>"
            ],
            "text/plain": [
              "      HR  O2Sat  Temp    SBP    MAP  ...  Gender  Unit1  Unit2  ICULOS  SepsisLabel\n",
              "0   80.0    NaN   NaN    NaN    NaN  ...       0    NaN    NaN       1            0\n",
              "1   97.0   95.0   NaN   98.0  75.33  ...       0    NaN    NaN       2            0\n",
              "2   89.0   99.0   NaN  122.0  86.00  ...       0    NaN    NaN       3            0\n",
              "3   90.0   95.0   NaN    NaN    NaN  ...       0    NaN    NaN       4            0\n",
              "4  103.0   88.5   NaN  122.0  91.33  ...       0    NaN    NaN       5            0\n",
              "\n",
              "[5 rows x 14 columns]"
            ]
          },
          "metadata": {
            "tags": []
          },
          "execution_count": 14
        }
      ]
    },
    {
      "cell_type": "code",
      "metadata": {
        "id": "wWynEsSdpeEd",
        "colab_type": "code",
        "outputId": "23e3a764-2293-43c5-a2ff-ba026059b418",
        "colab": {
          "base_uri": "https://localhost:8080/",
          "height": 204
        }
      },
      "source": [
        "sepsis_data = sepsis_data.drop([\"Unit1\",\"Unit2\"],axis=1)\n",
        "sepsis_data.head()"
      ],
      "execution_count": 0,
      "outputs": [
        {
          "output_type": "execute_result",
          "data": {
            "text/html": [
              "<div>\n",
              "<style scoped>\n",
              "    .dataframe tbody tr th:only-of-type {\n",
              "        vertical-align: middle;\n",
              "    }\n",
              "\n",
              "    .dataframe tbody tr th {\n",
              "        vertical-align: top;\n",
              "    }\n",
              "\n",
              "    .dataframe thead th {\n",
              "        text-align: right;\n",
              "    }\n",
              "</style>\n",
              "<table border=\"1\" class=\"dataframe\">\n",
              "  <thead>\n",
              "    <tr style=\"text-align: right;\">\n",
              "      <th></th>\n",
              "      <th>HR</th>\n",
              "      <th>O2Sat</th>\n",
              "      <th>Temp</th>\n",
              "      <th>SBP</th>\n",
              "      <th>MAP</th>\n",
              "      <th>DBP</th>\n",
              "      <th>Resp</th>\n",
              "      <th>Glucose</th>\n",
              "      <th>Age</th>\n",
              "      <th>Gender</th>\n",
              "      <th>ICULOS</th>\n",
              "      <th>SepsisLabel</th>\n",
              "    </tr>\n",
              "  </thead>\n",
              "  <tbody>\n",
              "    <tr>\n",
              "      <th>0</th>\n",
              "      <td>80.0</td>\n",
              "      <td>NaN</td>\n",
              "      <td>NaN</td>\n",
              "      <td>NaN</td>\n",
              "      <td>NaN</td>\n",
              "      <td>NaN</td>\n",
              "      <td>NaN</td>\n",
              "      <td>NaN</td>\n",
              "      <td>83.14</td>\n",
              "      <td>0</td>\n",
              "      <td>1</td>\n",
              "      <td>0</td>\n",
              "    </tr>\n",
              "    <tr>\n",
              "      <th>1</th>\n",
              "      <td>97.0</td>\n",
              "      <td>95.0</td>\n",
              "      <td>NaN</td>\n",
              "      <td>98.0</td>\n",
              "      <td>75.33</td>\n",
              "      <td>NaN</td>\n",
              "      <td>19.0</td>\n",
              "      <td>NaN</td>\n",
              "      <td>83.14</td>\n",
              "      <td>0</td>\n",
              "      <td>2</td>\n",
              "      <td>0</td>\n",
              "    </tr>\n",
              "    <tr>\n",
              "      <th>2</th>\n",
              "      <td>89.0</td>\n",
              "      <td>99.0</td>\n",
              "      <td>NaN</td>\n",
              "      <td>122.0</td>\n",
              "      <td>86.00</td>\n",
              "      <td>NaN</td>\n",
              "      <td>22.0</td>\n",
              "      <td>NaN</td>\n",
              "      <td>83.14</td>\n",
              "      <td>0</td>\n",
              "      <td>3</td>\n",
              "      <td>0</td>\n",
              "    </tr>\n",
              "    <tr>\n",
              "      <th>3</th>\n",
              "      <td>90.0</td>\n",
              "      <td>95.0</td>\n",
              "      <td>NaN</td>\n",
              "      <td>NaN</td>\n",
              "      <td>NaN</td>\n",
              "      <td>NaN</td>\n",
              "      <td>30.0</td>\n",
              "      <td>NaN</td>\n",
              "      <td>83.14</td>\n",
              "      <td>0</td>\n",
              "      <td>4</td>\n",
              "      <td>0</td>\n",
              "    </tr>\n",
              "    <tr>\n",
              "      <th>4</th>\n",
              "      <td>103.0</td>\n",
              "      <td>88.5</td>\n",
              "      <td>NaN</td>\n",
              "      <td>122.0</td>\n",
              "      <td>91.33</td>\n",
              "      <td>NaN</td>\n",
              "      <td>24.5</td>\n",
              "      <td>NaN</td>\n",
              "      <td>83.14</td>\n",
              "      <td>0</td>\n",
              "      <td>5</td>\n",
              "      <td>0</td>\n",
              "    </tr>\n",
              "  </tbody>\n",
              "</table>\n",
              "</div>"
            ],
            "text/plain": [
              "      HR  O2Sat  Temp    SBP  ...    Age  Gender  ICULOS  SepsisLabel\n",
              "0   80.0    NaN   NaN    NaN  ...  83.14       0       1            0\n",
              "1   97.0   95.0   NaN   98.0  ...  83.14       0       2            0\n",
              "2   89.0   99.0   NaN  122.0  ...  83.14       0       3            0\n",
              "3   90.0   95.0   NaN    NaN  ...  83.14       0       4            0\n",
              "4  103.0   88.5   NaN  122.0  ...  83.14       0       5            0\n",
              "\n",
              "[5 rows x 12 columns]"
            ]
          },
          "metadata": {
            "tags": []
          },
          "execution_count": 15
        }
      ]
    },
    {
      "cell_type": "code",
      "metadata": {
        "id": "zHTHhaX-peeC",
        "colab_type": "code",
        "colab": {}
      },
      "source": [
        "sepsis_data[\"O2Sat\"] = sepsis_data[\"O2Sat\"].fillna(97)\n",
        "sepsis_data[\"Temp\"] = sepsis_data[\"Temp\"].fillna(37.2)\n",
        "sepsis_data[\"SBP\"] = sepsis_data[\"SBP\"].fillna(140)\n",
        "sepsis_data[\"MAP\"] = sepsis_data[\"MAP\"].fillna(85)\n",
        "sepsis_data[\"DBP\"] = sepsis_data[\"DBP\"].fillna(90)\n",
        "sepsis_data[\"Glucose\"] = sepsis_data[\"Glucose\"].fillna(112)\n",
        "sepsis_data[\"Resp\"] = sepsis_data[\"Resp\"].fillna(20)\n",
        "sepsis_data[\"Age\"] = sepsis_data[\"Age\"].fillna(sepsis_data[\"Age\"].mean())"
      ],
      "execution_count": 0,
      "outputs": []
    },
    {
      "cell_type": "code",
      "metadata": {
        "id": "SDM_UytDqwel",
        "colab_type": "code",
        "outputId": "4729e50f-e3f6-449e-fc98-d4d038689e8f",
        "colab": {
          "base_uri": "https://localhost:8080/",
          "height": 204
        }
      },
      "source": [
        "sepsis_data.head()"
      ],
      "execution_count": 0,
      "outputs": [
        {
          "output_type": "execute_result",
          "data": {
            "text/html": [
              "<div>\n",
              "<style scoped>\n",
              "    .dataframe tbody tr th:only-of-type {\n",
              "        vertical-align: middle;\n",
              "    }\n",
              "\n",
              "    .dataframe tbody tr th {\n",
              "        vertical-align: top;\n",
              "    }\n",
              "\n",
              "    .dataframe thead th {\n",
              "        text-align: right;\n",
              "    }\n",
              "</style>\n",
              "<table border=\"1\" class=\"dataframe\">\n",
              "  <thead>\n",
              "    <tr style=\"text-align: right;\">\n",
              "      <th></th>\n",
              "      <th>HR</th>\n",
              "      <th>O2Sat</th>\n",
              "      <th>Temp</th>\n",
              "      <th>SBP</th>\n",
              "      <th>MAP</th>\n",
              "      <th>DBP</th>\n",
              "      <th>Resp</th>\n",
              "      <th>Glucose</th>\n",
              "      <th>Age</th>\n",
              "      <th>Gender</th>\n",
              "      <th>ICULOS</th>\n",
              "      <th>SepsisLabel</th>\n",
              "    </tr>\n",
              "  </thead>\n",
              "  <tbody>\n",
              "    <tr>\n",
              "      <th>0</th>\n",
              "      <td>80.0</td>\n",
              "      <td>97.0</td>\n",
              "      <td>37.2</td>\n",
              "      <td>140.0</td>\n",
              "      <td>85.00</td>\n",
              "      <td>90.0</td>\n",
              "      <td>20.0</td>\n",
              "      <td>112.0</td>\n",
              "      <td>83.14</td>\n",
              "      <td>0</td>\n",
              "      <td>1</td>\n",
              "      <td>0</td>\n",
              "    </tr>\n",
              "    <tr>\n",
              "      <th>1</th>\n",
              "      <td>97.0</td>\n",
              "      <td>95.0</td>\n",
              "      <td>37.2</td>\n",
              "      <td>98.0</td>\n",
              "      <td>75.33</td>\n",
              "      <td>90.0</td>\n",
              "      <td>19.0</td>\n",
              "      <td>112.0</td>\n",
              "      <td>83.14</td>\n",
              "      <td>0</td>\n",
              "      <td>2</td>\n",
              "      <td>0</td>\n",
              "    </tr>\n",
              "    <tr>\n",
              "      <th>2</th>\n",
              "      <td>89.0</td>\n",
              "      <td>99.0</td>\n",
              "      <td>37.2</td>\n",
              "      <td>122.0</td>\n",
              "      <td>86.00</td>\n",
              "      <td>90.0</td>\n",
              "      <td>22.0</td>\n",
              "      <td>112.0</td>\n",
              "      <td>83.14</td>\n",
              "      <td>0</td>\n",
              "      <td>3</td>\n",
              "      <td>0</td>\n",
              "    </tr>\n",
              "    <tr>\n",
              "      <th>3</th>\n",
              "      <td>90.0</td>\n",
              "      <td>95.0</td>\n",
              "      <td>37.2</td>\n",
              "      <td>140.0</td>\n",
              "      <td>85.00</td>\n",
              "      <td>90.0</td>\n",
              "      <td>30.0</td>\n",
              "      <td>112.0</td>\n",
              "      <td>83.14</td>\n",
              "      <td>0</td>\n",
              "      <td>4</td>\n",
              "      <td>0</td>\n",
              "    </tr>\n",
              "    <tr>\n",
              "      <th>4</th>\n",
              "      <td>103.0</td>\n",
              "      <td>88.5</td>\n",
              "      <td>37.2</td>\n",
              "      <td>122.0</td>\n",
              "      <td>91.33</td>\n",
              "      <td>90.0</td>\n",
              "      <td>24.5</td>\n",
              "      <td>112.0</td>\n",
              "      <td>83.14</td>\n",
              "      <td>0</td>\n",
              "      <td>5</td>\n",
              "      <td>0</td>\n",
              "    </tr>\n",
              "  </tbody>\n",
              "</table>\n",
              "</div>"
            ],
            "text/plain": [
              "      HR  O2Sat  Temp    SBP  ...    Age  Gender  ICULOS  SepsisLabel\n",
              "0   80.0   97.0  37.2  140.0  ...  83.14       0       1            0\n",
              "1   97.0   95.0  37.2   98.0  ...  83.14       0       2            0\n",
              "2   89.0   99.0  37.2  122.0  ...  83.14       0       3            0\n",
              "3   90.0   95.0  37.2  140.0  ...  83.14       0       4            0\n",
              "4  103.0   88.5  37.2  122.0  ...  83.14       0       5            0\n",
              "\n",
              "[5 rows x 12 columns]"
            ]
          },
          "metadata": {
            "tags": []
          },
          "execution_count": 17
        }
      ]
    },
    {
      "cell_type": "code",
      "metadata": {
        "id": "nljPguQCqwoN",
        "colab_type": "code",
        "outputId": "d69baf4d-37f2-4384-9166-1ab6417a9b91",
        "colab": {
          "base_uri": "https://localhost:8080/",
          "height": 68
        }
      },
      "source": [
        "from sklearn.preprocessing import MinMaxScaler #Normalizing the data\n",
        "scaler = MinMaxScaler() \n",
        "data = scaler.fit_transform(sepsis_data)\n",
        "data[1]"
      ],
      "execution_count": 0,
      "outputs": [
        {
          "output_type": "execute_result",
          "data": {
            "text/plain": [
              "array([0.29615385, 0.9375    , 0.56013746, 0.27857143, 0.19760714,\n",
              "       0.25      , 0.18181818, 0.10429448, 0.80395349, 0.        ,\n",
              "       0.00298507, 0.        ])"
            ]
          },
          "metadata": {
            "tags": []
          },
          "execution_count": 18
        }
      ]
    },
    {
      "cell_type": "code",
      "metadata": {
        "id": "FV8qiQ_auh-i",
        "colab_type": "code",
        "colab": {}
      },
      "source": [
        "def hypothesis(x,w,b):\n",
        "    '''accepts input vector x, input weight vector w and bias b'''\n",
        "    \n",
        "    h = np.dot(x,w) + b #Doing dot ensures we don't need to use loop to multiply both variables with their respective weights\n",
        "    return sigmoid(h)\n",
        "    #Calculating the score on the basis of weight and variable's value + bias\n",
        "    #Then simply put that value in sigmoid to get a value between 0 and 1\n",
        "def sigmoid(z):\n",
        "    return 1.0/(1.0 + np.exp(-1.0*z))\n",
        "\n",
        "def error(y_true,x,w,b):\n",
        "    \n",
        "    m = x.shape[0]\n",
        "    \n",
        "    err = 0.0\n",
        "    \n",
        "    for i in range(m):\n",
        "        hx = hypothesis(x[i],w,b) \n",
        "        err += y_true[i]*np.log2(hx) + (1-y_true[i])*np.log2(1-hx) #This is simply LL function which we need to maximize\n",
        "        \n",
        "    \n",
        "    return -err/m #Negative of LL\n",
        "\n",
        "\n",
        "def get_grads(y_true,x,w,b):\n",
        "    \n",
        "    grad_w = np.zeros(w.shape)\n",
        "    grad_b = 0.0\n",
        "    \n",
        "    m = x.shape[0]\n",
        "    \n",
        "    for i in range(m):\n",
        "        hx = hypothesis(x[i],w,b)\n",
        "        \n",
        "        grad_w += (y_true[i] - hx)*x[i]\n",
        "        grad_b +=  (y_true[i]-hx) #Basically multiplies by x[0] which is 1\n",
        "        \n",
        "    \n",
        "    grad_w /= m\n",
        "    grad_b /= m #Average Error and Average Gradient\n",
        "    \n",
        "    return [grad_w,grad_b]\n",
        "\n",
        "\n",
        "# One Iteration of Gradient Descent\n",
        "def grad_descent(x,y_true,w,b,learning_rate=0.1):\n",
        "    loss = []\n",
        "    for i in range(100):\n",
        "        err = error(y_true,x,w,b)\n",
        "        loss.append(err)\n",
        "        [grad_w,grad_b] = get_grads(y_true,x,w,b)\n",
        "    \n",
        "        w = w + learning_rate*grad_w\n",
        "        b = b + learning_rate*grad_b\n",
        "    #So after applying gradient descent our weights and biases are updating themselves \n",
        "    return loss,w,b"
      ],
      "execution_count": 0,
      "outputs": []
    },
    {
      "cell_type": "code",
      "metadata": {
        "id": "GBEMsbe7ukFB",
        "colab_type": "code",
        "colab": {}
      },
      "source": [
        "def predict(x,w,b):\n",
        "    \n",
        "    confidence = hypothesis(x,w,b)\n",
        "    if confidence<0.5:\n",
        "        return 0\n",
        "    else:\n",
        "        return 1\n",
        "    \n",
        "def get_acc(x_tst,y_tst,w,b):\n",
        "    \n",
        "    y_pred = []\n",
        "    \n",
        "    for i in range(y_tst.shape[0]):\n",
        "        p = predict(x_tst[i],w,b)\n",
        "        y_pred.append(p)\n",
        "        \n",
        "    y_pred = np.array(y_pred)\n",
        "    return  float((y_pred==y_tst).sum())/y_tst.shape[0]"
      ],
      "execution_count": 0,
      "outputs": []
    },
    {
      "cell_type": "code",
      "metadata": {
        "id": "W_o9pgiZ5W4v",
        "colab_type": "code",
        "outputId": "95c46188-f160-4102-cdfd-dab27f8c40f3",
        "colab": {
          "base_uri": "https://localhost:8080/",
          "height": 51
        }
      },
      "source": [
        "split = int(0.8*data.shape[0]) #We will include 80% in training set while rest will go to test\n",
        "X_train = data[:split,:-1]\n",
        "X_test = data[split:,:-1]\n",
        "\n",
        "Y_train = data[:split,-1]\n",
        "Y_test  = data[split:,-1]\n",
        "\n",
        "print(X_train.shape,X_test.shape)\n",
        "print(Y_train.shape,Y_test.shape)"
      ],
      "execution_count": 0,
      "outputs": [
        {
          "output_type": "stream",
          "text": [
            "(1089337, 11) (272335, 11)\n",
            "(1089337,) (272335,)\n"
          ],
          "name": "stdout"
        }
      ]
    },
    {
      "cell_type": "code",
      "metadata": {
        "id": "1OJhepKC4dii",
        "colab_type": "code",
        "outputId": "7c447041-3f49-4dc2-a10f-eddf1e1bf3bb",
        "colab": {
          "base_uri": "https://localhost:8080/",
          "height": 71
        }
      },
      "source": [
        "w = 2*np.random.random((X_train.shape[1],))#Taking same number of random variables as weights\n",
        "b = 5*np.random.random()#Taking a random bias\n",
        "loss = []\n",
        "loss,w,b = grad_descent(X_train,Y_train,w,b,learning_rate=0.1)\n",
        "acc = get_acc(X_test,Y_test,w,b)\n",
        "print(loss)\n",
        "print(acc)"
      ],
      "execution_count": 0,
      "outputs": [
        {
          "output_type": "stream",
          "text": [
            "[5.585596897496662, 5.159118646594576, 4.7392077126609555, 4.327922254770561, 3.9278098016078724, 3.541910152849486, 3.1736753383982563, 2.826771368346263, 2.5047478818255025, 2.2106091939540113, 1.9463806031591309, 1.712800696323262, 1.5092457541091189, 1.3339065203966172, 1.1841412936552522, 1.0568818227613541, 0.9489861478156832, 0.8574855110635481, 0.7797220228100208, 0.713401001981093, 0.6565883810283469, 0.6076787228907806, 0.5653513031741856, 0.5285245121192953, 0.49631375941389094, 0.4679949626331867, 0.4429740069222835, 0.4207617489911826, 0.40095382100063665, 0.3832144295408201, 0.36726340338936236, 0.35286584690650746, 0.3398238668478217, 0.32796994254685635, 0.3171615968820188, 0.3072770973585685, 0.29821197438344726, 0.2898761895218037, 0.2821918224092104, 0.27509117303255776, 0.26851519796217904, 0.2624122161693667, 0.2567368333746165, 0.25144904428259046, 0.2465134802250155, 0.2418987761539599, 0.23757703599771993, 0.2335233794057835, 0.22971555610181577, 0.22613361661181047, 0.2227596301737787, 0.219577442279354, 0.21657246562031937, 0.21373149928823595, 0.21104257194834752, 0.20849480542224427, 0.20607829569696623, 0.20378400885960082, 0.20160368985175253, 0.1995297822665977, 0.19755535768353555, 0.19567405326179257, 0.19388001650502024, 0.19216785626641444, 0.19053259919880436, 0.18896965096567386, 0.18747476162495025, 0.18604399467812188, 0.1846736993450749, 0.18336048568455546, 0.18210120222924758, 0.18089291584755054, 0.17973289358075475, 0.17861858623610027, 0.17754761354269077, 0.1765177507020943, 0.17552691618396885, 0.1745731606367068, 0.1736546567968457, 0.17276969029514705, 0.17191665126897512, 0.17109402670029578, 0.1703003934082874, 0.1695344116325199, 0.1687948191503384, 0.16808042587796523, 0.1673901089094895, 0.1667228079542168, 0.16607752113489366, 0.16545330111520515, 0.16484925152657418, 0.1642645236682997, 0.1636983134566934, 0.16314985860240952, 0.16261843599612527, 0.16210335928504002, 0.16160397662453924, 0.16111966859028054, 0.16064984623786596, 0.160193949298268]\n",
            "0.9862669139111756\n"
          ],
          "name": "stdout"
        }
      ]
    },
    {
      "cell_type": "code",
      "metadata": {
        "id": "w6flcaC7BTat",
        "colab_type": "code",
        "outputId": "d0583422-f074-483a-9db6-29e08d818bbd",
        "colab": {
          "base_uri": "https://localhost:8080/",
          "height": 34
        }
      },
      "source": [
        "print(acc*100) #For percentage\n",
        "print(classification_report(y_valid, xgb_prediction))"
      ],
      "execution_count": 0,
      "outputs": [
        {
          "output_type": "stream",
          "text": [
            "98.62669139111756\n"
          ],
          "name": "stdout"
        }
      ]
    },
    {
      "cell_type": "code",
      "metadata": {
        "id": "2DPqMW1_2N9R",
        "colab_type": "code",
        "outputId": "027581e0-ee19-4bac-f8e6-76952cf17a48",
        "colab": {
          "base_uri": "https://localhost:8080/",
          "height": 323
        }
      },
      "source": [
        "sepsis_data.info()"
      ],
      "execution_count": 0,
      "outputs": [
        {
          "output_type": "stream",
          "text": [
            "<class 'pandas.core.frame.DataFrame'>\n",
            "RangeIndex: 1361672 entries, 0 to 1361671\n",
            "Data columns (total 13 columns):\n",
            "HR             1361672 non-null float64\n",
            "O2Sat          1361672 non-null float64\n",
            "Temp           1361672 non-null float64\n",
            "SBP            1361672 non-null float64\n",
            "MAP            1361672 non-null float64\n",
            "DBP            1361672 non-null float64\n",
            "Resp           1361672 non-null float64\n",
            "Glucose        1361672 non-null float64\n",
            "Age            1361672 non-null float64\n",
            "Gender         1361672 non-null int64\n",
            "HospAdmTime    1361664 non-null float64\n",
            "ICULOS         1361672 non-null int64\n",
            "SepsisLabel    1361672 non-null int64\n",
            "dtypes: float64(10), int64(3)\n",
            "memory usage: 135.1 MB\n"
          ],
          "name": "stdout"
        }
      ]
    },
    {
      "cell_type": "code",
      "metadata": {
        "id": "75yfvuvjuknx",
        "colab_type": "code",
        "outputId": "b7670d68-cae8-41c6-81b9-9f42281b04c1",
        "colab": {
          "base_uri": "https://localhost:8080/",
          "height": 51
        }
      },
      "source": [
        "X = data[:,:-1]\n",
        "Y = data[:,-1]\n",
        "print(X.shape)\n",
        "print(Y.shape)"
      ],
      "execution_count": 0,
      "outputs": [
        {
          "output_type": "stream",
          "text": [
            "(1361672, 11)\n",
            "(1361672,)\n"
          ],
          "name": "stdout"
        }
      ]
    },
    {
      "cell_type": "code",
      "metadata": {
        "id": "0197P97g2m6z",
        "colab_type": "code",
        "colab": {}
      },
      "source": [
        "from sklearn.model_selection import train_test_split\n",
        "X_train,X_valid,y_train,y_valid = train_test_split(X,Y, test_size = 0.15, random_state = 42)"
      ],
      "execution_count": 0,
      "outputs": []
    },
    {
      "cell_type": "code",
      "metadata": {
        "id": "gVoeQ8iJ2nFB",
        "colab_type": "code",
        "outputId": "da392429-a68e-424b-df1e-2be8fa95cd84",
        "colab": {
          "base_uri": "https://localhost:8080/",
          "height": 34
        }
      },
      "source": [
        "from sklearn.linear_model import LogisticRegression\n",
        "LR = LogisticRegression()\n",
        "LR.fit(X_train,y_train)\n",
        "y_pred = LR.predict(X_valid)\n",
        "acc= 'Accuracy:{:.3f}'.format(LR.score(X_valid,y_valid))\n",
        "print(acc)"
      ],
      "execution_count": 0,
      "outputs": [
        {
          "output_type": "stream",
          "text": [
            "Accuracy:0.982\n"
          ],
          "name": "stdout"
        }
      ]
    },
    {
      "cell_type": "code",
      "metadata": {
        "id": "8nvbhYkB2nV6",
        "colab_type": "code",
        "colab": {}
      },
      "source": [
        "#To be continued in future"
      ],
      "execution_count": 0,
      "outputs": []
    },
    {
      "cell_type": "code",
      "metadata": {
        "id": "FLgxre_12ncb",
        "colab_type": "code",
        "colab": {}
      },
      "source": [
        "def dist(x1,x2):\n",
        "    return np.sqrt(sum((x1-x2)**2)) #We will find squares of distance between the two matrices\n",
        "    #Then we will sum the squares\n",
        "def knn(X,Y,queryPoint,k=5):\n",
        "    #Writing KNN\n",
        "    vals = []\n",
        "    m = X.shape[0]\n",
        "    #Traversing all rows\n",
        "    for i in range(m):\n",
        "        d = dist(queryPoint,X[i])\n",
        "        #Here we will find \n",
        "        vals.append((d,Y[i]))\n",
        "        #Updating array with the distance and it's value\n",
        "    \n",
        "    vals = sorted(vals)\n",
        "    # Nearest/First K points\n",
        "    vals = vals[:k]\n",
        "    \n",
        "    vals = np.array(vals)\n",
        "    #Converting into numpy\n",
        "    #print(vals)\n",
        "    \n",
        "    new_vals = np.unique(vals[:,1],return_counts=True) #This array will store all the unique values in the second column \n",
        "    #Then it will also frequency of the numbers\n",
        "    \n",
        "    #print(new_vals)\n",
        "    \n",
        "    index = new_vals[1].argmax()\n",
        "    #Here we found the index of number which came most number of times\n",
        "    pred = new_vals[0][index]\n",
        "    #Using that index we find the number which came most number of times\n",
        "    return pred"
      ],
      "execution_count": 0,
      "outputs": []
    },
    {
      "cell_type": "code",
      "metadata": {
        "id": "WrpLN732uiJh",
        "colab_type": "code",
        "colab": {}
      },
      "source": [
        "def get_acc(X_train1,Y_train1,X_test1,Y_test1):\n",
        "    \n",
        "    y_pred = []\n",
        "    \n",
        "    for i in range(Y_test.shape[0]):\n",
        "        p = knn(X_train,Y_train,X_test[1])\n",
        "        y_pred.append(p)\n",
        "        \n",
        "    y_pred = np.array(y_pred)\n",
        "    \n",
        "    return float((y_pred==Y_test).sum())/Y_test.shape[0]"
      ],
      "execution_count": 0,
      "outputs": []
    },
    {
      "cell_type": "code",
      "metadata": {
        "id": "FSBBW4VrI91F",
        "colab_type": "code",
        "outputId": "35a5c283-2a86-4b38-d0e3-826e2a19cd2c",
        "colab": {
          "base_uri": "https://localhost:8080/",
          "height": 34
        }
      },
      "source": [
        "X1 = data[:50000,1:]\n",
        "Y1 = data[:50000,0]\n",
        "#All the variables go in X\n",
        "#The answers to each sets of variables is in Y\n",
        "print(X1.shape,Y1.shape)"
      ],
      "execution_count": 0,
      "outputs": [
        {
          "output_type": "stream",
          "text": [
            "(50000, 11) (50000,)\n"
          ],
          "name": "stdout"
        }
      ]
    },
    {
      "cell_type": "code",
      "metadata": {
        "id": "4pF5ZHGkI9-p",
        "colab_type": "code",
        "outputId": "f72a9cc9-c5f7-49a4-b2ef-287de899cbf4",
        "colab": {
          "base_uri": "https://localhost:8080/",
          "height": 68
        }
      },
      "source": [
        "split = int(0.8*X1.shape[0])\n",
        "print(split)\n",
        "#Not using libraries\n",
        "#Causing a split to divide into test and training set\n",
        "X_train1 = X1[:split,:]\n",
        "Y_train1 = Y1[:split]\n",
        "\n",
        "X_test1 = X1[split:,:]\n",
        "Y_test1 = Y1[split:]\n",
        "\n",
        "print(X_train1.shape,Y_train1.shape)\n",
        "print(X_test1.shape,Y_test1.shape)"
      ],
      "execution_count": 0,
      "outputs": [
        {
          "output_type": "stream",
          "text": [
            "40000\n",
            "(40000, 11) (40000,)\n",
            "(10000, 11) (10000,)\n"
          ],
          "name": "stdout"
        }
      ]
    },
    {
      "cell_type": "code",
      "metadata": {
        "id": "2p0vSF3HfC1O",
        "colab_type": "code",
        "colab": {}
      },
      "source": [
        "accuracy = get_acc(X_train1,Y_train1,X_test1,Y_test1)\n",
        "print(accuracy*100)"
      ],
      "execution_count": 0,
      "outputs": []
    },
    {
      "cell_type": "code",
      "metadata": {
        "id": "gSinVaCn2GlG",
        "colab_type": "code",
        "colab": {}
      },
      "source": [
        "def prior_prob(y_train,label):\n",
        "    total = y_train.shape[0]\n",
        "    ClassLabel = np.sum(y_train==label) #It will compute number of datasets equal to reuired label in whole dataset\n",
        "    return (ClassLabel/total)"
      ],
      "execution_count": 0,
      "outputs": []
    },
    {
      "cell_type": "code",
      "metadata": {
        "id": "QYkyM9nA2G91",
        "colab_type": "code",
        "colab": {}
      },
      "source": [
        "def cond_prob(x_train,y_train,feature_col,feature_val,label):\n",
        "    \n",
        "    x_filter = x_train[y_train==label] #We will just consider rows where labels as we want them to be\n",
        "    numerator = np.sum(x_filter[:,feature_col]==feature_val) #We will get the count of the required labels among the\n",
        "    #correct labels\n",
        "    denominator = np.sum(y_train==label)#Count of rows with correct labels\n",
        "    \n",
        "    return numerator/float(denominator)"
      ],
      "execution_count": 0,
      "outputs": []
    },
    {
      "cell_type": "code",
      "metadata": {
        "id": "G_n-5II9SKBs",
        "colab_type": "code",
        "colab": {}
      },
      "source": [
        "#We will get likelihood of all the labels\n",
        "#To be a probability of a certain label if given a certain feature we can use our above function\n",
        "#Then we can keep multiplying for all the features and get the likelihood\n",
        "#Then we can do this for all the labels\n",
        "\n",
        "def predict(x_train,y_train,x_test):\n",
        "    \"\"\"Xtest is a single testing point, n features\"\"\"\n",
        "    \n",
        "    classes = np.unique(y_train) #Number of unique classes\n",
        "    n_features = x_train.shape[1] #Number of features\n",
        "    probabilities = [] # List of prob for all classes and given a single testing point\n",
        "    #Compute Posterior for each class\n",
        "    for label in classes: #For each label\n",
        "        \n",
        "        #Post_c = likelihood*prior\n",
        "        likelihood = 1.0\n",
        "        for f in range(n_features): #Checks all features\n",
        "            cond = cond_prob(x_train,y_train,f,x_test[f],label)\n",
        "            likelihood *= cond \n",
        "            \n",
        "        prior = prior_prob(y_train,label)\n",
        "        post = likelihood*prior\n",
        "        probabilities.append(post)\n",
        "        \n",
        "    pred = np.argmax(probabilities) #Take the maximum\n",
        "    return pred"
      ],
      "execution_count": 0,
      "outputs": []
    },
    {
      "cell_type": "code",
      "metadata": {
        "id": "IBolid9mmMBq",
        "colab_type": "code",
        "outputId": "a71aeacc-931e-4096-9568-afa35bf8c8ba",
        "colab": {
          "base_uri": "https://localhost:8080/",
          "height": 51
        }
      },
      "source": [
        "X1 = data[:400000,:-1]\n",
        "Y1 = data[:400000,-1]\n",
        "print(X1.shape)\n",
        "print(Y1.shape)"
      ],
      "execution_count": 0,
      "outputs": [
        {
          "output_type": "stream",
          "text": [
            "(400000, 11)\n",
            "(400000,)\n"
          ],
          "name": "stdout"
        }
      ]
    },
    {
      "cell_type": "code",
      "metadata": {
        "id": "jZSYXPPuSzmk",
        "colab_type": "code",
        "outputId": "909ec88e-baa5-455f-ef47-3b38e258c4d3",
        "colab": {
          "base_uri": "https://localhost:8080/",
          "height": 85
        }
      },
      "source": [
        "from sklearn.model_selection import train_test_split #Could have done ourselves too but it saves the work\n",
        "X_train,X_valid,y_train,y_valid = train_test_split(X1,Y1, test_size = 0.2, random_state = 42)\n",
        "print(X_train.shape)\n",
        "print(X_valid.shape)\n",
        "print(y_train.shape)\n",
        "print(y_valid.shape)"
      ],
      "execution_count": 0,
      "outputs": [
        {
          "output_type": "stream",
          "text": [
            "(320000, 11)\n",
            "(80000, 11)\n",
            "(320000,)\n",
            "(80000,)\n"
          ],
          "name": "stdout"
        }
      ]
    },
    {
      "cell_type": "code",
      "metadata": {
        "id": "nIfLJqRWSUFE",
        "colab_type": "code",
        "colab": {}
      },
      "source": [
        "\n",
        "import xgboost as xgb\n",
        "\n",
        "xgb_model = xgb.XGBClassifier(max_depth=150, n_estimators=100, objective='binary:logistic').fit(X_train, y_train) \n",
        "xgb_prediction = xgb_model.predict(X_valid)\n"
      ],
      "execution_count": 0,
      "outputs": []
    },
    {
      "cell_type": "code",
      "metadata": {
        "id": "XHYB-nwZcUsp",
        "colab_type": "code",
        "outputId": "d7e08a9d-406b-4328-ed99-f34102ad961f",
        "colab": {
          "base_uri": "https://localhost:8080/",
          "height": 204
        }
      },
      "source": [
        "from sklearn.metrics import f1_score, classification_report, accuracy_score\n",
        "print('training score:', f1_score(y_train, xgb_model.predict(X_train), average='macro'))\n",
        "print('testing score:', f1_score(y_valid, xgb_prediction, average='weighted'))\n",
        "print(classification_report(y_valid, xgb_prediction))"
      ],
      "execution_count": 0,
      "outputs": [
        {
          "output_type": "stream",
          "text": [
            "training score: 0.995774104449618\n",
            "testing score: 0.9800932331686867\n",
            "              precision    recall  f1-score   support\n",
            "\n",
            "         0.0       0.98      1.00      0.99     78321\n",
            "         1.0       0.93      0.27      0.42      1679\n",
            "\n",
            "    accuracy                           0.98     80000\n",
            "   macro avg       0.96      0.64      0.71     80000\n",
            "weighted avg       0.98      0.98      0.98     80000\n",
            "\n"
          ],
          "name": "stdout"
        }
      ]
    },
    {
      "cell_type": "code",
      "metadata": {
        "id": "3PcyA_Cb7dkw",
        "colab_type": "code",
        "colab": {}
      },
      "source": [
        ""
      ],
      "execution_count": 0,
      "outputs": []
    },
    {
      "cell_type": "code",
      "metadata": {
        "id": "l6aKCg8oSUSS",
        "colab_type": "code",
        "colab": {}
      },
      "source": [
        "import numpy as np\n",
        "def accuarca(x_train,y_train,x_test,y_test):\n",
        "\n",
        "    pred = []   #making a prediction array\n",
        "    for i in range(x_test.shape[0]):\n",
        "        pred_label = predict(x_train,y_train,x_test[i]) #Predicting for each test\n",
        "        pred.append(pred_label) # <===Correction\n",
        "    \n",
        "    pred = np.array(pred) #Converting it to array\n",
        "    \n",
        "    accuracy = np.sum(pred==y_test)/y_test.shape[0] #Dividing all correct predictions/ Total number of tests\n",
        "    return accuracy\n",
        "\n",
        "print(accuarca(x_train,y_train,x_test,y_test))"
      ],
      "execution_count": 0,
      "outputs": []
    },
    {
      "cell_type": "code",
      "metadata": {
        "id": "Md_3d48aSUds",
        "colab_type": "code",
        "colab": {}
      },
      "source": [
        ""
      ],
      "execution_count": 0,
      "outputs": []
    }
  ]
}