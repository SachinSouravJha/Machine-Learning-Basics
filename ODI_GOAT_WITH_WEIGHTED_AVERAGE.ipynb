{
  "nbformat": 4,
  "nbformat_minor": 0,
  "metadata": {
    "colab": {
      "name": "Stats.ipynb",
      "provenance": [],
      "authorship_tag": "ABX9TyPha+kK0TzBPia/oeWFTrY/",
      "include_colab_link": true
    },
    "kernelspec": {
      "name": "python3",
      "display_name": "Python 3"
    }
  },
  "cells": [
    {
      "cell_type": "markdown",
      "metadata": {
        "id": "view-in-github",
        "colab_type": "text"
      },
      "source": [
        "<a href=\"https://colab.research.google.com/github/SachinSouravJha/Machine-Learning-Basics/blob/master/ODI_GOAT_WITH_WEIGHTED_AVERAGE.ipynb\" target=\"_parent\"><img src=\"https://colab.research.google.com/assets/colab-badge.svg\" alt=\"Open In Colab\"/></a>"
      ]
    },
    {
      "cell_type": "code",
      "metadata": {
        "id": "HjCbsB4Np7Uq",
        "colab_type": "code",
        "colab": {}
      },
      "source": [
        "#!wget https://www.dropbox.com/s/pxw4ps4xeqgyzr8/Year_wise_batting_stats_all_ODI_players%2820-12-19%29.csv?dl=0\n"
      ],
      "execution_count": 0,
      "outputs": []
    },
    {
      "cell_type": "code",
      "metadata": {
        "id": "v6aNyJol0B0e",
        "colab_type": "code",
        "outputId": "b279813c-4be6-4ea0-be38-06b66e47d3e8",
        "colab": {
          "base_uri": "https://localhost:8080/",
          "height": 34
        }
      },
      "source": [
        "!ls"
      ],
      "execution_count": 362,
      "outputs": [
        {
          "output_type": "stream",
          "text": [
            " sample_data  'Year_wise_batting_stats_all_ODI_players(20-12-19).csv?dl=0'\n"
          ],
          "name": "stdout"
        }
      ]
    },
    {
      "cell_type": "code",
      "metadata": {
        "id": "Nk8drWpg0CJq",
        "colab_type": "code",
        "colab": {}
      },
      "source": [
        "import pandas as pd\n",
        "stats = pd.read_csv('Year_wise_batting_stats_all_ODI_players(20-12-19).csv?dl=0')"
      ],
      "execution_count": 0,
      "outputs": []
    },
    {
      "cell_type": "code",
      "metadata": {
        "id": "Sa5UrRdY2xc6",
        "colab_type": "code",
        "outputId": "658d6574-4864-4d4d-9839-9b4103e019db",
        "colab": {
          "base_uri": "https://localhost:8080/",
          "height": 204
        }
      },
      "source": [
        "stats.head()"
      ],
      "execution_count": 364,
      "outputs": [
        {
          "output_type": "execute_result",
          "data": {
            "text/html": [
              "<div>\n",
              "<style scoped>\n",
              "    .dataframe tbody tr th:only-of-type {\n",
              "        vertical-align: middle;\n",
              "    }\n",
              "\n",
              "    .dataframe tbody tr th {\n",
              "        vertical-align: top;\n",
              "    }\n",
              "\n",
              "    .dataframe thead th {\n",
              "        text-align: right;\n",
              "    }\n",
              "</style>\n",
              "<table border=\"1\" class=\"dataframe\">\n",
              "  <thead>\n",
              "    <tr style=\"text-align: right;\">\n",
              "      <th></th>\n",
              "      <th>country</th>\n",
              "      <th>player_name</th>\n",
              "      <th>0s</th>\n",
              "      <th>100s</th>\n",
              "      <th>50s</th>\n",
              "      <th>Avg</th>\n",
              "      <th>Ca</th>\n",
              "      <th>HS</th>\n",
              "      <th>Inns</th>\n",
              "      <th>Mat</th>\n",
              "      <th>NO</th>\n",
              "      <th>Runs</th>\n",
              "      <th>S/R</th>\n",
              "      <th>St</th>\n",
              "      <th>Year</th>\n",
              "    </tr>\n",
              "  </thead>\n",
              "  <tbody>\n",
              "    <tr>\n",
              "      <th>0</th>\n",
              "      <td>AFG</td>\n",
              "      <td>Najeeb Tarakai</td>\n",
              "      <td>0</td>\n",
              "      <td>0</td>\n",
              "      <td>0</td>\n",
              "      <td>5.0</td>\n",
              "      <td>0</td>\n",
              "      <td>5</td>\n",
              "      <td>1</td>\n",
              "      <td>1</td>\n",
              "      <td>0</td>\n",
              "      <td>5</td>\n",
              "      <td>27.78</td>\n",
              "      <td>0</td>\n",
              "      <td>2017</td>\n",
              "    </tr>\n",
              "    <tr>\n",
              "      <th>1</th>\n",
              "      <td>AFG</td>\n",
              "      <td>Najeeb Tarakai</td>\n",
              "      <td>0</td>\n",
              "      <td>0</td>\n",
              "      <td>0</td>\n",
              "      <td>5.0</td>\n",
              "      <td>0</td>\n",
              "      <td>5</td>\n",
              "      <td>1</td>\n",
              "      <td>1</td>\n",
              "      <td>0</td>\n",
              "      <td>5</td>\n",
              "      <td>27.78</td>\n",
              "      <td>0</td>\n",
              "      <td>Overall</td>\n",
              "    </tr>\n",
              "    <tr>\n",
              "      <th>2</th>\n",
              "      <td>AFG</td>\n",
              "      <td>Naveen -ul-Haq</td>\n",
              "      <td>0</td>\n",
              "      <td>0</td>\n",
              "      <td>0</td>\n",
              "      <td>NaN</td>\n",
              "      <td>2</td>\n",
              "      <td>0*</td>\n",
              "      <td>1</td>\n",
              "      <td>2</td>\n",
              "      <td>1</td>\n",
              "      <td>0</td>\n",
              "      <td>NaN</td>\n",
              "      <td>0</td>\n",
              "      <td>2016</td>\n",
              "    </tr>\n",
              "    <tr>\n",
              "      <th>3</th>\n",
              "      <td>AFG</td>\n",
              "      <td>Naveen -ul-Haq</td>\n",
              "      <td>0</td>\n",
              "      <td>0</td>\n",
              "      <td>0</td>\n",
              "      <td>9.0</td>\n",
              "      <td>0</td>\n",
              "      <td>8*</td>\n",
              "      <td>2</td>\n",
              "      <td>2</td>\n",
              "      <td>1</td>\n",
              "      <td>9</td>\n",
              "      <td>45.00</td>\n",
              "      <td>0</td>\n",
              "      <td>2019</td>\n",
              "    </tr>\n",
              "    <tr>\n",
              "      <th>4</th>\n",
              "      <td>AFG</td>\n",
              "      <td>Naveen -ul-Haq</td>\n",
              "      <td>0</td>\n",
              "      <td>0</td>\n",
              "      <td>0</td>\n",
              "      <td>9.0</td>\n",
              "      <td>2</td>\n",
              "      <td>8*</td>\n",
              "      <td>3</td>\n",
              "      <td>4</td>\n",
              "      <td>2</td>\n",
              "      <td>9</td>\n",
              "      <td>42.86</td>\n",
              "      <td>0</td>\n",
              "      <td>Overall</td>\n",
              "    </tr>\n",
              "  </tbody>\n",
              "</table>\n",
              "</div>"
            ],
            "text/plain": [
              "  country     player_name  0s  100s  50s  ...  NO  Runs    S/R  St     Year\n",
              "0     AFG  Najeeb Tarakai   0     0    0  ...   0     5  27.78   0     2017\n",
              "1     AFG  Najeeb Tarakai   0     0    0  ...   0     5  27.78   0  Overall\n",
              "2     AFG  Naveen -ul-Haq   0     0    0  ...   1     0    NaN   0     2016\n",
              "3     AFG  Naveen -ul-Haq   0     0    0  ...   1     9  45.00   0     2019\n",
              "4     AFG  Naveen -ul-Haq   0     0    0  ...   2     9  42.86   0  Overall\n",
              "\n",
              "[5 rows x 15 columns]"
            ]
          },
          "metadata": {
            "tags": []
          },
          "execution_count": 364
        }
      ]
    },
    {
      "cell_type": "code",
      "metadata": {
        "id": "X49YTOuC2yZK",
        "colab_type": "code",
        "outputId": "b15adf19-f7a1-4cc3-e2ab-0a71298bdde2",
        "colab": {
          "base_uri": "https://localhost:8080/",
          "height": 204
        }
      },
      "source": [
        "stats1 = stats[stats['Year']!=\"Overall\"]\n",
        "stats1.head()"
      ],
      "execution_count": 365,
      "outputs": [
        {
          "output_type": "execute_result",
          "data": {
            "text/html": [
              "<div>\n",
              "<style scoped>\n",
              "    .dataframe tbody tr th:only-of-type {\n",
              "        vertical-align: middle;\n",
              "    }\n",
              "\n",
              "    .dataframe tbody tr th {\n",
              "        vertical-align: top;\n",
              "    }\n",
              "\n",
              "    .dataframe thead th {\n",
              "        text-align: right;\n",
              "    }\n",
              "</style>\n",
              "<table border=\"1\" class=\"dataframe\">\n",
              "  <thead>\n",
              "    <tr style=\"text-align: right;\">\n",
              "      <th></th>\n",
              "      <th>country</th>\n",
              "      <th>player_name</th>\n",
              "      <th>0s</th>\n",
              "      <th>100s</th>\n",
              "      <th>50s</th>\n",
              "      <th>Avg</th>\n",
              "      <th>Ca</th>\n",
              "      <th>HS</th>\n",
              "      <th>Inns</th>\n",
              "      <th>Mat</th>\n",
              "      <th>NO</th>\n",
              "      <th>Runs</th>\n",
              "      <th>S/R</th>\n",
              "      <th>St</th>\n",
              "      <th>Year</th>\n",
              "    </tr>\n",
              "  </thead>\n",
              "  <tbody>\n",
              "    <tr>\n",
              "      <th>0</th>\n",
              "      <td>AFG</td>\n",
              "      <td>Najeeb Tarakai</td>\n",
              "      <td>0</td>\n",
              "      <td>0</td>\n",
              "      <td>0</td>\n",
              "      <td>5.0</td>\n",
              "      <td>0</td>\n",
              "      <td>5</td>\n",
              "      <td>1</td>\n",
              "      <td>1</td>\n",
              "      <td>0</td>\n",
              "      <td>5</td>\n",
              "      <td>27.78</td>\n",
              "      <td>0</td>\n",
              "      <td>2017</td>\n",
              "    </tr>\n",
              "    <tr>\n",
              "      <th>2</th>\n",
              "      <td>AFG</td>\n",
              "      <td>Naveen -ul-Haq</td>\n",
              "      <td>0</td>\n",
              "      <td>0</td>\n",
              "      <td>0</td>\n",
              "      <td>NaN</td>\n",
              "      <td>2</td>\n",
              "      <td>0*</td>\n",
              "      <td>1</td>\n",
              "      <td>2</td>\n",
              "      <td>1</td>\n",
              "      <td>0</td>\n",
              "      <td>NaN</td>\n",
              "      <td>0</td>\n",
              "      <td>2016</td>\n",
              "    </tr>\n",
              "    <tr>\n",
              "      <th>3</th>\n",
              "      <td>AFG</td>\n",
              "      <td>Naveen -ul-Haq</td>\n",
              "      <td>0</td>\n",
              "      <td>0</td>\n",
              "      <td>0</td>\n",
              "      <td>9.0</td>\n",
              "      <td>0</td>\n",
              "      <td>8*</td>\n",
              "      <td>2</td>\n",
              "      <td>2</td>\n",
              "      <td>1</td>\n",
              "      <td>9</td>\n",
              "      <td>45.00</td>\n",
              "      <td>0</td>\n",
              "      <td>2019</td>\n",
              "    </tr>\n",
              "    <tr>\n",
              "      <th>5</th>\n",
              "      <td>AFG</td>\n",
              "      <td>Zakiullah Zaki</td>\n",
              "      <td>0</td>\n",
              "      <td>0</td>\n",
              "      <td>0</td>\n",
              "      <td>NaN</td>\n",
              "      <td>0</td>\n",
              "      <td>3*</td>\n",
              "      <td>1</td>\n",
              "      <td>1</td>\n",
              "      <td>1</td>\n",
              "      <td>3</td>\n",
              "      <td>13.64</td>\n",
              "      <td>0</td>\n",
              "      <td>2012</td>\n",
              "    </tr>\n",
              "    <tr>\n",
              "      <th>7</th>\n",
              "      <td>AFG</td>\n",
              "      <td>Usman Ghani</td>\n",
              "      <td>1</td>\n",
              "      <td>1</td>\n",
              "      <td>2</td>\n",
              "      <td>39.5</td>\n",
              "      <td>2</td>\n",
              "      <td>118</td>\n",
              "      <td>8</td>\n",
              "      <td>8</td>\n",
              "      <td>0</td>\n",
              "      <td>316</td>\n",
              "      <td>78.61</td>\n",
              "      <td>0</td>\n",
              "      <td>2014</td>\n",
              "    </tr>\n",
              "  </tbody>\n",
              "</table>\n",
              "</div>"
            ],
            "text/plain": [
              "  country     player_name  0s  100s  50s   Avg  ...  Mat NO  Runs    S/R  St  Year\n",
              "0     AFG  Najeeb Tarakai   0     0    0   5.0  ...    1  0     5  27.78   0  2017\n",
              "2     AFG  Naveen -ul-Haq   0     0    0   NaN  ...    2  1     0    NaN   0  2016\n",
              "3     AFG  Naveen -ul-Haq   0     0    0   9.0  ...    2  1     9  45.00   0  2019\n",
              "5     AFG  Zakiullah Zaki   0     0    0   NaN  ...    1  1     3  13.64   0  2012\n",
              "7     AFG     Usman Ghani   1     1    2  39.5  ...    8  0   316  78.61   0  2014\n",
              "\n",
              "[5 rows x 15 columns]"
            ]
          },
          "metadata": {
            "tags": []
          },
          "execution_count": 365
        }
      ]
    },
    {
      "cell_type": "code",
      "metadata": {
        "id": "GnP0gPaG0CW4",
        "colab_type": "code",
        "outputId": "e1e0645d-d6cd-45e7-8c23-4aea52cb0b55",
        "colab": {
          "base_uri": "https://localhost:8080/",
          "height": 408
        }
      },
      "source": [
        "stats1[\"Avg\"] = stats1[\"Avg\"].fillna(0)\n",
        "stats1[\"S/R\"] = stats1[\"S/R\"].fillna(0)\n",
        "stats1.head()"
      ],
      "execution_count": 366,
      "outputs": [
        {
          "output_type": "stream",
          "text": [
            "/usr/local/lib/python3.6/dist-packages/ipykernel_launcher.py:1: SettingWithCopyWarning: \n",
            "A value is trying to be set on a copy of a slice from a DataFrame.\n",
            "Try using .loc[row_indexer,col_indexer] = value instead\n",
            "\n",
            "See the caveats in the documentation: http://pandas.pydata.org/pandas-docs/stable/user_guide/indexing.html#returning-a-view-versus-a-copy\n",
            "  \"\"\"Entry point for launching an IPython kernel.\n",
            "/usr/local/lib/python3.6/dist-packages/ipykernel_launcher.py:2: SettingWithCopyWarning: \n",
            "A value is trying to be set on a copy of a slice from a DataFrame.\n",
            "Try using .loc[row_indexer,col_indexer] = value instead\n",
            "\n",
            "See the caveats in the documentation: http://pandas.pydata.org/pandas-docs/stable/user_guide/indexing.html#returning-a-view-versus-a-copy\n",
            "  \n"
          ],
          "name": "stderr"
        },
        {
          "output_type": "execute_result",
          "data": {
            "text/html": [
              "<div>\n",
              "<style scoped>\n",
              "    .dataframe tbody tr th:only-of-type {\n",
              "        vertical-align: middle;\n",
              "    }\n",
              "\n",
              "    .dataframe tbody tr th {\n",
              "        vertical-align: top;\n",
              "    }\n",
              "\n",
              "    .dataframe thead th {\n",
              "        text-align: right;\n",
              "    }\n",
              "</style>\n",
              "<table border=\"1\" class=\"dataframe\">\n",
              "  <thead>\n",
              "    <tr style=\"text-align: right;\">\n",
              "      <th></th>\n",
              "      <th>country</th>\n",
              "      <th>player_name</th>\n",
              "      <th>0s</th>\n",
              "      <th>100s</th>\n",
              "      <th>50s</th>\n",
              "      <th>Avg</th>\n",
              "      <th>Ca</th>\n",
              "      <th>HS</th>\n",
              "      <th>Inns</th>\n",
              "      <th>Mat</th>\n",
              "      <th>NO</th>\n",
              "      <th>Runs</th>\n",
              "      <th>S/R</th>\n",
              "      <th>St</th>\n",
              "      <th>Year</th>\n",
              "    </tr>\n",
              "  </thead>\n",
              "  <tbody>\n",
              "    <tr>\n",
              "      <th>0</th>\n",
              "      <td>AFG</td>\n",
              "      <td>Najeeb Tarakai</td>\n",
              "      <td>0</td>\n",
              "      <td>0</td>\n",
              "      <td>0</td>\n",
              "      <td>5.0</td>\n",
              "      <td>0</td>\n",
              "      <td>5</td>\n",
              "      <td>1</td>\n",
              "      <td>1</td>\n",
              "      <td>0</td>\n",
              "      <td>5</td>\n",
              "      <td>27.78</td>\n",
              "      <td>0</td>\n",
              "      <td>2017</td>\n",
              "    </tr>\n",
              "    <tr>\n",
              "      <th>2</th>\n",
              "      <td>AFG</td>\n",
              "      <td>Naveen -ul-Haq</td>\n",
              "      <td>0</td>\n",
              "      <td>0</td>\n",
              "      <td>0</td>\n",
              "      <td>0.0</td>\n",
              "      <td>2</td>\n",
              "      <td>0*</td>\n",
              "      <td>1</td>\n",
              "      <td>2</td>\n",
              "      <td>1</td>\n",
              "      <td>0</td>\n",
              "      <td>0.00</td>\n",
              "      <td>0</td>\n",
              "      <td>2016</td>\n",
              "    </tr>\n",
              "    <tr>\n",
              "      <th>3</th>\n",
              "      <td>AFG</td>\n",
              "      <td>Naveen -ul-Haq</td>\n",
              "      <td>0</td>\n",
              "      <td>0</td>\n",
              "      <td>0</td>\n",
              "      <td>9.0</td>\n",
              "      <td>0</td>\n",
              "      <td>8*</td>\n",
              "      <td>2</td>\n",
              "      <td>2</td>\n",
              "      <td>1</td>\n",
              "      <td>9</td>\n",
              "      <td>45.00</td>\n",
              "      <td>0</td>\n",
              "      <td>2019</td>\n",
              "    </tr>\n",
              "    <tr>\n",
              "      <th>5</th>\n",
              "      <td>AFG</td>\n",
              "      <td>Zakiullah Zaki</td>\n",
              "      <td>0</td>\n",
              "      <td>0</td>\n",
              "      <td>0</td>\n",
              "      <td>0.0</td>\n",
              "      <td>0</td>\n",
              "      <td>3*</td>\n",
              "      <td>1</td>\n",
              "      <td>1</td>\n",
              "      <td>1</td>\n",
              "      <td>3</td>\n",
              "      <td>13.64</td>\n",
              "      <td>0</td>\n",
              "      <td>2012</td>\n",
              "    </tr>\n",
              "    <tr>\n",
              "      <th>7</th>\n",
              "      <td>AFG</td>\n",
              "      <td>Usman Ghani</td>\n",
              "      <td>1</td>\n",
              "      <td>1</td>\n",
              "      <td>2</td>\n",
              "      <td>39.5</td>\n",
              "      <td>2</td>\n",
              "      <td>118</td>\n",
              "      <td>8</td>\n",
              "      <td>8</td>\n",
              "      <td>0</td>\n",
              "      <td>316</td>\n",
              "      <td>78.61</td>\n",
              "      <td>0</td>\n",
              "      <td>2014</td>\n",
              "    </tr>\n",
              "  </tbody>\n",
              "</table>\n",
              "</div>"
            ],
            "text/plain": [
              "  country     player_name  0s  100s  50s   Avg  ...  Mat NO  Runs    S/R  St  Year\n",
              "0     AFG  Najeeb Tarakai   0     0    0   5.0  ...    1  0     5  27.78   0  2017\n",
              "2     AFG  Naveen -ul-Haq   0     0    0   0.0  ...    2  1     0   0.00   0  2016\n",
              "3     AFG  Naveen -ul-Haq   0     0    0   9.0  ...    2  1     9  45.00   0  2019\n",
              "5     AFG  Zakiullah Zaki   0     0    0   0.0  ...    1  1     3  13.64   0  2012\n",
              "7     AFG     Usman Ghani   1     1    2  39.5  ...    8  0   316  78.61   0  2014\n",
              "\n",
              "[5 rows x 15 columns]"
            ]
          },
          "metadata": {
            "tags": []
          },
          "execution_count": 366
        }
      ]
    },
    {
      "cell_type": "code",
      "metadata": {
        "id": "TxlSIfDv0CmA",
        "colab_type": "code",
        "outputId": "79128c27-fb23-48d3-ccee-44c609afa933",
        "colab": {
          "base_uri": "https://localhost:8080/",
          "height": 51
        }
      },
      "source": [
        "Unique = stats.player_name.unique()\n",
        "Unique"
      ],
      "execution_count": 367,
      "outputs": [
        {
          "output_type": "execute_result",
          "data": {
            "text/plain": [
              "array(['Najeeb Tarakai', 'Naveen -ul-Haq', 'Zakiullah Zaki', ...,\n",
              "       'Babu Meman', 'Vincent Hogg', 'John Rennie'], dtype=object)"
            ]
          },
          "metadata": {
            "tags": []
          },
          "execution_count": 367
        }
      ]
    },
    {
      "cell_type": "code",
      "metadata": {
        "id": "-bj8f8rEsx1z",
        "colab_type": "code",
        "colab": {}
      },
      "source": [
        "#Better List"
      ],
      "execution_count": 0,
      "outputs": []
    },
    {
      "cell_type": "code",
      "metadata": {
        "id": "rPyR5V078_Vl",
        "colab_type": "code",
        "outputId": "96cf4761-5bda-4ac3-c0ce-ff3f7263f20c",
        "colab": {
          "base_uri": "https://localhost:8080/",
          "height": 306
        }
      },
      "source": [
        "\n",
        "stats1[\"Avg\"] = stats1[\"Avg\"]-(2*stats[\"NO\"])\n",
        "stats1.head()"
      ],
      "execution_count": 369,
      "outputs": [
        {
          "output_type": "stream",
          "text": [
            "/usr/local/lib/python3.6/dist-packages/ipykernel_launcher.py:2: SettingWithCopyWarning: \n",
            "A value is trying to be set on a copy of a slice from a DataFrame.\n",
            "Try using .loc[row_indexer,col_indexer] = value instead\n",
            "\n",
            "See the caveats in the documentation: http://pandas.pydata.org/pandas-docs/stable/user_guide/indexing.html#returning-a-view-versus-a-copy\n",
            "  \n"
          ],
          "name": "stderr"
        },
        {
          "output_type": "execute_result",
          "data": {
            "text/html": [
              "<div>\n",
              "<style scoped>\n",
              "    .dataframe tbody tr th:only-of-type {\n",
              "        vertical-align: middle;\n",
              "    }\n",
              "\n",
              "    .dataframe tbody tr th {\n",
              "        vertical-align: top;\n",
              "    }\n",
              "\n",
              "    .dataframe thead th {\n",
              "        text-align: right;\n",
              "    }\n",
              "</style>\n",
              "<table border=\"1\" class=\"dataframe\">\n",
              "  <thead>\n",
              "    <tr style=\"text-align: right;\">\n",
              "      <th></th>\n",
              "      <th>country</th>\n",
              "      <th>player_name</th>\n",
              "      <th>0s</th>\n",
              "      <th>100s</th>\n",
              "      <th>50s</th>\n",
              "      <th>Avg</th>\n",
              "      <th>Ca</th>\n",
              "      <th>HS</th>\n",
              "      <th>Inns</th>\n",
              "      <th>Mat</th>\n",
              "      <th>NO</th>\n",
              "      <th>Runs</th>\n",
              "      <th>S/R</th>\n",
              "      <th>St</th>\n",
              "      <th>Year</th>\n",
              "    </tr>\n",
              "  </thead>\n",
              "  <tbody>\n",
              "    <tr>\n",
              "      <th>0</th>\n",
              "      <td>AFG</td>\n",
              "      <td>Najeeb Tarakai</td>\n",
              "      <td>0</td>\n",
              "      <td>0</td>\n",
              "      <td>0</td>\n",
              "      <td>5.0</td>\n",
              "      <td>0</td>\n",
              "      <td>5</td>\n",
              "      <td>1</td>\n",
              "      <td>1</td>\n",
              "      <td>0</td>\n",
              "      <td>5</td>\n",
              "      <td>27.78</td>\n",
              "      <td>0</td>\n",
              "      <td>2017</td>\n",
              "    </tr>\n",
              "    <tr>\n",
              "      <th>2</th>\n",
              "      <td>AFG</td>\n",
              "      <td>Naveen -ul-Haq</td>\n",
              "      <td>0</td>\n",
              "      <td>0</td>\n",
              "      <td>0</td>\n",
              "      <td>-2.0</td>\n",
              "      <td>2</td>\n",
              "      <td>0*</td>\n",
              "      <td>1</td>\n",
              "      <td>2</td>\n",
              "      <td>1</td>\n",
              "      <td>0</td>\n",
              "      <td>0.00</td>\n",
              "      <td>0</td>\n",
              "      <td>2016</td>\n",
              "    </tr>\n",
              "    <tr>\n",
              "      <th>3</th>\n",
              "      <td>AFG</td>\n",
              "      <td>Naveen -ul-Haq</td>\n",
              "      <td>0</td>\n",
              "      <td>0</td>\n",
              "      <td>0</td>\n",
              "      <td>7.0</td>\n",
              "      <td>0</td>\n",
              "      <td>8*</td>\n",
              "      <td>2</td>\n",
              "      <td>2</td>\n",
              "      <td>1</td>\n",
              "      <td>9</td>\n",
              "      <td>45.00</td>\n",
              "      <td>0</td>\n",
              "      <td>2019</td>\n",
              "    </tr>\n",
              "    <tr>\n",
              "      <th>5</th>\n",
              "      <td>AFG</td>\n",
              "      <td>Zakiullah Zaki</td>\n",
              "      <td>0</td>\n",
              "      <td>0</td>\n",
              "      <td>0</td>\n",
              "      <td>-2.0</td>\n",
              "      <td>0</td>\n",
              "      <td>3*</td>\n",
              "      <td>1</td>\n",
              "      <td>1</td>\n",
              "      <td>1</td>\n",
              "      <td>3</td>\n",
              "      <td>13.64</td>\n",
              "      <td>0</td>\n",
              "      <td>2012</td>\n",
              "    </tr>\n",
              "    <tr>\n",
              "      <th>7</th>\n",
              "      <td>AFG</td>\n",
              "      <td>Usman Ghani</td>\n",
              "      <td>1</td>\n",
              "      <td>1</td>\n",
              "      <td>2</td>\n",
              "      <td>39.5</td>\n",
              "      <td>2</td>\n",
              "      <td>118</td>\n",
              "      <td>8</td>\n",
              "      <td>8</td>\n",
              "      <td>0</td>\n",
              "      <td>316</td>\n",
              "      <td>78.61</td>\n",
              "      <td>0</td>\n",
              "      <td>2014</td>\n",
              "    </tr>\n",
              "  </tbody>\n",
              "</table>\n",
              "</div>"
            ],
            "text/plain": [
              "  country     player_name  0s  100s  50s   Avg  ...  Mat NO  Runs    S/R  St  Year\n",
              "0     AFG  Najeeb Tarakai   0     0    0   5.0  ...    1  0     5  27.78   0  2017\n",
              "2     AFG  Naveen -ul-Haq   0     0    0  -2.0  ...    2  1     0   0.00   0  2016\n",
              "3     AFG  Naveen -ul-Haq   0     0    0   7.0  ...    2  1     9  45.00   0  2019\n",
              "5     AFG  Zakiullah Zaki   0     0    0  -2.0  ...    1  1     3  13.64   0  2012\n",
              "7     AFG     Usman Ghani   1     1    2  39.5  ...    8  0   316  78.61   0  2014\n",
              "\n",
              "[5 rows x 15 columns]"
            ]
          },
          "metadata": {
            "tags": []
          },
          "execution_count": 369
        }
      ]
    },
    {
      "cell_type": "code",
      "metadata": {
        "id": "w0H-W8Np8_ew",
        "colab_type": "code",
        "outputId": "ad4a9e58-5739-4977-8fb5-326ce18766ee",
        "colab": {
          "base_uri": "https://localhost:8080/",
          "height": 54
        }
      },
      "source": [
        "gradient = 8.0\n",
        "Year_Dict = {}\n",
        "for i in range(1971,2020):\n",
        "  Year_Dict[i] = gradient\n",
        "  gradient = gradient-0.1\n",
        "print(Year_Dict)"
      ],
      "execution_count": 370,
      "outputs": [
        {
          "output_type": "stream",
          "text": [
            "{1971: 8.0, 1972: 7.9, 1973: 7.800000000000001, 1974: 7.700000000000001, 1975: 7.600000000000001, 1976: 7.500000000000002, 1977: 7.400000000000002, 1978: 7.3000000000000025, 1979: 7.200000000000003, 1980: 7.100000000000003, 1981: 7.0000000000000036, 1982: 6.900000000000004, 1983: 6.800000000000004, 1984: 6.700000000000005, 1985: 6.600000000000005, 1986: 6.500000000000005, 1987: 6.400000000000006, 1988: 6.300000000000006, 1989: 6.200000000000006, 1990: 6.100000000000007, 1991: 6.000000000000007, 1992: 5.9000000000000075, 1993: 5.800000000000008, 1994: 5.700000000000008, 1995: 5.6000000000000085, 1996: 5.500000000000009, 1997: 5.400000000000009, 1998: 5.30000000000001, 1999: 5.20000000000001, 2000: 5.10000000000001, 2001: 5.000000000000011, 2002: 4.900000000000011, 2003: 4.800000000000011, 2004: 4.700000000000012, 2005: 4.600000000000012, 2006: 4.500000000000012, 2007: 4.400000000000013, 2008: 4.300000000000013, 2009: 4.2000000000000135, 2010: 4.100000000000014, 2011: 4.000000000000014, 2012: 3.900000000000014, 2013: 3.800000000000014, 2014: 3.700000000000014, 2015: 3.600000000000014, 2016: 3.5000000000000138, 2017: 3.4000000000000137, 2018: 3.3000000000000136, 2019: 3.2000000000000135}\n"
          ],
          "name": "stdout"
        }
      ]
    },
    {
      "cell_type": "code",
      "metadata": {
        "id": "PRQz-rTonLEf",
        "colab_type": "code",
        "colab": {}
      },
      "source": [
        "#Start"
      ],
      "execution_count": 0,
      "outputs": []
    },
    {
      "cell_type": "code",
      "metadata": {
        "id": "PIrVQFKgCYeV",
        "colab_type": "code",
        "outputId": "6799754f-947c-4fd8-d42a-2004ca087e67",
        "colab": {
          "base_uri": "https://localhost:8080/",
          "height": 204
        }
      },
      "source": [
        "stats3 = stats1[stats1['Inns']>10]\n",
        "\n",
        "stats3.head()"
      ],
      "execution_count": 372,
      "outputs": [
        {
          "output_type": "execute_result",
          "data": {
            "text/html": [
              "<div>\n",
              "<style scoped>\n",
              "    .dataframe tbody tr th:only-of-type {\n",
              "        vertical-align: middle;\n",
              "    }\n",
              "\n",
              "    .dataframe tbody tr th {\n",
              "        vertical-align: top;\n",
              "    }\n",
              "\n",
              "    .dataframe thead th {\n",
              "        text-align: right;\n",
              "    }\n",
              "</style>\n",
              "<table border=\"1\" class=\"dataframe\">\n",
              "  <thead>\n",
              "    <tr style=\"text-align: right;\">\n",
              "      <th></th>\n",
              "      <th>country</th>\n",
              "      <th>player_name</th>\n",
              "      <th>0s</th>\n",
              "      <th>100s</th>\n",
              "      <th>50s</th>\n",
              "      <th>Avg</th>\n",
              "      <th>Ca</th>\n",
              "      <th>HS</th>\n",
              "      <th>Inns</th>\n",
              "      <th>Mat</th>\n",
              "      <th>NO</th>\n",
              "      <th>Runs</th>\n",
              "      <th>S/R</th>\n",
              "      <th>St</th>\n",
              "      <th>Year</th>\n",
              "    </tr>\n",
              "  </thead>\n",
              "  <tbody>\n",
              "    <tr>\n",
              "      <th>12</th>\n",
              "      <td>AFG</td>\n",
              "      <td>Karim Sadiq</td>\n",
              "      <td>3</td>\n",
              "      <td>1</td>\n",
              "      <td>0</td>\n",
              "      <td>19.50</td>\n",
              "      <td>3</td>\n",
              "      <td>114*</td>\n",
              "      <td>12</td>\n",
              "      <td>13</td>\n",
              "      <td>2</td>\n",
              "      <td>235</td>\n",
              "      <td>74.13</td>\n",
              "      <td>0</td>\n",
              "      <td>2010</td>\n",
              "    </tr>\n",
              "    <tr>\n",
              "      <th>39</th>\n",
              "      <td>AFG</td>\n",
              "      <td>Hashmatullah Shahidi</td>\n",
              "      <td>1</td>\n",
              "      <td>0</td>\n",
              "      <td>4</td>\n",
              "      <td>27.77</td>\n",
              "      <td>3</td>\n",
              "      <td>76</td>\n",
              "      <td>14</td>\n",
              "      <td>14</td>\n",
              "      <td>1</td>\n",
              "      <td>387</td>\n",
              "      <td>63.44</td>\n",
              "      <td>0</td>\n",
              "      <td>2019</td>\n",
              "    </tr>\n",
              "    <tr>\n",
              "      <th>87</th>\n",
              "      <td>AFG</td>\n",
              "      <td>Rahmat Shah</td>\n",
              "      <td>1</td>\n",
              "      <td>1</td>\n",
              "      <td>5</td>\n",
              "      <td>37.36</td>\n",
              "      <td>3</td>\n",
              "      <td>108*</td>\n",
              "      <td>15</td>\n",
              "      <td>16</td>\n",
              "      <td>1</td>\n",
              "      <td>551</td>\n",
              "      <td>70.10</td>\n",
              "      <td>0</td>\n",
              "      <td>2017</td>\n",
              "    </tr>\n",
              "    <tr>\n",
              "      <th>88</th>\n",
              "      <td>AFG</td>\n",
              "      <td>Rahmat Shah</td>\n",
              "      <td>0</td>\n",
              "      <td>1</td>\n",
              "      <td>6</td>\n",
              "      <td>38.00</td>\n",
              "      <td>6</td>\n",
              "      <td>114</td>\n",
              "      <td>19</td>\n",
              "      <td>20</td>\n",
              "      <td>0</td>\n",
              "      <td>722</td>\n",
              "      <td>74.74</td>\n",
              "      <td>0</td>\n",
              "      <td>2018</td>\n",
              "    </tr>\n",
              "    <tr>\n",
              "      <th>89</th>\n",
              "      <td>AFG</td>\n",
              "      <td>Rahmat Shah</td>\n",
              "      <td>1</td>\n",
              "      <td>1</td>\n",
              "      <td>4</td>\n",
              "      <td>32.30</td>\n",
              "      <td>6</td>\n",
              "      <td>113</td>\n",
              "      <td>20</td>\n",
              "      <td>20</td>\n",
              "      <td>0</td>\n",
              "      <td>646</td>\n",
              "      <td>68.58</td>\n",
              "      <td>0</td>\n",
              "      <td>2019</td>\n",
              "    </tr>\n",
              "  </tbody>\n",
              "</table>\n",
              "</div>"
            ],
            "text/plain": [
              "   country           player_name  0s  100s  50s  ...  NO  Runs    S/R  St  Year\n",
              "12     AFG           Karim Sadiq   3     1    0  ...   2   235  74.13   0  2010\n",
              "39     AFG  Hashmatullah Shahidi   1     0    4  ...   1   387  63.44   0  2019\n",
              "87     AFG           Rahmat Shah   1     1    5  ...   1   551  70.10   0  2017\n",
              "88     AFG           Rahmat Shah   0     1    6  ...   0   722  74.74   0  2018\n",
              "89     AFG           Rahmat Shah   1     1    4  ...   0   646  68.58   0  2019\n",
              "\n",
              "[5 rows x 15 columns]"
            ]
          },
          "metadata": {
            "tags": []
          },
          "execution_count": 372
        }
      ]
    },
    {
      "cell_type": "code",
      "metadata": {
        "id": "YgwTzqq9Jf05",
        "colab_type": "code",
        "colab": {}
      },
      "source": [
        "scaled_features = stats3.copy()"
      ],
      "execution_count": 0,
      "outputs": []
    },
    {
      "cell_type": "code",
      "metadata": {
        "id": "Eb5EhsSEJf-r",
        "colab_type": "code",
        "colab": {}
      },
      "source": [
        "from sklearn.preprocessing import MinMaxScaler\n",
        "col_names = ['Avg', 'S/R']\n",
        "features = scaled_features[col_names]\n",
        "scaler = MinMaxScaler().fit(features.values)\n",
        "features = scaler.transform(features.values)"
      ],
      "execution_count": 0,
      "outputs": []
    },
    {
      "cell_type": "code",
      "metadata": {
        "id": "INjojbyzCYxg",
        "colab_type": "code",
        "outputId": "a5b838cd-f991-479e-d32d-69dd4489b694",
        "colab": {
          "base_uri": "https://localhost:8080/",
          "height": 204
        }
      },
      "source": [
        "scaled_features[col_names] = features\n",
        "scaled_features.head()"
      ],
      "execution_count": 375,
      "outputs": [
        {
          "output_type": "execute_result",
          "data": {
            "text/html": [
              "<div>\n",
              "<style scoped>\n",
              "    .dataframe tbody tr th:only-of-type {\n",
              "        vertical-align: middle;\n",
              "    }\n",
              "\n",
              "    .dataframe tbody tr th {\n",
              "        vertical-align: top;\n",
              "    }\n",
              "\n",
              "    .dataframe thead th {\n",
              "        text-align: right;\n",
              "    }\n",
              "</style>\n",
              "<table border=\"1\" class=\"dataframe\">\n",
              "  <thead>\n",
              "    <tr style=\"text-align: right;\">\n",
              "      <th></th>\n",
              "      <th>country</th>\n",
              "      <th>player_name</th>\n",
              "      <th>0s</th>\n",
              "      <th>100s</th>\n",
              "      <th>50s</th>\n",
              "      <th>Avg</th>\n",
              "      <th>Ca</th>\n",
              "      <th>HS</th>\n",
              "      <th>Inns</th>\n",
              "      <th>Mat</th>\n",
              "      <th>NO</th>\n",
              "      <th>Runs</th>\n",
              "      <th>S/R</th>\n",
              "      <th>St</th>\n",
              "      <th>Year</th>\n",
              "    </tr>\n",
              "  </thead>\n",
              "  <tbody>\n",
              "    <tr>\n",
              "      <th>12</th>\n",
              "      <td>AFG</td>\n",
              "      <td>Karim Sadiq</td>\n",
              "      <td>3</td>\n",
              "      <td>1</td>\n",
              "      <td>0</td>\n",
              "      <td>0.240170</td>\n",
              "      <td>3</td>\n",
              "      <td>114*</td>\n",
              "      <td>12</td>\n",
              "      <td>13</td>\n",
              "      <td>2</td>\n",
              "      <td>235</td>\n",
              "      <td>0.417258</td>\n",
              "      <td>0</td>\n",
              "      <td>2010</td>\n",
              "    </tr>\n",
              "    <tr>\n",
              "      <th>39</th>\n",
              "      <td>AFG</td>\n",
              "      <td>Hashmatullah Shahidi</td>\n",
              "      <td>1</td>\n",
              "      <td>0</td>\n",
              "      <td>4</td>\n",
              "      <td>0.298760</td>\n",
              "      <td>3</td>\n",
              "      <td>76</td>\n",
              "      <td>14</td>\n",
              "      <td>14</td>\n",
              "      <td>1</td>\n",
              "      <td>387</td>\n",
              "      <td>0.357087</td>\n",
              "      <td>0</td>\n",
              "      <td>2019</td>\n",
              "    </tr>\n",
              "    <tr>\n",
              "      <th>87</th>\n",
              "      <td>AFG</td>\n",
              "      <td>Rahmat Shah</td>\n",
              "      <td>1</td>\n",
              "      <td>1</td>\n",
              "      <td>5</td>\n",
              "      <td>0.366702</td>\n",
              "      <td>3</td>\n",
              "      <td>108*</td>\n",
              "      <td>15</td>\n",
              "      <td>16</td>\n",
              "      <td>1</td>\n",
              "      <td>551</td>\n",
              "      <td>0.394574</td>\n",
              "      <td>0</td>\n",
              "      <td>2017</td>\n",
              "    </tr>\n",
              "    <tr>\n",
              "      <th>88</th>\n",
              "      <td>AFG</td>\n",
              "      <td>Rahmat Shah</td>\n",
              "      <td>0</td>\n",
              "      <td>1</td>\n",
              "      <td>6</td>\n",
              "      <td>0.371236</td>\n",
              "      <td>6</td>\n",
              "      <td>114</td>\n",
              "      <td>19</td>\n",
              "      <td>20</td>\n",
              "      <td>0</td>\n",
              "      <td>722</td>\n",
              "      <td>0.420691</td>\n",
              "      <td>0</td>\n",
              "      <td>2018</td>\n",
              "    </tr>\n",
              "    <tr>\n",
              "      <th>89</th>\n",
              "      <td>AFG</td>\n",
              "      <td>Rahmat Shah</td>\n",
              "      <td>1</td>\n",
              "      <td>1</td>\n",
              "      <td>4</td>\n",
              "      <td>0.330854</td>\n",
              "      <td>6</td>\n",
              "      <td>113</td>\n",
              "      <td>20</td>\n",
              "      <td>20</td>\n",
              "      <td>0</td>\n",
              "      <td>646</td>\n",
              "      <td>0.386018</td>\n",
              "      <td>0</td>\n",
              "      <td>2019</td>\n",
              "    </tr>\n",
              "  </tbody>\n",
              "</table>\n",
              "</div>"
            ],
            "text/plain": [
              "   country           player_name  0s  100s  50s  ...  NO  Runs       S/R  St  Year\n",
              "12     AFG           Karim Sadiq   3     1    0  ...   2   235  0.417258   0  2010\n",
              "39     AFG  Hashmatullah Shahidi   1     0    4  ...   1   387  0.357087   0  2019\n",
              "87     AFG           Rahmat Shah   1     1    5  ...   1   551  0.394574   0  2017\n",
              "88     AFG           Rahmat Shah   0     1    6  ...   0   722  0.420691   0  2018\n",
              "89     AFG           Rahmat Shah   1     1    4  ...   0   646  0.386018   0  2019\n",
              "\n",
              "[5 rows x 15 columns]"
            ]
          },
          "metadata": {
            "tags": []
          },
          "execution_count": 375
        }
      ]
    },
    {
      "cell_type": "code",
      "metadata": {
        "id": "qC8ixZymLmy8",
        "colab_type": "code",
        "outputId": "e71577d9-8164-4d3a-e2a1-450be1066e3d",
        "colab": {
          "base_uri": "https://localhost:8080/",
          "height": 221
        }
      },
      "source": [
        "stats3.player_name.value_counts()"
      ],
      "execution_count": 376,
      "outputs": [
        {
          "output_type": "execute_result",
          "data": {
            "text/plain": [
              "Sachin Tendulkar      20\n",
              "Shahid Afridi         18\n",
              "Sanath Jayasuriya     18\n",
              "Mahela Jayawardene    17\n",
              "Kumar Sangakkara      16\n",
              "                      ..\n",
              "Ervin McSweeney        1\n",
              "Roger Binny            1\n",
              "Ajay Sharma            1\n",
              "Raman Lamba            1\n",
              "Jesse Ryder            1\n",
              "Name: player_name, Length: 677, dtype: int64"
            ]
          },
          "metadata": {
            "tags": []
          },
          "execution_count": 376
        }
      ]
    },
    {
      "cell_type": "code",
      "metadata": {
        "id": "gxby6ngm8_pS",
        "colab_type": "code",
        "outputId": "98598dec-7c8e-417d-b5c4-863d54677ff6",
        "colab": {
          "base_uri": "https://localhost:8080/",
          "height": 34
        }
      },
      "source": [
        "(stats3['player_name']=='Ricky Ponting').sum()"
      ],
      "execution_count": 377,
      "outputs": [
        {
          "output_type": "execute_result",
          "data": {
            "text/plain": [
              "15"
            ]
          },
          "metadata": {
            "tags": []
          },
          "execution_count": 377
        }
      ]
    },
    {
      "cell_type": "code",
      "metadata": {
        "id": "ueEQhniXONk3",
        "colab_type": "code",
        "outputId": "c4a4eb13-d834-4eb4-9455-1a23d2cf40bf",
        "colab": {
          "base_uri": "https://localhost:8080/",
          "height": 204
        }
      },
      "source": [
        "stats3.reset_index(drop=True, inplace=True)\n",
        "stats3.head()"
      ],
      "execution_count": 378,
      "outputs": [
        {
          "output_type": "execute_result",
          "data": {
            "text/html": [
              "<div>\n",
              "<style scoped>\n",
              "    .dataframe tbody tr th:only-of-type {\n",
              "        vertical-align: middle;\n",
              "    }\n",
              "\n",
              "    .dataframe tbody tr th {\n",
              "        vertical-align: top;\n",
              "    }\n",
              "\n",
              "    .dataframe thead th {\n",
              "        text-align: right;\n",
              "    }\n",
              "</style>\n",
              "<table border=\"1\" class=\"dataframe\">\n",
              "  <thead>\n",
              "    <tr style=\"text-align: right;\">\n",
              "      <th></th>\n",
              "      <th>country</th>\n",
              "      <th>player_name</th>\n",
              "      <th>0s</th>\n",
              "      <th>100s</th>\n",
              "      <th>50s</th>\n",
              "      <th>Avg</th>\n",
              "      <th>Ca</th>\n",
              "      <th>HS</th>\n",
              "      <th>Inns</th>\n",
              "      <th>Mat</th>\n",
              "      <th>NO</th>\n",
              "      <th>Runs</th>\n",
              "      <th>S/R</th>\n",
              "      <th>St</th>\n",
              "      <th>Year</th>\n",
              "    </tr>\n",
              "  </thead>\n",
              "  <tbody>\n",
              "    <tr>\n",
              "      <th>0</th>\n",
              "      <td>AFG</td>\n",
              "      <td>Karim Sadiq</td>\n",
              "      <td>3</td>\n",
              "      <td>1</td>\n",
              "      <td>0</td>\n",
              "      <td>19.50</td>\n",
              "      <td>3</td>\n",
              "      <td>114*</td>\n",
              "      <td>12</td>\n",
              "      <td>13</td>\n",
              "      <td>2</td>\n",
              "      <td>235</td>\n",
              "      <td>74.13</td>\n",
              "      <td>0</td>\n",
              "      <td>2010</td>\n",
              "    </tr>\n",
              "    <tr>\n",
              "      <th>1</th>\n",
              "      <td>AFG</td>\n",
              "      <td>Hashmatullah Shahidi</td>\n",
              "      <td>1</td>\n",
              "      <td>0</td>\n",
              "      <td>4</td>\n",
              "      <td>27.77</td>\n",
              "      <td>3</td>\n",
              "      <td>76</td>\n",
              "      <td>14</td>\n",
              "      <td>14</td>\n",
              "      <td>1</td>\n",
              "      <td>387</td>\n",
              "      <td>63.44</td>\n",
              "      <td>0</td>\n",
              "      <td>2019</td>\n",
              "    </tr>\n",
              "    <tr>\n",
              "      <th>2</th>\n",
              "      <td>AFG</td>\n",
              "      <td>Rahmat Shah</td>\n",
              "      <td>1</td>\n",
              "      <td>1</td>\n",
              "      <td>5</td>\n",
              "      <td>37.36</td>\n",
              "      <td>3</td>\n",
              "      <td>108*</td>\n",
              "      <td>15</td>\n",
              "      <td>16</td>\n",
              "      <td>1</td>\n",
              "      <td>551</td>\n",
              "      <td>70.10</td>\n",
              "      <td>0</td>\n",
              "      <td>2017</td>\n",
              "    </tr>\n",
              "    <tr>\n",
              "      <th>3</th>\n",
              "      <td>AFG</td>\n",
              "      <td>Rahmat Shah</td>\n",
              "      <td>0</td>\n",
              "      <td>1</td>\n",
              "      <td>6</td>\n",
              "      <td>38.00</td>\n",
              "      <td>6</td>\n",
              "      <td>114</td>\n",
              "      <td>19</td>\n",
              "      <td>20</td>\n",
              "      <td>0</td>\n",
              "      <td>722</td>\n",
              "      <td>74.74</td>\n",
              "      <td>0</td>\n",
              "      <td>2018</td>\n",
              "    </tr>\n",
              "    <tr>\n",
              "      <th>4</th>\n",
              "      <td>AFG</td>\n",
              "      <td>Rahmat Shah</td>\n",
              "      <td>1</td>\n",
              "      <td>1</td>\n",
              "      <td>4</td>\n",
              "      <td>32.30</td>\n",
              "      <td>6</td>\n",
              "      <td>113</td>\n",
              "      <td>20</td>\n",
              "      <td>20</td>\n",
              "      <td>0</td>\n",
              "      <td>646</td>\n",
              "      <td>68.58</td>\n",
              "      <td>0</td>\n",
              "      <td>2019</td>\n",
              "    </tr>\n",
              "  </tbody>\n",
              "</table>\n",
              "</div>"
            ],
            "text/plain": [
              "  country           player_name  0s  100s  50s  ...  NO  Runs    S/R  St  Year\n",
              "0     AFG           Karim Sadiq   3     1    0  ...   2   235  74.13   0  2010\n",
              "1     AFG  Hashmatullah Shahidi   1     0    4  ...   1   387  63.44   0  2019\n",
              "2     AFG           Rahmat Shah   1     1    5  ...   1   551  70.10   0  2017\n",
              "3     AFG           Rahmat Shah   0     1    6  ...   0   722  74.74   0  2018\n",
              "4     AFG           Rahmat Shah   1     1    4  ...   0   646  68.58   0  2019\n",
              "\n",
              "[5 rows x 15 columns]"
            ]
          },
          "metadata": {
            "tags": []
          },
          "execution_count": 378
        }
      ]
    },
    {
      "cell_type": "code",
      "metadata": {
        "id": "NZULF1NOO-JE",
        "colab_type": "code",
        "outputId": "e046edf3-c516-4873-dd39-e9eca946a04b",
        "colab": {
          "base_uri": "https://localhost:8080/",
          "height": 34
        }
      },
      "source": [
        "stats3.shape"
      ],
      "execution_count": 379,
      "outputs": [
        {
          "output_type": "execute_result",
          "data": {
            "text/plain": [
              "(2440, 15)"
            ]
          },
          "metadata": {
            "tags": []
          },
          "execution_count": 379
        }
      ]
    },
    {
      "cell_type": "code",
      "metadata": {
        "id": "Iu6zDDt8P2Xa",
        "colab_type": "code",
        "outputId": "f4f13f8c-dac8-44d7-b612-4256ff05dc62",
        "colab": {
          "base_uri": "https://localhost:8080/",
          "height": 54
        }
      },
      "source": [
        "impact = {}\n",
        "experience = 1\n",
        "for i in range(2440): \n",
        "  career = (stats3['player_name']==stats3.loc[i, \"player_name\"]).sum()\n",
        "  if(career<=5):\n",
        "    experience = 0\n",
        "  elif(career<8):\n",
        "    experience = 0.8\n",
        "  elif(career<14):\n",
        "    experience = 0.9\n",
        "  elif(career<20):\n",
        "    experience = 1.1\n",
        "  else:\n",
        "    experience = 1.2\n",
        "  if(stats3.loc[i, \"Avg\"]<35):\n",
        "    fluke = 6\n",
        "  else:\n",
        "    fluke = 1\n",
        "  if stats3.loc[i, \"player_name\"] in impact.keys(): \n",
        "    impact[stats3.loc[i, \"player_name\"]] += (((8*stats3.loc[i, \"Avg\"])+(stats3.loc[i, \"S/R\"]))/(career*fluke))*(experience*Year_Dict[int(stats3.loc[i, \"Year\"])])\n",
        "  else:\n",
        "    impact[stats3.loc[i, \"player_name\"]] = (((8*stats3.loc[i, \"Avg\"])+(stats3.loc[i, \"S/R\"]))/(career*fluke))*(experience*Year_Dict[int(stats3.loc[i, \"Year\"])])\n",
        "print(impact)\n",
        "  \n"
      ],
      "execution_count": 386,
      "outputs": [
        {
          "output_type": "stream",
          "text": [
            "{'Karim Sadiq': 0.0, 'Hashmatullah Shahidi': 0.0, 'Rahmat Shah': 0.0, 'Asghar Afghan': 114.25317777777825, 'Samiullah Shinwari': 0.0, 'Hazratullah Zazai': 0.0, 'Mirwais Ashraf': 0.0, 'Ihsanullah': 0.0, 'Rashid Khan': 0.0, 'Najibullah Zadran': 0.0, 'Gulbadin Naib': 0.0, 'Ikram Ali Khil': 0.0, 'Mohammad Nabi': 131.41268571428625, 'Nawroz Mangal': 0.0, 'Andy Bichel': 0.0, 'Graeme Wood': 0.0, 'James Hopes': 0.0, 'Kim Hughes': 0.0, 'Phillip Hughes': 0.0, 'Bradley Hodge': 0.0, 'Shaun Marsh': 0.0, 'Adam Voges': 0.0, 'Wayne Phillips': 0.0, 'Shane Lee': 0.0, 'Michael Veletta': 0.0, 'Ian Healy': 152.25403809523831, 'Greg Matthews': 0.0, 'Geoff Marsh': 1390.6903111111126, 'Bruce Laird': 0.0, 'Steve Smith': 0.0, 'Tim Paine': 0.0, 'Usman Khawaja': 0.0, 'Mitchell Marsh': 0.0, 'Michael Bevan': 1511.558805000003, 'Dean Jones': 1527.7281666666686, 'Shane Warne': 0.0, 'Rod Marsh': 0.0, 'Patrick Cummins': 0.0, 'Michael Slater': 0.0, 'Cameron White': 0.0, 'John Hastings': 0.0, 'Tom Moody': 0.0, 'Rodney Hogg': 0.0, 'Greg Blewett': 0.0, 'David Boon': 1139.3680500000012, 'Matthew Hayden': 0.0, 'Brendon Julian': 0.0, 'Darren Lehmann': 0.0, 'Paul Reiffel': 0.0, 'Greg Chappell': 0.0, 'Geoff Lawson': 0.0, 'Marcus Stoinis': 0.0, 'Ian Harvey': 0.0, 'David Warner': 0.0, 'Clinton McKay': 0.0, 'Timothy Zoehrer': 0.0, 'Mark Waugh': 1407.0018300000022, 'Damien Martyn': 1231.704168750003, 'Matthew Wade': 0.0, 'Michael Clarke': 1100.112483333337, 'Brad Hogg': 0.0, 'Daniel Christian': 0.0, 'David Hussey': 0.0, 'Glenn Maxwell': 0.0, 'Ricky Ponting': 1335.8051788888922, 'Mitchell Johnson': 0.0, 'Michael Hussey': 1416.4681500000042, 'Travis Head': 0.0, 'Brett Lee': 0.0, 'Alex Carey': 0.0, 'Simon Katich': 0.0, 'George Bailey': 0.0, 'Shane Watson': 902.9516812500033, 'Steve Waugh': 550.8770422222232, 'Brad Haddin': 0.0, 'Adam Gilchrist': 816.3746318181838, 'Nathan Hauritz': 0.0, 'Craig McDermott': 0.0, \"Simon O'Donnell\": 0.0, 'Greg Ritchie': 0.0, 'Aaron Finch': 861.9978000000035, 'Peter Handscomb': 0.0, 'Allan Border': 514.0615595238099, 'Mark Taylor': 0.0, 'Dirk Wellham': 0.0, 'Andrew Symonds': 765.947561904764, 'Peter Forrest': 0.0, 'Stuart Law': 0.0, 'James Faulkner': 0.0, 'David Hookes': 0.0, 'Callum Ferguson': 0.0, 'Anamul Haque': 0.0, 'Aminul Islam': 0.0, 'Sanwar Hossain': 0.0, 'Tapash Baisya': 0.0, 'Mehidy Hasan': 0.0, 'Shakib Al Hasan': 774.5336590909118, 'Abdur Razzak': 0.0, 'Farhad Reza': 0.0, 'Rajin Saleh': 0.0, 'Mominul Haque': 0.0, 'Mashrafe Mortaza': 89.90197777777809, 'Tamim Iqbal': 700.5435166666695, 'Nasir Hossain': 0.0, 'Mohammad Rafique': 0.0, 'Tushar Imran': 0.0, 'Liton Das': 0.0, 'Al Sahariar Rokon': 0.0, 'Aftab Ahmed': 0.0, 'Mushfiqur Rahman': 0.0, 'Soumya Sarkar': 0.0, 'Alok Kapali': 0.0, 'Manjural Islam Rana': 0.0, 'Mohammad Ashraful': 152.37388125000047, 'Hannan Sarkar': 0.0, 'Shahriar Nafees': 0.0, 'Khaled Mashud': 0.0, 'Mahmudullah': 389.43545000000154, 'Sabbir Rahman': 0.0, 'Khaled Mahmud': 0.0, 'Shafiul Islam': 0.0, 'Naeem Islam': 0.0, 'Imrul Kayes': 0.0, 'Dhiman Ghosh': 0.0, 'Mushfiqur Rahim': 749.6005500000028, 'Habibul Bashar': 0.0, 'David Hemp': 0.0, 'Lionel Cann': 0.0, 'Saleem Mukuddem': 0.0, 'Janeiro Tucker': 0.0, 'Irvine Romaine': 0.0, 'Ashif Mulla': 0.0, 'John Davison': 0.0, 'Abdool Samad': 0.0, 'Sunil Dhaniram': 0.0, 'Ashish Bagai': 0.0, 'Anderson Cummins': 0.0, 'Michael Vaughan': 0.0, 'Charles Athey': 0.0, 'Nicholas Knight': 819.0686000000018, 'Jos Butler': 795.0867809523843, 'Chris Jordan': 0.0, 'Nasser Hussain': 0.0, 'Victor Marks': 0.0, 'Paul Nixon': 0.0, 'James Tredwell': 0.0, 'Jonathan Trott': 0.0, 'Ian Bell': 900.1344562500032, 'Robert Croft': 0.0, 'Ed Joyce': 0.0, 'Derek Randall': 0.0, 'Graeme Hick': 0.0, 'Timothy Bresnan': 0.0, 'Vikram Solanki': 0.0, 'Graham Gooch': 0.0, 'Jason Roy': 0.0, 'Geraint Jones': 0.0, 'Andrew Strauss': 567.1634285714306, 'Moeen Ali': 462.02915555555745, 'Ian Gould': 0.0, 'Alexander Hales': 0.0, 'David Gower': 0.0, 'Andy Caddick': 0.0, 'Ronald Irani': 0.0, 'Liam Plunkett': 0.0, 'Jack Richards': 0.0, 'Neil Fairbrother': 0.0, 'Ravinda Bopara': 146.80455555555602, 'Chris Lewis': 0.0, 'Ben Stokes': 0.0, 'Craig White': 0.0, 'Jonny Bairstow': 0.0, 'Neil Foster': 0.0, 'Luke Wright': 0.0, 'Mark Ealham': 0.0, 'Chris Tavare': 0.0, 'Eoin Morgan': 737.0133500000029, 'Graeme Swann': 0.0, 'Michael Atherton': 0.0, 'Adam Hollioake': 0.0, 'Graham Thorpe': 0.0, 'James Taylor': 0.0, 'John Emburey': 0.0, 'Andrew Flintoff': 0.0, 'Phillip De Freitas': 0.0, 'James Anderson': -0.0, 'Mike Gatting': 0.0, 'Matthew Prior': 0.0, 'Darren Gough': 0.0, 'Geoff Boycott': 0.0, 'Joe Root': 1150.8782857142903, 'Stuart Broad': 0.0, 'Gavin Hamilton': 0.0, 'Chris Broad': 0.0, 'Allan Lamb': 0.0, 'Chris Woakes': 0.0, 'Marcus Trescothick': 897.1073333333354, 'Alastair Cook': 0.0, 'Craig Kieswetter': 0.0, 'Michael Yardy': 0.0, 'Kevin Pietersen': 0.0, 'Paul Collingwood': 352.510000000001, 'Robin Smith': 0.0, 'Mike Brearley': 0.0, 'Alec Stewart': 715.9773333333346, 'James Dalrymple': 0.0, 'Sir Ian Botham': 0.0, 'Owais Shah': 0.0, 'Yusuf Pathan': 0.0, 'Rohit Sharma': 1318.6224750000051, 'Kris Srikkanth': 230.39045714285731, 'Javagal Srinath': 0.0, 'Zaheer Khan': 0.0, 'Sourav Ganguly': 1290.8038950000027, 'Sunil Gavaskar': 0.0, 'Ajay Jadeja': 438.2988571428579, 'Abey Kuruvilla': 0.0, 'Parthiv Patel': 0.0, 'Ravichandran Ashwin': 0.0, 'Hardik Pandya': 0.0, 'Gautam Gambhir': 1190.5497777777819, 'Hemang Badani': 0.0, 'Rahul Dravid': 810.8694250000017, 'Lakshmipathy Balaji': 0.0, 'Kapil Dev': 223.10382000000018, 'Roger Binny': 0.0, 'Virat Kohli': 1677.2788000000064, 'Syed Kirmani': 0.0, 'Anil Kumble': 0.0, 'Axar Patel': 0.0, 'M S Dhoni': 1247.2776576923122, 'Raman Lamba': 0.0, 'Sadagopan Ramesh': 0.0, 'Irfan Pathan': 0.0, 'Kedar Jadhav': 0.0, 'Harbhajan Singh': 85.0898666666669, 'Ravishankar Shastri': 212.37649523809546, 'Ajit Agarkar': 0.0, 'Virender Sehwag': 948.7100454545483, 'Kiran More': 0.0, 'Dinesh Mongia': 0.0, 'Sandeep Patil': 0.0, 'Dinesh Karthik': 0.0, 'Navjot Sidhu': 1055.325377777779, 'Ajinkya Rahane': 0.0, 'KL Rahul': 0.0, 'Nayan Mongia': 0.0, 'Manoj Prabhakar': 0.0, 'Mohinder Amarnath': 0.0, 'Praveen Amre': 0.0, 'Sunil Joshi': 0.0, 'Mohammad Azharuddin': 831.4867366666679, 'Robin Singh': 0.0, 'Venkatesh Prasad': 0.0, 'Ravindra Jadeja': 0.0, 'Yashpal Sharma': 0.0, 'Robin Uthappa': 0.0, 'Suresh Raina': 342.7394000000011, 'Ambati Rayudu': 0.0, 'Vinod Kambli': 0.0, 'Chetan Sharma': 0.0, 'Shikhar Dhawan': 1091.2167111111155, 'Saba Karim': 0.0, 'Bhuvneshwar Kumar': 0.0, 'Ajay Sharma': 0.0, 'Sanjay Manjrekar': 0.0, 'Sachin Tendulkar': 2180.498980000005, 'Mohammad Kaif': 0.0, 'Dillip Vengsarkar': 0.0, 'Yuvraj Singh': 617.5596807692326, 'Hrishikesh Kanitkar': 0.0, 'Nikhil Chopra': 0.0, 'V V S Laxman': 0.0, \"Niall O'Brien\": 0.0, 'Gary Wilson': 0.0, 'George Dockrell': 0.0, 'Jeremy Bray': 0.0, 'Andy Balbirnie': 0.0, 'Andrew White': 0.0, 'Andre Botha': 0.0, 'William Porterfield': 314.28368888889014, 'Paul Stirling': 949.8006666666703, 'Trent Johnston': 0.0, 'William McCallan': 0.0, \"Kevin O'Brien\": 153.16457777777833, 'John Mooney': 0.0, 'Dave Langford-Smith': 0.0, 'David Obuya': 0.0, 'Maurice Ouma': 0.0, 'Peter Ongondo': 0.0, 'Alex Obanda': 0.0, 'Ravindu Shah': 0.0, 'Collins Obuya': 0.0, 'Thomas Odoyo': 0.0, 'Hiren Varaiya': 0.0, 'Maurice Odumbe': 0.0, 'Tanmay Mishra': 0.0, 'Stephen Tikolo': 0.0, 'Kennedy Otieno': 0.0, 'James Kamande': 0.0, 'Nehemiah Odhiambo': 0.0, 'Bas Zuiderent': 0.0, 'Eric Szwarczynski': 0.0, 'Peter Borren': 0.0, 'Chris Pringle': 0.0, 'Martin Guptill': 1024.5417666666704, 'Matthew Sinclair': 0.0, 'Ross Taylor': 1253.5960200000047, 'Shane Thomson': 0.0, 'Jeffrey Crowe': 0.0, 'Martin Crowe': 1215.0030222222235, 'Daryl Tuffey': 0.0, 'Warren Lees': 0.0, 'Dipak Patel': 0.0, 'Chris Cairns': 230.5609500000005, 'Scott Styris': 703.956131250002, 'Jeremy Coney': 0.0, 'Mitchell Santner': 0.0, 'Gavin Larsen': 0.0, 'Lou Vincent': 395.1283555555566, 'Lance Cairns': 0.0, 'Sir Richard Hadlee': 0.0, 'Colin de Grandhomme': 0.0, 'Kane Williamson': 1280.349731250005, 'Rodney Latham': 0.0, 'Jacob Oram': 0.0, 'Neil Broom': 0.0, 'Lee Germon': 0.0, 'Robert Nicol': 0.0, 'Luke Ronchi': 0.0, 'Nathan Astle': 1093.2317727272753, 'Mark Greatbatch': 0.0, 'Christopher Nevin': 0.0, 'Jamie How': 0.0, 'Grant Elliott': 0.0, 'Chris Harris': 373.5800400000007, 'Tim Southee': 0.0, 'John Wright': 457.08442222222266, 'Roger Twose': 0.0, 'Hamish Marshall': 0.0, 'Craig Spearman': 0.0, 'Brendon McCullum': 327.9884181818192, 'Dion Nash': 0.0, 'James Neesham': 0.0, 'Ervin McSweeney': 0.0, 'Colin Munro': 0.0, 'Tom Latham': 0.0, 'Ian Smith': 0.0, 'Peter Fulton': 0.0, 'Blair Hartland': 0.0, 'Ken Rutherford': 0.0, 'Andre Adams': 0.0, 'Andrew Jones': 0.0, 'Bryan Young': 0.0, 'Adam Parore': 413.75668125000067, 'Matthew Horne': 0.0, 'Tony Blain': 0.0, 'Glenn Turner': 0.0, 'Henry Nicholls': 0.0, 'Bruce Blair': 0.0, 'Jesse Ryder': 0.0, 'Martin Snedden': 0.0, 'Daniel Vettori': 97.37803125000028, 'Craig McMillan': 199.63940000000048, 'John Bracewell': 0.0, 'Geoff Howarth': 0.0, 'James Franklin': 0.0, 'Stephen Fleming': 521.3653238095251, 'Nathan McCullum': 0.0, 'Bruce Edgar': 0.0, 'Llorne Howell': 0.0, 'Kyle Mills': 0.0, 'Corey Anderson': 0.0, 'Abdul Razzaq': 324.81066000000095, 'Shoaib Akhtar': 0.0, 'Haris Sohail': 0.0, 'Mohammad Wasim': 0.0, 'Nasir Jamshed': 0.0, 'Ahmed Shehzad': 0.0, 'Younis Khan': 442.6149250000013, 'Junaid Khan': 0.0, 'Naved-ul-Hasan': 0.0, 'Saeed Anwar': 1321.4150700000023, 'Fawad Alam': 0.0, 'Sarfaraz Ahmed': 0.0, 'Zaheer Abbas': 0.0, 'Shoaib Mohammad': 0.0, 'Imran Nazir': 0.0, 'Salman Butt': 0.0, 'Saleem Malik': 624.9028050000006, 'Mohammad Yousuf': 1230.6962454545483, 'Imad Wasim': 0.0, 'Azhar Ali': 0.0, 'Mohammad Hafeez': 419.54501666666823, 'Umar Gul': 0.0, 'Shahid Afridi': 241.3026611111118, 'Aamer Malik': 0.0, 'Mohammad Rizwan': 0.0, 'Waqar Younis': 57.16777777777788, 'Basit Ali': 0.0, 'Misbah-ul-Haq': 730.5853111111137, 'Imran Khan': 0.0, 'Fakhar Zaman': 0.0, 'Yasir Hameed': 0.0, 'Umar Amin': 0.0, 'Saeed Ajmal': 0.0, 'Qasim Omar': 0.0, 'Shadab Khan': 0.0, 'Akram Raza': 0.0, 'Mudassar Nazar': 0.0, 'Rashid Latif': 0.0, 'Imam-ul-Haq': 0.0, 'Mushtaq Ahmed': 0.0, 'Arshad Khan': -0.0, 'Aamir Sohail': 604.609161904763, 'Asif Mujtaba': 0.0, 'Azhar Mahmood': 0.0, 'Imran Farhat': 0.0, 'Umar Akmal': 0.0, 'Kamran Akmal': 147.0448190476195, 'Manzoor Elahi': 0.0, 'Asad Shafiq': 0.0, 'Saleem Yousuf': 0.0, 'Inzamam-ul-Haq': 1228.79480777778, 'Javed Miandad': 1549.9378050000014, 'Moin Khan': 134.16080000000025, 'Wahab Riaz': 0.0, 'Mohsin Khan': 0.0, 'Babar Azam': 0.0, 'Wasim Akram': 183.81995238095263, 'Ramiz Raja': 488.80425000000065, 'Mohammad Sami': 0.0, 'Abdul Qadir': 0.0, 'Saqlain Mushtaq': 0.0, 'Taufeeq Umar': 0.0, 'Shoaib Malik': 642.7650875000022, 'Mohammad Irfan': -0.0, 'Wajahatullah Wasti': 0.0, 'Matthew Cross': 0.0, 'Navdeep Poonia': 0.0, 'Craig Wright': 0.0, 'Calum MacLeod': 0.0, 'Fraser Watts': 0.0, 'Ryan Watson': 0.0, 'Douglas Brown': 0.0, 'Neil McCallum': 0.0, 'Richard Berrington': 0.0, 'George Munsey': 0.0, 'Rana Haq': 0.0, 'Colin Smith': 0.0, 'John Blain': 0.0, 'Andrew Hudson': 0.0, 'Jean-Paul Duminy': 594.9401863636383, 'Hashim Amla': 1410.617700000005, 'Neil McKenzie': 0.0, 'Mark Boucher': 172.60270000000043, 'Jacques Kallis': 1595.6842733333374, 'Pat Symcox': 0.0, 'Johan Botha': 0.0, 'Aiden Markram': 0.0, 'Adrian Kuiper': 0.0, 'Nico Boje': 0.0, 'Boeta Dippenaar': 0.0, 'Albie Morkel': 0.0, 'Graeme Smith': 1021.9311000000029, 'Ashwell Prince': 0.0, 'Jacques Rudolph': 0.0, 'Lance Klusener': 570.3935111111123, 'Rilee Rossouw': 0.0, 'David Miller': 0.0, 'Hansie Cronje': 1049.5132125000018, 'Colin Ingram': 0.0, 'Shaun Pollock': 159.29346818181853, 'Eric Simons': 0.0, 'Jonty Rhodes': 531.9349200000008, 'Justin Kemp': 0.0, 'Peter Kirsten': 0.0, 'Faf du Plessis': 1050.2784750000042, 'Daryll Cullinan': 644.0700571428583, 'Herschelle Gibbs': 912.0671590909114, 'Farhaan Behardien': 0.0, 'Gary Kirsten': 1126.3328062500022, 'Brian McMillan': 0.0, 'Fanie De Villiers': 0.0, 'Rassie van der Dussen': 0.0, 'Quinton de Kock': 1135.7804000000046, 'David Richardson': 0.0, 'Andile Phehlukwayo': 0.0, 'Robin Peterson': 0.0, 'Andrew Hall': 0.0, 'Ryan McLaren': 0.0, 'Lonwabo Tsotsobe': -0.0, 'Michael Rindel': 0.0, 'Kepler Wessels': 788.0952000000008, 'Heinrich Klaasen': 0.0, 'A B de Villiers': 1566.18905454546, 'Thilina Kandamby': 0.0, 'Kusal Mendis': 0.0, 'Angelo Mathews': 707.5655166666695, 'Chandika Hathurusingha': 0.0, 'Thilan Thushara': 0.0, 'Danushka Gunathilaka': 0.0, 'Jeevan Mendis': 0.0, 'Somachandra De Silva': 0.0, 'Ashan Priyanjan': 0.0, 'Thisara Perera': 113.82992380952427, 'Jehan Mubarak': 0.0, 'Amal Silva': 0.0, 'Dimuth Karunaratne': 0.0, 'Sanath Jayasuriya': 750.8829064814832, 'Sidath Wettimuny': 0.0, 'Tillakaratne Dilshan': 886.474100000003, 'Niroshan Dickwella': 0.0, 'Avishka Fernando': 0.0, 'Duleep Mendis': 0.0, 'Ravi Ratnayeke': 0.0, 'Hashan Tillakaratne': 204.25356666666698, 'Lasith Malinga': 0.0, 'Milinda Siriwardana': 0.0, 'Suranga Lakmal': 0.0, 'Russel Arnold': 391.6775812500008, 'Kumar Sangakkara': 1367.273313541671, 'Isuru Udana': 0.0, 'Muttiah Muralitharan': 42.196304761904884, 'Lahiru Thirimanne': 0.0, 'Roy Dias': 0.0, 'Ranjan Madugalle': 0.0, 'Ajantha Mendis': 0.0, 'Nuwan Zoysa': 0.0, 'Brendon Kuruppu': 0.0, 'Sachithra Senanayake': 0.0, 'Upul Chandana': 0.0, 'Arjuna Ranatunga': 870.6777500000012, 'Chaminda Vaas': 66.71818333333349, 'Graeme Labrooy': 0.0, 'Rumesh Ratnayake': 0.0, 'Ruwan Kalpage': 0.0, 'Asanka Gurusinha': 199.29937142857173, 'Dinesh Chandimal': 316.11026666666794, 'Aravinda de Silva': 548.8566923076933, 'Avishka Gunawardene': 0.0, 'Farveez Maharoof': 0.0, 'Mahela Jayawardene': 605.2490745098058, 'Thilan Samaraweera': 0.0, 'Chamara Silva': 0.0, 'Pramodya Wickremasinghe': 0.0, 'Chamara Kapugedera': 0.0, 'Asela Gunaratne': 0.0, 'Nuwan Kulasekara': 79.00835555555585, 'Shaul Karnain': 0.0, 'Marvan Atapattu': 826.7642250000018, 'Upul Tharanga': 699.8767500000024, 'Roshan Mahanama': 413.0686166666672, 'Kumar Dharmasena': 0.0, 'Kusal Perera': 0.0, 'Dhananjaya de Silva': 0.0, 'Dilhara Fernando': 0.0, 'Romesh Kaluwitharana': 176.64478125000034, 'W Jayantha': 0.0, 'Akila Dananjaya': 0.0, 'Rohan Mustafa': 0.0, 'Adnan Mufti': 0.0, 'Muhammad Usman': 0.0, 'Xavier Marshall': 0.0, 'Andre Russell': 0.0, 'Jason Mohammed': 0.0, 'Larry Gomes': 0.0, 'Devon Smith': 0.0, 'Shai Hope': 0.0, 'Nehemiah Perry': 0.0, 'Courtney Walsh': 0.0, 'Ashley Nurse': 0.0, 'Ramnaresh Sarwan': 1087.383150000003, 'Denesh Ramdin': 348.2421111111124, 'Philip Simmons': 716.934057142858, 'Narsingh Deonarine': 0.0, 'Rovman Powell': 0.0, 'Jeff Dujon': 150.96088888888903, 'Nicholas Pooran': 0.0, 'Dwayne Bravo': 279.78468571428675, 'Kieran Powell': 0.0, 'Curtly Ambrose': 0.0, 'Merwyn Dillon': 0.0, 'Carl Hooper': 778.9451833333346, 'Shimron Hetmeyer': 0.0, 'Roger Harper': 0.0, 'Carlos Brathwaite': 0.0, 'Keith Arthurton': 0.0, 'Gus Logie': 197.67026666666686, 'Jonathan Carter': 0.0, 'Shivnarine Chanderpaul': 1257.8243181818214, 'Sunil Narine': 0.0, 'Sherwin Campbell': 0.0, 'Desmond Haynes': 1548.7134600000015, 'Sir Viv Richards': 1656.52102857143, 'Sewnarine Chattergoon': 0.0, 'Lendl Simmons': 0.0, 'Darren Ganga': 0.0, 'Evin Lewis': 0.0, 'Malcolm Marshall': 0.0, 'Carlton Baugh': 0.0, 'Johnson Charles': 0.0, 'Courtney Browne': 0.0, 'Jason Holder': 0.0, 'Darren Bravo': 0.0, 'Kemar Roach': 0.0, 'Gordon Greenidge': 0.0, 'Ricardo Powell': 0.0, 'Franklyn Rose': 0.0, 'Brian Lara': 1592.4450928571457, 'Marlon Samuels': 304.24490000000105, 'Reon King': -0.0, 'Runako Morton': 0.0, 'Richard Gabriel': 0.0, 'Wavell Hinds': 373.0648666666675, 'Clive Lloyd': 0.0, 'Jimmy Adams': 418.01617777777835, 'Nixon McLean': 0.0, 'Ridley Jacobs': 0.0, 'Kieron Pollard': 0.0, 'Richie Richardson': 472.7206350000004, 'Dwayne Smith': 0.0, 'Ian Bradshaw': 0.0, 'Stuart Williams': 0.0, 'Darren Sammy': 0.0, 'Vasbert Drakes': 0.0, 'Chris Gayle': 1231.5291511111147, 'Hamilton Masakadza': 397.89454500000124, 'Brendan Taylor': 666.3468300000023, 'Andrew Whittall': 0.0, 'Guy Whittall': 142.93837777777804, 'Sean Williams': 0.0, 'Douglas Marillier': 0.0, 'Andrew Flower': 826.2883166666682, 'Sikandar Raza': 0.0, 'Mark Vermeulen': 0.0, 'Craig Evans': 0.0, 'Dion Ebrahim': 0.0, 'Ray Price': 0.0, 'Sean Ervine': 0.0, 'Heath Streak': 0.0, 'Kyle Jarvis': 0.0, 'Charles Coventry': 0.0, 'Vusi Sibanda': 324.53768888889, 'Solomon Mire': 0.0, 'David Houghton': 0.0, 'Andy Blignaut': 0.0, 'Blessing Muzarabani': -0.0, 'Elton Chigumbura': 156.32210000000052, 'Murray Goodwin': 0.0, 'Gary Brent': 0.0, 'Luke Jongwe': 0.0, 'Blessing Mahwire': 0.0, 'Peter Moor': 0.0, 'Tendai Chatara': -0.0, 'Neil Johnson': 0.0, 'Paul Strang': 0.0, 'Malcolm Waller': 0.0, 'Prosper Utseya': 62.14763809523829, 'Alistair Campbell': 191.67725714285757, 'Terry Duffin': 0.0, 'Mluleki Nkala': 0.0, 'Travis Friend': 0.0, 'Tawanda Mupariwa': 0.0, 'Stuart Matsikenyeri': 0.0, 'Craig Ervine': 0.0, 'Craig Wishart': 0.0, 'Douglas Hondo': -0.0, 'Stuart Carlisle': 0.0, 'Justice Chibhabha': 0.0, 'Grant Flower': 629.8711687500013, 'Tinashe Panyangara': 0.0, 'Graeme Cremer': 0.0, 'Tatenda Taibu': 162.07633333333382, 'Richmond Mutumbami': 0.0, 'Dirk Viljoen': 0.0, 'Piet Rinke': 0.0}\n"
          ],
          "name": "stdout"
        }
      ]
    },
    {
      "cell_type": "code",
      "metadata": {
        "id": "uGQ7vZPZ8_yQ",
        "colab_type": "code",
        "outputId": "a554397f-f428-4ea2-83ac-695ab45ac266",
        "colab": {
          "base_uri": "https://localhost:8080/",
          "height": 255
        }
      },
      "source": [
        "data_items = impact.items()\n",
        "data_list = list(data_items)\n",
        "\n",
        "df = pd.DataFrame(data_list,columns = [\"Name\",\"Points\"])\n",
        "print(df)"
      ],
      "execution_count": 387,
      "outputs": [
        {
          "output_type": "stream",
          "text": [
            "                     Name      Points\n",
            "0             Karim Sadiq    0.000000\n",
            "1    Hashmatullah Shahidi    0.000000\n",
            "2             Rahmat Shah    0.000000\n",
            "3           Asghar Afghan  114.253178\n",
            "4      Samiullah Shinwari    0.000000\n",
            "..                    ...         ...\n",
            "672         Graeme Cremer    0.000000\n",
            "673         Tatenda Taibu  162.076333\n",
            "674    Richmond Mutumbami    0.000000\n",
            "675          Dirk Viljoen    0.000000\n",
            "676            Piet Rinke    0.000000\n",
            "\n",
            "[677 rows x 2 columns]\n"
          ],
          "name": "stdout"
        }
      ]
    },
    {
      "cell_type": "code",
      "metadata": {
        "id": "VEo9ltkoNOHj",
        "colab_type": "code",
        "outputId": "4c1e47f2-1734-4ca6-c4a9-f911b0255fda",
        "colab": {
          "base_uri": "https://localhost:8080/",
          "height": 255
        }
      },
      "source": [
        "df.sort_values(\"Points\", axis = 0, ascending = False, \n",
        "                 inplace = True)\n",
        "df.reset_index(drop=True, inplace=True)\n",
        "df.index += 1\n",
        "print(df)"
      ],
      "execution_count": 393,
      "outputs": [
        {
          "output_type": "stream",
          "text": [
            "                 Name       Points\n",
            "1    Sachin Tendulkar  2180.498980\n",
            "2         Virat Kohli  1677.278800\n",
            "3    Sir Viv Richards  1656.521029\n",
            "4      Jacques Kallis  1595.684273\n",
            "5          Brian Lara  1592.445093\n",
            "..                ...          ...\n",
            "673    Vasbert Drakes     0.000000\n",
            "674      Kusal Mendis     0.000000\n",
            "675      Darren Sammy     0.000000\n",
            "676          Roy Dias     0.000000\n",
            "677        Piet Rinke     0.000000\n",
            "\n",
            "[677 rows x 2 columns]\n"
          ],
          "name": "stdout"
        }
      ]
    },
    {
      "cell_type": "code",
      "metadata": {
        "id": "T2VaMjfrNOSK",
        "colab_type": "code",
        "outputId": "8699bcc5-4b3a-4fb1-8d06-0834986bfd2e",
        "colab": {
          "base_uri": "https://localhost:8080/",
          "height": 669
        }
      },
      "source": [
        "df.head(20)"
      ],
      "execution_count": 394,
      "outputs": [
        {
          "output_type": "execute_result",
          "data": {
            "text/html": [
              "<div>\n",
              "<style scoped>\n",
              "    .dataframe tbody tr th:only-of-type {\n",
              "        vertical-align: middle;\n",
              "    }\n",
              "\n",
              "    .dataframe tbody tr th {\n",
              "        vertical-align: top;\n",
              "    }\n",
              "\n",
              "    .dataframe thead th {\n",
              "        text-align: right;\n",
              "    }\n",
              "</style>\n",
              "<table border=\"1\" class=\"dataframe\">\n",
              "  <thead>\n",
              "    <tr style=\"text-align: right;\">\n",
              "      <th></th>\n",
              "      <th>Name</th>\n",
              "      <th>Points</th>\n",
              "    </tr>\n",
              "  </thead>\n",
              "  <tbody>\n",
              "    <tr>\n",
              "      <th>1</th>\n",
              "      <td>Sachin Tendulkar</td>\n",
              "      <td>2180.498980</td>\n",
              "    </tr>\n",
              "    <tr>\n",
              "      <th>2</th>\n",
              "      <td>Virat Kohli</td>\n",
              "      <td>1677.278800</td>\n",
              "    </tr>\n",
              "    <tr>\n",
              "      <th>3</th>\n",
              "      <td>Sir Viv Richards</td>\n",
              "      <td>1656.521029</td>\n",
              "    </tr>\n",
              "    <tr>\n",
              "      <th>4</th>\n",
              "      <td>Jacques Kallis</td>\n",
              "      <td>1595.684273</td>\n",
              "    </tr>\n",
              "    <tr>\n",
              "      <th>5</th>\n",
              "      <td>Brian Lara</td>\n",
              "      <td>1592.445093</td>\n",
              "    </tr>\n",
              "    <tr>\n",
              "      <th>6</th>\n",
              "      <td>A B de Villiers</td>\n",
              "      <td>1566.189055</td>\n",
              "    </tr>\n",
              "    <tr>\n",
              "      <th>7</th>\n",
              "      <td>Javed Miandad</td>\n",
              "      <td>1549.937805</td>\n",
              "    </tr>\n",
              "    <tr>\n",
              "      <th>8</th>\n",
              "      <td>Desmond Haynes</td>\n",
              "      <td>1548.713460</td>\n",
              "    </tr>\n",
              "    <tr>\n",
              "      <th>9</th>\n",
              "      <td>Dean Jones</td>\n",
              "      <td>1527.728167</td>\n",
              "    </tr>\n",
              "    <tr>\n",
              "      <th>10</th>\n",
              "      <td>Michael Bevan</td>\n",
              "      <td>1511.558805</td>\n",
              "    </tr>\n",
              "    <tr>\n",
              "      <th>11</th>\n",
              "      <td>Michael Hussey</td>\n",
              "      <td>1416.468150</td>\n",
              "    </tr>\n",
              "    <tr>\n",
              "      <th>12</th>\n",
              "      <td>Hashim Amla</td>\n",
              "      <td>1410.617700</td>\n",
              "    </tr>\n",
              "    <tr>\n",
              "      <th>13</th>\n",
              "      <td>Mark Waugh</td>\n",
              "      <td>1407.001830</td>\n",
              "    </tr>\n",
              "    <tr>\n",
              "      <th>14</th>\n",
              "      <td>Geoff Marsh</td>\n",
              "      <td>1390.690311</td>\n",
              "    </tr>\n",
              "    <tr>\n",
              "      <th>15</th>\n",
              "      <td>Kumar Sangakkara</td>\n",
              "      <td>1367.273314</td>\n",
              "    </tr>\n",
              "    <tr>\n",
              "      <th>16</th>\n",
              "      <td>Ricky Ponting</td>\n",
              "      <td>1335.805179</td>\n",
              "    </tr>\n",
              "    <tr>\n",
              "      <th>17</th>\n",
              "      <td>Saeed Anwar</td>\n",
              "      <td>1321.415070</td>\n",
              "    </tr>\n",
              "    <tr>\n",
              "      <th>18</th>\n",
              "      <td>Rohit Sharma</td>\n",
              "      <td>1318.622475</td>\n",
              "    </tr>\n",
              "    <tr>\n",
              "      <th>19</th>\n",
              "      <td>Sourav Ganguly</td>\n",
              "      <td>1290.803895</td>\n",
              "    </tr>\n",
              "    <tr>\n",
              "      <th>20</th>\n",
              "      <td>Kane Williamson</td>\n",
              "      <td>1280.349731</td>\n",
              "    </tr>\n",
              "  </tbody>\n",
              "</table>\n",
              "</div>"
            ],
            "text/plain": [
              "                Name       Points\n",
              "1   Sachin Tendulkar  2180.498980\n",
              "2        Virat Kohli  1677.278800\n",
              "3   Sir Viv Richards  1656.521029\n",
              "4     Jacques Kallis  1595.684273\n",
              "5         Brian Lara  1592.445093\n",
              "6    A B de Villiers  1566.189055\n",
              "7      Javed Miandad  1549.937805\n",
              "8     Desmond Haynes  1548.713460\n",
              "9         Dean Jones  1527.728167\n",
              "10     Michael Bevan  1511.558805\n",
              "11    Michael Hussey  1416.468150\n",
              "12       Hashim Amla  1410.617700\n",
              "13        Mark Waugh  1407.001830\n",
              "14       Geoff Marsh  1390.690311\n",
              "15  Kumar Sangakkara  1367.273314\n",
              "16     Ricky Ponting  1335.805179\n",
              "17       Saeed Anwar  1321.415070\n",
              "18      Rohit Sharma  1318.622475\n",
              "19    Sourav Ganguly  1290.803895\n",
              "20   Kane Williamson  1280.349731"
            ]
          },
          "metadata": {
            "tags": []
          },
          "execution_count": 394
        }
      ]
    },
    {
      "cell_type": "code",
      "metadata": {
        "id": "VpQKR7N6NOim",
        "colab_type": "code",
        "colab": {
          "base_uri": "https://localhost:8080/",
          "height": 80
        },
        "outputId": "8ea58df0-2675-44e8-ad31-29d14f135fdd"
      },
      "source": [
        "name = df[df['Name']==\"M S Dhoni\"]\n",
        "name"
      ],
      "execution_count": 392,
      "outputs": [
        {
          "output_type": "execute_result",
          "data": {
            "text/html": [
              "<div>\n",
              "<style scoped>\n",
              "    .dataframe tbody tr th:only-of-type {\n",
              "        vertical-align: middle;\n",
              "    }\n",
              "\n",
              "    .dataframe tbody tr th {\n",
              "        vertical-align: top;\n",
              "    }\n",
              "\n",
              "    .dataframe thead th {\n",
              "        text-align: right;\n",
              "    }\n",
              "</style>\n",
              "<table border=\"1\" class=\"dataframe\">\n",
              "  <thead>\n",
              "    <tr style=\"text-align: right;\">\n",
              "      <th></th>\n",
              "      <th>Name</th>\n",
              "      <th>Points</th>\n",
              "    </tr>\n",
              "  </thead>\n",
              "  <tbody>\n",
              "    <tr>\n",
              "      <th>22</th>\n",
              "      <td>M S Dhoni</td>\n",
              "      <td>1247.277658</td>\n",
              "    </tr>\n",
              "  </tbody>\n",
              "</table>\n",
              "</div>"
            ],
            "text/plain": [
              "         Name       Points\n",
              "22  M S Dhoni  1247.277658"
            ]
          },
          "metadata": {
            "tags": []
          },
          "execution_count": 392
        }
      ]
    },
    {
      "cell_type": "code",
      "metadata": {
        "id": "b0Maw5UnEyDZ",
        "colab_type": "code",
        "colab": {}
      },
      "source": [
        "from google.colab import files\n",
        "df.to_csv('GOAT_LIST.csv') \n",
        "files.download('GOAT_LIST.csv')"
      ],
      "execution_count": 0,
      "outputs": []
    }
  ]
}