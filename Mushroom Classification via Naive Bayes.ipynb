{
 "cells": [
  {
   "cell_type": "code",
   "execution_count": 1,
   "metadata": {},
   "outputs": [],
   "source": [
    "import numpy as np\n",
    "import pandas as pd\n",
    "from sklearn.preprocessing import LabelEncoder #Could have been done using mapping via dictionary\n",
    "from sklearn.model_selection import train_test_split #Could have done ourselves too but it saves the work"
   ]
  },
  {
   "cell_type": "code",
   "execution_count": 4,
   "metadata": {},
   "outputs": [
    {
     "name": "stdout",
     "output_type": "stream",
     "text": [
      "  type cap_shape cap_surface cap_color bruises odor gill_attachment  \\\n",
      "0    p         x           s         n       t    p               f   \n",
      "1    e         x           s         y       t    a               f   \n",
      "2    e         b           s         w       t    l               f   \n",
      "3    p         x           y         w       t    p               f   \n",
      "4    e         x           s         g       f    n               f   \n",
      "\n",
      "  gill_spacing gill_size gill_color   ...   stalk_surface_below_ring  \\\n",
      "0            c         n          k   ...                          s   \n",
      "1            c         b          k   ...                          s   \n",
      "2            c         b          n   ...                          s   \n",
      "3            c         n          n   ...                          s   \n",
      "4            w         b          k   ...                          s   \n",
      "\n",
      "  stalk_color_above_ring stalk_color_below_ring veil_type veil_color  \\\n",
      "0                      w                      w         p          w   \n",
      "1                      w                      w         p          w   \n",
      "2                      w                      w         p          w   \n",
      "3                      w                      w         p          w   \n",
      "4                      w                      w         p          w   \n",
      "\n",
      "  ring_number ring_type spore_print_color population habitat  \n",
      "0           o         p                 k          s       u  \n",
      "1           o         p                 n          n       g  \n",
      "2           o         p                 n          n       m  \n",
      "3           o         p                 k          s       u  \n",
      "4           o         e                 n          a       g  \n",
      "\n",
      "[5 rows x 23 columns]\n"
     ]
    }
   ],
   "source": [
    "df = pd.read_csv(\"Mushrooms.csv\")\n",
    "print(df.head())\n",
    "#There are 23 columns "
   ]
  },
  {
   "cell_type": "code",
   "execution_count": 5,
   "metadata": {},
   "outputs": [
    {
     "data": {
      "text/plain": [
       "(8124, 23)"
      ]
     },
     "execution_count": 5,
     "metadata": {},
     "output_type": "execute_result"
    }
   ],
   "source": [
    "df.shape\n",
    "#Total number of rows are 8124"
   ]
  },
  {
   "cell_type": "code",
   "execution_count": 6,
   "metadata": {},
   "outputs": [],
   "source": [
    "#The data is categorical, hence we need to convert it into  numerical data\n",
    "#To convert the data we can create a dictionary and do the necessary mapping\n",
    "#Instead of doing all the work we called LabelEncoder from sklearn.preprocessing to do our work\n",
    "\n",
    "le = LabelEncoder()\n",
    "#Applies transformation on each columns\n",
    "ds = df.apply(le.fit_transform)"
   ]
  },
  {
   "cell_type": "code",
   "execution_count": 7,
   "metadata": {},
   "outputs": [
    {
     "name": "stdout",
     "output_type": "stream",
     "text": [
      "   type  cap_shape  cap_surface  cap_color  bruises  odor  gill_attachment  \\\n",
      "0     1          5            2          4        1     6                1   \n",
      "1     0          5            2          9        1     0                1   \n",
      "2     0          0            2          8        1     3                1   \n",
      "3     1          5            3          8        1     6                1   \n",
      "4     0          5            2          3        0     5                1   \n",
      "\n",
      "   gill_spacing  gill_size  gill_color   ...     stalk_surface_below_ring  \\\n",
      "0             0          1           4   ...                            2   \n",
      "1             0          0           4   ...                            2   \n",
      "2             0          0           5   ...                            2   \n",
      "3             0          1           5   ...                            2   \n",
      "4             1          0           4   ...                            2   \n",
      "\n",
      "   stalk_color_above_ring  stalk_color_below_ring  veil_type  veil_color  \\\n",
      "0                       7                       7          0           2   \n",
      "1                       7                       7          0           2   \n",
      "2                       7                       7          0           2   \n",
      "3                       7                       7          0           2   \n",
      "4                       7                       7          0           2   \n",
      "\n",
      "   ring_number  ring_type  spore_print_color  population  habitat  \n",
      "0            1          4                  2           3        5  \n",
      "1            1          4                  3           2        1  \n",
      "2            1          4                  3           2        3  \n",
      "3            1          4                  2           3        5  \n",
      "4            1          0                  3           0        1  \n",
      "\n",
      "[5 rows x 23 columns]\n"
     ]
    }
   ],
   "source": [
    "print(ds.head())\n",
    "#The mapping is done column wise"
   ]
  },
  {
   "cell_type": "code",
   "execution_count": 9,
   "metadata": {},
   "outputs": [
    {
     "name": "stdout",
     "output_type": "stream",
     "text": [
      "(8124, 23)\n",
      "<class 'numpy.ndarray'>\n"
     ]
    }
   ],
   "source": [
    "data = ds.values\n",
    "print(data.shape)\n",
    "print(type(data))\n",
    "#Converted ds into array and store it into data"
   ]
  },
  {
   "cell_type": "code",
   "execution_count": 11,
   "metadata": {},
   "outputs": [],
   "source": [
    "X = data[:,1:]\n",
    "Y = data[:,0] #First column contains the label so put it in y\n",
    "x_train,x_test,y_train,y_test = train_test_split(X,Y,test_size=0.2)\n",
    "#Splitting it in test and training set"
   ]
  },
  {
   "cell_type": "code",
   "execution_count": 12,
   "metadata": {},
   "outputs": [
    {
     "name": "stdout",
     "output_type": "stream",
     "text": [
      "(6499, 22) (6499,)\n",
      "(1625, 22) (1625,)\n"
     ]
    }
   ],
   "source": [
    "print(x_train.shape,y_train.shape)\n",
    "print(x_test.shape,y_test.shape)"
   ]
  },
  {
   "cell_type": "code",
   "execution_count": 15,
   "metadata": {},
   "outputs": [
    {
     "name": "stdout",
     "output_type": "stream",
     "text": [
      "0.3333333333333333\n"
     ]
    }
   ],
   "source": [
    "def prior_prob(y_train,label):\n",
    "    total = y_train.shape[0]\n",
    "    ClassLabel = np.sum(y_train==label) #It will compute number of datasets equal to reuired label in whole dataset\n",
    "    return (ClassLabel/total)\n",
    "a = np.array([0,0,0,1,1,2,1,3,4,1,2,6])\n",
    "print(prior_prob(a,1))"
   ]
  },
  {
   "cell_type": "code",
   "execution_count": 21,
   "metadata": {},
   "outputs": [],
   "source": [
    "def cond_prob(x_train,y_train,feature_col,feature_val,label):\n",
    "    \n",
    "    x_filter = x_train[y_train==label] #We will just consider rows where labels as we want them to be\n",
    "    numerator = np.sum(x_filter[:,feature_col]==feature_val) #We will get the count of the required character(Colour) among the\n",
    "    #correct labels\n",
    "    denominator = np.sum(y_train==label)#Count of rows with correct labels\n",
    "    \n",
    "    return numerator/float(denominator) #So this will give the number like we want to check the probability of a mushroom being\n",
    "#of a certain colour if we know it's class"
   ]
  },
  {
   "cell_type": "code",
   "execution_count": 22,
   "metadata": {},
   "outputs": [],
   "source": [
    "#We will get likelihood of all the labels\n",
    "#To be a probability of a certain label if given a certain feature we can use our above function\n",
    "#Then we can keep multiplying for all the features and get the likelihood\n",
    "#Then we can do this for all the labels\n",
    "#Then we can take max of all probabilities to label that particular mushroom\n",
    "def predict(x_train,y_train,x_test):\n",
    "    \"\"\"Xtest is a single testing point, n features\"\"\"\n",
    "    \n",
    "    classes = np.unique(y_train) #Number of unique classes\n",
    "    n_features = x_train.shape[1] #Number of features\n",
    "    probabilities = [] # List of prob for all classes and given a single testing point\n",
    "    #Compute Posterior for each class\n",
    "    for label in classes: #For each label\n",
    "        \n",
    "        #Post_c = likelihood*prior\n",
    "        likelihood = 1.0\n",
    "        for f in range(n_features): #Checks all features\n",
    "            cond = cond_prob(x_train,y_train,f,x_test[f],label)\n",
    "            likelihood *= cond \n",
    "            \n",
    "        prior = prior_prob(y_train,label)\n",
    "        post = likelihood*prior\n",
    "        probabilities.append(post)\n",
    "        \n",
    "    pred = np.argmax(probabilities) #Take the maximum\n",
    "    return pred"
   ]
  },
  {
   "cell_type": "code",
   "execution_count": 23,
   "metadata": {},
   "outputs": [
    {
     "name": "stdout",
     "output_type": "stream",
     "text": [
      "0\n",
      "0\n"
     ]
    }
   ],
   "source": [
    "output = predict(x_train,y_train,x_test[7])\n",
    "print(output) #The output given by our algo\n",
    "print(y_test[7]) #The actual label"
   ]
  },
  {
   "cell_type": "code",
   "execution_count": 24,
   "metadata": {},
   "outputs": [
    {
     "name": "stdout",
     "output_type": "stream",
     "text": [
      "0.9950769230769231\n"
     ]
    }
   ],
   "source": [
    "def accuarca(x_train,y_train,x_test,y_test):\n",
    "\n",
    "    pred = []   #making a prediction array\n",
    "    for i in range(x_test.shape[0]):\n",
    "        pred_label = predict(x_train,y_train,x_test[i]) #Predicting for each test\n",
    "        pred.append(pred_label) # <===Correction\n",
    "    \n",
    "    pred = np.array(pred) #Converting it to array\n",
    "    \n",
    "    accuracy = np.sum(pred==y_test)/y_test.shape[0] #Dividing all correct predictions/ Total number of tests\n",
    "    return accuracy\n",
    "\n",
    "print(score(x_train,y_train,x_test,y_test))"
   ]
  },
  {
   "cell_type": "code",
   "execution_count": null,
   "metadata": {},
   "outputs": [],
   "source": []
  }
 ],
 "metadata": {
  "kernelspec": {
   "display_name": "Python 3",
   "language": "python",
   "name": "python3"
  },
  "language_info": {
   "codemirror_mode": {
    "name": "ipython",
    "version": 3
   },
   "file_extension": ".py",
   "mimetype": "text/x-python",
   "name": "python",
   "nbconvert_exporter": "python",
   "pygments_lexer": "ipython3",
   "version": "3.6.5"
  }
 },
 "nbformat": 4,
 "nbformat_minor": 2
}
