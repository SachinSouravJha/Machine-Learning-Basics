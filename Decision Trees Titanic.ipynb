{
 "cells": [
  {
   "cell_type": "code",
   "execution_count": 1,
   "metadata": {},
   "outputs": [],
   "source": [
    "import numpy as np\n",
    "import pandas as pd"
   ]
  },
  {
   "cell_type": "code",
   "execution_count": 2,
   "metadata": {},
   "outputs": [
    {
     "name": "stdout",
     "output_type": "stream",
     "text": [
      "   PassengerId  Survived  Pclass  \\\n",
      "0            1         0       3   \n",
      "1            2         1       1   \n",
      "2            3         1       3   \n",
      "3            4         1       1   \n",
      "4            5         0       3   \n",
      "5            6         0       3   \n",
      "6            7         0       1   \n",
      "7            8         0       3   \n",
      "8            9         1       3   \n",
      "9           10         1       2   \n",
      "\n",
      "                                                Name     Sex   Age  SibSp  \\\n",
      "0                            Braund, Mr. Owen Harris    male  22.0      1   \n",
      "1  Cumings, Mrs. John Bradley (Florence Briggs Th...  female  38.0      1   \n",
      "2                             Heikkinen, Miss. Laina  female  26.0      0   \n",
      "3       Futrelle, Mrs. Jacques Heath (Lily May Peel)  female  35.0      1   \n",
      "4                           Allen, Mr. William Henry    male  35.0      0   \n",
      "5                                   Moran, Mr. James    male   NaN      0   \n",
      "6                            McCarthy, Mr. Timothy J    male  54.0      0   \n",
      "7                     Palsson, Master. Gosta Leonard    male   2.0      3   \n",
      "8  Johnson, Mrs. Oscar W (Elisabeth Vilhelmina Berg)  female  27.0      0   \n",
      "9                Nasser, Mrs. Nicholas (Adele Achem)  female  14.0      1   \n",
      "\n",
      "   Parch            Ticket     Fare Cabin Embarked  \n",
      "0      0         A/5 21171   7.2500   NaN        S  \n",
      "1      0          PC 17599  71.2833   C85        C  \n",
      "2      0  STON/O2. 3101282   7.9250   NaN        S  \n",
      "3      0            113803  53.1000  C123        S  \n",
      "4      0            373450   8.0500   NaN        S  \n",
      "5      0            330877   8.4583   NaN        Q  \n",
      "6      0             17463  51.8625   E46        S  \n",
      "7      1            349909  21.0750   NaN        S  \n",
      "8      2            347742  11.1333   NaN        S  \n",
      "9      0            237736  30.0708   NaN        C  \n"
     ]
    }
   ],
   "source": [
    "data = pd.read_csv(\"titanic.csv\")\n",
    "print(data.head(n=10))"
   ]
  },
  {
   "cell_type": "code",
   "execution_count": 3,
   "metadata": {},
   "outputs": [
    {
     "name": "stdout",
     "output_type": "stream",
     "text": [
      "<class 'pandas.core.frame.DataFrame'>\n",
      "RangeIndex: 891 entries, 0 to 890\n",
      "Data columns (total 12 columns):\n",
      "PassengerId    891 non-null int64\n",
      "Survived       891 non-null int64\n",
      "Pclass         891 non-null int64\n",
      "Name           891 non-null object\n",
      "Sex            891 non-null object\n",
      "Age            714 non-null float64\n",
      "SibSp          891 non-null int64\n",
      "Parch          891 non-null int64\n",
      "Ticket         891 non-null object\n",
      "Fare           891 non-null float64\n",
      "Cabin          204 non-null object\n",
      "Embarked       889 non-null object\n",
      "dtypes: float64(2), int64(5), object(5)\n",
      "memory usage: 83.6+ KB\n",
      "None\n"
     ]
    }
   ],
   "source": [
    "print(data.info()) #Age, Cabin, and Embarked are not there for every passenger so we might need to select some values for the missing spaces\n",
    "#But age is important column, while name doesn't matter\n",
    "#So we will fill the values for ages, and just drop name"
   ]
  },
  {
   "cell_type": "code",
   "execution_count": 4,
   "metadata": {},
   "outputs": [
    {
     "data": {
      "text/html": [
       "<div>\n",
       "<style scoped>\n",
       "    .dataframe tbody tr th:only-of-type {\n",
       "        vertical-align: middle;\n",
       "    }\n",
       "\n",
       "    .dataframe tbody tr th {\n",
       "        vertical-align: top;\n",
       "    }\n",
       "\n",
       "    .dataframe thead th {\n",
       "        text-align: right;\n",
       "    }\n",
       "</style>\n",
       "<table border=\"1\" class=\"dataframe\">\n",
       "  <thead>\n",
       "    <tr style=\"text-align: right;\">\n",
       "      <th></th>\n",
       "      <th>Survived</th>\n",
       "      <th>Pclass</th>\n",
       "      <th>Sex</th>\n",
       "      <th>Age</th>\n",
       "      <th>SibSp</th>\n",
       "      <th>Parch</th>\n",
       "      <th>Ticket</th>\n",
       "      <th>Fare</th>\n",
       "    </tr>\n",
       "  </thead>\n",
       "  <tbody>\n",
       "    <tr>\n",
       "      <th>0</th>\n",
       "      <td>0</td>\n",
       "      <td>3</td>\n",
       "      <td>male</td>\n",
       "      <td>22.0</td>\n",
       "      <td>1</td>\n",
       "      <td>0</td>\n",
       "      <td>A/5 21171</td>\n",
       "      <td>7.2500</td>\n",
       "    </tr>\n",
       "    <tr>\n",
       "      <th>1</th>\n",
       "      <td>1</td>\n",
       "      <td>1</td>\n",
       "      <td>female</td>\n",
       "      <td>38.0</td>\n",
       "      <td>1</td>\n",
       "      <td>0</td>\n",
       "      <td>PC 17599</td>\n",
       "      <td>71.2833</td>\n",
       "    </tr>\n",
       "    <tr>\n",
       "      <th>2</th>\n",
       "      <td>1</td>\n",
       "      <td>3</td>\n",
       "      <td>female</td>\n",
       "      <td>26.0</td>\n",
       "      <td>0</td>\n",
       "      <td>0</td>\n",
       "      <td>STON/O2. 3101282</td>\n",
       "      <td>7.9250</td>\n",
       "    </tr>\n",
       "    <tr>\n",
       "      <th>3</th>\n",
       "      <td>1</td>\n",
       "      <td>1</td>\n",
       "      <td>female</td>\n",
       "      <td>35.0</td>\n",
       "      <td>1</td>\n",
       "      <td>0</td>\n",
       "      <td>113803</td>\n",
       "      <td>53.1000</td>\n",
       "    </tr>\n",
       "    <tr>\n",
       "      <th>4</th>\n",
       "      <td>0</td>\n",
       "      <td>3</td>\n",
       "      <td>male</td>\n",
       "      <td>35.0</td>\n",
       "      <td>0</td>\n",
       "      <td>0</td>\n",
       "      <td>373450</td>\n",
       "      <td>8.0500</td>\n",
       "    </tr>\n",
       "  </tbody>\n",
       "</table>\n",
       "</div>"
      ],
      "text/plain": [
       "   Survived  Pclass     Sex   Age  SibSp  Parch            Ticket     Fare\n",
       "0         0       3    male  22.0      1      0         A/5 21171   7.2500\n",
       "1         1       1  female  38.0      1      0          PC 17599  71.2833\n",
       "2         1       3  female  26.0      0      0  STON/O2. 3101282   7.9250\n",
       "3         1       1  female  35.0      1      0            113803  53.1000\n",
       "4         0       3    male  35.0      0      0            373450   8.0500"
      ]
     },
     "execution_count": 4,
     "metadata": {},
     "output_type": "execute_result"
    }
   ],
   "source": [
    "DropColumns = ['PassengerId','Cabin','Embarked','Cabin','Name'] #We don't need these columns\n",
    "clean = data.drop(DropColumns,axis=1) #Removes those columns\n",
    "clean.head()"
   ]
  },
  {
   "cell_type": "code",
   "execution_count": 5,
   "metadata": {},
   "outputs": [
    {
     "data": {
      "text/html": [
       "<div>\n",
       "<style scoped>\n",
       "    .dataframe tbody tr th:only-of-type {\n",
       "        vertical-align: middle;\n",
       "    }\n",
       "\n",
       "    .dataframe tbody tr th {\n",
       "        vertical-align: top;\n",
       "    }\n",
       "\n",
       "    .dataframe thead th {\n",
       "        text-align: right;\n",
       "    }\n",
       "</style>\n",
       "<table border=\"1\" class=\"dataframe\">\n",
       "  <thead>\n",
       "    <tr style=\"text-align: right;\">\n",
       "      <th></th>\n",
       "      <th>Survived</th>\n",
       "      <th>Pclass</th>\n",
       "      <th>Sex</th>\n",
       "      <th>Age</th>\n",
       "      <th>SibSp</th>\n",
       "      <th>Parch</th>\n",
       "      <th>Ticket</th>\n",
       "      <th>Fare</th>\n",
       "    </tr>\n",
       "  </thead>\n",
       "  <tbody>\n",
       "    <tr>\n",
       "      <th>0</th>\n",
       "      <td>0</td>\n",
       "      <td>3</td>\n",
       "      <td>1</td>\n",
       "      <td>22.0</td>\n",
       "      <td>1</td>\n",
       "      <td>0</td>\n",
       "      <td>A/5 21171</td>\n",
       "      <td>7.2500</td>\n",
       "    </tr>\n",
       "    <tr>\n",
       "      <th>1</th>\n",
       "      <td>1</td>\n",
       "      <td>1</td>\n",
       "      <td>0</td>\n",
       "      <td>38.0</td>\n",
       "      <td>1</td>\n",
       "      <td>0</td>\n",
       "      <td>PC 17599</td>\n",
       "      <td>71.2833</td>\n",
       "    </tr>\n",
       "    <tr>\n",
       "      <th>2</th>\n",
       "      <td>1</td>\n",
       "      <td>3</td>\n",
       "      <td>0</td>\n",
       "      <td>26.0</td>\n",
       "      <td>0</td>\n",
       "      <td>0</td>\n",
       "      <td>STON/O2. 3101282</td>\n",
       "      <td>7.9250</td>\n",
       "    </tr>\n",
       "    <tr>\n",
       "      <th>3</th>\n",
       "      <td>1</td>\n",
       "      <td>1</td>\n",
       "      <td>0</td>\n",
       "      <td>35.0</td>\n",
       "      <td>1</td>\n",
       "      <td>0</td>\n",
       "      <td>113803</td>\n",
       "      <td>53.1000</td>\n",
       "    </tr>\n",
       "    <tr>\n",
       "      <th>4</th>\n",
       "      <td>0</td>\n",
       "      <td>3</td>\n",
       "      <td>1</td>\n",
       "      <td>35.0</td>\n",
       "      <td>0</td>\n",
       "      <td>0</td>\n",
       "      <td>373450</td>\n",
       "      <td>8.0500</td>\n",
       "    </tr>\n",
       "  </tbody>\n",
       "</table>\n",
       "</div>"
      ],
      "text/plain": [
       "   Survived  Pclass  Sex   Age  SibSp  Parch            Ticket     Fare\n",
       "0         0       3    1  22.0      1      0         A/5 21171   7.2500\n",
       "1         1       1    0  38.0      1      0          PC 17599  71.2833\n",
       "2         1       3    0  26.0      0      0  STON/O2. 3101282   7.9250\n",
       "3         1       1    0  35.0      1      0            113803  53.1000\n",
       "4         0       3    1  35.0      0      0            373450   8.0500"
      ]
     },
     "execution_count": 5,
     "metadata": {},
     "output_type": "execute_result"
    }
   ],
   "source": [
    "from sklearn.preprocessing import LabelEncoder\n",
    "#We can see that Sex is given in text while other thing is given in numbers\n",
    "#Hence we use Label Encoder to convert text into number\n",
    "le = LabelEncoder()\n",
    "clean['Sex'] = le.fit_transform(clean[\"Sex\"]) \n",
    "clean.head()"
   ]
  },
  {
   "cell_type": "code",
   "execution_count": 6,
   "metadata": {},
   "outputs": [
    {
     "data": {
      "text/html": [
       "<div>\n",
       "<style scoped>\n",
       "    .dataframe tbody tr th:only-of-type {\n",
       "        vertical-align: middle;\n",
       "    }\n",
       "\n",
       "    .dataframe tbody tr th {\n",
       "        vertical-align: top;\n",
       "    }\n",
       "\n",
       "    .dataframe thead th {\n",
       "        text-align: right;\n",
       "    }\n",
       "</style>\n",
       "<table border=\"1\" class=\"dataframe\">\n",
       "  <thead>\n",
       "    <tr style=\"text-align: right;\">\n",
       "      <th></th>\n",
       "      <th>Survived</th>\n",
       "      <th>Pclass</th>\n",
       "      <th>Sex</th>\n",
       "      <th>Age</th>\n",
       "      <th>SibSp</th>\n",
       "      <th>Parch</th>\n",
       "      <th>Fare</th>\n",
       "    </tr>\n",
       "  </thead>\n",
       "  <tbody>\n",
       "    <tr>\n",
       "      <th>0</th>\n",
       "      <td>0</td>\n",
       "      <td>3</td>\n",
       "      <td>1</td>\n",
       "      <td>22.0</td>\n",
       "      <td>1</td>\n",
       "      <td>0</td>\n",
       "      <td>7.2500</td>\n",
       "    </tr>\n",
       "    <tr>\n",
       "      <th>1</th>\n",
       "      <td>1</td>\n",
       "      <td>1</td>\n",
       "      <td>0</td>\n",
       "      <td>38.0</td>\n",
       "      <td>1</td>\n",
       "      <td>0</td>\n",
       "      <td>71.2833</td>\n",
       "    </tr>\n",
       "    <tr>\n",
       "      <th>2</th>\n",
       "      <td>1</td>\n",
       "      <td>3</td>\n",
       "      <td>0</td>\n",
       "      <td>26.0</td>\n",
       "      <td>0</td>\n",
       "      <td>0</td>\n",
       "      <td>7.9250</td>\n",
       "    </tr>\n",
       "    <tr>\n",
       "      <th>3</th>\n",
       "      <td>1</td>\n",
       "      <td>1</td>\n",
       "      <td>0</td>\n",
       "      <td>35.0</td>\n",
       "      <td>1</td>\n",
       "      <td>0</td>\n",
       "      <td>53.1000</td>\n",
       "    </tr>\n",
       "    <tr>\n",
       "      <th>4</th>\n",
       "      <td>0</td>\n",
       "      <td>3</td>\n",
       "      <td>1</td>\n",
       "      <td>35.0</td>\n",
       "      <td>0</td>\n",
       "      <td>0</td>\n",
       "      <td>8.0500</td>\n",
       "    </tr>\n",
       "  </tbody>\n",
       "</table>\n",
       "</div>"
      ],
      "text/plain": [
       "   Survived  Pclass  Sex   Age  SibSp  Parch     Fare\n",
       "0         0       3    1  22.0      1      0   7.2500\n",
       "1         1       1    0  38.0      1      0  71.2833\n",
       "2         1       3    0  26.0      0      0   7.9250\n",
       "3         1       1    0  35.0      1      0  53.1000\n",
       "4         0       3    1  35.0      0      0   8.0500"
      ]
     },
     "execution_count": 6,
     "metadata": {},
     "output_type": "execute_result"
    }
   ],
   "source": [
    "clean = clean.drop('Ticket',axis=1)\n",
    "clean.head()\n",
    "#Realized that ticket number is not important to dropped it too"
   ]
  },
  {
   "cell_type": "code",
   "execution_count": 7,
   "metadata": {},
   "outputs": [
    {
     "name": "stdout",
     "output_type": "stream",
     "text": [
      "<class 'pandas.core.frame.DataFrame'>\n",
      "RangeIndex: 891 entries, 0 to 890\n",
      "Data columns (total 7 columns):\n",
      "Survived    891 non-null int64\n",
      "Pclass      891 non-null int64\n",
      "Sex         891 non-null int64\n",
      "Age         714 non-null float64\n",
      "SibSp       891 non-null int64\n",
      "Parch       891 non-null int64\n",
      "Fare        891 non-null float64\n",
      "dtypes: float64(2), int64(5)\n",
      "memory usage: 48.8 KB\n"
     ]
    }
   ],
   "source": [
    "#Let's check info about data again\n",
    "clean.info()"
   ]
  },
  {
   "cell_type": "code",
   "execution_count": 8,
   "metadata": {},
   "outputs": [
    {
     "name": "stdout",
     "output_type": "stream",
     "text": [
      "<class 'pandas.core.frame.DataFrame'>\n",
      "RangeIndex: 891 entries, 0 to 890\n",
      "Data columns (total 7 columns):\n",
      "Survived    891 non-null int64\n",
      "Pclass      891 non-null int64\n",
      "Sex         891 non-null int64\n",
      "Age         891 non-null float64\n",
      "SibSp       891 non-null int64\n",
      "Parch       891 non-null int64\n",
      "Fare        891 non-null float64\n",
      "dtypes: float64(2), int64(5)\n",
      "memory usage: 48.8 KB\n"
     ]
    }
   ],
   "source": [
    "#All the important columns are full\n",
    "#Need to fill missing values of age\n",
    "clean = clean.fillna(clean[\"Age\"].mean()) #Fill the missing rows with mean of columns\n",
    "clean.info()"
   ]
  },
  {
   "cell_type": "code",
   "execution_count": 9,
   "metadata": {},
   "outputs": [
    {
     "data": {
      "text/html": [
       "<div>\n",
       "<style scoped>\n",
       "    .dataframe tbody tr th:only-of-type {\n",
       "        vertical-align: middle;\n",
       "    }\n",
       "\n",
       "    .dataframe tbody tr th {\n",
       "        vertical-align: top;\n",
       "    }\n",
       "\n",
       "    .dataframe thead th {\n",
       "        text-align: right;\n",
       "    }\n",
       "</style>\n",
       "<table border=\"1\" class=\"dataframe\">\n",
       "  <thead>\n",
       "    <tr style=\"text-align: right;\">\n",
       "      <th></th>\n",
       "      <th>Survived</th>\n",
       "      <th>Pclass</th>\n",
       "      <th>Sex</th>\n",
       "      <th>Age</th>\n",
       "      <th>SibSp</th>\n",
       "      <th>Parch</th>\n",
       "      <th>Fare</th>\n",
       "    </tr>\n",
       "  </thead>\n",
       "  <tbody>\n",
       "    <tr>\n",
       "      <th>0</th>\n",
       "      <td>0</td>\n",
       "      <td>3</td>\n",
       "      <td>1</td>\n",
       "      <td>22.0</td>\n",
       "      <td>1</td>\n",
       "      <td>0</td>\n",
       "      <td>7.2500</td>\n",
       "    </tr>\n",
       "    <tr>\n",
       "      <th>1</th>\n",
       "      <td>1</td>\n",
       "      <td>1</td>\n",
       "      <td>0</td>\n",
       "      <td>38.0</td>\n",
       "      <td>1</td>\n",
       "      <td>0</td>\n",
       "      <td>71.2833</td>\n",
       "    </tr>\n",
       "    <tr>\n",
       "      <th>2</th>\n",
       "      <td>1</td>\n",
       "      <td>3</td>\n",
       "      <td>0</td>\n",
       "      <td>26.0</td>\n",
       "      <td>0</td>\n",
       "      <td>0</td>\n",
       "      <td>7.9250</td>\n",
       "    </tr>\n",
       "    <tr>\n",
       "      <th>3</th>\n",
       "      <td>1</td>\n",
       "      <td>1</td>\n",
       "      <td>0</td>\n",
       "      <td>35.0</td>\n",
       "      <td>1</td>\n",
       "      <td>0</td>\n",
       "      <td>53.1000</td>\n",
       "    </tr>\n",
       "    <tr>\n",
       "      <th>4</th>\n",
       "      <td>0</td>\n",
       "      <td>3</td>\n",
       "      <td>1</td>\n",
       "      <td>35.0</td>\n",
       "      <td>0</td>\n",
       "      <td>0</td>\n",
       "      <td>8.0500</td>\n",
       "    </tr>\n",
       "  </tbody>\n",
       "</table>\n",
       "</div>"
      ],
      "text/plain": [
       "   Survived  Pclass  Sex   Age  SibSp  Parch     Fare\n",
       "0         0       3    1  22.0      1      0   7.2500\n",
       "1         1       1    0  38.0      1      0  71.2833\n",
       "2         1       3    0  26.0      0      0   7.9250\n",
       "3         1       1    0  35.0      1      0  53.1000\n",
       "4         0       3    1  35.0      0      0   8.0500"
      ]
     },
     "execution_count": 9,
     "metadata": {},
     "output_type": "execute_result"
    }
   ],
   "source": [
    "clean.head()"
   ]
  },
  {
   "cell_type": "code",
   "execution_count": 10,
   "metadata": {},
   "outputs": [
    {
     "name": "stdout",
     "output_type": "stream",
     "text": [
      "(891, 6) (891, 1)\n"
     ]
    }
   ],
   "source": [
    "inpu = ['Pclass',\"Sex\",\"Age\",\"SibSp\",\"Parch\",\"Fare\"] #Taking all the inputs\n",
    "output = [\"Survived\"] #Label\n",
    "\n",
    "X = clean[inpu] #X contains all the variables except the answer\n",
    "Y = clean[output] #Stores the answer\n",
    "\n",
    "print(X.shape,Y.shape)"
   ]
  },
  {
   "cell_type": "code",
   "execution_count": 11,
   "metadata": {},
   "outputs": [],
   "source": [
    "#Entropy\n",
    "#We will try to compute the entropy of every column in the dataset\n",
    "def entropy(col):\n",
    "    \n",
    "    counts = np.unique(col,return_counts=True) #It will return the values present and their counts in that column\n",
    "    n = float(col.shape[0]) #This will give the value of number of rows in that column\n",
    "    \n",
    "    ent = 0.0\n",
    "    \n",
    "    for ix in counts[1]: #Will check the count of each value in column\n",
    "        p  = ix/n #Compute it's probability\n",
    "        ent += (-1.0*p*np.log2(p)) #Simply put it in formula\n",
    "    \n",
    "    return ent"
   ]
  },
  {
   "cell_type": "code",
   "execution_count": 13,
   "metadata": {},
   "outputs": [
    {
     "name": "stdout",
     "output_type": "stream",
     "text": [
      "0.9362046432498521\n"
     ]
    }
   ],
   "source": [
    "print(entropy(clean['Sex'])) #High entropy"
   ]
  },
  {
   "cell_type": "code",
   "execution_count": 14,
   "metadata": {},
   "outputs": [],
   "source": [
    "def divide_data(data,fkey,fval): #Data will be whole dataset, fkey will be the column, while fval is the threshold value \n",
    "    #Work with Pandas Data Frames\n",
    "    right = pd.DataFrame([],columns=data.columns) #Creating for values greater than threshold\n",
    "    left = pd.DataFrame([],columns=data.columns) #Creating for values lesser than threshold\n",
    "    \n",
    "    for ix in range(data.shape[0]):\n",
    "        val = data[fkey].loc[ix] #checking a particular row in that column\n",
    "        \n",
    "        if val > fval:\n",
    "            right = right.append(data.loc[ix]) #values greater than threshold go to right\n",
    "        else:\n",
    "            left = left.append(data.loc[ix]) #values lesser than threshold go to left\n",
    "            \n",
    "    return left,right"
   ]
  },
  {
   "cell_type": "code",
   "execution_count": 15,
   "metadata": {},
   "outputs": [
    {
     "name": "stdout",
     "output_type": "stream",
     "text": [
      "   Survived  Pclass  Sex   Age  SibSp  Parch     Fare\n",
      "1       1.0     1.0  0.0  38.0    1.0    0.0  71.2833\n",
      "2       1.0     3.0  0.0  26.0    0.0    0.0   7.9250\n",
      "3       1.0     1.0  0.0  35.0    1.0    0.0  53.1000\n",
      "8       1.0     3.0  0.0  27.0    0.0    2.0  11.1333\n",
      "9       1.0     2.0  0.0  14.0    1.0    0.0  30.0708\n",
      "   Survived  Pclass  Sex        Age  SibSp  Parch     Fare\n",
      "0       0.0     3.0  1.0  22.000000    1.0    0.0   7.2500\n",
      "4       0.0     3.0  1.0  35.000000    0.0    0.0   8.0500\n",
      "5       0.0     3.0  1.0  29.699118    0.0    0.0   8.4583\n",
      "6       0.0     1.0  1.0  54.000000    0.0    0.0  51.8625\n",
      "7       0.0     3.0  1.0   2.000000    3.0    1.0  21.0750\n"
     ]
    }
   ],
   "source": [
    "left, right = divide_data(clean[:10],\"Sex\",0.5) #Just testing\n",
    "print(left) #Just testing\n",
    "print(right)"
   ]
  },
  {
   "cell_type": "code",
   "execution_count": 16,
   "metadata": {},
   "outputs": [],
   "source": [
    "def information_gain(data,fkey,fval):\n",
    "    \n",
    "    left,right = divide_data(data,fkey,fval) #It will divide and give data\n",
    "    \n",
    "    #% of total samples are on left and right\n",
    "    l = float(left.shape[0])/data.shape[0] #Will calculate probability of left side\n",
    "    r = float(right.shape[0])/data.shape[0] #Will calculate probability of right side\n",
    "    \n",
    "    #All examples come to one side!\n",
    "    if left.shape[0] == 0 or right.shape[0] ==0: #No point doing it if all is going to one side\n",
    "        return -1000000 #Min Information Gain\n",
    "    \n",
    "    gain = entropy(data.Survived) - (l*entropy(left.Survived)+r*entropy(right.Survived)) #Simply putting in formula\n",
    "    return gain"
   ]
  },
  {
   "cell_type": "code",
   "execution_count": 20,
   "metadata": {},
   "outputs": [
    {
     "name": "stdout",
     "output_type": "stream",
     "text": [
      "Pclass\n",
      "0.07579362743608165\n",
      "Sex\n",
      "0.2176601066606142\n",
      "Age\n",
      "0.001158644038169343\n",
      "SibSp\n",
      "0.009584541813400071\n",
      "Parch\n",
      "0.015380754493137694\n",
      "Fare\n",
      "0.042140692838995464\n"
     ]
    }
   ],
   "source": [
    "for col in X.columns:\n",
    "    print(col)\n",
    "    print(information_gain(clean,col,clean[col].mean()))\n",
    "    #This will give the information gain for all the columns and we can use it for decision tree"
   ]
  },
  {
   "cell_type": "code",
   "execution_count": 21,
   "metadata": {},
   "outputs": [],
   "source": [
    "class DecisionTree:\n",
    "    \n",
    "    #Constructor\n",
    "    def __init__(self,depth=0,max_depth=5):\n",
    "        self.left = None #We will need left\n",
    "        self.right = None #We will need right\n",
    "        self.fkey = None #The column to be considered\n",
    "        self.fval = None\n",
    "        self.max_depth = max_depth\n",
    "        self.depth = depth \n",
    "        self.target = None #The answer\n",
    "        \n",
    "    def train(self,X_train):\n",
    "        \n",
    "        features = ['Pclass','Sex','Age','SibSp', 'Parch', 'Fare'] #All the features\n",
    "        info_gains = [] #Will keep storing the info gains of all columns here\n",
    "        \n",
    "        for ix in features:\n",
    "            i_gain = information_gain(X_train,ix,X_train[ix].mean()) #Will calculate all the features of information gains\n",
    "            info_gains.append(i_gain) #Store all the gains here\n",
    "            \n",
    "        self.fkey = features[np.argmax(info_gains)] #The column with maximum info gain is made the key\n",
    "        self.fval = X_train[self.fkey].mean() #Dividing the data\n",
    "        print(\"Making Tree Features is\",self.fkey) #Storing the information about which node is being made\n",
    "        \n",
    "        #Split Data\n",
    "        left,right = divide_data(X_train,self.fkey,self.fval) #Dividing into left and right\n",
    "        left = left.reset_index(drop=True) #Then resetting the row values\n",
    "        right = right.reset_index(drop=True) #Then resetting the row values\n",
    "         \n",
    "        #Truly a left node\n",
    "        if left.shape[0]  == 0 or right.shape[0] ==0: #If no more information gain is possible\n",
    "            if X_train.Survived.mean() >= 0.5: #Deciding the value according to the mean on that node\n",
    "                self.target = \"Survive\"\n",
    "            else:\n",
    "                self.target = \"Dead\"\n",
    "            return\n",
    "        #Stop earyly when depth >=max depth\n",
    "        if(self.depth>=self.max_depth): #Don't want to overfit\n",
    "            if X_train.Survived.mean() >= 0.5: #Deciding the value according to the mean on that node\n",
    "                self.target = \"Survive\"\n",
    "            else:\n",
    "                self.target = \"Dead\"\n",
    "            return\n",
    "        \n",
    "        #Recursive Case\n",
    "        self.left = DecisionTree(depth=self.depth+1,max_depth=self.max_depth) #The class needs to be called again, with increase in current depth\n",
    "        self.left.train(left) #Training the left\n",
    "        \n",
    "        self.right = DecisionTree(depth=self.depth+1,max_depth=self.max_depth) #Same as left\n",
    "        self.right.train(right)\n",
    "        \n",
    "        #You can set the target at every node\n",
    "        if X_train.Survived.mean() >= 0.5:\n",
    "            self.target = \"Survive\"\n",
    "        else:\n",
    "            self.target = \"Dead\"\n",
    "        return\n",
    "    def predict(self,test):\n",
    "        if test[self.fkey]>self.fval: #If it is greater than mean it should go to right node\n",
    "            #go to right\n",
    "            if self.right is None: #Now if right node is not there, answer needs to be returned\n",
    "                return self.target\n",
    "            return self.right.predict(test) #Otherwise go to right and repeat whole process\n",
    "        else:\n",
    "            if self.left is None: #Now if left node is not there, answer needs to be returned\n",
    "                return self.target\n",
    "            return self.left.predict(test) #Otherwise go to left and repeat whole process"
   ]
  },
  {
   "cell_type": "code",
   "execution_count": 23,
   "metadata": {},
   "outputs": [],
   "source": [
    "split = int(0.8*clean.shape[0]) #Taking split as 80% of total number of rows\n",
    "train_data = clean[:split] #Taking first 80% of rows in train set\n",
    "test_data = clean[split:] #Taking other rows in test set\n",
    "test_data = test_data.reset_index(drop=True)"
   ]
  },
  {
   "cell_type": "code",
   "execution_count": 24,
   "metadata": {},
   "outputs": [
    {
     "name": "stdout",
     "output_type": "stream",
     "text": [
      "(712, 7) (179, 7)\n"
     ]
    }
   ],
   "source": [
    "print(train_data.shape,test_data.shape)"
   ]
  },
  {
   "cell_type": "code",
   "execution_count": 25,
   "metadata": {},
   "outputs": [
    {
     "name": "stdout",
     "output_type": "stream",
     "text": [
      "Making Tree Features is Sex\n",
      "Making Tree Features is Pclass\n",
      "Making Tree Features is Age\n",
      "Making Tree Features is SibSp\n",
      "Making Tree Features is Pclass\n",
      "Making Tree Features is Age\n",
      "Making Tree Features is Age\n",
      "Making Tree Features is SibSp\n",
      "Making Tree Features is Parch\n",
      "Making Tree Features is Pclass\n",
      "Making Tree Features is SibSp\n",
      "Making Tree Features is Fare\n",
      "Making Tree Features is Parch\n",
      "Making Tree Features is Age\n",
      "Making Tree Features is Pclass\n",
      "Making Tree Features is Age\n",
      "Making Tree Features is Age\n",
      "Making Tree Features is Parch\n",
      "Making Tree Features is SibSp\n",
      "Making Tree Features is Fare\n",
      "Making Tree Features is Age\n",
      "Making Tree Features is Age\n",
      "Making Tree Features is Fare\n",
      "Making Tree Features is Age\n",
      "Making Tree Features is Age\n",
      "Making Tree Features is Fare\n",
      "Making Tree Features is Age\n",
      "Making Tree Features is Age\n",
      "Making Tree Features is Fare\n",
      "Making Tree Features is Fare\n",
      "Making Tree Features is Fare\n",
      "Making Tree Features is Age\n",
      "Making Tree Features is Fare\n",
      "Making Tree Features is Parch\n",
      "Making Tree Features is Age\n",
      "Making Tree Features is SibSp\n",
      "Making Tree Features is Fare\n",
      "Making Tree Features is Fare\n",
      "Making Tree Features is Age\n",
      "Making Tree Features is Fare\n",
      "Making Tree Features is Fare\n",
      "Making Tree Features is Age\n",
      "Making Tree Features is Age\n",
      "Making Tree Features is SibSp\n",
      "Making Tree Features is Age\n",
      "Making Tree Features is Age\n",
      "Making Tree Features is Fare\n",
      "Making Tree Features is Pclass\n",
      "Making Tree Features is SibSp\n",
      "Making Tree Features is Age\n",
      "Making Tree Features is Age\n",
      "Making Tree Features is Pclass\n",
      "Making Tree Features is Age\n",
      "Making Tree Features is Pclass\n",
      "Making Tree Features is Age\n",
      "Making Tree Features is Pclass\n",
      "Making Tree Features is SibSp\n",
      "Making Tree Features is Pclass\n",
      "Making Tree Features is SibSp\n",
      "Making Tree Features is Parch\n",
      "Making Tree Features is Age\n",
      "Making Tree Features is Age\n",
      "Making Tree Features is Pclass\n"
     ]
    }
   ],
   "source": [
    "dt = DecisionTree() #Creating the instance of class\n",
    "dt.train(train_data) #Training the model"
   ]
  },
  {
   "cell_type": "code",
   "execution_count": 26,
   "metadata": {},
   "outputs": [],
   "source": [
    "pred = []\n",
    "for ix in range(test_data.shape[0]): #All the predictions made for the test set\n",
    "    pred.append(dt.predict(test_data.loc[ix])) #All the predictions stored"
   ]
  },
  {
   "cell_type": "code",
   "execution_count": 27,
   "metadata": {},
   "outputs": [],
   "source": [
    "actual = test_data[output]"
   ]
  },
  {
   "cell_type": "code",
   "execution_count": 28,
   "metadata": {},
   "outputs": [],
   "source": [
    "#The answer is in the form of dead and survived so need to convert to 0 and 1 using label encoder\n",
    "le = LabelEncoder()\n",
    "pred = le.fit_transform(pred)"
   ]
  },
  {
   "cell_type": "code",
   "execution_count": 29,
   "metadata": {},
   "outputs": [
    {
     "name": "stdout",
     "output_type": "stream",
     "text": [
      "(179, 1)\n"
     ]
    }
   ],
   "source": [
    "pred = np.array(pred).reshape((-1,1))\n",
    "print(pred.shape)\n",
    "#Converting pred into right shape and converting it to np array"
   ]
  },
  {
   "cell_type": "code",
   "execution_count": 30,
   "metadata": {},
   "outputs": [
    {
     "name": "stdout",
     "output_type": "stream",
     "text": [
      "0.8715083798882681\n"
     ]
    }
   ],
   "source": [
    "accuracy = np.sum(np.array(pred)==np.array(actual))/pred.shape[0]\n",
    "#Calculating the accuracy\n",
    "#It is done by taking sum of number of same in pred and actual dividing by total number of prediction\n",
    "print(accuracy)"
   ]
  },
  {
   "cell_type": "code",
   "execution_count": null,
   "metadata": {},
   "outputs": [],
   "source": []
  }
 ],
 "metadata": {
  "kernelspec": {
   "display_name": "Python 3",
   "language": "python",
   "name": "python3"
  },
  "language_info": {
   "codemirror_mode": {
    "name": "ipython",
    "version": 3
   },
   "file_extension": ".py",
   "mimetype": "text/x-python",
   "name": "python",
   "nbconvert_exporter": "python",
   "pygments_lexer": "ipython3",
   "version": "3.6.5"
  }
 },
 "nbformat": 4,
 "nbformat_minor": 2
}
