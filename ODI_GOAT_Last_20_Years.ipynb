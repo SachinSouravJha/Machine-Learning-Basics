{
  "nbformat": 4,
  "nbformat_minor": 0,
  "metadata": {
    "colab": {
      "name": "Stats.ipynb",
      "provenance": [],
      "authorship_tag": "ABX9TyOSJOceCsZVMcs28K8suNpu",
      "include_colab_link": true
    },
    "kernelspec": {
      "name": "python3",
      "display_name": "Python 3"
    }
  },
  "cells": [
    {
      "cell_type": "markdown",
      "metadata": {
        "id": "view-in-github",
        "colab_type": "text"
      },
      "source": [
        "<a href=\"https://colab.research.google.com/github/SachinSouravJha/Machine-Learning-Basics/blob/master/ODI_GOAT_Last_20_Years.ipynb\" target=\"_parent\"><img src=\"https://colab.research.google.com/assets/colab-badge.svg\" alt=\"Open In Colab\"/></a>"
      ]
    },
    {
      "cell_type": "code",
      "metadata": {
        "id": "HjCbsB4Np7Uq",
        "colab_type": "code",
        "colab": {
          "base_uri": "https://localhost:8080/",
          "height": 377
        },
        "outputId": "486914a1-4bf9-4641-ef66-eb1fe5fa8fb0"
      },
      "source": [
        "!wget https://www.dropbox.com/s/pxw4ps4xeqgyzr8/Year_wise_batting_stats_all_ODI_players%2820-12-19%29.csv?dl=0\n"
      ],
      "execution_count": 26,
      "outputs": [
        {
          "output_type": "stream",
          "text": [
            "--2020-04-11 09:27:43--  https://www.dropbox.com/s/pxw4ps4xeqgyzr8/Year_wise_batting_stats_all_ODI_players%2820-12-19%29.csv?dl=0\n",
            "Resolving www.dropbox.com (www.dropbox.com)... 162.125.82.1, 2620:100:6032:1::a27d:5201\n",
            "Connecting to www.dropbox.com (www.dropbox.com)|162.125.82.1|:443... connected.\n",
            "HTTP request sent, awaiting response... 301 Moved Permanently\n",
            "Location: /s/raw/pxw4ps4xeqgyzr8/Year_wise_batting_stats_all_ODI_players%2820-12-19%29.csv [following]\n",
            "--2020-04-11 09:27:43--  https://www.dropbox.com/s/raw/pxw4ps4xeqgyzr8/Year_wise_batting_stats_all_ODI_players%2820-12-19%29.csv\n",
            "Reusing existing connection to www.dropbox.com:443.\n",
            "HTTP request sent, awaiting response... 302 Found\n",
            "Location: https://ucd6fa5a0712473d0f46bb9e996e.dl.dropboxusercontent.com/cd/0/inline/A1qOkVPj9j6no5GYQtDWbyjX1YQBzsIFqr_k3W3tPS2gV1Jfc1zQQFAysXlHRMb2ISCCb__6ohRar1tmAhk8RXWyJUOnanHM1YWL62azydJsXFiboHLxeyYs2hk2VeWK6-Y/file# [following]\n",
            "--2020-04-11 09:27:44--  https://ucd6fa5a0712473d0f46bb9e996e.dl.dropboxusercontent.com/cd/0/inline/A1qOkVPj9j6no5GYQtDWbyjX1YQBzsIFqr_k3W3tPS2gV1Jfc1zQQFAysXlHRMb2ISCCb__6ohRar1tmAhk8RXWyJUOnanHM1YWL62azydJsXFiboHLxeyYs2hk2VeWK6-Y/file\n",
            "Resolving ucd6fa5a0712473d0f46bb9e996e.dl.dropboxusercontent.com (ucd6fa5a0712473d0f46bb9e996e.dl.dropboxusercontent.com)... 162.125.82.6, 2620:100:6032:6::a27d:5206\n",
            "Connecting to ucd6fa5a0712473d0f46bb9e996e.dl.dropboxusercontent.com (ucd6fa5a0712473d0f46bb9e996e.dl.dropboxusercontent.com)|162.125.82.6|:443... connected.\n",
            "HTTP request sent, awaiting response... 200 OK\n",
            "Length: 764617 (747K) [text/plain]\n",
            "Saving to: ‘Year_wise_batting_stats_all_ODI_players(20-12-19).csv?dl=0.1’\n",
            "\n",
            "Year_wise_batting_s 100%[===================>] 746.70K  4.77MB/s    in 0.2s    \n",
            "\n",
            "2020-04-11 09:27:44 (4.77 MB/s) - ‘Year_wise_batting_stats_all_ODI_players(20-12-19).csv?dl=0.1’ saved [764617/764617]\n",
            "\n"
          ],
          "name": "stdout"
        }
      ]
    },
    {
      "cell_type": "code",
      "metadata": {
        "id": "v6aNyJol0B0e",
        "colab_type": "code",
        "outputId": "17c6d7a8-3924-4918-f49a-e91cf374fb51",
        "colab": {
          "base_uri": "https://localhost:8080/",
          "height": 68
        }
      },
      "source": [
        "!ls"
      ],
      "execution_count": 27,
      "outputs": [
        {
          "output_type": "stream",
          "text": [
            " sample_data\n",
            "'Year_wise_batting_stats_all_ODI_players(20-12-19).csv?dl=0'\n",
            "'Year_wise_batting_stats_all_ODI_players(20-12-19).csv?dl=0.1'\n"
          ],
          "name": "stdout"
        }
      ]
    },
    {
      "cell_type": "code",
      "metadata": {
        "id": "Nk8drWpg0CJq",
        "colab_type": "code",
        "colab": {}
      },
      "source": [
        "import pandas as pd\n",
        "stats = pd.read_csv('Year_wise_batting_stats_all_ODI_players(20-12-19).csv?dl=0')"
      ],
      "execution_count": 0,
      "outputs": []
    },
    {
      "cell_type": "code",
      "metadata": {
        "id": "Sa5UrRdY2xc6",
        "colab_type": "code",
        "outputId": "d0c5a141-d7be-4a5f-fd12-f76ce8ed5f66",
        "colab": {
          "base_uri": "https://localhost:8080/",
          "height": 204
        }
      },
      "source": [
        "stats.head()"
      ],
      "execution_count": 29,
      "outputs": [
        {
          "output_type": "execute_result",
          "data": {
            "text/html": [
              "<div>\n",
              "<style scoped>\n",
              "    .dataframe tbody tr th:only-of-type {\n",
              "        vertical-align: middle;\n",
              "    }\n",
              "\n",
              "    .dataframe tbody tr th {\n",
              "        vertical-align: top;\n",
              "    }\n",
              "\n",
              "    .dataframe thead th {\n",
              "        text-align: right;\n",
              "    }\n",
              "</style>\n",
              "<table border=\"1\" class=\"dataframe\">\n",
              "  <thead>\n",
              "    <tr style=\"text-align: right;\">\n",
              "      <th></th>\n",
              "      <th>country</th>\n",
              "      <th>player_name</th>\n",
              "      <th>0s</th>\n",
              "      <th>100s</th>\n",
              "      <th>50s</th>\n",
              "      <th>Avg</th>\n",
              "      <th>Ca</th>\n",
              "      <th>HS</th>\n",
              "      <th>Inns</th>\n",
              "      <th>Mat</th>\n",
              "      <th>NO</th>\n",
              "      <th>Runs</th>\n",
              "      <th>S/R</th>\n",
              "      <th>St</th>\n",
              "      <th>Year</th>\n",
              "    </tr>\n",
              "  </thead>\n",
              "  <tbody>\n",
              "    <tr>\n",
              "      <th>0</th>\n",
              "      <td>AFG</td>\n",
              "      <td>Najeeb Tarakai</td>\n",
              "      <td>0</td>\n",
              "      <td>0</td>\n",
              "      <td>0</td>\n",
              "      <td>5.0</td>\n",
              "      <td>0</td>\n",
              "      <td>5</td>\n",
              "      <td>1</td>\n",
              "      <td>1</td>\n",
              "      <td>0</td>\n",
              "      <td>5</td>\n",
              "      <td>27.78</td>\n",
              "      <td>0</td>\n",
              "      <td>2017</td>\n",
              "    </tr>\n",
              "    <tr>\n",
              "      <th>1</th>\n",
              "      <td>AFG</td>\n",
              "      <td>Najeeb Tarakai</td>\n",
              "      <td>0</td>\n",
              "      <td>0</td>\n",
              "      <td>0</td>\n",
              "      <td>5.0</td>\n",
              "      <td>0</td>\n",
              "      <td>5</td>\n",
              "      <td>1</td>\n",
              "      <td>1</td>\n",
              "      <td>0</td>\n",
              "      <td>5</td>\n",
              "      <td>27.78</td>\n",
              "      <td>0</td>\n",
              "      <td>Overall</td>\n",
              "    </tr>\n",
              "    <tr>\n",
              "      <th>2</th>\n",
              "      <td>AFG</td>\n",
              "      <td>Naveen -ul-Haq</td>\n",
              "      <td>0</td>\n",
              "      <td>0</td>\n",
              "      <td>0</td>\n",
              "      <td>NaN</td>\n",
              "      <td>2</td>\n",
              "      <td>0*</td>\n",
              "      <td>1</td>\n",
              "      <td>2</td>\n",
              "      <td>1</td>\n",
              "      <td>0</td>\n",
              "      <td>NaN</td>\n",
              "      <td>0</td>\n",
              "      <td>2016</td>\n",
              "    </tr>\n",
              "    <tr>\n",
              "      <th>3</th>\n",
              "      <td>AFG</td>\n",
              "      <td>Naveen -ul-Haq</td>\n",
              "      <td>0</td>\n",
              "      <td>0</td>\n",
              "      <td>0</td>\n",
              "      <td>9.0</td>\n",
              "      <td>0</td>\n",
              "      <td>8*</td>\n",
              "      <td>2</td>\n",
              "      <td>2</td>\n",
              "      <td>1</td>\n",
              "      <td>9</td>\n",
              "      <td>45.00</td>\n",
              "      <td>0</td>\n",
              "      <td>2019</td>\n",
              "    </tr>\n",
              "    <tr>\n",
              "      <th>4</th>\n",
              "      <td>AFG</td>\n",
              "      <td>Naveen -ul-Haq</td>\n",
              "      <td>0</td>\n",
              "      <td>0</td>\n",
              "      <td>0</td>\n",
              "      <td>9.0</td>\n",
              "      <td>2</td>\n",
              "      <td>8*</td>\n",
              "      <td>3</td>\n",
              "      <td>4</td>\n",
              "      <td>2</td>\n",
              "      <td>9</td>\n",
              "      <td>42.86</td>\n",
              "      <td>0</td>\n",
              "      <td>Overall</td>\n",
              "    </tr>\n",
              "  </tbody>\n",
              "</table>\n",
              "</div>"
            ],
            "text/plain": [
              "  country     player_name  0s  100s  50s  ...  NO  Runs    S/R  St     Year\n",
              "0     AFG  Najeeb Tarakai   0     0    0  ...   0     5  27.78   0     2017\n",
              "1     AFG  Najeeb Tarakai   0     0    0  ...   0     5  27.78   0  Overall\n",
              "2     AFG  Naveen -ul-Haq   0     0    0  ...   1     0    NaN   0     2016\n",
              "3     AFG  Naveen -ul-Haq   0     0    0  ...   1     9  45.00   0     2019\n",
              "4     AFG  Naveen -ul-Haq   0     0    0  ...   2     9  42.86   0  Overall\n",
              "\n",
              "[5 rows x 15 columns]"
            ]
          },
          "metadata": {
            "tags": []
          },
          "execution_count": 29
        }
      ]
    },
    {
      "cell_type": "code",
      "metadata": {
        "id": "X49YTOuC2yZK",
        "colab_type": "code",
        "outputId": "1e0a9166-990e-43d2-bf02-92ee26cefc60",
        "colab": {
          "base_uri": "https://localhost:8080/",
          "height": 204
        }
      },
      "source": [
        "stats1 = stats[stats['Year']!=\"Overall\"]\n",
        "stats1 = stats1[stats1['Year']>=\"2000\"]\n",
        "stats1.head()"
      ],
      "execution_count": 46,
      "outputs": [
        {
          "output_type": "execute_result",
          "data": {
            "text/html": [
              "<div>\n",
              "<style scoped>\n",
              "    .dataframe tbody tr th:only-of-type {\n",
              "        vertical-align: middle;\n",
              "    }\n",
              "\n",
              "    .dataframe tbody tr th {\n",
              "        vertical-align: top;\n",
              "    }\n",
              "\n",
              "    .dataframe thead th {\n",
              "        text-align: right;\n",
              "    }\n",
              "</style>\n",
              "<table border=\"1\" class=\"dataframe\">\n",
              "  <thead>\n",
              "    <tr style=\"text-align: right;\">\n",
              "      <th></th>\n",
              "      <th>country</th>\n",
              "      <th>player_name</th>\n",
              "      <th>0s</th>\n",
              "      <th>100s</th>\n",
              "      <th>50s</th>\n",
              "      <th>Avg</th>\n",
              "      <th>Ca</th>\n",
              "      <th>HS</th>\n",
              "      <th>Inns</th>\n",
              "      <th>Mat</th>\n",
              "      <th>NO</th>\n",
              "      <th>Runs</th>\n",
              "      <th>S/R</th>\n",
              "      <th>St</th>\n",
              "      <th>Year</th>\n",
              "    </tr>\n",
              "  </thead>\n",
              "  <tbody>\n",
              "    <tr>\n",
              "      <th>0</th>\n",
              "      <td>AFG</td>\n",
              "      <td>Najeeb Tarakai</td>\n",
              "      <td>0</td>\n",
              "      <td>0</td>\n",
              "      <td>0</td>\n",
              "      <td>5.0</td>\n",
              "      <td>0</td>\n",
              "      <td>5</td>\n",
              "      <td>1</td>\n",
              "      <td>1</td>\n",
              "      <td>0</td>\n",
              "      <td>5</td>\n",
              "      <td>27.78</td>\n",
              "      <td>0</td>\n",
              "      <td>2017</td>\n",
              "    </tr>\n",
              "    <tr>\n",
              "      <th>2</th>\n",
              "      <td>AFG</td>\n",
              "      <td>Naveen -ul-Haq</td>\n",
              "      <td>0</td>\n",
              "      <td>0</td>\n",
              "      <td>0</td>\n",
              "      <td>NaN</td>\n",
              "      <td>2</td>\n",
              "      <td>0*</td>\n",
              "      <td>1</td>\n",
              "      <td>2</td>\n",
              "      <td>1</td>\n",
              "      <td>0</td>\n",
              "      <td>NaN</td>\n",
              "      <td>0</td>\n",
              "      <td>2016</td>\n",
              "    </tr>\n",
              "    <tr>\n",
              "      <th>3</th>\n",
              "      <td>AFG</td>\n",
              "      <td>Naveen -ul-Haq</td>\n",
              "      <td>0</td>\n",
              "      <td>0</td>\n",
              "      <td>0</td>\n",
              "      <td>9.0</td>\n",
              "      <td>0</td>\n",
              "      <td>8*</td>\n",
              "      <td>2</td>\n",
              "      <td>2</td>\n",
              "      <td>1</td>\n",
              "      <td>9</td>\n",
              "      <td>45.00</td>\n",
              "      <td>0</td>\n",
              "      <td>2019</td>\n",
              "    </tr>\n",
              "    <tr>\n",
              "      <th>5</th>\n",
              "      <td>AFG</td>\n",
              "      <td>Zakiullah Zaki</td>\n",
              "      <td>0</td>\n",
              "      <td>0</td>\n",
              "      <td>0</td>\n",
              "      <td>NaN</td>\n",
              "      <td>0</td>\n",
              "      <td>3*</td>\n",
              "      <td>1</td>\n",
              "      <td>1</td>\n",
              "      <td>1</td>\n",
              "      <td>3</td>\n",
              "      <td>13.64</td>\n",
              "      <td>0</td>\n",
              "      <td>2012</td>\n",
              "    </tr>\n",
              "    <tr>\n",
              "      <th>7</th>\n",
              "      <td>AFG</td>\n",
              "      <td>Usman Ghani</td>\n",
              "      <td>1</td>\n",
              "      <td>1</td>\n",
              "      <td>2</td>\n",
              "      <td>39.5</td>\n",
              "      <td>2</td>\n",
              "      <td>118</td>\n",
              "      <td>8</td>\n",
              "      <td>8</td>\n",
              "      <td>0</td>\n",
              "      <td>316</td>\n",
              "      <td>78.61</td>\n",
              "      <td>0</td>\n",
              "      <td>2014</td>\n",
              "    </tr>\n",
              "  </tbody>\n",
              "</table>\n",
              "</div>"
            ],
            "text/plain": [
              "  country     player_name  0s  100s  50s   Avg  ...  Mat NO  Runs    S/R  St  Year\n",
              "0     AFG  Najeeb Tarakai   0     0    0   5.0  ...    1  0     5  27.78   0  2017\n",
              "2     AFG  Naveen -ul-Haq   0     0    0   NaN  ...    2  1     0    NaN   0  2016\n",
              "3     AFG  Naveen -ul-Haq   0     0    0   9.0  ...    2  1     9  45.00   0  2019\n",
              "5     AFG  Zakiullah Zaki   0     0    0   NaN  ...    1  1     3  13.64   0  2012\n",
              "7     AFG     Usman Ghani   1     1    2  39.5  ...    8  0   316  78.61   0  2014\n",
              "\n",
              "[5 rows x 15 columns]"
            ]
          },
          "metadata": {
            "tags": []
          },
          "execution_count": 46
        }
      ]
    },
    {
      "cell_type": "code",
      "metadata": {
        "id": "GnP0gPaG0CW4",
        "colab_type": "code",
        "outputId": "9aa562a1-3393-4f47-9baa-2d9e494554dc",
        "colab": {
          "base_uri": "https://localhost:8080/",
          "height": 204
        }
      },
      "source": [
        "stats1[\"Avg\"] = stats1[\"Avg\"].fillna(0)\n",
        "stats1[\"S/R\"] = stats1[\"S/R\"].fillna(0)\n",
        "stats1.head()"
      ],
      "execution_count": 47,
      "outputs": [
        {
          "output_type": "execute_result",
          "data": {
            "text/html": [
              "<div>\n",
              "<style scoped>\n",
              "    .dataframe tbody tr th:only-of-type {\n",
              "        vertical-align: middle;\n",
              "    }\n",
              "\n",
              "    .dataframe tbody tr th {\n",
              "        vertical-align: top;\n",
              "    }\n",
              "\n",
              "    .dataframe thead th {\n",
              "        text-align: right;\n",
              "    }\n",
              "</style>\n",
              "<table border=\"1\" class=\"dataframe\">\n",
              "  <thead>\n",
              "    <tr style=\"text-align: right;\">\n",
              "      <th></th>\n",
              "      <th>country</th>\n",
              "      <th>player_name</th>\n",
              "      <th>0s</th>\n",
              "      <th>100s</th>\n",
              "      <th>50s</th>\n",
              "      <th>Avg</th>\n",
              "      <th>Ca</th>\n",
              "      <th>HS</th>\n",
              "      <th>Inns</th>\n",
              "      <th>Mat</th>\n",
              "      <th>NO</th>\n",
              "      <th>Runs</th>\n",
              "      <th>S/R</th>\n",
              "      <th>St</th>\n",
              "      <th>Year</th>\n",
              "    </tr>\n",
              "  </thead>\n",
              "  <tbody>\n",
              "    <tr>\n",
              "      <th>0</th>\n",
              "      <td>AFG</td>\n",
              "      <td>Najeeb Tarakai</td>\n",
              "      <td>0</td>\n",
              "      <td>0</td>\n",
              "      <td>0</td>\n",
              "      <td>5.0</td>\n",
              "      <td>0</td>\n",
              "      <td>5</td>\n",
              "      <td>1</td>\n",
              "      <td>1</td>\n",
              "      <td>0</td>\n",
              "      <td>5</td>\n",
              "      <td>27.78</td>\n",
              "      <td>0</td>\n",
              "      <td>2017</td>\n",
              "    </tr>\n",
              "    <tr>\n",
              "      <th>2</th>\n",
              "      <td>AFG</td>\n",
              "      <td>Naveen -ul-Haq</td>\n",
              "      <td>0</td>\n",
              "      <td>0</td>\n",
              "      <td>0</td>\n",
              "      <td>0.0</td>\n",
              "      <td>2</td>\n",
              "      <td>0*</td>\n",
              "      <td>1</td>\n",
              "      <td>2</td>\n",
              "      <td>1</td>\n",
              "      <td>0</td>\n",
              "      <td>0.00</td>\n",
              "      <td>0</td>\n",
              "      <td>2016</td>\n",
              "    </tr>\n",
              "    <tr>\n",
              "      <th>3</th>\n",
              "      <td>AFG</td>\n",
              "      <td>Naveen -ul-Haq</td>\n",
              "      <td>0</td>\n",
              "      <td>0</td>\n",
              "      <td>0</td>\n",
              "      <td>9.0</td>\n",
              "      <td>0</td>\n",
              "      <td>8*</td>\n",
              "      <td>2</td>\n",
              "      <td>2</td>\n",
              "      <td>1</td>\n",
              "      <td>9</td>\n",
              "      <td>45.00</td>\n",
              "      <td>0</td>\n",
              "      <td>2019</td>\n",
              "    </tr>\n",
              "    <tr>\n",
              "      <th>5</th>\n",
              "      <td>AFG</td>\n",
              "      <td>Zakiullah Zaki</td>\n",
              "      <td>0</td>\n",
              "      <td>0</td>\n",
              "      <td>0</td>\n",
              "      <td>0.0</td>\n",
              "      <td>0</td>\n",
              "      <td>3*</td>\n",
              "      <td>1</td>\n",
              "      <td>1</td>\n",
              "      <td>1</td>\n",
              "      <td>3</td>\n",
              "      <td>13.64</td>\n",
              "      <td>0</td>\n",
              "      <td>2012</td>\n",
              "    </tr>\n",
              "    <tr>\n",
              "      <th>7</th>\n",
              "      <td>AFG</td>\n",
              "      <td>Usman Ghani</td>\n",
              "      <td>1</td>\n",
              "      <td>1</td>\n",
              "      <td>2</td>\n",
              "      <td>39.5</td>\n",
              "      <td>2</td>\n",
              "      <td>118</td>\n",
              "      <td>8</td>\n",
              "      <td>8</td>\n",
              "      <td>0</td>\n",
              "      <td>316</td>\n",
              "      <td>78.61</td>\n",
              "      <td>0</td>\n",
              "      <td>2014</td>\n",
              "    </tr>\n",
              "  </tbody>\n",
              "</table>\n",
              "</div>"
            ],
            "text/plain": [
              "  country     player_name  0s  100s  50s   Avg  ...  Mat NO  Runs    S/R  St  Year\n",
              "0     AFG  Najeeb Tarakai   0     0    0   5.0  ...    1  0     5  27.78   0  2017\n",
              "2     AFG  Naveen -ul-Haq   0     0    0   0.0  ...    2  1     0   0.00   0  2016\n",
              "3     AFG  Naveen -ul-Haq   0     0    0   9.0  ...    2  1     9  45.00   0  2019\n",
              "5     AFG  Zakiullah Zaki   0     0    0   0.0  ...    1  1     3  13.64   0  2012\n",
              "7     AFG     Usman Ghani   1     1    2  39.5  ...    8  0   316  78.61   0  2014\n",
              "\n",
              "[5 rows x 15 columns]"
            ]
          },
          "metadata": {
            "tags": []
          },
          "execution_count": 47
        }
      ]
    },
    {
      "cell_type": "code",
      "metadata": {
        "id": "TxlSIfDv0CmA",
        "colab_type": "code",
        "outputId": "3c84745b-4b55-4e6a-b7ef-34a4ded3e722",
        "colab": {
          "base_uri": "https://localhost:8080/",
          "height": 51
        }
      },
      "source": [
        "Unique = stats.player_name.unique()\n",
        "Unique"
      ],
      "execution_count": 48,
      "outputs": [
        {
          "output_type": "execute_result",
          "data": {
            "text/plain": [
              "array(['Najeeb Tarakai', 'Naveen -ul-Haq', 'Zakiullah Zaki', ...,\n",
              "       'Babu Meman', 'Vincent Hogg', 'John Rennie'], dtype=object)"
            ]
          },
          "metadata": {
            "tags": []
          },
          "execution_count": 48
        }
      ]
    },
    {
      "cell_type": "code",
      "metadata": {
        "id": "-bj8f8rEsx1z",
        "colab_type": "code",
        "colab": {}
      },
      "source": [
        "#Better List"
      ],
      "execution_count": 0,
      "outputs": []
    },
    {
      "cell_type": "code",
      "metadata": {
        "id": "rPyR5V078_Vl",
        "colab_type": "code",
        "outputId": "ffd7d86d-e5c9-48e0-99b2-9eb1ecd4acff",
        "colab": {
          "base_uri": "https://localhost:8080/",
          "height": 204
        }
      },
      "source": [
        "\n",
        "stats1[\"Avg\"] = stats1[\"Avg\"]-(2*stats[\"NO\"])\n",
        "stats1.head()"
      ],
      "execution_count": 125,
      "outputs": [
        {
          "output_type": "execute_result",
          "data": {
            "text/html": [
              "<div>\n",
              "<style scoped>\n",
              "    .dataframe tbody tr th:only-of-type {\n",
              "        vertical-align: middle;\n",
              "    }\n",
              "\n",
              "    .dataframe tbody tr th {\n",
              "        vertical-align: top;\n",
              "    }\n",
              "\n",
              "    .dataframe thead th {\n",
              "        text-align: right;\n",
              "    }\n",
              "</style>\n",
              "<table border=\"1\" class=\"dataframe\">\n",
              "  <thead>\n",
              "    <tr style=\"text-align: right;\">\n",
              "      <th></th>\n",
              "      <th>country</th>\n",
              "      <th>player_name</th>\n",
              "      <th>0s</th>\n",
              "      <th>100s</th>\n",
              "      <th>50s</th>\n",
              "      <th>Avg</th>\n",
              "      <th>Ca</th>\n",
              "      <th>HS</th>\n",
              "      <th>Inns</th>\n",
              "      <th>Mat</th>\n",
              "      <th>NO</th>\n",
              "      <th>Runs</th>\n",
              "      <th>S/R</th>\n",
              "      <th>St</th>\n",
              "      <th>Year</th>\n",
              "    </tr>\n",
              "  </thead>\n",
              "  <tbody>\n",
              "    <tr>\n",
              "      <th>0</th>\n",
              "      <td>AFG</td>\n",
              "      <td>Najeeb Tarakai</td>\n",
              "      <td>0</td>\n",
              "      <td>0</td>\n",
              "      <td>0</td>\n",
              "      <td>5.0</td>\n",
              "      <td>0</td>\n",
              "      <td>5</td>\n",
              "      <td>1</td>\n",
              "      <td>1</td>\n",
              "      <td>0</td>\n",
              "      <td>5</td>\n",
              "      <td>27.78</td>\n",
              "      <td>0</td>\n",
              "      <td>2017</td>\n",
              "    </tr>\n",
              "    <tr>\n",
              "      <th>2</th>\n",
              "      <td>AFG</td>\n",
              "      <td>Naveen -ul-Haq</td>\n",
              "      <td>0</td>\n",
              "      <td>0</td>\n",
              "      <td>0</td>\n",
              "      <td>-2.0</td>\n",
              "      <td>2</td>\n",
              "      <td>0*</td>\n",
              "      <td>1</td>\n",
              "      <td>2</td>\n",
              "      <td>1</td>\n",
              "      <td>0</td>\n",
              "      <td>0.00</td>\n",
              "      <td>0</td>\n",
              "      <td>2016</td>\n",
              "    </tr>\n",
              "    <tr>\n",
              "      <th>3</th>\n",
              "      <td>AFG</td>\n",
              "      <td>Naveen -ul-Haq</td>\n",
              "      <td>0</td>\n",
              "      <td>0</td>\n",
              "      <td>0</td>\n",
              "      <td>7.0</td>\n",
              "      <td>0</td>\n",
              "      <td>8*</td>\n",
              "      <td>2</td>\n",
              "      <td>2</td>\n",
              "      <td>1</td>\n",
              "      <td>9</td>\n",
              "      <td>45.00</td>\n",
              "      <td>0</td>\n",
              "      <td>2019</td>\n",
              "    </tr>\n",
              "    <tr>\n",
              "      <th>5</th>\n",
              "      <td>AFG</td>\n",
              "      <td>Zakiullah Zaki</td>\n",
              "      <td>0</td>\n",
              "      <td>0</td>\n",
              "      <td>0</td>\n",
              "      <td>-2.0</td>\n",
              "      <td>0</td>\n",
              "      <td>3*</td>\n",
              "      <td>1</td>\n",
              "      <td>1</td>\n",
              "      <td>1</td>\n",
              "      <td>3</td>\n",
              "      <td>13.64</td>\n",
              "      <td>0</td>\n",
              "      <td>2012</td>\n",
              "    </tr>\n",
              "    <tr>\n",
              "      <th>7</th>\n",
              "      <td>AFG</td>\n",
              "      <td>Usman Ghani</td>\n",
              "      <td>1</td>\n",
              "      <td>1</td>\n",
              "      <td>2</td>\n",
              "      <td>39.5</td>\n",
              "      <td>2</td>\n",
              "      <td>118</td>\n",
              "      <td>8</td>\n",
              "      <td>8</td>\n",
              "      <td>0</td>\n",
              "      <td>316</td>\n",
              "      <td>78.61</td>\n",
              "      <td>0</td>\n",
              "      <td>2014</td>\n",
              "    </tr>\n",
              "  </tbody>\n",
              "</table>\n",
              "</div>"
            ],
            "text/plain": [
              "  country     player_name  0s  100s  50s   Avg  ...  Mat NO  Runs    S/R  St  Year\n",
              "0     AFG  Najeeb Tarakai   0     0    0   5.0  ...    1  0     5  27.78   0  2017\n",
              "2     AFG  Naveen -ul-Haq   0     0    0  -2.0  ...    2  1     0   0.00   0  2016\n",
              "3     AFG  Naveen -ul-Haq   0     0    0   7.0  ...    2  1     9  45.00   0  2019\n",
              "5     AFG  Zakiullah Zaki   0     0    0  -2.0  ...    1  1     3  13.64   0  2012\n",
              "7     AFG     Usman Ghani   1     1    2  39.5  ...    8  0   316  78.61   0  2014\n",
              "\n",
              "[5 rows x 15 columns]"
            ]
          },
          "metadata": {
            "tags": []
          },
          "execution_count": 125
        }
      ]
    },
    {
      "cell_type": "code",
      "metadata": {
        "id": "w0H-W8Np8_ew",
        "colab_type": "code",
        "outputId": "2c2e368c-f9c6-4c05-a7e0-6186d4ec032a",
        "colab": {
          "base_uri": "https://localhost:8080/",
          "height": 54
        }
      },
      "source": [
        "gradient = 8.0\n",
        "Year_Dict = {}\n",
        "for i in range(1971,2020):\n",
        "  Year_Dict[i] = gradient\n",
        "  gradient = gradient-0.1\n",
        "print(Year_Dict)"
      ],
      "execution_count": 126,
      "outputs": [
        {
          "output_type": "stream",
          "text": [
            "{1971: 8.0, 1972: 7.9, 1973: 7.800000000000001, 1974: 7.700000000000001, 1975: 7.600000000000001, 1976: 7.500000000000002, 1977: 7.400000000000002, 1978: 7.3000000000000025, 1979: 7.200000000000003, 1980: 7.100000000000003, 1981: 7.0000000000000036, 1982: 6.900000000000004, 1983: 6.800000000000004, 1984: 6.700000000000005, 1985: 6.600000000000005, 1986: 6.500000000000005, 1987: 6.400000000000006, 1988: 6.300000000000006, 1989: 6.200000000000006, 1990: 6.100000000000007, 1991: 6.000000000000007, 1992: 5.9000000000000075, 1993: 5.800000000000008, 1994: 5.700000000000008, 1995: 5.6000000000000085, 1996: 5.500000000000009, 1997: 5.400000000000009, 1998: 5.30000000000001, 1999: 5.20000000000001, 2000: 5.10000000000001, 2001: 5.000000000000011, 2002: 4.900000000000011, 2003: 4.800000000000011, 2004: 4.700000000000012, 2005: 4.600000000000012, 2006: 4.500000000000012, 2007: 4.400000000000013, 2008: 4.300000000000013, 2009: 4.2000000000000135, 2010: 4.100000000000014, 2011: 4.000000000000014, 2012: 3.900000000000014, 2013: 3.800000000000014, 2014: 3.700000000000014, 2015: 3.600000000000014, 2016: 3.5000000000000138, 2017: 3.4000000000000137, 2018: 3.3000000000000136, 2019: 3.2000000000000135}\n"
          ],
          "name": "stdout"
        }
      ]
    },
    {
      "cell_type": "code",
      "metadata": {
        "id": "PRQz-rTonLEf",
        "colab_type": "code",
        "colab": {}
      },
      "source": [
        "#Start"
      ],
      "execution_count": 0,
      "outputs": []
    },
    {
      "cell_type": "code",
      "metadata": {
        "id": "PIrVQFKgCYeV",
        "colab_type": "code",
        "outputId": "b454434e-0915-487a-98c7-4907b3e9fb2a",
        "colab": {
          "base_uri": "https://localhost:8080/",
          "height": 204
        }
      },
      "source": [
        "stats3 = stats1[stats1['Inns']>10]\n",
        "\n",
        "stats3.head()"
      ],
      "execution_count": 127,
      "outputs": [
        {
          "output_type": "execute_result",
          "data": {
            "text/html": [
              "<div>\n",
              "<style scoped>\n",
              "    .dataframe tbody tr th:only-of-type {\n",
              "        vertical-align: middle;\n",
              "    }\n",
              "\n",
              "    .dataframe tbody tr th {\n",
              "        vertical-align: top;\n",
              "    }\n",
              "\n",
              "    .dataframe thead th {\n",
              "        text-align: right;\n",
              "    }\n",
              "</style>\n",
              "<table border=\"1\" class=\"dataframe\">\n",
              "  <thead>\n",
              "    <tr style=\"text-align: right;\">\n",
              "      <th></th>\n",
              "      <th>country</th>\n",
              "      <th>player_name</th>\n",
              "      <th>0s</th>\n",
              "      <th>100s</th>\n",
              "      <th>50s</th>\n",
              "      <th>Avg</th>\n",
              "      <th>Ca</th>\n",
              "      <th>HS</th>\n",
              "      <th>Inns</th>\n",
              "      <th>Mat</th>\n",
              "      <th>NO</th>\n",
              "      <th>Runs</th>\n",
              "      <th>S/R</th>\n",
              "      <th>St</th>\n",
              "      <th>Year</th>\n",
              "    </tr>\n",
              "  </thead>\n",
              "  <tbody>\n",
              "    <tr>\n",
              "      <th>12</th>\n",
              "      <td>AFG</td>\n",
              "      <td>Karim Sadiq</td>\n",
              "      <td>3</td>\n",
              "      <td>1</td>\n",
              "      <td>0</td>\n",
              "      <td>19.50</td>\n",
              "      <td>3</td>\n",
              "      <td>114*</td>\n",
              "      <td>12</td>\n",
              "      <td>13</td>\n",
              "      <td>2</td>\n",
              "      <td>235</td>\n",
              "      <td>74.13</td>\n",
              "      <td>0</td>\n",
              "      <td>2010</td>\n",
              "    </tr>\n",
              "    <tr>\n",
              "      <th>39</th>\n",
              "      <td>AFG</td>\n",
              "      <td>Hashmatullah Shahidi</td>\n",
              "      <td>1</td>\n",
              "      <td>0</td>\n",
              "      <td>4</td>\n",
              "      <td>27.77</td>\n",
              "      <td>3</td>\n",
              "      <td>76</td>\n",
              "      <td>14</td>\n",
              "      <td>14</td>\n",
              "      <td>1</td>\n",
              "      <td>387</td>\n",
              "      <td>63.44</td>\n",
              "      <td>0</td>\n",
              "      <td>2019</td>\n",
              "    </tr>\n",
              "    <tr>\n",
              "      <th>87</th>\n",
              "      <td>AFG</td>\n",
              "      <td>Rahmat Shah</td>\n",
              "      <td>1</td>\n",
              "      <td>1</td>\n",
              "      <td>5</td>\n",
              "      <td>37.36</td>\n",
              "      <td>3</td>\n",
              "      <td>108*</td>\n",
              "      <td>15</td>\n",
              "      <td>16</td>\n",
              "      <td>1</td>\n",
              "      <td>551</td>\n",
              "      <td>70.10</td>\n",
              "      <td>0</td>\n",
              "      <td>2017</td>\n",
              "    </tr>\n",
              "    <tr>\n",
              "      <th>88</th>\n",
              "      <td>AFG</td>\n",
              "      <td>Rahmat Shah</td>\n",
              "      <td>0</td>\n",
              "      <td>1</td>\n",
              "      <td>6</td>\n",
              "      <td>38.00</td>\n",
              "      <td>6</td>\n",
              "      <td>114</td>\n",
              "      <td>19</td>\n",
              "      <td>20</td>\n",
              "      <td>0</td>\n",
              "      <td>722</td>\n",
              "      <td>74.74</td>\n",
              "      <td>0</td>\n",
              "      <td>2018</td>\n",
              "    </tr>\n",
              "    <tr>\n",
              "      <th>89</th>\n",
              "      <td>AFG</td>\n",
              "      <td>Rahmat Shah</td>\n",
              "      <td>1</td>\n",
              "      <td>1</td>\n",
              "      <td>4</td>\n",
              "      <td>32.30</td>\n",
              "      <td>6</td>\n",
              "      <td>113</td>\n",
              "      <td>20</td>\n",
              "      <td>20</td>\n",
              "      <td>0</td>\n",
              "      <td>646</td>\n",
              "      <td>68.58</td>\n",
              "      <td>0</td>\n",
              "      <td>2019</td>\n",
              "    </tr>\n",
              "  </tbody>\n",
              "</table>\n",
              "</div>"
            ],
            "text/plain": [
              "   country           player_name  0s  100s  50s  ...  NO  Runs    S/R  St  Year\n",
              "12     AFG           Karim Sadiq   3     1    0  ...   2   235  74.13   0  2010\n",
              "39     AFG  Hashmatullah Shahidi   1     0    4  ...   1   387  63.44   0  2019\n",
              "87     AFG           Rahmat Shah   1     1    5  ...   1   551  70.10   0  2017\n",
              "88     AFG           Rahmat Shah   0     1    6  ...   0   722  74.74   0  2018\n",
              "89     AFG           Rahmat Shah   1     1    4  ...   0   646  68.58   0  2019\n",
              "\n",
              "[5 rows x 15 columns]"
            ]
          },
          "metadata": {
            "tags": []
          },
          "execution_count": 127
        }
      ]
    },
    {
      "cell_type": "code",
      "metadata": {
        "id": "YgwTzqq9Jf05",
        "colab_type": "code",
        "colab": {}
      },
      "source": [
        "scaled_features = stats3.copy()"
      ],
      "execution_count": 0,
      "outputs": []
    },
    {
      "cell_type": "code",
      "metadata": {
        "id": "Eb5EhsSEJf-r",
        "colab_type": "code",
        "colab": {}
      },
      "source": [
        "from sklearn.preprocessing import MinMaxScaler\n",
        "col_names = ['Avg', 'S/R']\n",
        "features = scaled_features[col_names]\n",
        "scaler = MinMaxScaler().fit(features.values)\n",
        "features = scaler.transform(features.values)"
      ],
      "execution_count": 0,
      "outputs": []
    },
    {
      "cell_type": "code",
      "metadata": {
        "id": "INjojbyzCYxg",
        "colab_type": "code",
        "outputId": "b0a56ed4-9057-45a2-bf5d-589dbafda4c0",
        "colab": {
          "base_uri": "https://localhost:8080/",
          "height": 204
        }
      },
      "source": [
        "scaled_features[col_names] = features\n",
        "scaled_features.head()"
      ],
      "execution_count": 130,
      "outputs": [
        {
          "output_type": "execute_result",
          "data": {
            "text/html": [
              "<div>\n",
              "<style scoped>\n",
              "    .dataframe tbody tr th:only-of-type {\n",
              "        vertical-align: middle;\n",
              "    }\n",
              "\n",
              "    .dataframe tbody tr th {\n",
              "        vertical-align: top;\n",
              "    }\n",
              "\n",
              "    .dataframe thead th {\n",
              "        text-align: right;\n",
              "    }\n",
              "</style>\n",
              "<table border=\"1\" class=\"dataframe\">\n",
              "  <thead>\n",
              "    <tr style=\"text-align: right;\">\n",
              "      <th></th>\n",
              "      <th>country</th>\n",
              "      <th>player_name</th>\n",
              "      <th>0s</th>\n",
              "      <th>100s</th>\n",
              "      <th>50s</th>\n",
              "      <th>Avg</th>\n",
              "      <th>Ca</th>\n",
              "      <th>HS</th>\n",
              "      <th>Inns</th>\n",
              "      <th>Mat</th>\n",
              "      <th>NO</th>\n",
              "      <th>Runs</th>\n",
              "      <th>S/R</th>\n",
              "      <th>St</th>\n",
              "      <th>Year</th>\n",
              "    </tr>\n",
              "  </thead>\n",
              "  <tbody>\n",
              "    <tr>\n",
              "      <th>12</th>\n",
              "      <td>AFG</td>\n",
              "      <td>Karim Sadiq</td>\n",
              "      <td>3</td>\n",
              "      <td>1</td>\n",
              "      <td>0</td>\n",
              "      <td>0.240170</td>\n",
              "      <td>3</td>\n",
              "      <td>114*</td>\n",
              "      <td>12</td>\n",
              "      <td>13</td>\n",
              "      <td>2</td>\n",
              "      <td>235</td>\n",
              "      <td>0.417258</td>\n",
              "      <td>0</td>\n",
              "      <td>2010</td>\n",
              "    </tr>\n",
              "    <tr>\n",
              "      <th>39</th>\n",
              "      <td>AFG</td>\n",
              "      <td>Hashmatullah Shahidi</td>\n",
              "      <td>1</td>\n",
              "      <td>0</td>\n",
              "      <td>4</td>\n",
              "      <td>0.298760</td>\n",
              "      <td>3</td>\n",
              "      <td>76</td>\n",
              "      <td>14</td>\n",
              "      <td>14</td>\n",
              "      <td>1</td>\n",
              "      <td>387</td>\n",
              "      <td>0.357087</td>\n",
              "      <td>0</td>\n",
              "      <td>2019</td>\n",
              "    </tr>\n",
              "    <tr>\n",
              "      <th>87</th>\n",
              "      <td>AFG</td>\n",
              "      <td>Rahmat Shah</td>\n",
              "      <td>1</td>\n",
              "      <td>1</td>\n",
              "      <td>5</td>\n",
              "      <td>0.366702</td>\n",
              "      <td>3</td>\n",
              "      <td>108*</td>\n",
              "      <td>15</td>\n",
              "      <td>16</td>\n",
              "      <td>1</td>\n",
              "      <td>551</td>\n",
              "      <td>0.394574</td>\n",
              "      <td>0</td>\n",
              "      <td>2017</td>\n",
              "    </tr>\n",
              "    <tr>\n",
              "      <th>88</th>\n",
              "      <td>AFG</td>\n",
              "      <td>Rahmat Shah</td>\n",
              "      <td>0</td>\n",
              "      <td>1</td>\n",
              "      <td>6</td>\n",
              "      <td>0.371236</td>\n",
              "      <td>6</td>\n",
              "      <td>114</td>\n",
              "      <td>19</td>\n",
              "      <td>20</td>\n",
              "      <td>0</td>\n",
              "      <td>722</td>\n",
              "      <td>0.420691</td>\n",
              "      <td>0</td>\n",
              "      <td>2018</td>\n",
              "    </tr>\n",
              "    <tr>\n",
              "      <th>89</th>\n",
              "      <td>AFG</td>\n",
              "      <td>Rahmat Shah</td>\n",
              "      <td>1</td>\n",
              "      <td>1</td>\n",
              "      <td>4</td>\n",
              "      <td>0.330854</td>\n",
              "      <td>6</td>\n",
              "      <td>113</td>\n",
              "      <td>20</td>\n",
              "      <td>20</td>\n",
              "      <td>0</td>\n",
              "      <td>646</td>\n",
              "      <td>0.386018</td>\n",
              "      <td>0</td>\n",
              "      <td>2019</td>\n",
              "    </tr>\n",
              "  </tbody>\n",
              "</table>\n",
              "</div>"
            ],
            "text/plain": [
              "   country           player_name  0s  100s  50s  ...  NO  Runs       S/R  St  Year\n",
              "12     AFG           Karim Sadiq   3     1    0  ...   2   235  0.417258   0  2010\n",
              "39     AFG  Hashmatullah Shahidi   1     0    4  ...   1   387  0.357087   0  2019\n",
              "87     AFG           Rahmat Shah   1     1    5  ...   1   551  0.394574   0  2017\n",
              "88     AFG           Rahmat Shah   0     1    6  ...   0   722  0.420691   0  2018\n",
              "89     AFG           Rahmat Shah   1     1    4  ...   0   646  0.386018   0  2019\n",
              "\n",
              "[5 rows x 15 columns]"
            ]
          },
          "metadata": {
            "tags": []
          },
          "execution_count": 130
        }
      ]
    },
    {
      "cell_type": "code",
      "metadata": {
        "id": "qC8ixZymLmy8",
        "colab_type": "code",
        "outputId": "6699c177-ce45-4bbe-eddb-ddebc749b2f0",
        "colab": {
          "base_uri": "https://localhost:8080/",
          "height": 221
        }
      },
      "source": [
        "stats3.player_name.value_counts()"
      ],
      "execution_count": 131,
      "outputs": [
        {
          "output_type": "execute_result",
          "data": {
            "text/plain": [
              "Mahela Jayawardene    16\n",
              "Kumar Sangakkara      16\n",
              "Chris Gayle           15\n",
              "Shahid Afridi         14\n",
              "M S Dhoni             13\n",
              "                      ..\n",
              "Peter Forrest          1\n",
              "Jeremy Bray            1\n",
              "David Obuya            1\n",
              "Daniel Christian       1\n",
              "James Taylor           1\n",
              "Name: player_name, Length: 494, dtype: int64"
            ]
          },
          "metadata": {
            "tags": []
          },
          "execution_count": 131
        }
      ]
    },
    {
      "cell_type": "code",
      "metadata": {
        "id": "gxby6ngm8_pS",
        "colab_type": "code",
        "outputId": "f84fcdb1-6600-4597-e180-81e740c9db7a",
        "colab": {
          "base_uri": "https://localhost:8080/",
          "height": 34
        }
      },
      "source": [
        "(stats3['player_name']=='Ricky Ponting').sum()"
      ],
      "execution_count": 132,
      "outputs": [
        {
          "output_type": "execute_result",
          "data": {
            "text/plain": [
              "12"
            ]
          },
          "metadata": {
            "tags": []
          },
          "execution_count": 132
        }
      ]
    },
    {
      "cell_type": "code",
      "metadata": {
        "id": "ueEQhniXONk3",
        "colab_type": "code",
        "outputId": "2d059204-8dc8-4cb7-85d5-16178ad689ce",
        "colab": {
          "base_uri": "https://localhost:8080/",
          "height": 204
        }
      },
      "source": [
        "stats3.reset_index(drop=True, inplace=True)\n",
        "stats3.head()"
      ],
      "execution_count": 133,
      "outputs": [
        {
          "output_type": "execute_result",
          "data": {
            "text/html": [
              "<div>\n",
              "<style scoped>\n",
              "    .dataframe tbody tr th:only-of-type {\n",
              "        vertical-align: middle;\n",
              "    }\n",
              "\n",
              "    .dataframe tbody tr th {\n",
              "        vertical-align: top;\n",
              "    }\n",
              "\n",
              "    .dataframe thead th {\n",
              "        text-align: right;\n",
              "    }\n",
              "</style>\n",
              "<table border=\"1\" class=\"dataframe\">\n",
              "  <thead>\n",
              "    <tr style=\"text-align: right;\">\n",
              "      <th></th>\n",
              "      <th>country</th>\n",
              "      <th>player_name</th>\n",
              "      <th>0s</th>\n",
              "      <th>100s</th>\n",
              "      <th>50s</th>\n",
              "      <th>Avg</th>\n",
              "      <th>Ca</th>\n",
              "      <th>HS</th>\n",
              "      <th>Inns</th>\n",
              "      <th>Mat</th>\n",
              "      <th>NO</th>\n",
              "      <th>Runs</th>\n",
              "      <th>S/R</th>\n",
              "      <th>St</th>\n",
              "      <th>Year</th>\n",
              "    </tr>\n",
              "  </thead>\n",
              "  <tbody>\n",
              "    <tr>\n",
              "      <th>0</th>\n",
              "      <td>AFG</td>\n",
              "      <td>Karim Sadiq</td>\n",
              "      <td>3</td>\n",
              "      <td>1</td>\n",
              "      <td>0</td>\n",
              "      <td>19.50</td>\n",
              "      <td>3</td>\n",
              "      <td>114*</td>\n",
              "      <td>12</td>\n",
              "      <td>13</td>\n",
              "      <td>2</td>\n",
              "      <td>235</td>\n",
              "      <td>74.13</td>\n",
              "      <td>0</td>\n",
              "      <td>2010</td>\n",
              "    </tr>\n",
              "    <tr>\n",
              "      <th>1</th>\n",
              "      <td>AFG</td>\n",
              "      <td>Hashmatullah Shahidi</td>\n",
              "      <td>1</td>\n",
              "      <td>0</td>\n",
              "      <td>4</td>\n",
              "      <td>27.77</td>\n",
              "      <td>3</td>\n",
              "      <td>76</td>\n",
              "      <td>14</td>\n",
              "      <td>14</td>\n",
              "      <td>1</td>\n",
              "      <td>387</td>\n",
              "      <td>63.44</td>\n",
              "      <td>0</td>\n",
              "      <td>2019</td>\n",
              "    </tr>\n",
              "    <tr>\n",
              "      <th>2</th>\n",
              "      <td>AFG</td>\n",
              "      <td>Rahmat Shah</td>\n",
              "      <td>1</td>\n",
              "      <td>1</td>\n",
              "      <td>5</td>\n",
              "      <td>37.36</td>\n",
              "      <td>3</td>\n",
              "      <td>108*</td>\n",
              "      <td>15</td>\n",
              "      <td>16</td>\n",
              "      <td>1</td>\n",
              "      <td>551</td>\n",
              "      <td>70.10</td>\n",
              "      <td>0</td>\n",
              "      <td>2017</td>\n",
              "    </tr>\n",
              "    <tr>\n",
              "      <th>3</th>\n",
              "      <td>AFG</td>\n",
              "      <td>Rahmat Shah</td>\n",
              "      <td>0</td>\n",
              "      <td>1</td>\n",
              "      <td>6</td>\n",
              "      <td>38.00</td>\n",
              "      <td>6</td>\n",
              "      <td>114</td>\n",
              "      <td>19</td>\n",
              "      <td>20</td>\n",
              "      <td>0</td>\n",
              "      <td>722</td>\n",
              "      <td>74.74</td>\n",
              "      <td>0</td>\n",
              "      <td>2018</td>\n",
              "    </tr>\n",
              "    <tr>\n",
              "      <th>4</th>\n",
              "      <td>AFG</td>\n",
              "      <td>Rahmat Shah</td>\n",
              "      <td>1</td>\n",
              "      <td>1</td>\n",
              "      <td>4</td>\n",
              "      <td>32.30</td>\n",
              "      <td>6</td>\n",
              "      <td>113</td>\n",
              "      <td>20</td>\n",
              "      <td>20</td>\n",
              "      <td>0</td>\n",
              "      <td>646</td>\n",
              "      <td>68.58</td>\n",
              "      <td>0</td>\n",
              "      <td>2019</td>\n",
              "    </tr>\n",
              "  </tbody>\n",
              "</table>\n",
              "</div>"
            ],
            "text/plain": [
              "  country           player_name  0s  100s  50s  ...  NO  Runs    S/R  St  Year\n",
              "0     AFG           Karim Sadiq   3     1    0  ...   2   235  74.13   0  2010\n",
              "1     AFG  Hashmatullah Shahidi   1     0    4  ...   1   387  63.44   0  2019\n",
              "2     AFG           Rahmat Shah   1     1    5  ...   1   551  70.10   0  2017\n",
              "3     AFG           Rahmat Shah   0     1    6  ...   0   722  74.74   0  2018\n",
              "4     AFG           Rahmat Shah   1     1    4  ...   0   646  68.58   0  2019\n",
              "\n",
              "[5 rows x 15 columns]"
            ]
          },
          "metadata": {
            "tags": []
          },
          "execution_count": 133
        }
      ]
    },
    {
      "cell_type": "code",
      "metadata": {
        "id": "NZULF1NOO-JE",
        "colab_type": "code",
        "outputId": "4aa00c62-88cf-4154-d0ca-f0d30a110e9a",
        "colab": {
          "base_uri": "https://localhost:8080/",
          "height": 34
        }
      },
      "source": [
        "stats3.shape"
      ],
      "execution_count": 134,
      "outputs": [
        {
          "output_type": "execute_result",
          "data": {
            "text/plain": [
              "(1599, 15)"
            ]
          },
          "metadata": {
            "tags": []
          },
          "execution_count": 134
        }
      ]
    },
    {
      "cell_type": "code",
      "metadata": {
        "id": "Iu6zDDt8P2Xa",
        "colab_type": "code",
        "outputId": "2e9bf77a-00a7-40ac-ce92-4e023242bb0a",
        "colab": {
          "base_uri": "https://localhost:8080/",
          "height": 54
        }
      },
      "source": [
        "impact = {}\n",
        "experience = 1\n",
        "for i in range(1599): \n",
        "  career = (stats3['player_name']==stats3.loc[i, \"player_name\"]).sum()\n",
        "  if(career<=6):\n",
        "    experience = 0.6\n",
        "  elif(career<=12):\n",
        "    experience = 0.8\n",
        "  elif(career<20):\n",
        "    experience = 1.0\n",
        "  else:\n",
        "    experience = 1.4\n",
        "  if(stats3.loc[i, \"S/R\"]<80):\n",
        "    statpad = 2\n",
        "  else:\n",
        "      statpad = 1\n",
        "  if(stats3.loc[i, \"Avg\"]<35):\n",
        "    fluke = 8\n",
        "  else:\n",
        "    fluke = 1\n",
        "  if stats3.loc[i, \"player_name\"] in impact.keys(): \n",
        "    impact[stats3.loc[i, \"player_name\"]] += (((3*stats3.loc[i, \"Avg\"])+(stats3.loc[i, \"S/R\"]))/(career*fluke*statpad))*(experience*Year_Dict[int(stats3.loc[i, \"Year\"])])\n",
        "  else:\n",
        "    impact[stats3.loc[i, \"player_name\"]] = (((3*stats3.loc[i, \"Avg\"])+(stats3.loc[i, \"S/R\"]))/(career*fluke*statpad))*(experience*Year_Dict[int(stats3.loc[i, \"Year\"])])\n",
        "print(impact)\n",
        "  \n"
      ],
      "execution_count": 180,
      "outputs": [
        {
          "output_type": "stream",
          "text": [
            "{'Karim Sadiq': 20.39186250000007, 'Hashmatullah Shahidi': 17.610000000000074, 'Rahmat Shah': 130.84460000000053, 'Asghar Afghan': 17.62186250000007, 'Samiullah Shinwari': 225.74302500000084, 'Hazratullah Zazai': 38.65440000000016, 'Mirwais Ashraf': 9.795187500000036, 'Ihsanullah': 16.97973750000007, 'Najibullah Zadran': 45.38587500000018, 'Gulbadin Naib': 15.779575000000063, 'Ikram Ali Khil': 14.47440000000006, 'Mohammad Nabi': 53.01954285714307, 'Nawroz Mangal': 17.12565000000006, 'Andy Bichel': 61.00920000000014, 'James Hopes': 48.136500000000154, 'Phillip Hughes': 25.449075000000093, 'Bradley Hodge': 62.531700000000185, 'Shaun Marsh': 305.0409000000011, 'Adam Voges': 464.0940000000017, 'Shane Lee': 56.422575000000116, 'Tim Paine': 25.68352500000008, 'Usman Khawaja': 438.1446000000018, 'Mitchell Marsh': 49.48387500000019, 'Michael Bevan': 197.75408250000044, 'Shane Warne': 17.382750000000037, 'Patrick Cummins': 21.026400000000088, 'Cameron White': 174.08310000000066, 'John Hastings': 39.03900000000015, 'Matthew Hayden': 330.1072500000009, 'Darren Lehmann': 650.8212000000015, 'Marcus Stoinis': 38.65102500000016, 'Ian Harvey': 47.40480000000011, 'David Warner': 522.5486400000019, 'Clinton McKay': 10.124287500000037, 'Mark Waugh': 480.3992250000011, 'Damien Martyn': 441.54865000000103, 'Matthew Wade': 25.808025000000093, 'Michael Clarke': 360.6080944444456, 'Brad Hogg': 37.297800000000095, 'Daniel Christian': 34.895250000000125, 'David Hussey': 53.82930000000018, 'Glenn Maxwell': 157.9942050000006, 'Ricky Ponting': 462.59702083333457, 'Mitchell Johnson': 32.39990000000011, 'Michael Hussey': 543.3562000000016, 'Travis Head': 180.03875000000073, 'Brett Lee': 29.971471875000084, 'Alex Carey': 45.85200000000019, 'Simon Katich': 129.28477500000034, 'George Bailey': 222.1727250000008, 'Shane Watson': 388.63462500000145, 'Steve Waugh': 351.83861250000075, 'Brad Haddin': 189.24775000000056, 'Adam Gilchrist': 464.9510875000012, 'Nathan Hauritz': 40.34647500000013, 'Aaron Finch': 319.65093750000125, 'Peter Handscomb': 405.7920000000017, 'Andrew Symonds': 380.69600000000105, 'Peter Forrest': 21.128737500000074, 'James Faulkner': 200.50187500000072, 'Callum Ferguson': 53.33895000000017, 'Anamul Haque': 201.69810000000072, 'Sanwar Hossain': 14.522400000000035, 'Tapash Baisya': 12.55243125000003, 'Mehidy Hasan': 33.95280000000014, 'Shakib Al Hasan': 271.3247181818192, 'Abdur Razzak': 10.423065000000033, 'Farhad Reza': 9.589537500000029, 'Rajin Saleh': 19.502025000000053, 'Mominul Haque': 22.890975000000086, 'Mashrafe Mortaza': 28.209575000000093, 'Tamim Iqbal': 220.1063500000009, 'Nasir Hossain': 18.177637500000067, 'Mohammad Rafique': 16.381627500000043, 'Tushar Imran': 24.53430000000005, 'Liton Das': 41.76067500000016, 'Al Sahariar Rokon': 14.714700000000033, 'Aftab Ahmed': 44.10427500000012, 'Mushfiqur Rahman': 16.14802500000004, 'Soumya Sarkar': 205.0155500000008, 'Alok Kapali': 21.173800000000046, 'Manjural Islam Rana': 18.590850000000046, 'Mohammad Ashraful': 37.6055187500001, 'Hannan Sarkar': 20.68020000000005, 'Shahriar Nafees': 75.16801875000021, 'Khaled Mashud': 20.44824750000005, 'Mahmudullah': 118.85203333333381, 'Sabbir Rahman': 42.91005000000016, 'Khaled Mahmud': 18.627512500000044, 'Shafiul Islam': 8.378756250000029, 'Naeem Islam': 17.44815000000006, 'Imrul Kayes': 22.54704375000008, 'Dhiman Ghosh': 13.978762500000041, 'Mushfiqur Rahim': 316.2037000000013, 'Habibul Bashar': 21.04580250000005, 'David Hemp': 20.02275000000006, 'Lionel Cann': 64.35990000000018, 'Saleem Mukuddem': 20.432250000000053, 'Janeiro Tucker': 21.70348125000006, 'Irvine Romaine': 21.74358750000006, 'Ashif Mulla': 51.62520000000015, 'John Davison': 64.55790000000019, 'Abdool Samad': 24.76320000000007, 'Sunil Dhaniram': 51.143400000000156, 'Ashish Bagai': 260.34135000000083, 'Michael Vaughan': 24.262528125000063, 'Nicholas Knight': 132.47735000000029, 'Jos Butler': 424.17857142857315, 'Chris Jordan': 29.667525000000108, 'Nasser Hussain': 29.816887500000064, 'Paul Nixon': 41.32260000000012, 'James Tredwell': 28.285575000000104, 'Jonathan Trott': 429.9365000000016, 'Ian Bell': 285.74773750000105, 'Ed Joyce': 24.479550000000085, 'Graeme Hick': 28.236150000000055, 'Timothy Bresnan': 38.72790000000013, 'Vikram Solanki': 25.956975000000064, 'Jason Roy': 332.1026100000014, 'Geraint Jones': 44.20942500000012, 'Andrew Strauss': 248.65121428571513, 'Moeen Ali': 192.24645000000072, 'Alexander Hales': 279.10256250000106, 'Andy Caddick': 10.493887500000021, 'Ronald Irani': 22.71333750000005, 'Liam Plunkett': 36.315000000000104, 'Ravinda Bopara': 26.83605000000009, 'Ben Stokes': 386.3209125000015, 'Craig White': 14.848650000000031, 'Jonny Bairstow': 489.26610000000204, 'Luke Wright': 18.568387500000064, 'Mark Ealham': 20.129062500000042, 'Eoin Morgan': 321.0307416666679, 'Graeme Swann': 36.96900000000013, 'Graham Thorpe': 28.330575000000064, 'James Taylor': 411.0048000000015, 'Andrew Flintoff': 184.69543500000046, 'James Anderson': 0.3993000000000009, 'Matthew Prior': 31.766475000000103, 'Darren Gough': 5.833125000000012, 'Joe Root': 521.0242285714307, 'Stuart Broad': 16.82446875000005, 'Gavin Hamilton': 25.405050000000074, 'Chris Woakes': 28.856550000000112, 'Marcus Trescothick': 281.8224500000007, 'Alastair Cook': 206.19441000000074, 'Craig Kieswetter': 54.354750000000195, 'Michael Yardy': 16.61576250000006, 'Kevin Pietersen': 383.598060000001, 'Paul Collingwood': 117.90450000000035, 'Alec Stewart': 211.89052500000045, 'James Dalrymple': 20.96296875000006, 'Owais Shah': 110.31067500000033, 'Yusuf Pathan': 46.797225000000154, 'Rohit Sharma': 568.9540500000022, 'Zaheer Khan': 25.18610000000006, 'Sourav Ganguly': 355.9224214285722, 'Ajay Jadeja': 32.363325000000074, 'Parthiv Patel': 44.76300000000016, 'Ravichandran Ashwin': 30.70777500000011, 'Hardik Pandya': 50.604825000000204, 'Gautam Gambhir': 445.27425000000153, 'Hemang Badani': 24.465000000000053, 'Rahul Dravid': 162.4027375000004, 'Lakshmipathy Balaji': 15.340800000000039, 'Virat Kohli': 713.8342666666695, 'Anil Kumble': 16.286850000000033, 'Axar Patel': 9.690300000000036, 'M S Dhoni': 654.4581778846177, 'Irfan Pathan': 29.74209375000008, 'Kedar Jadhav': 48.4195500000002, 'Harbhajan Singh': 38.72360714285725, 'Ajit Agarkar': 33.37222500000007, 'Virender Sehwag': 436.7778545454559, 'Dinesh Mongia': 25.460343750000057, 'Dinesh Karthik': 21.83561250000007, 'Ajinkya Rahane': 126.5048812500005, 'KL Rahul': 401.97120000000166, 'Sunil Joshi': 50.9337000000001, 'Mohammad Azharuddin': 26.231850000000055, 'Robin Singh': 21.559612500000046, 'Ravindra Jadeja': 203.82875000000075, 'Robin Uthappa': 39.31927500000012, 'Suresh Raina': 140.746855555556, 'Ambati Rayudu': 51.36247500000019, 'Shikhar Dhawan': 412.48030000000153, 'Bhuvneshwar Kumar': 11.850300000000042, 'Sachin Tendulkar': 718.2407000000019, 'Mohammad Kaif': 30.759262500000077, 'Yuvraj Singh': 325.570860576924, 'V V S Laxman': 112.02478750000024, \"Niall O'Brien\": 123.72095625000047, 'Gary Wilson': 24.441625000000094, 'George Dockrell': 33.05820000000013, 'Jeremy Bray': 27.022050000000075, 'Andy Balbirnie': 162.68079375000065, 'Andrew White': 18.65936250000006, 'Andre Botha': 30.51753750000009, 'William Porterfield': 89.02310000000033, 'Paul Stirling': 317.7276500000012, 'Trent Johnston': 55.97130000000017, 'William McCallan': 12.759450000000037, \"Kevin O'Brien\": 40.30486250000015, 'John Mooney': 26.920975000000098, 'Dave Langford-Smith': 42.93960000000013, 'David Obuya': 26.518800000000077, 'Maurice Ouma': 19.037562500000053, 'Peter Ongondo': 19.47828750000005, 'Alex Obanda': 24.40305000000008, 'Ravindu Shah': 240.42480000000072, 'Collins Obuya': 24.667762500000077, 'Thomas Odoyo': 301.07259375000086, 'Hiren Varaiya': 14.858550000000047, 'Maurice Odumbe': 69.93360000000015, 'Tanmay Mishra': 25.175812500000067, 'Stephen Tikolo': 160.33333125000044, 'Kennedy Otieno': 18.301668750000047, 'James Kamande': 18.265925000000053, 'Nehemiah Odhiambo': 37.22355000000012, 'Bas Zuiderent': 22.24466250000007, 'Eric Szwarczynski': 21.13293750000007, 'Peter Borren': 13.191750000000045, 'Martin Guptill': 413.18753888889046, 'Matthew Sinclair': 30.071250000000063, 'Ross Taylor': 510.30394000000194, 'Daryl Tuffey': 7.384068750000017, 'Chris Cairns': 62.923005000000146, 'Scott Styris': 248.93361250000072, 'Mitchell Santner': 19.771650000000076, 'Lou Vincent': 127.15210000000033, 'Colin de Grandhomme': 42.20400000000018, 'Kane Williamson': 437.03130625000176, 'Jacob Oram': 172.02575625000048, 'Neil Broom': 28.669912500000105, 'Robert Nicol': 25.334887500000093, 'Luke Ronchi': 190.15842500000073, 'Nathan Astle': 259.04181875000063, 'Christopher Nevin': 26.072287500000062, 'Jamie How': 27.509250000000083, 'Grant Elliott': 34.69950000000013, 'Chris Harris': 21.11351250000005, 'Tim Southee': 7.1217000000000255, 'Roger Twose': 367.02727500000077, 'Hamish Marshall': 22.70136250000006, 'Craig Spearman': 25.799625000000052, 'Brendon McCullum': 134.7745454545459, 'James Neesham': 234.37192500000097, 'Colin Munro': 43.853750000000176, 'Tom Latham': 146.08557000000056, 'Peter Fulton': 134.81311875000037, 'Andre Adams': 53.31690000000011, 'Adam Parore': 16.631437500000036, 'Henry Nicholls': 29.636118750000122, 'Jesse Ryder': 63.8851500000002, 'Daniel Vettori': 43.56516428571441, 'Craig McMillan': 60.59829285714301, 'James Franklin': 45.18765000000013, 'Stephen Fleming': 118.78236875000032, 'Nathan McCullum': 33.145256250000116, 'Kyle Mills': 31.596200000000103, 'Corey Anderson': 349.7805000000012, 'Abdul Razzaq': 135.09748333333374, 'Shoaib Akhtar': 25.907325000000064, 'Haris Sohail': 444.0108000000017, 'Nasir Jamshed': 19.338675000000066, 'Ahmed Shehzad': 118.67298750000043, 'Younis Khan': 137.52480416666705, 'Junaid Khan': 4.950450000000018, 'Naved-ul-Hasan': 16.172906250000043, 'Saeed Anwar': 121.01891250000025, 'Fawad Alam': 25.99297500000009, 'Sarfaraz Ahmed': 154.65786562500057, 'Imran Nazir': 50.867025000000126, 'Salman Butt': 211.81632500000057, 'Mohammad Yousuf': 328.17072777777867, 'Imad Wasim': 55.37040000000024, 'Azhar Ali': 238.6456750000009, 'Mohammad Hafeez': 160.67117222222282, 'Umar Gul': 13.414275000000043, 'Shahid Afridi': 101.15402678571459, 'Mohammad Rizwan': 50.92740000000019, 'Waqar Younis': 13.566487500000028, 'Misbah-ul-Haq': 183.36540000000062, 'Fakhar Zaman': 294.86400000000117, 'Yasir Hameed': 167.1938812500004, 'Umar Amin': 18.570600000000066, 'Saeed Ajmal': 9.14801250000003, 'Shadab Khan': 13.616212500000055, 'Rashid Latif': 33.94543125000008, 'Imam-ul-Haq': 352.6158000000014, 'Arshad Khan': 2.7176625000000056, 'Azhar Mahmood': 9.099675000000019, 'Imran Farhat': 23.83205625000006, 'Umar Akmal': 40.89837000000014, 'Kamran Akmal': 50.84421428571445, 'Asad Shafiq': 21.074437500000073, 'Inzamam-ul-Haq': 312.31232857142936, 'Moin Khan': 44.3209125000001, 'Wahab Riaz': 26.8299000000001, 'Babar Azam': 345.93888750000133, 'Wasim Akram': 30.295406250000067, 'Mohammad Sami': 15.182643750000036, 'Saqlain Mushtaq': 12.867300000000027, 'Taufeeq Umar': 21.645000000000053, 'Shoaib Malik': 238.64823750000085, 'Mohammad Irfan': -1.7342250000000055, 'Matthew Cross': 388.6542000000016, 'Navdeep Poonia': 18.06255000000005, 'Craig Wright': 20.610150000000058, 'Calum MacLeod': 526.2840000000022, 'Fraser Watts': 22.30470000000006, 'Ryan Watson': 27.799200000000084, 'Douglas Brown': 19.329750000000057, 'Neil McCallum': 23.32605000000007, 'Richard Berrington': 176.29920000000072, 'George Munsey': 42.38190000000017, 'Rana Haq': 22.977900000000066, 'Colin Smith': 18.747300000000052, 'John Blain': 6.0835500000000176, 'Jean-Paul Duminy': 209.80636818181895, 'Hashim Amla': 557.4792200000021, 'Neil McKenzie': 134.93427500000027, 'Mark Boucher': 62.689218750000165, 'Jacques Kallis': 378.2691727272739, 'Johan Botha': 37.63500000000013, 'Aiden Markram': 37.87245000000015, 'Nico Boje': 55.010212500000115, 'Boeta Dippenaar': 186.11346250000045, 'Albie Morkel': 59.853150000000184, 'Graeme Smith': 371.5838272727284, 'Ashwell Prince': 24.046500000000066, 'Jacques Rudolph': 155.52588750000038, 'Lance Klusener': 41.55625000000009, 'Rilee Rossouw': 502.13520000000193, 'David Miller': 149.03452500000057, 'Hansie Cronje': 304.2099000000006, 'Colin Ingram': 23.045100000000083, 'Shaun Pollock': 57.463364285714434, 'Jonty Rhodes': 241.4279875000005, 'Justin Kemp': 35.4102750000001, 'Faf du Plessis': 447.0774000000018, 'Daryll Cullinan': 20.188350000000042, 'Herschelle Gibbs': 352.54379000000097, 'Farhaan Behardien': 47.45445000000019, 'Gary Kirsten': 221.66823750000046, 'Rassie van der Dussen': 524.5632000000022, 'Quinton de Kock': 425.58380000000165, 'Andile Phehlukwayo': 30.18418125000013, 'Robin Peterson': 18.24570000000007, 'Andrew Hall': 22.840087500000053, 'Ryan McLaren': 14.503650000000052, 'Lonwabo Tsotsobe': 3.401475000000013, 'Heinrich Klaasen': 37.087875000000146, 'A B de Villiers': 667.742595454548, 'Thilina Kandamby': 27.71685000000009, 'Kusal Mendis': 123.68280000000047, 'Angelo Mathews': 260.8021222222233, 'Thilan Thushara': 41.93452500000013, 'Danushka Gunathilaka': 215.78017500000084, 'Jeevan Mendis': 16.314000000000057, 'Ashan Priyanjan': 37.78995000000014, 'Thisara Perera': 56.124228571428795, 'Jehan Mubarak': 20.891250000000056, 'Dimuth Karunaratne': 180.70080000000075, 'Sanath Jayasuriya': 311.2878400000008, 'Tillakaratne Dilshan': 382.99323333333473, 'Niroshan Dickwella': 47.58960000000019, 'Avishka Fernando': 46.20960000000019, 'Hashan Tillakaratne': 25.04160000000006, 'Lasith Malinga': 20.62275000000007, 'Milinda Siriwardana': 36.944400000000144, 'Suranga Lakmal': 8.467275000000033, 'Russel Arnold': 40.44909285714296, 'Kumar Sangakkara': 425.3364765625014, 'Isuru Udana': 32.107200000000134, 'Muttiah Muralitharan': 23.759655000000066, 'Lahiru Thirimanne': 65.20216875000024, 'Ajantha Mendis': 5.277825000000017, 'Nuwan Zoysa': 57.780000000000115, 'Sachithra Senanayake': 27.3087750000001, 'Upul Chandana': 19.43034375000004, 'Chaminda Vaas': 27.538185714285778, 'Dinesh Chandimal': 75.39232142857173, 'Aravinda de Silva': 45.91711875000011, 'Avishka Gunawardene': 27.822243750000062, 'Farveez Maharoof': 46.139587500000125, 'Mahela Jayawardene': 236.17149609375073, 'Thilan Samaraweera': 23.009175000000074, 'Chamara Silva': 138.9190875000004, 'Chamara Kapugedera': 29.547050000000084, 'Asela Gunaratne': 45.21150000000017, 'Nuwan Kulasekara': 28.157368750000096, 'Marvan Atapattu': 180.90997142857182, 'Upul Tharanga': 213.61700000000073, 'Kumar Dharmasena': 16.308750000000032, 'Kusal Perera': 122.21215500000048, 'Dhananjaya de Silva': 14.792400000000061, 'Dilhara Fernando': 4.69297500000001, 'Romesh Kaluwitharana': 25.66140000000005, 'W Jayantha': 25.288350000000065, 'Akila Dananjaya': 20.20833750000008, 'Rohan Mustafa': 15.456375000000063, 'Adnan Mufti': 41.26072500000017, 'Muhammad Usman': 34.10797500000014, 'Xavier Marshall': 51.564525000000145, 'Andre Russell': 60.09675000000021, 'Jason Mohammed': 19.52280000000008, 'Devon Smith': 19.569000000000056, 'Shai Hope': 164.97282500000068, 'Ashley Nurse': 29.565712500000117, 'Ramnaresh Sarwan': 343.69770000000096, 'Denesh Ramdin': 122.42055625000043, 'Narsingh Deonarine': 26.20976250000009, 'Rovman Powell': 27.417768750000107, 'Nicholas Pooran': 454.0608000000019, 'Dwayne Bravo': 126.27591428571473, 'Kieran Powell': 474.0804000000017, 'Carl Hooper': 312.60922500000066, 'Shimron Hetmeyer': 253.149000000001, 'Carlos Brathwaite': 35.927662500000146, 'Jonathan Carter': 15.36300000000006, 'Shivnarine Chanderpaul': 304.04507500000085, 'Sunil Narine': 13.327650000000048, 'Sherwin Campbell': 268.7445000000006, 'Sewnarine Chattergoon': 22.155750000000065, 'Lendl Simmons': 266.7120000000009, 'Darren Ganga': 28.53750000000006, 'Evin Lewis': 43.887975000000175, 'Carlton Baugh': 32.46412500000009, 'Johnson Charles': 240.42675000000085, 'Courtney Browne': 46.664700000000124, 'Jason Holder': 41.61163500000017, 'Darren Bravo': 24.17515312500009, 'Kemar Roach': 9.234412500000033, 'Ricardo Powell': 46.6159125000001, 'Franklyn Rose': 42.64110000000009, 'Brian Lara': 258.01691250000067, 'Marlon Samuels': 99.64685000000036, 'Runako Morton': 28.077000000000083, 'Wavell Hinds': 65.17247500000015, 'Jimmy Adams': 23.48167500000005, 'Ridley Jacobs': 29.38082500000006, 'Kieron Pollard': 50.980762500000175, 'Dwayne Smith': 45.727537500000125, 'Ian Bradshaw': 13.340512500000035, 'Darren Sammy': 43.724025000000154, 'Vasbert Drakes': 11.300400000000026, 'Chris Gayle': 484.3431416666681, 'Hamilton Masakadza': 119.1653800000004, 'Brendan Taylor': 241.1751500000009, 'Guy Whittall': 19.598306250000043, 'Sean Williams': 202.6190100000008, 'Douglas Marillier': 21.40766250000005, 'Andrew Flower': 281.49488750000063, 'Sikandar Raza': 147.7867125000006, 'Mark Vermeulen': 19.274418750000056, 'Dion Ebrahim': 20.011450000000046, 'Ray Price': 12.222000000000039, 'Sean Ervine': 48.70440000000012, 'Heath Streak': 32.07243750000006, 'Kyle Jarvis': 11.112750000000046, 'Charles Coventry': 59.739750000000186, 'Vusi Sibanda': 55.887006250000184, 'Solomon Mire': 32.39013750000013, 'Andy Blignaut': 51.390000000000114, 'Blessing Muzarabani': -2.229975000000009, 'Elton Chigumbura': 48.832355555555715, 'Murray Goodwin': 27.033187500000054, 'Gary Brent': 13.816800000000036, 'Luke Jongwe': 34.54380000000013, 'Blessing Mahwire': 8.611312500000023, 'Peter Moor': 14.93043750000006, 'Tendai Chatara': 1.124887500000005, 'Neil Johnson': 30.99015000000006, 'Malcolm Waller': 18.531900000000064, 'Prosper Utseya': 16.911578571428624, 'Alistair Campbell': 29.439350000000065, 'Terry Duffin': 22.10625000000006, 'Mluleki Nkala': 9.99750000000002, 'Travis Friend': 13.479375000000028, 'Tawanda Mupariwa': 15.067687500000039, 'Stuart Matsikenyeri': 22.753500000000066, 'Craig Ervine': 19.77444375000007, 'Craig Wishart': 28.91490000000006, 'Douglas Hondo': -1.290150000000003, 'Stuart Carlisle': 26.193168750000055, 'Justice Chibhabha': 21.256375000000066, 'Grant Flower': 28.12613437500006, 'Tinashe Panyangara': 7.082512500000023, 'Graeme Cremer': 11.46149062500004, 'Tatenda Taibu': 23.98703125000007, 'Richmond Mutumbami': 7.569450000000029, 'Dirk Viljoen': 17.217862500000034, 'Piet Rinke': 46.42312500000013}\n"
          ],
          "name": "stdout"
        }
      ]
    },
    {
      "cell_type": "code",
      "metadata": {
        "id": "uGQ7vZPZ8_yQ",
        "colab_type": "code",
        "outputId": "98d8cff3-f7ae-48d0-83be-7bb1eac46363",
        "colab": {
          "base_uri": "https://localhost:8080/",
          "height": 255
        }
      },
      "source": [
        "data_items = impact.items()\n",
        "data_list = list(data_items)\n",
        "\n",
        "df = pd.DataFrame(data_list,columns = [\"Name\",\"Points\"])\n",
        "print(df)"
      ],
      "execution_count": 181,
      "outputs": [
        {
          "output_type": "stream",
          "text": [
            "                     Name      Points\n",
            "0             Karim Sadiq   20.391863\n",
            "1    Hashmatullah Shahidi   17.610000\n",
            "2             Rahmat Shah  130.844600\n",
            "3           Asghar Afghan   17.621863\n",
            "4      Samiullah Shinwari  225.743025\n",
            "..                    ...         ...\n",
            "489         Graeme Cremer   11.461491\n",
            "490         Tatenda Taibu   23.987031\n",
            "491    Richmond Mutumbami    7.569450\n",
            "492          Dirk Viljoen   17.217863\n",
            "493            Piet Rinke   46.423125\n",
            "\n",
            "[494 rows x 2 columns]\n"
          ],
          "name": "stdout"
        }
      ]
    },
    {
      "cell_type": "code",
      "metadata": {
        "id": "VEo9ltkoNOHj",
        "colab_type": "code",
        "outputId": "19e4f126-f7bb-4aa0-d0a7-f6741dc594ae",
        "colab": {
          "base_uri": "https://localhost:8080/",
          "height": 255
        }
      },
      "source": [
        "df.sort_values(\"Points\", axis = 0, ascending = False, \n",
        "                 inplace = True)\n",
        "df.reset_index(drop=True, inplace=True)\n",
        "df.index += 1\n",
        "print(df)"
      ],
      "execution_count": 182,
      "outputs": [
        {
          "output_type": "stream",
          "text": [
            "                    Name      Points\n",
            "1       Sachin Tendulkar  718.240700\n",
            "2            Virat Kohli  713.834267\n",
            "3        A B de Villiers  667.742595\n",
            "4              M S Dhoni  654.458178\n",
            "5         Darren Lehmann  650.821200\n",
            "..                   ...         ...\n",
            "490       Tendai Chatara    1.124888\n",
            "491       James Anderson    0.399300\n",
            "492        Douglas Hondo   -1.290150\n",
            "493       Mohammad Irfan   -1.734225\n",
            "494  Blessing Muzarabani   -2.229975\n",
            "\n",
            "[494 rows x 2 columns]\n"
          ],
          "name": "stdout"
        }
      ]
    },
    {
      "cell_type": "code",
      "metadata": {
        "id": "T2VaMjfrNOSK",
        "colab_type": "code",
        "outputId": "0705822f-c858-45b8-fc00-06475aab101c",
        "colab": {
          "base_uri": "https://localhost:8080/",
          "height": 669
        }
      },
      "source": [
        "df.head(20)"
      ],
      "execution_count": 179,
      "outputs": [
        {
          "output_type": "execute_result",
          "data": {
            "text/html": [
              "<div>\n",
              "<style scoped>\n",
              "    .dataframe tbody tr th:only-of-type {\n",
              "        vertical-align: middle;\n",
              "    }\n",
              "\n",
              "    .dataframe tbody tr th {\n",
              "        vertical-align: top;\n",
              "    }\n",
              "\n",
              "    .dataframe thead th {\n",
              "        text-align: right;\n",
              "    }\n",
              "</style>\n",
              "<table border=\"1\" class=\"dataframe\">\n",
              "  <thead>\n",
              "    <tr style=\"text-align: right;\">\n",
              "      <th></th>\n",
              "      <th>Name</th>\n",
              "      <th>Points</th>\n",
              "    </tr>\n",
              "  </thead>\n",
              "  <tbody>\n",
              "    <tr>\n",
              "      <th>1</th>\n",
              "      <td>Sachin Tendulkar</td>\n",
              "      <td>718.240700</td>\n",
              "    </tr>\n",
              "    <tr>\n",
              "      <th>2</th>\n",
              "      <td>Virat Kohli</td>\n",
              "      <td>713.834267</td>\n",
              "    </tr>\n",
              "    <tr>\n",
              "      <th>3</th>\n",
              "      <td>A B de Villiers</td>\n",
              "      <td>667.742595</td>\n",
              "    </tr>\n",
              "    <tr>\n",
              "      <th>4</th>\n",
              "      <td>M S Dhoni</td>\n",
              "      <td>654.458178</td>\n",
              "    </tr>\n",
              "    <tr>\n",
              "      <th>5</th>\n",
              "      <td>Rohit Sharma</td>\n",
              "      <td>568.954050</td>\n",
              "    </tr>\n",
              "    <tr>\n",
              "      <th>6</th>\n",
              "      <td>Hashim Amla</td>\n",
              "      <td>557.479220</td>\n",
              "    </tr>\n",
              "    <tr>\n",
              "      <th>7</th>\n",
              "      <td>Michael Hussey</td>\n",
              "      <td>543.356200</td>\n",
              "    </tr>\n",
              "    <tr>\n",
              "      <th>8</th>\n",
              "      <td>Joe Root</td>\n",
              "      <td>521.024229</td>\n",
              "    </tr>\n",
              "    <tr>\n",
              "      <th>9</th>\n",
              "      <td>Ross Taylor</td>\n",
              "      <td>510.303940</td>\n",
              "    </tr>\n",
              "    <tr>\n",
              "      <th>10</th>\n",
              "      <td>Chris Gayle</td>\n",
              "      <td>484.343142</td>\n",
              "    </tr>\n",
              "    <tr>\n",
              "      <th>11</th>\n",
              "      <td>Adam Gilchrist</td>\n",
              "      <td>464.951088</td>\n",
              "    </tr>\n",
              "    <tr>\n",
              "      <th>12</th>\n",
              "      <td>Ricky Ponting</td>\n",
              "      <td>462.597021</td>\n",
              "    </tr>\n",
              "    <tr>\n",
              "      <th>13</th>\n",
              "      <td>Faf du Plessis</td>\n",
              "      <td>447.077400</td>\n",
              "    </tr>\n",
              "    <tr>\n",
              "      <th>14</th>\n",
              "      <td>Damien Martyn</td>\n",
              "      <td>441.548650</td>\n",
              "    </tr>\n",
              "    <tr>\n",
              "      <th>15</th>\n",
              "      <td>Kane Williamson</td>\n",
              "      <td>437.031306</td>\n",
              "    </tr>\n",
              "    <tr>\n",
              "      <th>16</th>\n",
              "      <td>Virender Sehwag</td>\n",
              "      <td>436.777855</td>\n",
              "    </tr>\n",
              "    <tr>\n",
              "      <th>17</th>\n",
              "      <td>Darren Lehmann</td>\n",
              "      <td>433.880800</td>\n",
              "    </tr>\n",
              "    <tr>\n",
              "      <th>18</th>\n",
              "      <td>Kumar Sangakkara</td>\n",
              "      <td>425.336477</td>\n",
              "    </tr>\n",
              "    <tr>\n",
              "      <th>19</th>\n",
              "      <td>Jos Butler</td>\n",
              "      <td>424.178571</td>\n",
              "    </tr>\n",
              "    <tr>\n",
              "      <th>20</th>\n",
              "      <td>Martin Guptill</td>\n",
              "      <td>413.187539</td>\n",
              "    </tr>\n",
              "  </tbody>\n",
              "</table>\n",
              "</div>"
            ],
            "text/plain": [
              "                Name      Points\n",
              "1   Sachin Tendulkar  718.240700\n",
              "2        Virat Kohli  713.834267\n",
              "3    A B de Villiers  667.742595\n",
              "4          M S Dhoni  654.458178\n",
              "5       Rohit Sharma  568.954050\n",
              "6        Hashim Amla  557.479220\n",
              "7     Michael Hussey  543.356200\n",
              "8           Joe Root  521.024229\n",
              "9        Ross Taylor  510.303940\n",
              "10       Chris Gayle  484.343142\n",
              "11    Adam Gilchrist  464.951088\n",
              "12     Ricky Ponting  462.597021\n",
              "13    Faf du Plessis  447.077400\n",
              "14     Damien Martyn  441.548650\n",
              "15   Kane Williamson  437.031306\n",
              "16   Virender Sehwag  436.777855\n",
              "17    Darren Lehmann  433.880800\n",
              "18  Kumar Sangakkara  425.336477\n",
              "19        Jos Butler  424.178571\n",
              "20    Martin Guptill  413.187539"
            ]
          },
          "metadata": {
            "tags": []
          },
          "execution_count": 179
        }
      ]
    },
    {
      "cell_type": "code",
      "metadata": {
        "id": "VpQKR7N6NOim",
        "colab_type": "code",
        "outputId": "043ae066-b2a4-4913-ce9c-d17575f17958",
        "colab": {
          "base_uri": "https://localhost:8080/",
          "height": 80
        }
      },
      "source": [
        "name = df[df['Name']==\"M S Dhoni\"]\n",
        "name"
      ],
      "execution_count": 89,
      "outputs": [
        {
          "output_type": "execute_result",
          "data": {
            "text/html": [
              "<div>\n",
              "<style scoped>\n",
              "    .dataframe tbody tr th:only-of-type {\n",
              "        vertical-align: middle;\n",
              "    }\n",
              "\n",
              "    .dataframe tbody tr th {\n",
              "        vertical-align: top;\n",
              "    }\n",
              "\n",
              "    .dataframe thead th {\n",
              "        text-align: right;\n",
              "    }\n",
              "</style>\n",
              "<table border=\"1\" class=\"dataframe\">\n",
              "  <thead>\n",
              "    <tr style=\"text-align: right;\">\n",
              "      <th></th>\n",
              "      <th>Name</th>\n",
              "      <th>Points</th>\n",
              "    </tr>\n",
              "  </thead>\n",
              "  <tbody>\n",
              "    <tr>\n",
              "      <th>3</th>\n",
              "      <td>M S Dhoni</td>\n",
              "      <td>693.561821</td>\n",
              "    </tr>\n",
              "  </tbody>\n",
              "</table>\n",
              "</div>"
            ],
            "text/plain": [
              "        Name      Points\n",
              "3  M S Dhoni  693.561821"
            ]
          },
          "metadata": {
            "tags": []
          },
          "execution_count": 89
        }
      ]
    },
    {
      "cell_type": "code",
      "metadata": {
        "id": "b0Maw5UnEyDZ",
        "colab_type": "code",
        "colab": {}
      },
      "source": [
        "from google.colab import files\n",
        "df.to_csv('GOAT_LIST_Last20.csv') \n",
        "files.download('GOAT_LIST_Last20.csv')"
      ],
      "execution_count": 0,
      "outputs": []
    }
  ]
}