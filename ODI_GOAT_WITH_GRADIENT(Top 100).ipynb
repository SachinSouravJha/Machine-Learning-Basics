{
  "nbformat": 4,
  "nbformat_minor": 0,
  "metadata": {
    "colab": {
      "name": "Stats.ipynb",
      "provenance": [],
      "authorship_tag": "ABX9TyOnVk2b2onv0MLiLJDkVc/t",
      "include_colab_link": true
    },
    "kernelspec": {
      "name": "python3",
      "display_name": "Python 3"
    }
  },
  "cells": [
    {
      "cell_type": "markdown",
      "metadata": {
        "id": "view-in-github",
        "colab_type": "text"
      },
      "source": [
        "<a href=\"https://colab.research.google.com/github/SachinSouravJha/Machine-Learning-Basics/blob/master/ODI_GOAT_WITH_GRADIENT(Top%20100).ipynb\" target=\"_parent\"><img src=\"https://colab.research.google.com/assets/colab-badge.svg\" alt=\"Open In Colab\"/></a>"
      ]
    },
    {
      "cell_type": "code",
      "metadata": {
        "id": "HjCbsB4Np7Uq",
        "colab_type": "code",
        "colab": {}
      },
      "source": [
        "#!wget https://www.dropbox.com/s/pxw4ps4xeqgyzr8/Year_wise_batting_stats_all_ODI_players%2820-12-19%29.csv?dl=0\n"
      ],
      "execution_count": 0,
      "outputs": []
    },
    {
      "cell_type": "code",
      "metadata": {
        "id": "v6aNyJol0B0e",
        "colab_type": "code",
        "outputId": "aed108d5-67c5-45b6-d5f6-36b8b9264419",
        "colab": {
          "base_uri": "https://localhost:8080/",
          "height": 34
        }
      },
      "source": [
        "!ls"
      ],
      "execution_count": 42,
      "outputs": [
        {
          "output_type": "stream",
          "text": [
            " sample_data  'Year_wise_batting_stats_all_ODI_players(20-12-19).csv?dl=0'\n"
          ],
          "name": "stdout"
        }
      ]
    },
    {
      "cell_type": "code",
      "metadata": {
        "id": "Nk8drWpg0CJq",
        "colab_type": "code",
        "colab": {}
      },
      "source": [
        "import pandas as pd\n",
        "stats = pd.read_csv('Year_wise_batting_stats_all_ODI_players(20-12-19).csv?dl=0')"
      ],
      "execution_count": 0,
      "outputs": []
    },
    {
      "cell_type": "code",
      "metadata": {
        "id": "Sa5UrRdY2xc6",
        "colab_type": "code",
        "outputId": "950a682f-af80-4b58-d0fa-4afba0c85d91",
        "colab": {
          "base_uri": "https://localhost:8080/",
          "height": 204
        }
      },
      "source": [
        "stats.head()"
      ],
      "execution_count": 44,
      "outputs": [
        {
          "output_type": "execute_result",
          "data": {
            "text/html": [
              "<div>\n",
              "<style scoped>\n",
              "    .dataframe tbody tr th:only-of-type {\n",
              "        vertical-align: middle;\n",
              "    }\n",
              "\n",
              "    .dataframe tbody tr th {\n",
              "        vertical-align: top;\n",
              "    }\n",
              "\n",
              "    .dataframe thead th {\n",
              "        text-align: right;\n",
              "    }\n",
              "</style>\n",
              "<table border=\"1\" class=\"dataframe\">\n",
              "  <thead>\n",
              "    <tr style=\"text-align: right;\">\n",
              "      <th></th>\n",
              "      <th>country</th>\n",
              "      <th>player_name</th>\n",
              "      <th>0s</th>\n",
              "      <th>100s</th>\n",
              "      <th>50s</th>\n",
              "      <th>Avg</th>\n",
              "      <th>Ca</th>\n",
              "      <th>HS</th>\n",
              "      <th>Inns</th>\n",
              "      <th>Mat</th>\n",
              "      <th>NO</th>\n",
              "      <th>Runs</th>\n",
              "      <th>S/R</th>\n",
              "      <th>St</th>\n",
              "      <th>Year</th>\n",
              "    </tr>\n",
              "  </thead>\n",
              "  <tbody>\n",
              "    <tr>\n",
              "      <th>0</th>\n",
              "      <td>AFG</td>\n",
              "      <td>Najeeb Tarakai</td>\n",
              "      <td>0</td>\n",
              "      <td>0</td>\n",
              "      <td>0</td>\n",
              "      <td>5.0</td>\n",
              "      <td>0</td>\n",
              "      <td>5</td>\n",
              "      <td>1</td>\n",
              "      <td>1</td>\n",
              "      <td>0</td>\n",
              "      <td>5</td>\n",
              "      <td>27.78</td>\n",
              "      <td>0</td>\n",
              "      <td>2017</td>\n",
              "    </tr>\n",
              "    <tr>\n",
              "      <th>1</th>\n",
              "      <td>AFG</td>\n",
              "      <td>Najeeb Tarakai</td>\n",
              "      <td>0</td>\n",
              "      <td>0</td>\n",
              "      <td>0</td>\n",
              "      <td>5.0</td>\n",
              "      <td>0</td>\n",
              "      <td>5</td>\n",
              "      <td>1</td>\n",
              "      <td>1</td>\n",
              "      <td>0</td>\n",
              "      <td>5</td>\n",
              "      <td>27.78</td>\n",
              "      <td>0</td>\n",
              "      <td>Overall</td>\n",
              "    </tr>\n",
              "    <tr>\n",
              "      <th>2</th>\n",
              "      <td>AFG</td>\n",
              "      <td>Naveen -ul-Haq</td>\n",
              "      <td>0</td>\n",
              "      <td>0</td>\n",
              "      <td>0</td>\n",
              "      <td>NaN</td>\n",
              "      <td>2</td>\n",
              "      <td>0*</td>\n",
              "      <td>1</td>\n",
              "      <td>2</td>\n",
              "      <td>1</td>\n",
              "      <td>0</td>\n",
              "      <td>NaN</td>\n",
              "      <td>0</td>\n",
              "      <td>2016</td>\n",
              "    </tr>\n",
              "    <tr>\n",
              "      <th>3</th>\n",
              "      <td>AFG</td>\n",
              "      <td>Naveen -ul-Haq</td>\n",
              "      <td>0</td>\n",
              "      <td>0</td>\n",
              "      <td>0</td>\n",
              "      <td>9.0</td>\n",
              "      <td>0</td>\n",
              "      <td>8*</td>\n",
              "      <td>2</td>\n",
              "      <td>2</td>\n",
              "      <td>1</td>\n",
              "      <td>9</td>\n",
              "      <td>45.00</td>\n",
              "      <td>0</td>\n",
              "      <td>2019</td>\n",
              "    </tr>\n",
              "    <tr>\n",
              "      <th>4</th>\n",
              "      <td>AFG</td>\n",
              "      <td>Naveen -ul-Haq</td>\n",
              "      <td>0</td>\n",
              "      <td>0</td>\n",
              "      <td>0</td>\n",
              "      <td>9.0</td>\n",
              "      <td>2</td>\n",
              "      <td>8*</td>\n",
              "      <td>3</td>\n",
              "      <td>4</td>\n",
              "      <td>2</td>\n",
              "      <td>9</td>\n",
              "      <td>42.86</td>\n",
              "      <td>0</td>\n",
              "      <td>Overall</td>\n",
              "    </tr>\n",
              "  </tbody>\n",
              "</table>\n",
              "</div>"
            ],
            "text/plain": [
              "  country     player_name  0s  100s  50s  ...  NO  Runs    S/R  St     Year\n",
              "0     AFG  Najeeb Tarakai   0     0    0  ...   0     5  27.78   0     2017\n",
              "1     AFG  Najeeb Tarakai   0     0    0  ...   0     5  27.78   0  Overall\n",
              "2     AFG  Naveen -ul-Haq   0     0    0  ...   1     0    NaN   0     2016\n",
              "3     AFG  Naveen -ul-Haq   0     0    0  ...   1     9  45.00   0     2019\n",
              "4     AFG  Naveen -ul-Haq   0     0    0  ...   2     9  42.86   0  Overall\n",
              "\n",
              "[5 rows x 15 columns]"
            ]
          },
          "metadata": {
            "tags": []
          },
          "execution_count": 44
        }
      ]
    },
    {
      "cell_type": "code",
      "metadata": {
        "id": "X49YTOuC2yZK",
        "colab_type": "code",
        "outputId": "b861bb09-45f4-431d-b725-6cd1f8a99a15",
        "colab": {
          "base_uri": "https://localhost:8080/",
          "height": 204
        }
      },
      "source": [
        "stats1 = stats[stats['Year']!=\"Overall\"]\n",
        "stats1.head()"
      ],
      "execution_count": 45,
      "outputs": [
        {
          "output_type": "execute_result",
          "data": {
            "text/html": [
              "<div>\n",
              "<style scoped>\n",
              "    .dataframe tbody tr th:only-of-type {\n",
              "        vertical-align: middle;\n",
              "    }\n",
              "\n",
              "    .dataframe tbody tr th {\n",
              "        vertical-align: top;\n",
              "    }\n",
              "\n",
              "    .dataframe thead th {\n",
              "        text-align: right;\n",
              "    }\n",
              "</style>\n",
              "<table border=\"1\" class=\"dataframe\">\n",
              "  <thead>\n",
              "    <tr style=\"text-align: right;\">\n",
              "      <th></th>\n",
              "      <th>country</th>\n",
              "      <th>player_name</th>\n",
              "      <th>0s</th>\n",
              "      <th>100s</th>\n",
              "      <th>50s</th>\n",
              "      <th>Avg</th>\n",
              "      <th>Ca</th>\n",
              "      <th>HS</th>\n",
              "      <th>Inns</th>\n",
              "      <th>Mat</th>\n",
              "      <th>NO</th>\n",
              "      <th>Runs</th>\n",
              "      <th>S/R</th>\n",
              "      <th>St</th>\n",
              "      <th>Year</th>\n",
              "    </tr>\n",
              "  </thead>\n",
              "  <tbody>\n",
              "    <tr>\n",
              "      <th>0</th>\n",
              "      <td>AFG</td>\n",
              "      <td>Najeeb Tarakai</td>\n",
              "      <td>0</td>\n",
              "      <td>0</td>\n",
              "      <td>0</td>\n",
              "      <td>5.0</td>\n",
              "      <td>0</td>\n",
              "      <td>5</td>\n",
              "      <td>1</td>\n",
              "      <td>1</td>\n",
              "      <td>0</td>\n",
              "      <td>5</td>\n",
              "      <td>27.78</td>\n",
              "      <td>0</td>\n",
              "      <td>2017</td>\n",
              "    </tr>\n",
              "    <tr>\n",
              "      <th>2</th>\n",
              "      <td>AFG</td>\n",
              "      <td>Naveen -ul-Haq</td>\n",
              "      <td>0</td>\n",
              "      <td>0</td>\n",
              "      <td>0</td>\n",
              "      <td>NaN</td>\n",
              "      <td>2</td>\n",
              "      <td>0*</td>\n",
              "      <td>1</td>\n",
              "      <td>2</td>\n",
              "      <td>1</td>\n",
              "      <td>0</td>\n",
              "      <td>NaN</td>\n",
              "      <td>0</td>\n",
              "      <td>2016</td>\n",
              "    </tr>\n",
              "    <tr>\n",
              "      <th>3</th>\n",
              "      <td>AFG</td>\n",
              "      <td>Naveen -ul-Haq</td>\n",
              "      <td>0</td>\n",
              "      <td>0</td>\n",
              "      <td>0</td>\n",
              "      <td>9.0</td>\n",
              "      <td>0</td>\n",
              "      <td>8*</td>\n",
              "      <td>2</td>\n",
              "      <td>2</td>\n",
              "      <td>1</td>\n",
              "      <td>9</td>\n",
              "      <td>45.00</td>\n",
              "      <td>0</td>\n",
              "      <td>2019</td>\n",
              "    </tr>\n",
              "    <tr>\n",
              "      <th>5</th>\n",
              "      <td>AFG</td>\n",
              "      <td>Zakiullah Zaki</td>\n",
              "      <td>0</td>\n",
              "      <td>0</td>\n",
              "      <td>0</td>\n",
              "      <td>NaN</td>\n",
              "      <td>0</td>\n",
              "      <td>3*</td>\n",
              "      <td>1</td>\n",
              "      <td>1</td>\n",
              "      <td>1</td>\n",
              "      <td>3</td>\n",
              "      <td>13.64</td>\n",
              "      <td>0</td>\n",
              "      <td>2012</td>\n",
              "    </tr>\n",
              "    <tr>\n",
              "      <th>7</th>\n",
              "      <td>AFG</td>\n",
              "      <td>Usman Ghani</td>\n",
              "      <td>1</td>\n",
              "      <td>1</td>\n",
              "      <td>2</td>\n",
              "      <td>39.5</td>\n",
              "      <td>2</td>\n",
              "      <td>118</td>\n",
              "      <td>8</td>\n",
              "      <td>8</td>\n",
              "      <td>0</td>\n",
              "      <td>316</td>\n",
              "      <td>78.61</td>\n",
              "      <td>0</td>\n",
              "      <td>2014</td>\n",
              "    </tr>\n",
              "  </tbody>\n",
              "</table>\n",
              "</div>"
            ],
            "text/plain": [
              "  country     player_name  0s  100s  50s   Avg  ...  Mat NO  Runs    S/R  St  Year\n",
              "0     AFG  Najeeb Tarakai   0     0    0   5.0  ...    1  0     5  27.78   0  2017\n",
              "2     AFG  Naveen -ul-Haq   0     0    0   NaN  ...    2  1     0    NaN   0  2016\n",
              "3     AFG  Naveen -ul-Haq   0     0    0   9.0  ...    2  1     9  45.00   0  2019\n",
              "5     AFG  Zakiullah Zaki   0     0    0   NaN  ...    1  1     3  13.64   0  2012\n",
              "7     AFG     Usman Ghani   1     1    2  39.5  ...    8  0   316  78.61   0  2014\n",
              "\n",
              "[5 rows x 15 columns]"
            ]
          },
          "metadata": {
            "tags": []
          },
          "execution_count": 45
        }
      ]
    },
    {
      "cell_type": "code",
      "metadata": {
        "id": "GnP0gPaG0CW4",
        "colab_type": "code",
        "outputId": "2b1883c2-fe9a-4ca7-f4bf-7219bb1b00cc",
        "colab": {
          "base_uri": "https://localhost:8080/",
          "height": 408
        }
      },
      "source": [
        "stats1[\"Avg\"] = stats1[\"Avg\"].fillna(0)\n",
        "stats1[\"S/R\"] = stats1[\"S/R\"].fillna(0)\n",
        "stats1.head()"
      ],
      "execution_count": 46,
      "outputs": [
        {
          "output_type": "stream",
          "text": [
            "/usr/local/lib/python3.6/dist-packages/ipykernel_launcher.py:1: SettingWithCopyWarning: \n",
            "A value is trying to be set on a copy of a slice from a DataFrame.\n",
            "Try using .loc[row_indexer,col_indexer] = value instead\n",
            "\n",
            "See the caveats in the documentation: http://pandas.pydata.org/pandas-docs/stable/user_guide/indexing.html#returning-a-view-versus-a-copy\n",
            "  \"\"\"Entry point for launching an IPython kernel.\n",
            "/usr/local/lib/python3.6/dist-packages/ipykernel_launcher.py:2: SettingWithCopyWarning: \n",
            "A value is trying to be set on a copy of a slice from a DataFrame.\n",
            "Try using .loc[row_indexer,col_indexer] = value instead\n",
            "\n",
            "See the caveats in the documentation: http://pandas.pydata.org/pandas-docs/stable/user_guide/indexing.html#returning-a-view-versus-a-copy\n",
            "  \n"
          ],
          "name": "stderr"
        },
        {
          "output_type": "execute_result",
          "data": {
            "text/html": [
              "<div>\n",
              "<style scoped>\n",
              "    .dataframe tbody tr th:only-of-type {\n",
              "        vertical-align: middle;\n",
              "    }\n",
              "\n",
              "    .dataframe tbody tr th {\n",
              "        vertical-align: top;\n",
              "    }\n",
              "\n",
              "    .dataframe thead th {\n",
              "        text-align: right;\n",
              "    }\n",
              "</style>\n",
              "<table border=\"1\" class=\"dataframe\">\n",
              "  <thead>\n",
              "    <tr style=\"text-align: right;\">\n",
              "      <th></th>\n",
              "      <th>country</th>\n",
              "      <th>player_name</th>\n",
              "      <th>0s</th>\n",
              "      <th>100s</th>\n",
              "      <th>50s</th>\n",
              "      <th>Avg</th>\n",
              "      <th>Ca</th>\n",
              "      <th>HS</th>\n",
              "      <th>Inns</th>\n",
              "      <th>Mat</th>\n",
              "      <th>NO</th>\n",
              "      <th>Runs</th>\n",
              "      <th>S/R</th>\n",
              "      <th>St</th>\n",
              "      <th>Year</th>\n",
              "    </tr>\n",
              "  </thead>\n",
              "  <tbody>\n",
              "    <tr>\n",
              "      <th>0</th>\n",
              "      <td>AFG</td>\n",
              "      <td>Najeeb Tarakai</td>\n",
              "      <td>0</td>\n",
              "      <td>0</td>\n",
              "      <td>0</td>\n",
              "      <td>5.0</td>\n",
              "      <td>0</td>\n",
              "      <td>5</td>\n",
              "      <td>1</td>\n",
              "      <td>1</td>\n",
              "      <td>0</td>\n",
              "      <td>5</td>\n",
              "      <td>27.78</td>\n",
              "      <td>0</td>\n",
              "      <td>2017</td>\n",
              "    </tr>\n",
              "    <tr>\n",
              "      <th>2</th>\n",
              "      <td>AFG</td>\n",
              "      <td>Naveen -ul-Haq</td>\n",
              "      <td>0</td>\n",
              "      <td>0</td>\n",
              "      <td>0</td>\n",
              "      <td>0.0</td>\n",
              "      <td>2</td>\n",
              "      <td>0*</td>\n",
              "      <td>1</td>\n",
              "      <td>2</td>\n",
              "      <td>1</td>\n",
              "      <td>0</td>\n",
              "      <td>0.00</td>\n",
              "      <td>0</td>\n",
              "      <td>2016</td>\n",
              "    </tr>\n",
              "    <tr>\n",
              "      <th>3</th>\n",
              "      <td>AFG</td>\n",
              "      <td>Naveen -ul-Haq</td>\n",
              "      <td>0</td>\n",
              "      <td>0</td>\n",
              "      <td>0</td>\n",
              "      <td>9.0</td>\n",
              "      <td>0</td>\n",
              "      <td>8*</td>\n",
              "      <td>2</td>\n",
              "      <td>2</td>\n",
              "      <td>1</td>\n",
              "      <td>9</td>\n",
              "      <td>45.00</td>\n",
              "      <td>0</td>\n",
              "      <td>2019</td>\n",
              "    </tr>\n",
              "    <tr>\n",
              "      <th>5</th>\n",
              "      <td>AFG</td>\n",
              "      <td>Zakiullah Zaki</td>\n",
              "      <td>0</td>\n",
              "      <td>0</td>\n",
              "      <td>0</td>\n",
              "      <td>0.0</td>\n",
              "      <td>0</td>\n",
              "      <td>3*</td>\n",
              "      <td>1</td>\n",
              "      <td>1</td>\n",
              "      <td>1</td>\n",
              "      <td>3</td>\n",
              "      <td>13.64</td>\n",
              "      <td>0</td>\n",
              "      <td>2012</td>\n",
              "    </tr>\n",
              "    <tr>\n",
              "      <th>7</th>\n",
              "      <td>AFG</td>\n",
              "      <td>Usman Ghani</td>\n",
              "      <td>1</td>\n",
              "      <td>1</td>\n",
              "      <td>2</td>\n",
              "      <td>39.5</td>\n",
              "      <td>2</td>\n",
              "      <td>118</td>\n",
              "      <td>8</td>\n",
              "      <td>8</td>\n",
              "      <td>0</td>\n",
              "      <td>316</td>\n",
              "      <td>78.61</td>\n",
              "      <td>0</td>\n",
              "      <td>2014</td>\n",
              "    </tr>\n",
              "  </tbody>\n",
              "</table>\n",
              "</div>"
            ],
            "text/plain": [
              "  country     player_name  0s  100s  50s   Avg  ...  Mat NO  Runs    S/R  St  Year\n",
              "0     AFG  Najeeb Tarakai   0     0    0   5.0  ...    1  0     5  27.78   0  2017\n",
              "2     AFG  Naveen -ul-Haq   0     0    0   0.0  ...    2  1     0   0.00   0  2016\n",
              "3     AFG  Naveen -ul-Haq   0     0    0   9.0  ...    2  1     9  45.00   0  2019\n",
              "5     AFG  Zakiullah Zaki   0     0    0   0.0  ...    1  1     3  13.64   0  2012\n",
              "7     AFG     Usman Ghani   1     1    2  39.5  ...    8  0   316  78.61   0  2014\n",
              "\n",
              "[5 rows x 15 columns]"
            ]
          },
          "metadata": {
            "tags": []
          },
          "execution_count": 46
        }
      ]
    },
    {
      "cell_type": "code",
      "metadata": {
        "id": "TxlSIfDv0CmA",
        "colab_type": "code",
        "outputId": "f42664ad-9485-4e3a-ee22-1f84e763e543",
        "colab": {
          "base_uri": "https://localhost:8080/",
          "height": 51
        }
      },
      "source": [
        "Unique = stats.player_name.unique()\n",
        "Unique"
      ],
      "execution_count": 47,
      "outputs": [
        {
          "output_type": "execute_result",
          "data": {
            "text/plain": [
              "array(['Najeeb Tarakai', 'Naveen -ul-Haq', 'Zakiullah Zaki', ...,\n",
              "       'Babu Meman', 'Vincent Hogg', 'John Rennie'], dtype=object)"
            ]
          },
          "metadata": {
            "tags": []
          },
          "execution_count": 47
        }
      ]
    },
    {
      "cell_type": "code",
      "metadata": {
        "id": "-bj8f8rEsx1z",
        "colab_type": "code",
        "colab": {}
      },
      "source": [
        "#Better List"
      ],
      "execution_count": 0,
      "outputs": []
    },
    {
      "cell_type": "code",
      "metadata": {
        "id": "rPyR5V078_Vl",
        "colab_type": "code",
        "outputId": "51a60999-78bb-4a34-d1db-9c805e97c6f3",
        "colab": {
          "base_uri": "https://localhost:8080/",
          "height": 306
        }
      },
      "source": [
        "\n",
        "stats1[\"Avg\"] = stats1[\"Avg\"]-stats[\"NO\"]\n",
        "stats1.head()"
      ],
      "execution_count": 49,
      "outputs": [
        {
          "output_type": "stream",
          "text": [
            "/usr/local/lib/python3.6/dist-packages/ipykernel_launcher.py:2: SettingWithCopyWarning: \n",
            "A value is trying to be set on a copy of a slice from a DataFrame.\n",
            "Try using .loc[row_indexer,col_indexer] = value instead\n",
            "\n",
            "See the caveats in the documentation: http://pandas.pydata.org/pandas-docs/stable/user_guide/indexing.html#returning-a-view-versus-a-copy\n",
            "  \n"
          ],
          "name": "stderr"
        },
        {
          "output_type": "execute_result",
          "data": {
            "text/html": [
              "<div>\n",
              "<style scoped>\n",
              "    .dataframe tbody tr th:only-of-type {\n",
              "        vertical-align: middle;\n",
              "    }\n",
              "\n",
              "    .dataframe tbody tr th {\n",
              "        vertical-align: top;\n",
              "    }\n",
              "\n",
              "    .dataframe thead th {\n",
              "        text-align: right;\n",
              "    }\n",
              "</style>\n",
              "<table border=\"1\" class=\"dataframe\">\n",
              "  <thead>\n",
              "    <tr style=\"text-align: right;\">\n",
              "      <th></th>\n",
              "      <th>country</th>\n",
              "      <th>player_name</th>\n",
              "      <th>0s</th>\n",
              "      <th>100s</th>\n",
              "      <th>50s</th>\n",
              "      <th>Avg</th>\n",
              "      <th>Ca</th>\n",
              "      <th>HS</th>\n",
              "      <th>Inns</th>\n",
              "      <th>Mat</th>\n",
              "      <th>NO</th>\n",
              "      <th>Runs</th>\n",
              "      <th>S/R</th>\n",
              "      <th>St</th>\n",
              "      <th>Year</th>\n",
              "    </tr>\n",
              "  </thead>\n",
              "  <tbody>\n",
              "    <tr>\n",
              "      <th>0</th>\n",
              "      <td>AFG</td>\n",
              "      <td>Najeeb Tarakai</td>\n",
              "      <td>0</td>\n",
              "      <td>0</td>\n",
              "      <td>0</td>\n",
              "      <td>5.0</td>\n",
              "      <td>0</td>\n",
              "      <td>5</td>\n",
              "      <td>1</td>\n",
              "      <td>1</td>\n",
              "      <td>0</td>\n",
              "      <td>5</td>\n",
              "      <td>27.78</td>\n",
              "      <td>0</td>\n",
              "      <td>2017</td>\n",
              "    </tr>\n",
              "    <tr>\n",
              "      <th>2</th>\n",
              "      <td>AFG</td>\n",
              "      <td>Naveen -ul-Haq</td>\n",
              "      <td>0</td>\n",
              "      <td>0</td>\n",
              "      <td>0</td>\n",
              "      <td>-1.0</td>\n",
              "      <td>2</td>\n",
              "      <td>0*</td>\n",
              "      <td>1</td>\n",
              "      <td>2</td>\n",
              "      <td>1</td>\n",
              "      <td>0</td>\n",
              "      <td>0.00</td>\n",
              "      <td>0</td>\n",
              "      <td>2016</td>\n",
              "    </tr>\n",
              "    <tr>\n",
              "      <th>3</th>\n",
              "      <td>AFG</td>\n",
              "      <td>Naveen -ul-Haq</td>\n",
              "      <td>0</td>\n",
              "      <td>0</td>\n",
              "      <td>0</td>\n",
              "      <td>8.0</td>\n",
              "      <td>0</td>\n",
              "      <td>8*</td>\n",
              "      <td>2</td>\n",
              "      <td>2</td>\n",
              "      <td>1</td>\n",
              "      <td>9</td>\n",
              "      <td>45.00</td>\n",
              "      <td>0</td>\n",
              "      <td>2019</td>\n",
              "    </tr>\n",
              "    <tr>\n",
              "      <th>5</th>\n",
              "      <td>AFG</td>\n",
              "      <td>Zakiullah Zaki</td>\n",
              "      <td>0</td>\n",
              "      <td>0</td>\n",
              "      <td>0</td>\n",
              "      <td>-1.0</td>\n",
              "      <td>0</td>\n",
              "      <td>3*</td>\n",
              "      <td>1</td>\n",
              "      <td>1</td>\n",
              "      <td>1</td>\n",
              "      <td>3</td>\n",
              "      <td>13.64</td>\n",
              "      <td>0</td>\n",
              "      <td>2012</td>\n",
              "    </tr>\n",
              "    <tr>\n",
              "      <th>7</th>\n",
              "      <td>AFG</td>\n",
              "      <td>Usman Ghani</td>\n",
              "      <td>1</td>\n",
              "      <td>1</td>\n",
              "      <td>2</td>\n",
              "      <td>39.5</td>\n",
              "      <td>2</td>\n",
              "      <td>118</td>\n",
              "      <td>8</td>\n",
              "      <td>8</td>\n",
              "      <td>0</td>\n",
              "      <td>316</td>\n",
              "      <td>78.61</td>\n",
              "      <td>0</td>\n",
              "      <td>2014</td>\n",
              "    </tr>\n",
              "  </tbody>\n",
              "</table>\n",
              "</div>"
            ],
            "text/plain": [
              "  country     player_name  0s  100s  50s   Avg  ...  Mat NO  Runs    S/R  St  Year\n",
              "0     AFG  Najeeb Tarakai   0     0    0   5.0  ...    1  0     5  27.78   0  2017\n",
              "2     AFG  Naveen -ul-Haq   0     0    0  -1.0  ...    2  1     0   0.00   0  2016\n",
              "3     AFG  Naveen -ul-Haq   0     0    0   8.0  ...    2  1     9  45.00   0  2019\n",
              "5     AFG  Zakiullah Zaki   0     0    0  -1.0  ...    1  1     3  13.64   0  2012\n",
              "7     AFG     Usman Ghani   1     1    2  39.5  ...    8  0   316  78.61   0  2014\n",
              "\n",
              "[5 rows x 15 columns]"
            ]
          },
          "metadata": {
            "tags": []
          },
          "execution_count": 49
        }
      ]
    },
    {
      "cell_type": "code",
      "metadata": {
        "id": "w0H-W8Np8_ew",
        "colab_type": "code",
        "outputId": "3b2a40a0-caa2-416a-fe18-a6a34928c5b1",
        "colab": {
          "base_uri": "https://localhost:8080/",
          "height": 54
        }
      },
      "source": [
        "gradient = 8.0\n",
        "Year_Dict = {}\n",
        "for i in range(1971,2020):\n",
        "  Year_Dict[i] = gradient\n",
        "  gradient = gradient-0.1\n",
        "print(Year_Dict)"
      ],
      "execution_count": 50,
      "outputs": [
        {
          "output_type": "stream",
          "text": [
            "{1971: 8.0, 1972: 7.9, 1973: 7.800000000000001, 1974: 7.700000000000001, 1975: 7.600000000000001, 1976: 7.500000000000002, 1977: 7.400000000000002, 1978: 7.3000000000000025, 1979: 7.200000000000003, 1980: 7.100000000000003, 1981: 7.0000000000000036, 1982: 6.900000000000004, 1983: 6.800000000000004, 1984: 6.700000000000005, 1985: 6.600000000000005, 1986: 6.500000000000005, 1987: 6.400000000000006, 1988: 6.300000000000006, 1989: 6.200000000000006, 1990: 6.100000000000007, 1991: 6.000000000000007, 1992: 5.9000000000000075, 1993: 5.800000000000008, 1994: 5.700000000000008, 1995: 5.6000000000000085, 1996: 5.500000000000009, 1997: 5.400000000000009, 1998: 5.30000000000001, 1999: 5.20000000000001, 2000: 5.10000000000001, 2001: 5.000000000000011, 2002: 4.900000000000011, 2003: 4.800000000000011, 2004: 4.700000000000012, 2005: 4.600000000000012, 2006: 4.500000000000012, 2007: 4.400000000000013, 2008: 4.300000000000013, 2009: 4.2000000000000135, 2010: 4.100000000000014, 2011: 4.000000000000014, 2012: 3.900000000000014, 2013: 3.800000000000014, 2014: 3.700000000000014, 2015: 3.600000000000014, 2016: 3.5000000000000138, 2017: 3.4000000000000137, 2018: 3.3000000000000136, 2019: 3.2000000000000135}\n"
          ],
          "name": "stdout"
        }
      ]
    },
    {
      "cell_type": "code",
      "metadata": {
        "id": "PRQz-rTonLEf",
        "colab_type": "code",
        "colab": {}
      },
      "source": [
        "#Start\n",
        "stats1 = stats1[stats1['player_name']!=\"Shahid Afridi\"]"
      ],
      "execution_count": 0,
      "outputs": []
    },
    {
      "cell_type": "code",
      "metadata": {
        "id": "PIrVQFKgCYeV",
        "colab_type": "code",
        "outputId": "7b982191-4c21-48fb-c8e0-9cda993f0d22",
        "colab": {
          "base_uri": "https://localhost:8080/",
          "height": 204
        }
      },
      "source": [
        "stats3 = stats1[stats1['Inns']>10]\n",
        "\n",
        "stats3.head()"
      ],
      "execution_count": 52,
      "outputs": [
        {
          "output_type": "execute_result",
          "data": {
            "text/html": [
              "<div>\n",
              "<style scoped>\n",
              "    .dataframe tbody tr th:only-of-type {\n",
              "        vertical-align: middle;\n",
              "    }\n",
              "\n",
              "    .dataframe tbody tr th {\n",
              "        vertical-align: top;\n",
              "    }\n",
              "\n",
              "    .dataframe thead th {\n",
              "        text-align: right;\n",
              "    }\n",
              "</style>\n",
              "<table border=\"1\" class=\"dataframe\">\n",
              "  <thead>\n",
              "    <tr style=\"text-align: right;\">\n",
              "      <th></th>\n",
              "      <th>country</th>\n",
              "      <th>player_name</th>\n",
              "      <th>0s</th>\n",
              "      <th>100s</th>\n",
              "      <th>50s</th>\n",
              "      <th>Avg</th>\n",
              "      <th>Ca</th>\n",
              "      <th>HS</th>\n",
              "      <th>Inns</th>\n",
              "      <th>Mat</th>\n",
              "      <th>NO</th>\n",
              "      <th>Runs</th>\n",
              "      <th>S/R</th>\n",
              "      <th>St</th>\n",
              "      <th>Year</th>\n",
              "    </tr>\n",
              "  </thead>\n",
              "  <tbody>\n",
              "    <tr>\n",
              "      <th>12</th>\n",
              "      <td>AFG</td>\n",
              "      <td>Karim Sadiq</td>\n",
              "      <td>3</td>\n",
              "      <td>1</td>\n",
              "      <td>0</td>\n",
              "      <td>21.50</td>\n",
              "      <td>3</td>\n",
              "      <td>114*</td>\n",
              "      <td>12</td>\n",
              "      <td>13</td>\n",
              "      <td>2</td>\n",
              "      <td>235</td>\n",
              "      <td>74.13</td>\n",
              "      <td>0</td>\n",
              "      <td>2010</td>\n",
              "    </tr>\n",
              "    <tr>\n",
              "      <th>39</th>\n",
              "      <td>AFG</td>\n",
              "      <td>Hashmatullah Shahidi</td>\n",
              "      <td>1</td>\n",
              "      <td>0</td>\n",
              "      <td>4</td>\n",
              "      <td>28.77</td>\n",
              "      <td>3</td>\n",
              "      <td>76</td>\n",
              "      <td>14</td>\n",
              "      <td>14</td>\n",
              "      <td>1</td>\n",
              "      <td>387</td>\n",
              "      <td>63.44</td>\n",
              "      <td>0</td>\n",
              "      <td>2019</td>\n",
              "    </tr>\n",
              "    <tr>\n",
              "      <th>87</th>\n",
              "      <td>AFG</td>\n",
              "      <td>Rahmat Shah</td>\n",
              "      <td>1</td>\n",
              "      <td>1</td>\n",
              "      <td>5</td>\n",
              "      <td>38.36</td>\n",
              "      <td>3</td>\n",
              "      <td>108*</td>\n",
              "      <td>15</td>\n",
              "      <td>16</td>\n",
              "      <td>1</td>\n",
              "      <td>551</td>\n",
              "      <td>70.10</td>\n",
              "      <td>0</td>\n",
              "      <td>2017</td>\n",
              "    </tr>\n",
              "    <tr>\n",
              "      <th>88</th>\n",
              "      <td>AFG</td>\n",
              "      <td>Rahmat Shah</td>\n",
              "      <td>0</td>\n",
              "      <td>1</td>\n",
              "      <td>6</td>\n",
              "      <td>38.00</td>\n",
              "      <td>6</td>\n",
              "      <td>114</td>\n",
              "      <td>19</td>\n",
              "      <td>20</td>\n",
              "      <td>0</td>\n",
              "      <td>722</td>\n",
              "      <td>74.74</td>\n",
              "      <td>0</td>\n",
              "      <td>2018</td>\n",
              "    </tr>\n",
              "    <tr>\n",
              "      <th>89</th>\n",
              "      <td>AFG</td>\n",
              "      <td>Rahmat Shah</td>\n",
              "      <td>1</td>\n",
              "      <td>1</td>\n",
              "      <td>4</td>\n",
              "      <td>32.30</td>\n",
              "      <td>6</td>\n",
              "      <td>113</td>\n",
              "      <td>20</td>\n",
              "      <td>20</td>\n",
              "      <td>0</td>\n",
              "      <td>646</td>\n",
              "      <td>68.58</td>\n",
              "      <td>0</td>\n",
              "      <td>2019</td>\n",
              "    </tr>\n",
              "  </tbody>\n",
              "</table>\n",
              "</div>"
            ],
            "text/plain": [
              "   country           player_name  0s  100s  50s  ...  NO  Runs    S/R  St  Year\n",
              "12     AFG           Karim Sadiq   3     1    0  ...   2   235  74.13   0  2010\n",
              "39     AFG  Hashmatullah Shahidi   1     0    4  ...   1   387  63.44   0  2019\n",
              "87     AFG           Rahmat Shah   1     1    5  ...   1   551  70.10   0  2017\n",
              "88     AFG           Rahmat Shah   0     1    6  ...   0   722  74.74   0  2018\n",
              "89     AFG           Rahmat Shah   1     1    4  ...   0   646  68.58   0  2019\n",
              "\n",
              "[5 rows x 15 columns]"
            ]
          },
          "metadata": {
            "tags": []
          },
          "execution_count": 52
        }
      ]
    },
    {
      "cell_type": "code",
      "metadata": {
        "id": "YgwTzqq9Jf05",
        "colab_type": "code",
        "colab": {}
      },
      "source": [
        "scaled_features = stats3.copy()"
      ],
      "execution_count": 0,
      "outputs": []
    },
    {
      "cell_type": "code",
      "metadata": {
        "id": "Eb5EhsSEJf-r",
        "colab_type": "code",
        "colab": {}
      },
      "source": [
        "from sklearn.preprocessing import MinMaxScaler\n",
        "col_names = ['Avg', 'S/R']\n",
        "features = scaled_features[col_names]\n",
        "scaler = MinMaxScaler().fit(features.values)\n",
        "features = scaler.transform(features.values)"
      ],
      "execution_count": 0,
      "outputs": []
    },
    {
      "cell_type": "code",
      "metadata": {
        "id": "INjojbyzCYxg",
        "colab_type": "code",
        "outputId": "120cb6aa-5e73-4459-9791-1a3fb5fa8ec9",
        "colab": {
          "base_uri": "https://localhost:8080/",
          "height": 204
        }
      },
      "source": [
        "scaled_features[col_names] = features\n",
        "scaled_features.head()"
      ],
      "execution_count": 55,
      "outputs": [
        {
          "output_type": "execute_result",
          "data": {
            "text/html": [
              "<div>\n",
              "<style scoped>\n",
              "    .dataframe tbody tr th:only-of-type {\n",
              "        vertical-align: middle;\n",
              "    }\n",
              "\n",
              "    .dataframe tbody tr th {\n",
              "        vertical-align: top;\n",
              "    }\n",
              "\n",
              "    .dataframe thead th {\n",
              "        text-align: right;\n",
              "    }\n",
              "</style>\n",
              "<table border=\"1\" class=\"dataframe\">\n",
              "  <thead>\n",
              "    <tr style=\"text-align: right;\">\n",
              "      <th></th>\n",
              "      <th>country</th>\n",
              "      <th>player_name</th>\n",
              "      <th>0s</th>\n",
              "      <th>100s</th>\n",
              "      <th>50s</th>\n",
              "      <th>Avg</th>\n",
              "      <th>Ca</th>\n",
              "      <th>HS</th>\n",
              "      <th>Inns</th>\n",
              "      <th>Mat</th>\n",
              "      <th>NO</th>\n",
              "      <th>Runs</th>\n",
              "      <th>S/R</th>\n",
              "      <th>St</th>\n",
              "      <th>Year</th>\n",
              "    </tr>\n",
              "  </thead>\n",
              "  <tbody>\n",
              "    <tr>\n",
              "      <th>12</th>\n",
              "      <td>AFG</td>\n",
              "      <td>Karim Sadiq</td>\n",
              "      <td>3</td>\n",
              "      <td>1</td>\n",
              "      <td>0</td>\n",
              "      <td>0.189237</td>\n",
              "      <td>3</td>\n",
              "      <td>114*</td>\n",
              "      <td>12</td>\n",
              "      <td>13</td>\n",
              "      <td>2</td>\n",
              "      <td>235</td>\n",
              "      <td>0.417258</td>\n",
              "      <td>0</td>\n",
              "      <td>2010</td>\n",
              "    </tr>\n",
              "    <tr>\n",
              "      <th>39</th>\n",
              "      <td>AFG</td>\n",
              "      <td>Hashmatullah Shahidi</td>\n",
              "      <td>1</td>\n",
              "      <td>0</td>\n",
              "      <td>4</td>\n",
              "      <td>0.240380</td>\n",
              "      <td>3</td>\n",
              "      <td>76</td>\n",
              "      <td>14</td>\n",
              "      <td>14</td>\n",
              "      <td>1</td>\n",
              "      <td>387</td>\n",
              "      <td>0.357087</td>\n",
              "      <td>0</td>\n",
              "      <td>2019</td>\n",
              "    </tr>\n",
              "    <tr>\n",
              "      <th>87</th>\n",
              "      <td>AFG</td>\n",
              "      <td>Rahmat Shah</td>\n",
              "      <td>1</td>\n",
              "      <td>1</td>\n",
              "      <td>5</td>\n",
              "      <td>0.307844</td>\n",
              "      <td>3</td>\n",
              "      <td>108*</td>\n",
              "      <td>15</td>\n",
              "      <td>16</td>\n",
              "      <td>1</td>\n",
              "      <td>551</td>\n",
              "      <td>0.394574</td>\n",
              "      <td>0</td>\n",
              "      <td>2017</td>\n",
              "    </tr>\n",
              "    <tr>\n",
              "      <th>88</th>\n",
              "      <td>AFG</td>\n",
              "      <td>Rahmat Shah</td>\n",
              "      <td>0</td>\n",
              "      <td>1</td>\n",
              "      <td>6</td>\n",
              "      <td>0.305311</td>\n",
              "      <td>6</td>\n",
              "      <td>114</td>\n",
              "      <td>19</td>\n",
              "      <td>20</td>\n",
              "      <td>0</td>\n",
              "      <td>722</td>\n",
              "      <td>0.420691</td>\n",
              "      <td>0</td>\n",
              "      <td>2018</td>\n",
              "    </tr>\n",
              "    <tr>\n",
              "      <th>89</th>\n",
              "      <td>AFG</td>\n",
              "      <td>Rahmat Shah</td>\n",
              "      <td>1</td>\n",
              "      <td>1</td>\n",
              "      <td>4</td>\n",
              "      <td>0.265213</td>\n",
              "      <td>6</td>\n",
              "      <td>113</td>\n",
              "      <td>20</td>\n",
              "      <td>20</td>\n",
              "      <td>0</td>\n",
              "      <td>646</td>\n",
              "      <td>0.386018</td>\n",
              "      <td>0</td>\n",
              "      <td>2019</td>\n",
              "    </tr>\n",
              "  </tbody>\n",
              "</table>\n",
              "</div>"
            ],
            "text/plain": [
              "   country           player_name  0s  100s  50s  ...  NO  Runs       S/R  St  Year\n",
              "12     AFG           Karim Sadiq   3     1    0  ...   2   235  0.417258   0  2010\n",
              "39     AFG  Hashmatullah Shahidi   1     0    4  ...   1   387  0.357087   0  2019\n",
              "87     AFG           Rahmat Shah   1     1    5  ...   1   551  0.394574   0  2017\n",
              "88     AFG           Rahmat Shah   0     1    6  ...   0   722  0.420691   0  2018\n",
              "89     AFG           Rahmat Shah   1     1    4  ...   0   646  0.386018   0  2019\n",
              "\n",
              "[5 rows x 15 columns]"
            ]
          },
          "metadata": {
            "tags": []
          },
          "execution_count": 55
        }
      ]
    },
    {
      "cell_type": "code",
      "metadata": {
        "id": "qC8ixZymLmy8",
        "colab_type": "code",
        "outputId": "100e4f74-0ac5-4e8a-a31d-1f5f1d9f75b1",
        "colab": {
          "base_uri": "https://localhost:8080/",
          "height": 221
        }
      },
      "source": [
        "stats3.player_name.value_counts()"
      ],
      "execution_count": 56,
      "outputs": [
        {
          "output_type": "execute_result",
          "data": {
            "text/plain": [
              "Sachin Tendulkar        20\n",
              "Sanath Jayasuriya       18\n",
              "Mahela Jayawardene      17\n",
              "Kumar Sangakkara        16\n",
              "Inzamam-ul-Haq          15\n",
              "                        ..\n",
              "Dhiman Ghosh             1\n",
              "Somachandra De Silva     1\n",
              "Blessing Mahwire         1\n",
              "James Tredwell           1\n",
              "Llorne Howell            1\n",
              "Name: player_name, Length: 676, dtype: int64"
            ]
          },
          "metadata": {
            "tags": []
          },
          "execution_count": 56
        }
      ]
    },
    {
      "cell_type": "code",
      "metadata": {
        "id": "gxby6ngm8_pS",
        "colab_type": "code",
        "outputId": "209584b4-35fb-4c3e-a160-a284906f8600",
        "colab": {
          "base_uri": "https://localhost:8080/",
          "height": 34
        }
      },
      "source": [
        "(stats3['player_name']=='Rahmat Shah').sum()"
      ],
      "execution_count": 57,
      "outputs": [
        {
          "output_type": "execute_result",
          "data": {
            "text/plain": [
              "3"
            ]
          },
          "metadata": {
            "tags": []
          },
          "execution_count": 57
        }
      ]
    },
    {
      "cell_type": "code",
      "metadata": {
        "id": "ueEQhniXONk3",
        "colab_type": "code",
        "outputId": "ee5e2ed0-6b0b-424e-b5a0-5396d95741db",
        "colab": {
          "base_uri": "https://localhost:8080/",
          "height": 204
        }
      },
      "source": [
        "stats3.reset_index(drop=True, inplace=True)\n",
        "stats3.head()"
      ],
      "execution_count": 58,
      "outputs": [
        {
          "output_type": "execute_result",
          "data": {
            "text/html": [
              "<div>\n",
              "<style scoped>\n",
              "    .dataframe tbody tr th:only-of-type {\n",
              "        vertical-align: middle;\n",
              "    }\n",
              "\n",
              "    .dataframe tbody tr th {\n",
              "        vertical-align: top;\n",
              "    }\n",
              "\n",
              "    .dataframe thead th {\n",
              "        text-align: right;\n",
              "    }\n",
              "</style>\n",
              "<table border=\"1\" class=\"dataframe\">\n",
              "  <thead>\n",
              "    <tr style=\"text-align: right;\">\n",
              "      <th></th>\n",
              "      <th>country</th>\n",
              "      <th>player_name</th>\n",
              "      <th>0s</th>\n",
              "      <th>100s</th>\n",
              "      <th>50s</th>\n",
              "      <th>Avg</th>\n",
              "      <th>Ca</th>\n",
              "      <th>HS</th>\n",
              "      <th>Inns</th>\n",
              "      <th>Mat</th>\n",
              "      <th>NO</th>\n",
              "      <th>Runs</th>\n",
              "      <th>S/R</th>\n",
              "      <th>St</th>\n",
              "      <th>Year</th>\n",
              "    </tr>\n",
              "  </thead>\n",
              "  <tbody>\n",
              "    <tr>\n",
              "      <th>0</th>\n",
              "      <td>AFG</td>\n",
              "      <td>Karim Sadiq</td>\n",
              "      <td>3</td>\n",
              "      <td>1</td>\n",
              "      <td>0</td>\n",
              "      <td>21.50</td>\n",
              "      <td>3</td>\n",
              "      <td>114*</td>\n",
              "      <td>12</td>\n",
              "      <td>13</td>\n",
              "      <td>2</td>\n",
              "      <td>235</td>\n",
              "      <td>74.13</td>\n",
              "      <td>0</td>\n",
              "      <td>2010</td>\n",
              "    </tr>\n",
              "    <tr>\n",
              "      <th>1</th>\n",
              "      <td>AFG</td>\n",
              "      <td>Hashmatullah Shahidi</td>\n",
              "      <td>1</td>\n",
              "      <td>0</td>\n",
              "      <td>4</td>\n",
              "      <td>28.77</td>\n",
              "      <td>3</td>\n",
              "      <td>76</td>\n",
              "      <td>14</td>\n",
              "      <td>14</td>\n",
              "      <td>1</td>\n",
              "      <td>387</td>\n",
              "      <td>63.44</td>\n",
              "      <td>0</td>\n",
              "      <td>2019</td>\n",
              "    </tr>\n",
              "    <tr>\n",
              "      <th>2</th>\n",
              "      <td>AFG</td>\n",
              "      <td>Rahmat Shah</td>\n",
              "      <td>1</td>\n",
              "      <td>1</td>\n",
              "      <td>5</td>\n",
              "      <td>38.36</td>\n",
              "      <td>3</td>\n",
              "      <td>108*</td>\n",
              "      <td>15</td>\n",
              "      <td>16</td>\n",
              "      <td>1</td>\n",
              "      <td>551</td>\n",
              "      <td>70.10</td>\n",
              "      <td>0</td>\n",
              "      <td>2017</td>\n",
              "    </tr>\n",
              "    <tr>\n",
              "      <th>3</th>\n",
              "      <td>AFG</td>\n",
              "      <td>Rahmat Shah</td>\n",
              "      <td>0</td>\n",
              "      <td>1</td>\n",
              "      <td>6</td>\n",
              "      <td>38.00</td>\n",
              "      <td>6</td>\n",
              "      <td>114</td>\n",
              "      <td>19</td>\n",
              "      <td>20</td>\n",
              "      <td>0</td>\n",
              "      <td>722</td>\n",
              "      <td>74.74</td>\n",
              "      <td>0</td>\n",
              "      <td>2018</td>\n",
              "    </tr>\n",
              "    <tr>\n",
              "      <th>4</th>\n",
              "      <td>AFG</td>\n",
              "      <td>Rahmat Shah</td>\n",
              "      <td>1</td>\n",
              "      <td>1</td>\n",
              "      <td>4</td>\n",
              "      <td>32.30</td>\n",
              "      <td>6</td>\n",
              "      <td>113</td>\n",
              "      <td>20</td>\n",
              "      <td>20</td>\n",
              "      <td>0</td>\n",
              "      <td>646</td>\n",
              "      <td>68.58</td>\n",
              "      <td>0</td>\n",
              "      <td>2019</td>\n",
              "    </tr>\n",
              "  </tbody>\n",
              "</table>\n",
              "</div>"
            ],
            "text/plain": [
              "  country           player_name  0s  100s  50s  ...  NO  Runs    S/R  St  Year\n",
              "0     AFG           Karim Sadiq   3     1    0  ...   2   235  74.13   0  2010\n",
              "1     AFG  Hashmatullah Shahidi   1     0    4  ...   1   387  63.44   0  2019\n",
              "2     AFG           Rahmat Shah   1     1    5  ...   1   551  70.10   0  2017\n",
              "3     AFG           Rahmat Shah   0     1    6  ...   0   722  74.74   0  2018\n",
              "4     AFG           Rahmat Shah   1     1    4  ...   0   646  68.58   0  2019\n",
              "\n",
              "[5 rows x 15 columns]"
            ]
          },
          "metadata": {
            "tags": []
          },
          "execution_count": 58
        }
      ]
    },
    {
      "cell_type": "code",
      "metadata": {
        "id": "NZULF1NOO-JE",
        "colab_type": "code",
        "outputId": "4aa48348-7565-4ff9-a111-dbbb423afc48",
        "colab": {
          "base_uri": "https://localhost:8080/",
          "height": 34
        }
      },
      "source": [
        "stats3.shape"
      ],
      "execution_count": 59,
      "outputs": [
        {
          "output_type": "execute_result",
          "data": {
            "text/plain": [
              "(2422, 15)"
            ]
          },
          "metadata": {
            "tags": []
          },
          "execution_count": 59
        }
      ]
    },
    {
      "cell_type": "code",
      "metadata": {
        "id": "Iu6zDDt8P2Xa",
        "colab_type": "code",
        "outputId": "bb6e7eee-45d3-4d50-b548-53c11872884c",
        "colab": {
          "base_uri": "https://localhost:8080/",
          "height": 54
        }
      },
      "source": [
        "impact = {}\n",
        "experience = 1\n",
        "for i in range(2422): \n",
        "  career = (stats3['player_name']==stats3.loc[i, \"player_name\"]).sum()\n",
        "  if(career<4):\n",
        "    experience = 0\n",
        "  elif(career<8):\n",
        "    experience = 0.6\n",
        "  elif(career<12):\n",
        "    experience = 0.8\n",
        "  elif(career<16):\n",
        "    experience = 1.0\n",
        "  elif(career<16):\n",
        "    experience = 1.2\n",
        "  else:\n",
        "    experience = 1.4\n",
        "  if(stats3.loc[i, \"Avg\"]<30):\n",
        "    fluke = 3\n",
        "  if stats3.loc[i, \"player_name\"] in impact.keys(): \n",
        "    impact[stats3.loc[i, \"player_name\"]] += ((stats3.loc[i, \"Avg\"]*((stats3.loc[i, \"S/R\"])/3))/(career*fluke))*(experience*Year_Dict[int(stats3.loc[i, \"Year\"])])\n",
        "  else:\n",
        "    impact[stats3.loc[i, \"player_name\"]] = ((stats3.loc[i, \"Avg\"]*((stats3.loc[i, \"S/R\"]/3)))/(career*fluke))*(experience*Year_Dict[int(stats3.loc[i, \"Year\"])])\n",
        "print(impact)\n",
        "  \n"
      ],
      "execution_count": 60,
      "outputs": [
        {
          "output_type": "stream",
          "text": [
            "{'Karim Sadiq': 0.0, 'Hashmatullah Shahidi': 0.0, 'Rahmat Shah': 0.0, 'Asghar Afghan': 373.8553317777792, 'Samiullah Shinwari': 0.0, 'Hazratullah Zazai': 0.0, 'Mirwais Ashraf': 0.0, 'Ihsanullah': 0.0, 'Rashid Khan': 0.0, 'Najibullah Zadran': 0.0, 'Gulbadin Naib': 0.0, 'Ikram Ali Khil': 0.0, 'Mohammad Nabi': 522.2769084761925, 'Nawroz Mangal': 0.0, 'Andy Bichel': 0.0, 'Graeme Wood': 969.186885333334, 'James Hopes': 0.0, 'Kim Hughes': 692.2329240000004, 'Phillip Hughes': 0.0, 'Bradley Hodge': 0.0, 'Shaun Marsh': 0.0, 'Adam Voges': 0.0, 'Wayne Phillips': 0.0, 'Shane Lee': 0.0, 'Michael Veletta': 0.0, 'Ian Healy': 593.772594190477, 'Greg Matthews': 0.0, 'Geoff Marsh': 948.6770115555564, 'Bruce Laird': 0.0, 'Steve Smith': 0.0, 'Tim Paine': 0.0, 'Usman Khawaja': 0.0, 'Mitchell Marsh': 0.0, 'Michael Bevan': 1600.84988026667, 'Dean Jones': 1773.4357357037056, 'Shane Warne': 252.71594033333378, 'Rod Marsh': 0.0, 'Patrick Cummins': 0.0, 'Michael Slater': 0.0, 'Cameron White': 0.0, 'John Hastings': 0.0, 'Tom Moody': 0.0, 'Rodney Hogg': 0.0, 'Greg Blewett': 0.0, 'David Boon': 1264.451794666668, 'Matthew Hayden': 1071.7293888000027, 'Brendon Julian': 0.0, 'Darren Lehmann': 1104.5537980000022, 'Paul Reiffel': 0.0, 'Greg Chappell': 0.0, 'Geoff Lawson': 0.0, 'Marcus Stoinis': 0.0, 'Ian Harvey': 0.0, 'David Warner': 1166.8891154666712, 'Clinton McKay': 0.0, 'Timothy Zoehrer': 0.0, 'Mark Waugh': 1376.1273360000027, 'Damien Martyn': 1446.79621666667, 'Matthew Wade': 0.0, 'Michael Clarke': 1219.387816493831, 'Brad Hogg': 0.0, 'Daniel Christian': 0.0, 'David Hussey': 0.0, 'Glenn Maxwell': 931.7851276000036, 'Ricky Ponting': 1726.939340740745, 'Mitchell Johnson': 0.0, 'Michael Hussey': 1822.6867793333388, 'Travis Head': 0.0, 'Brett Lee': 381.92649666666773, 'Alex Carey': 0.0, 'Simon Katich': 0.0, 'George Bailey': 850.0215563333363, 'Shane Watson': 1229.0251705555597, 'Steve Waugh': 1439.5109664444467, 'Brad Haddin': 0.0, 'Adam Gilchrist': 1496.7634896161653, 'Nathan Hauritz': 0.0, 'Craig McDermott': 0.0, \"Simon O'Donnell\": 0.0, 'Greg Ritchie': 0.0, 'Aaron Finch': 820.288607777781, 'Peter Handscomb': 0.0, 'Allan Border': 1515.9183658730176, 'Mark Taylor': 819.2229760000009, 'Dirk Wellham': 0.0, 'Andrew Symonds': 1100.7666675238124, 'Peter Forrest': 0.0, 'Stuart Law': 0.0, 'James Faulkner': 0.0, 'David Hookes': 0.0, 'Callum Ferguson': 0.0, 'Anamul Haque': 0.0, 'Aminul Islam': 0.0, 'Sanwar Hossain': 0.0, 'Tapash Baisya': 0.0, 'Mehidy Hasan': 0.0, 'Shakib Al Hasan': 1030.3737656565695, 'Abdur Razzak': 140.8169858666671, 'Farhad Reza': 0.0, 'Rajin Saleh': 0.0, 'Mominul Haque': 0.0, 'Mashrafe Mortaza': 311.94118944444546, 'Tamim Iqbal': 1036.0960691358064, 'Nasir Hossain': 0.0, 'Mohammad Rafique': 245.13669240000064, 'Tushar Imran': 0.0, 'Liton Das': 0.0, 'Al Sahariar Rokon': 0.0, 'Aftab Ahmed': 0.0, 'Mushfiqur Rahman': 0.0, 'Soumya Sarkar': 0.0, 'Alok Kapali': 0.0, 'Manjural Islam Rana': 0.0, 'Mohammad Ashraful': 605.541130222224, 'Hannan Sarkar': 0.0, 'Shahriar Nafees': 528.7632106666682, 'Khaled Mashud': 433.45227133333435, 'Mahmudullah': 755.5184326913609, 'Sabbir Rahman': 0.0, 'Khaled Mahmud': 258.3394000000006, 'Shafiul Islam': 0.0, 'Naeem Islam': 0.0, 'Imrul Kayes': 0.0, 'Dhiman Ghosh': 0.0, 'Mushfiqur Rahim': 901.1488019555592, 'Habibul Bashar': 406.477593200001, 'David Hemp': 0.0, 'Lionel Cann': 0.0, 'Saleem Mukuddem': 0.0, 'Janeiro Tucker': 0.0, 'Irvine Romaine': 0.0, 'Ashif Mulla': 0.0, 'John Davison': 0.0, 'Abdool Samad': 0.0, 'Sunil Dhaniram': 0.0, 'Ashish Bagai': 0.0, 'Anderson Cummins': 0.0, 'Michael Vaughan': 548.2697543333347, 'Charles Athey': 0.0, 'Nicholas Knight': 913.417868111113, 'Jos Butler': 1073.9171504761946, 'Chris Jordan': 0.0, 'Nasser Hussain': 0.0, 'Victor Marks': 0.0, 'Paul Nixon': 0.0, 'James Tredwell': 0.0, 'Jonathan Trott': 0.0, 'Ian Bell': 1103.1528938888928, 'Robert Croft': 0.0, 'Ed Joyce': 0.0, 'Derek Randall': 0.0, 'Graeme Hick': 1054.0666188000016, 'Timothy Bresnan': 0.0, 'Vikram Solanki': 0.0, 'Graham Gooch': 1035.3787138333341, 'Jason Roy': 1062.8443956000042, 'Geraint Jones': 0.0, 'Andrew Strauss': 837.0180974285739, 'Moeen Ali': 621.8900544444468, 'Ian Gould': 0.0, 'Alexander Hales': 906.6774255000036, 'David Gower': 0.0, 'Andy Caddick': 0.0, 'Ronald Irani': 0.0, 'Liam Plunkett': 0.0, 'Jack Richards': 0.0, 'Neil Fairbrother': 0.0, 'Ravinda Bopara': 550.0084510000017, 'Chris Lewis': 0.0, 'Ben Stokes': 986.4918935000039, 'Craig White': 0.0, 'Jonny Bairstow': 0.0, 'Neil Foster': 0.0, 'Luke Wright': 0.0, 'Mark Ealham': 0.0, 'Chris Tavare': 0.0, 'Eoin Morgan': 1483.6574307407461, 'Graeme Swann': 0.0, 'Michael Atherton': 0.0, 'Adam Hollioake': 0.0, 'Graham Thorpe': 0.0, 'James Taylor': 0.0, 'John Emburey': 0.0, 'Andrew Flintoff': 991.4846432000026, 'Phillip De Freitas': 0.0, 'James Anderson': -0.0, 'Mike Gatting': 0.0, 'Matthew Prior': 0.0, 'Darren Gough': 0.0, 'Geoff Boycott': 0.0, 'Joe Root': 1007.396697047623, 'Stuart Broad': 0.0, 'Gavin Hamilton': 0.0, 'Chris Broad': 0.0, 'Allan Lamb': 1047.252142000001, 'Chris Woakes': 0.0, 'Marcus Trescothick': 976.2096465555577, 'Alastair Cook': 750.695899333336, 'Craig Kieswetter': 0.0, 'Michael Yardy': 0.0, 'Kevin Pietersen': 1137.3798485333364, 'Paul Collingwood': 979.0150127407435, 'Robin Smith': 0.0, 'Mike Brearley': 0.0, 'Alec Stewart': 913.4395406666683, 'James Dalrymple': 0.0, 'Sir Ian Botham': 653.6574998333339, 'Owais Shah': 0.0, 'Yusuf Pathan': 0.0, 'Rohit Sharma': 1342.2461336888941, 'Kris Srikkanth': 763.6122578095244, 'Javagal Srinath': 281.0300776666671, 'Zaheer Khan': 0.0, 'Sourav Ganguly': 1230.805942222225, 'Sunil Gavaskar': 1164.7232163333342, 'Ajay Jadeja': 803.684977619049, 'Abey Kuruvilla': -0.0, 'Parthiv Patel': 0.0, 'Ravichandran Ashwin': 0.0, 'Hardik Pandya': 0.0, 'Gautam Gambhir': 1005.5160451111144, 'Hemang Badani': 0.0, 'Rahul Dravid': 1367.5392060185216, 'Lakshmipathy Balaji': 0.0, 'Kapil Dev': 1150.1627019555567, 'Roger Binny': 0.0, 'Virat Kohli': 1844.7084993580318, 'Syed Kirmani': 0.0, 'Anil Kumble': 132.4546186666669, 'Axar Patel': 0.0, 'M S Dhoni': 1795.980623333339, 'Raman Lamba': 0.0, 'Sadagopan Ramesh': 0.0, 'Irfan Pathan': 490.1428435000014, 'Kedar Jadhav': 0.0, 'Harbhajan Singh': 257.9172660952388, 'Ravishankar Shastri': 688.0641945714292, 'Ajit Agarkar': 374.96574650000076, 'Virender Sehwag': 1565.1196330505097, 'Kiran More': 0.0, 'Dinesh Mongia': 0.0, 'Sandeep Patil': 0.0, 'Dinesh Karthik': 0.0, 'Navjot Sidhu': 955.6138011111123, 'Ajinkya Rahane': 712.1136306666693, 'KL Rahul': 0.0, 'Nayan Mongia': 368.54401516666724, 'Manoj Prabhakar': 631.1877430666675, 'Mohinder Amarnath': 0.0, 'Praveen Amre': 0.0, 'Sunil Joshi': 0.0, 'Mohammad Azharuddin': 1653.239839111113, 'Robin Singh': 631.0679813333345, 'Venkatesh Prasad': 0.0, 'Ravindra Jadeja': 0.0, 'Yashpal Sharma': 0.0, 'Robin Uthappa': 0.0, 'Suresh Raina': 1118.7186510617323, 'Ambati Rayudu': 0.0, 'Vinod Kambli': 0.0, 'Chetan Sharma': 0.0, 'Shikhar Dhawan': 969.7804955555594, 'Saba Karim': 0.0, 'Bhuvneshwar Kumar': 0.0, 'Ajay Sharma': 0.0, 'Sanjay Manjrekar': 807.5605671666675, 'Sachin Tendulkar': 2881.161027966673, 'Mohammad Kaif': 644.3075874666683, 'Dillip Vengsarkar': 1018.6511815000008, 'Yuvraj Singh': 1408.3146882906024, 'Hrishikesh Kanitkar': 0.0, 'Nikhil Chopra': 0.0, 'V V S Laxman': 0.0, \"Niall O'Brien\": 488.4089805000018, 'Gary Wilson': 0.0, 'George Dockrell': 0.0, 'Jeremy Bray': 0.0, 'Andy Balbirnie': 592.2780443333357, 'Andrew White': 0.0, 'Andre Botha': 0.0, 'William Porterfield': 530.7240722222241, 'Paul Stirling': 894.9675264444478, 'Trent Johnston': 0.0, 'William McCallan': 0.0, \"Kevin O'Brien\": 660.5842087777802, 'John Mooney': 0.0, 'Dave Langford-Smith': 0.0, 'David Obuya': 0.0, 'Maurice Ouma': 0.0, 'Peter Ongondo': 0.0, 'Alex Obanda': 0.0, 'Ravindu Shah': 0.0, 'Collins Obuya': 0.0, 'Thomas Odoyo': 0.0, 'Hiren Varaiya': 0.0, 'Maurice Odumbe': 0.0, 'Tanmay Mishra': 0.0, 'Stephen Tikolo': 538.2036746666682, 'Kennedy Otieno': 0.0, 'James Kamande': 0.0, 'Nehemiah Odhiambo': 0.0, 'Bas Zuiderent': 0.0, 'Eric Szwarczynski': 0.0, 'Peter Borren': 0.0, 'Chris Pringle': 0.0, 'Martin Guptill': 1141.510247209881, 'Matthew Sinclair': 0.0, 'Ross Taylor': 1259.0956371555603, 'Shane Thomson': 0.0, 'Jeffrey Crowe': 0.0, 'Martin Crowe': 1198.7493886666678, 'Daryl Tuffey': 0.0, 'Warren Lees': 0.0, 'Dipak Patel': 0.0, 'Chris Cairns': 1136.8036429333358, 'Scott Styris': 985.7798775555584, 'Jeremy Coney': 735.2214205000005, 'Mitchell Santner': 0.0, 'Gavin Larsen': 0.0, 'Lou Vincent': 624.2560495555572, 'Lance Cairns': 0.0, 'Sir Richard Hadlee': 0.0, 'Colin de Grandhomme': 0.0, 'Kane Williamson': 1074.1110473333376, 'Rodney Latham': 0.0, 'Jacob Oram': 632.4145406666682, 'Neil Broom': 0.0, 'Lee Germon': 0.0, 'Robert Nicol': 0.0, 'Luke Ronchi': 0.0, 'Nathan Astle': 1168.9579879595985, 'Mark Greatbatch': 951.8337310000011, 'Christopher Nevin': 0.0, 'Jamie How': 0.0, 'Grant Elliott': 0.0, 'Chris Harris': 874.1119787555572, 'Tim Southee': 0.0, 'John Wright': 605.3665151111114, 'Roger Twose': 940.1961966666684, 'Hamish Marshall': 0.0, 'Craig Spearman': 0.0, 'Brendon McCullum': 1063.7970663434378, 'Dion Nash': 0.0, 'James Neesham': 0.0, 'Ervin McSweeney': 0.0, 'Colin Munro': 0.0, 'Tom Latham': 627.7261488000025, 'Ian Smith': 0.0, 'Peter Fulton': 0.0, 'Blair Hartland': 0.0, 'Ken Rutherford': 723.6733768333341, 'Andre Adams': 0.0, 'Andrew Jones': 0.0, 'Bryan Young': 0.0, 'Adam Parore': 755.3682957777789, 'Matthew Horne': 0.0, 'Tony Blain': 0.0, 'Glenn Turner': 0.0, 'Henry Nicholls': 0.0, 'Bruce Blair': 0.0, 'Jesse Ryder': 0.0, 'Martin Snedden': 0.0, 'Daniel Vettori': 394.7494815555567, 'Craig McMillan': 886.7726144197552, 'John Bracewell': 0.0, 'Geoff Howarth': 0.0, 'James Franklin': 0.0, 'Stephen Fleming': 1240.8407398412726, 'Nathan McCullum': 0.0, 'Bruce Edgar': 0.0, 'Llorne Howell': 0.0, 'Kyle Mills': 0.0, 'Corey Anderson': 0.0, 'Abdul Razzaq': 974.161518844447, 'Shoaib Akhtar': 0.0, 'Haris Sohail': 0.0, 'Mohammad Wasim': 0.0, 'Nasir Jamshed': 0.0, 'Ahmed Shehzad': 636.7428075000023, 'Younis Khan': 1183.5383147222256, 'Junaid Khan': -0.0, 'Naved-ul-Hasan': 0.0, 'Saeed Anwar': 1515.1526357333357, 'Fawad Alam': 0.0, 'Sarfaraz Ahmed': 697.7697738333361, 'Zaheer Abbas': 0.0, 'Shoaib Mohammad': 0.0, 'Imran Nazir': 0.0, 'Salman Butt': 0.0, 'Saleem Malik': 1303.6036352888905, 'Mohammad Yousuf': 1346.2679018989932, 'Imad Wasim': 0.0, 'Azhar Ali': 0.0, 'Mohammad Hafeez': 836.8397104197562, 'Umar Gul': 0.0, 'Aamer Malik': 0.0, 'Mohammad Rizwan': 0.0, 'Waqar Younis': 177.7158454444447, 'Basit Ali': 0.0, 'Misbah-ul-Haq': 775.6785874444472, 'Imran Khan': 840.4839132000006, 'Fakhar Zaman': 0.0, 'Yasir Hameed': 0.0, 'Umar Amin': 0.0, 'Saeed Ajmal': 0.0, 'Qasim Omar': 0.0, 'Shadab Khan': 0.0, 'Akram Raza': 0.0, 'Mudassar Nazar': 582.4854589333337, 'Rashid Latif': 374.2962450000007, 'Imam-ul-Haq': 0.0, 'Mushtaq Ahmed': 0.0, 'Arshad Khan': -0.0, 'Aamir Sohail': 635.7238750476199, 'Asif Mujtaba': 0.0, 'Azhar Mahmood': 0.0, 'Imran Farhat': 0.0, 'Umar Akmal': 720.2224489333357, 'Kamran Akmal': 560.1601180000017, 'Manzoor Elahi': 0.0, 'Asad Shafiq': 0.0, 'Saleem Yousuf': 0.0, 'Inzamam-ul-Haq': 1544.0029731851882, 'Javed Miandad': 1737.9300744888903, 'Moin Khan': 553.4519922222232, 'Wahab Riaz': 0.0, 'Mohsin Khan': 836.4982173333339, 'Babar Azam': 1052.6323806666708, 'Wasim Akram': 826.8292132539697, 'Ramiz Raja': 1140.3169853333347, 'Mohammad Sami': 0.0, 'Abdul Qadir': 0.0, 'Saqlain Mushtaq': 111.73057533333355, 'Taufeeq Umar': 0.0, 'Shoaib Malik': 1342.887227592597, 'Mohammad Irfan': -0.0, 'Wajahatullah Wasti': 0.0, 'Matthew Cross': 0.0, 'Navdeep Poonia': 0.0, 'Craig Wright': 0.0, 'Calum MacLeod': 0.0, 'Fraser Watts': 0.0, 'Ryan Watson': 0.0, 'Douglas Brown': 0.0, 'Neil McCallum': 0.0, 'Richard Berrington': 0.0, 'George Munsey': 0.0, 'Rana Haq': 0.0, 'Colin Smith': 0.0, 'John Blain': 0.0, 'Andrew Hudson': 787.8070361666678, 'Jean-Paul Duminy': 1081.9204266666707, 'Hashim Amla': 1342.263681688894, 'Neil McKenzie': 0.0, 'Mark Boucher': 899.8090342716072, 'Jacques Kallis': 1684.1428980000044, 'Pat Symcox': 0.0, 'Johan Botha': 0.0, 'Aiden Markram': 0.0, 'Adrian Kuiper': 0.0, 'Nico Boje': 0.0, 'Boeta Dippenaar': 0.0, 'Albie Morkel': 0.0, 'Graeme Smith': 1192.3575166868723, 'Ashwell Prince': 0.0, 'Jacques Rudolph': 0.0, 'Lance Klusener': 1096.0240802222245, 'Rilee Rossouw': 0.0, 'David Miller': 716.865657333336, 'Hansie Cronje': 1350.3987035555579, 'Colin Ingram': 0.0, 'Shaun Pollock': 837.520284040406, 'Eric Simons': 0.0, 'Jonty Rhodes': 1227.6176028444468, 'Justin Kemp': 0.0, 'Peter Kirsten': 0.0, 'Faf du Plessis': 1238.314777111116, 'Daryll Cullinan': 750.8889722857155, 'Herschelle Gibbs': 1275.5258905858616, 'Farhaan Behardien': 0.0, 'Gary Kirsten': 1274.5994858888914, 'Brian McMillan': 0.0, 'Fanie De Villiers': 0.0, 'Rassie van der Dussen': 0.0, 'Quinton de Kock': 1021.9656138888929, 'David Richardson': 0.0, 'Andile Phehlukwayo': 0.0, 'Robin Peterson': 0.0, 'Andrew Hall': 0.0, 'Ryan McLaren': 0.0, 'Lonwabo Tsotsobe': 0.0, 'Michael Rindel': 0.0, 'Kepler Wessels': 738.6884867777785, 'Heinrich Klaasen': 0.0, 'A B de Villiers': 2018.8153565252599, 'Thilina Kandamby': 0.0, 'Kusal Mendis': 534.4022458333354, 'Angelo Mathews': 1024.0546577777818, 'Chandika Hathurusingha': 0.0, 'Thilan Thushara': 0.0, 'Danushka Gunathilaka': 0.0, 'Jeevan Mendis': 0.0, 'Somachandra De Silva': 0.0, 'Ashan Priyanjan': 0.0, 'Thisara Perera': 486.17108152381144, 'Jehan Mubarak': 0.0, 'Amal Silva': 0.0, 'Dimuth Karunaratne': 0.0, 'Sanath Jayasuriya': 2241.8890520617333, 'Sidath Wettimuny': 0.0, 'Tillakaratne Dilshan': 1474.523369722227, 'Niroshan Dickwella': 0.0, 'Avishka Fernando': 0.0, 'Duleep Mendis': 0.0, 'Ravi Ratnayeke': 0.0, 'Hashan Tillakaratne': 799.9244062222234, 'Lasith Malinga': 81.01093000000029, 'Milinda Siriwardana': 0.0, 'Suranga Lakmal': 0.0, 'Russel Arnold': 982.5594476666689, 'Kumar Sangakkara': 2180.8958850000067, 'Isuru Udana': 0.0, 'Muttiah Muralitharan': 129.66102628571468, 'Lahiru Thirimanne': 576.9423921666688, 'Roy Dias': 0.0, 'Ranjan Madugalle': 0.0, 'Ajantha Mendis': 0.0, 'Nuwan Zoysa': 0.0, 'Brendon Kuruppu': 0.0, 'Sachithra Senanayake': 0.0, 'Upul Chandana': 428.7734690000009, 'Arjuna Ranatunga': 1752.0108538888912, 'Chaminda Vaas': 265.7013062716055, 'Graeme Labrooy': 0.0, 'Rumesh Ratnayake': 0.0, 'Ruwan Kalpage': 0.0, 'Asanka Gurusinha': 515.5188691428579, 'Dinesh Chandimal': 541.7983541904782, 'Aravinda de Silva': 1717.8710818803445, 'Avishka Gunawardene': 0.0, 'Farveez Maharoof': 0.0, 'Mahela Jayawardene': 1707.6646551634035, 'Thilan Samaraweera': 0.0, 'Chamara Silva': 0.0, 'Pramodya Wickremasinghe': 0.0, 'Chamara Kapugedera': 0.0, 'Asela Gunaratne': 0.0, 'Nuwan Kulasekara': 277.6926905555565, 'Shaul Karnain': 0.0, 'Marvan Atapattu': 1108.8364208888913, 'Upul Tharanga': 931.4924754666699, 'Roshan Mahanama': 897.9603321481494, 'Kumar Dharmasena': 451.8898193333341, 'Kusal Perera': 603.6788368000023, 'Dhananjaya de Silva': 0.0, 'Dilhara Fernando': 0.0, 'Romesh Kaluwitharana': 730.553196555557, 'W Jayantha': 0.0, 'Akila Dananjaya': 0.0, 'Rohan Mustafa': 0.0, 'Adnan Mufti': 0.0, 'Muhammad Usman': 0.0, 'Xavier Marshall': 0.0, 'Andre Russell': 0.0, 'Jason Mohammed': 0.0, 'Larry Gomes': 0.0, 'Devon Smith': 0.0, 'Shai Hope': 0.0, 'Nehemiah Perry': 0.0, 'Courtney Walsh': 0.0, 'Ashley Nurse': 0.0, 'Ramnaresh Sarwan': 1194.8006420000033, 'Denesh Ramdin': 538.0305461111129, 'Philip Simmons': 843.4627481904772, 'Narsingh Deonarine': 0.0, 'Rovman Powell': 0.0, 'Jeff Dujon': 520.905387555556, 'Nicholas Pooran': 0.0, 'Dwayne Bravo': 558.9354837142874, 'Kieran Powell': 0.0, 'Curtly Ambrose': 187.5114261333336, 'Merwyn Dillon': 0.0, 'Carl Hooper': 1218.8627810370392, 'Shimron Hetmeyer': 0.0, 'Roger Harper': 0.0, 'Carlos Brathwaite': 0.0, 'Keith Arthurton': 741.526430500001, 'Gus Logie': 766.335536285715, 'Jonathan Carter': 0.0, 'Shivnarine Chanderpaul': 1310.3221616161652, 'Sunil Narine': 0.0, 'Sherwin Campbell': 623.6826365000011, 'Desmond Haynes': 1467.7107400000016, 'Sir Viv Richards': 1820.4813446666678, 'Sewnarine Chattergoon': 0.0, 'Lendl Simmons': 0.0, 'Darren Ganga': 0.0, 'Evin Lewis': 0.0, 'Malcolm Marshall': 0.0, 'Carlton Baugh': 0.0, 'Johnson Charles': 0.0, 'Courtney Browne': 0.0, 'Jason Holder': 551.7182728000022, 'Darren Bravo': 467.1668570000017, 'Kemar Roach': 0.0, 'Gordon Greenidge': 1318.160829500001, 'Ricardo Powell': 693.9826974666681, 'Franklyn Rose': 0.0, 'Brian Lara': 1849.353757539686, 'Marlon Samuels': 797.7888501728422, 'Reon King': -0.0, 'Runako Morton': 0.0, 'Richard Gabriel': 0.0, 'Wavell Hinds': 598.6015490000012, 'Clive Lloyd': 0.0, 'Jimmy Adams': 524.8484548888896, 'Nixon McLean': 0.0, 'Ridley Jacobs': 473.5950333333343, 'Kieron Pollard': 673.8826083333356, 'Richie Richardson': 1051.8479599111122, 'Dwayne Smith': 395.8785985000011, 'Ian Bradshaw': 0.0, 'Stuart Williams': 0.0, 'Darren Sammy': 549.3029646666687, 'Vasbert Drakes': 0.0, 'Chris Gayle': 1619.6031054814862, 'Hamilton Masakadza': 703.3489624000024, 'Brendan Taylor': 866.4956557333363, 'Andrew Whittall': 0.0, 'Guy Whittall': 495.21446066666766, 'Sean Williams': 635.9061416000023, 'Douglas Marillier': 0.0, 'Andrew Flower': 1208.5529712592615, 'Sikandar Raza': 0.0, 'Mark Vermeulen': 0.0, 'Craig Evans': 0.0, 'Dion Ebrahim': 0.0, 'Ray Price': 0.0, 'Sean Ervine': 0.0, 'Heath Streak': 517.2876369333344, 'Kyle Jarvis': 0.0, 'Charles Coventry': 0.0, 'Vusi Sibanda': 529.588027444446, 'Solomon Mire': 0.0, 'David Houghton': 0.0, 'Andy Blignaut': 0.0, 'Blessing Muzarabani': -0.0, 'Elton Chigumbura': 717.231329481484, 'Murray Goodwin': 0.0, 'Gary Brent': 0.0, 'Luke Jongwe': 0.0, 'Blessing Mahwire': 0.0, 'Peter Moor': 0.0, 'Tendai Chatara': -0.0, 'Neil Johnson': 0.0, 'Paul Strang': 0.0, 'Malcolm Waller': 0.0, 'Prosper Utseya': 208.18063971428634, 'Alistair Campbell': 619.8623161904774, 'Terry Duffin': 0.0, 'Mluleki Nkala': 0.0, 'Travis Friend': 0.0, 'Tawanda Mupariwa': 0.0, 'Stuart Matsikenyeri': 0.0, 'Craig Ervine': 475.3204546666684, 'Craig Wishart': 0.0, 'Douglas Hondo': 0.0, 'Stuart Carlisle': 0.0, 'Justice Chibhabha': 0.0, 'Grant Flower': 1049.522074888891, 'Tinashe Panyangara': 0.0, 'Graeme Cremer': 149.73835800000052, 'Tatenda Taibu': 555.5202193333349, 'Richmond Mutumbami': 0.0, 'Dirk Viljoen': 0.0, 'Piet Rinke': 0.0}\n"
          ],
          "name": "stdout"
        }
      ]
    },
    {
      "cell_type": "code",
      "metadata": {
        "id": "uGQ7vZPZ8_yQ",
        "colab_type": "code",
        "outputId": "27f20efa-7976-4688-d3fd-ddee8ce08b4a",
        "colab": {
          "base_uri": "https://localhost:8080/",
          "height": 255
        }
      },
      "source": [
        "data_items = impact.items()\n",
        "data_list = list(data_items)\n",
        "\n",
        "df = pd.DataFrame(data_list,columns = [\"Name\",\"Points\"])\n",
        "print(df)"
      ],
      "execution_count": 61,
      "outputs": [
        {
          "output_type": "stream",
          "text": [
            "                     Name      Points\n",
            "0             Karim Sadiq    0.000000\n",
            "1    Hashmatullah Shahidi    0.000000\n",
            "2             Rahmat Shah    0.000000\n",
            "3           Asghar Afghan  373.855332\n",
            "4      Samiullah Shinwari    0.000000\n",
            "..                    ...         ...\n",
            "671         Graeme Cremer  149.738358\n",
            "672         Tatenda Taibu  555.520219\n",
            "673    Richmond Mutumbami    0.000000\n",
            "674          Dirk Viljoen    0.000000\n",
            "675            Piet Rinke    0.000000\n",
            "\n",
            "[676 rows x 2 columns]\n"
          ],
          "name": "stdout"
        }
      ]
    },
    {
      "cell_type": "code",
      "metadata": {
        "id": "VEo9ltkoNOHj",
        "colab_type": "code",
        "outputId": "296c9fa2-91d0-4050-db96-95bb2c7eab84",
        "colab": {
          "base_uri": "https://localhost:8080/",
          "height": 255
        }
      },
      "source": [
        "df.sort_values(\"Points\", axis = 0, ascending = False, \n",
        "                 inplace = True)\n",
        "df.reset_index(drop=True, inplace=True)\n",
        "print(df)"
      ],
      "execution_count": 62,
      "outputs": [
        {
          "output_type": "stream",
          "text": [
            "                  Name       Points\n",
            "0     Sachin Tendulkar  2881.161028\n",
            "1    Sanath Jayasuriya  2241.889052\n",
            "2     Kumar Sangakkara  2180.895885\n",
            "3      A B de Villiers  2018.815357\n",
            "4           Brian Lara  1849.353758\n",
            "..                 ...          ...\n",
            "671  Bhuvneshwar Kumar     0.000000\n",
            "672         Saba Karim     0.000000\n",
            "673      Chetan Sharma     0.000000\n",
            "674       Vinod Kambli     0.000000\n",
            "675         Piet Rinke     0.000000\n",
            "\n",
            "[676 rows x 2 columns]\n"
          ],
          "name": "stdout"
        }
      ]
    },
    {
      "cell_type": "code",
      "metadata": {
        "id": "T2VaMjfrNOSK",
        "colab_type": "code",
        "outputId": "897e9200-268c-4b9c-8d93-d8f6f6ad598d",
        "colab": {
          "base_uri": "https://localhost:8080/",
          "height": 419
        }
      },
      "source": [
        "df.head(100)"
      ],
      "execution_count": 63,
      "outputs": [
        {
          "output_type": "execute_result",
          "data": {
            "text/html": [
              "<div>\n",
              "<style scoped>\n",
              "    .dataframe tbody tr th:only-of-type {\n",
              "        vertical-align: middle;\n",
              "    }\n",
              "\n",
              "    .dataframe tbody tr th {\n",
              "        vertical-align: top;\n",
              "    }\n",
              "\n",
              "    .dataframe thead th {\n",
              "        text-align: right;\n",
              "    }\n",
              "</style>\n",
              "<table border=\"1\" class=\"dataframe\">\n",
              "  <thead>\n",
              "    <tr style=\"text-align: right;\">\n",
              "      <th></th>\n",
              "      <th>Name</th>\n",
              "      <th>Points</th>\n",
              "    </tr>\n",
              "  </thead>\n",
              "  <tbody>\n",
              "    <tr>\n",
              "      <th>0</th>\n",
              "      <td>Sachin Tendulkar</td>\n",
              "      <td>2881.161028</td>\n",
              "    </tr>\n",
              "    <tr>\n",
              "      <th>1</th>\n",
              "      <td>Sanath Jayasuriya</td>\n",
              "      <td>2241.889052</td>\n",
              "    </tr>\n",
              "    <tr>\n",
              "      <th>2</th>\n",
              "      <td>Kumar Sangakkara</td>\n",
              "      <td>2180.895885</td>\n",
              "    </tr>\n",
              "    <tr>\n",
              "      <th>3</th>\n",
              "      <td>A B de Villiers</td>\n",
              "      <td>2018.815357</td>\n",
              "    </tr>\n",
              "    <tr>\n",
              "      <th>4</th>\n",
              "      <td>Brian Lara</td>\n",
              "      <td>1849.353758</td>\n",
              "    </tr>\n",
              "    <tr>\n",
              "      <th>...</th>\n",
              "      <td>...</td>\n",
              "      <td>...</td>\n",
              "    </tr>\n",
              "    <tr>\n",
              "      <th>95</th>\n",
              "      <td>Abdul Razzaq</td>\n",
              "      <td>974.161519</td>\n",
              "    </tr>\n",
              "    <tr>\n",
              "      <th>96</th>\n",
              "      <td>Shikhar Dhawan</td>\n",
              "      <td>969.780496</td>\n",
              "    </tr>\n",
              "    <tr>\n",
              "      <th>97</th>\n",
              "      <td>Graeme Wood</td>\n",
              "      <td>969.186885</td>\n",
              "    </tr>\n",
              "    <tr>\n",
              "      <th>98</th>\n",
              "      <td>Navjot Sidhu</td>\n",
              "      <td>955.613801</td>\n",
              "    </tr>\n",
              "    <tr>\n",
              "      <th>99</th>\n",
              "      <td>Mark Greatbatch</td>\n",
              "      <td>951.833731</td>\n",
              "    </tr>\n",
              "  </tbody>\n",
              "</table>\n",
              "<p>100 rows × 2 columns</p>\n",
              "</div>"
            ],
            "text/plain": [
              "                 Name       Points\n",
              "0    Sachin Tendulkar  2881.161028\n",
              "1   Sanath Jayasuriya  2241.889052\n",
              "2    Kumar Sangakkara  2180.895885\n",
              "3     A B de Villiers  2018.815357\n",
              "4          Brian Lara  1849.353758\n",
              "..                ...          ...\n",
              "95       Abdul Razzaq   974.161519\n",
              "96     Shikhar Dhawan   969.780496\n",
              "97        Graeme Wood   969.186885\n",
              "98       Navjot Sidhu   955.613801\n",
              "99    Mark Greatbatch   951.833731\n",
              "\n",
              "[100 rows x 2 columns]"
            ]
          },
          "metadata": {
            "tags": []
          },
          "execution_count": 63
        }
      ]
    },
    {
      "cell_type": "code",
      "metadata": {
        "id": "VpQKR7N6NOim",
        "colab_type": "code",
        "colab": {}
      },
      "source": [
        ""
      ],
      "execution_count": 0,
      "outputs": []
    }
  ]
}