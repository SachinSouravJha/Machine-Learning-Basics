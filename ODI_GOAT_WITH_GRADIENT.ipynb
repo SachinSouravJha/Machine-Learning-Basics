{
  "nbformat": 4,
  "nbformat_minor": 0,
  "metadata": {
    "colab": {
      "name": "Stats.ipynb",
      "provenance": [],
      "authorship_tag": "ABX9TyN8T7RjKeV085ZOpufrqmTm",
      "include_colab_link": true
    },
    "kernelspec": {
      "name": "python3",
      "display_name": "Python 3"
    }
  },
  "cells": [
    {
      "cell_type": "markdown",
      "metadata": {
        "id": "view-in-github",
        "colab_type": "text"
      },
      "source": [
        "<a href=\"https://colab.research.google.com/github/SachinSouravJha/Machine-Learning-Basics/blob/master/ODI_GOAT_WITH_GRADIENT.ipynb\" target=\"_parent\"><img src=\"https://colab.research.google.com/assets/colab-badge.svg\" alt=\"Open In Colab\"/></a>"
      ]
    },
    {
      "cell_type": "code",
      "metadata": {
        "id": "HjCbsB4Np7Uq",
        "colab_type": "code",
        "colab": {}
      },
      "source": [
        "#!wget https://www.dropbox.com/s/pxw4ps4xeqgyzr8/Year_wise_batting_stats_all_ODI_players%2820-12-19%29.csv?dl=0\n"
      ],
      "execution_count": 0,
      "outputs": []
    },
    {
      "cell_type": "code",
      "metadata": {
        "id": "v6aNyJol0B0e",
        "colab_type": "code",
        "outputId": "71cf0b0a-bd75-41dd-e9d0-bc0151af1889",
        "colab": {
          "base_uri": "https://localhost:8080/",
          "height": 34
        }
      },
      "source": [
        "!ls"
      ],
      "execution_count": 225,
      "outputs": [
        {
          "output_type": "stream",
          "text": [
            " sample_data  'Year_wise_batting_stats_all_ODI_players(20-12-19).csv?dl=0'\n"
          ],
          "name": "stdout"
        }
      ]
    },
    {
      "cell_type": "code",
      "metadata": {
        "id": "Nk8drWpg0CJq",
        "colab_type": "code",
        "colab": {}
      },
      "source": [
        "import pandas as pd\n",
        "stats = pd.read_csv('Year_wise_batting_stats_all_ODI_players(20-12-19).csv?dl=0')"
      ],
      "execution_count": 0,
      "outputs": []
    },
    {
      "cell_type": "code",
      "metadata": {
        "id": "Sa5UrRdY2xc6",
        "colab_type": "code",
        "outputId": "377a4c36-2af8-47c7-bcf5-b38d2c24e373",
        "colab": {
          "base_uri": "https://localhost:8080/",
          "height": 204
        }
      },
      "source": [
        "stats.head()"
      ],
      "execution_count": 227,
      "outputs": [
        {
          "output_type": "execute_result",
          "data": {
            "text/html": [
              "<div>\n",
              "<style scoped>\n",
              "    .dataframe tbody tr th:only-of-type {\n",
              "        vertical-align: middle;\n",
              "    }\n",
              "\n",
              "    .dataframe tbody tr th {\n",
              "        vertical-align: top;\n",
              "    }\n",
              "\n",
              "    .dataframe thead th {\n",
              "        text-align: right;\n",
              "    }\n",
              "</style>\n",
              "<table border=\"1\" class=\"dataframe\">\n",
              "  <thead>\n",
              "    <tr style=\"text-align: right;\">\n",
              "      <th></th>\n",
              "      <th>country</th>\n",
              "      <th>player_name</th>\n",
              "      <th>0s</th>\n",
              "      <th>100s</th>\n",
              "      <th>50s</th>\n",
              "      <th>Avg</th>\n",
              "      <th>Ca</th>\n",
              "      <th>HS</th>\n",
              "      <th>Inns</th>\n",
              "      <th>Mat</th>\n",
              "      <th>NO</th>\n",
              "      <th>Runs</th>\n",
              "      <th>S/R</th>\n",
              "      <th>St</th>\n",
              "      <th>Year</th>\n",
              "    </tr>\n",
              "  </thead>\n",
              "  <tbody>\n",
              "    <tr>\n",
              "      <th>0</th>\n",
              "      <td>AFG</td>\n",
              "      <td>Najeeb Tarakai</td>\n",
              "      <td>0</td>\n",
              "      <td>0</td>\n",
              "      <td>0</td>\n",
              "      <td>5.0</td>\n",
              "      <td>0</td>\n",
              "      <td>5</td>\n",
              "      <td>1</td>\n",
              "      <td>1</td>\n",
              "      <td>0</td>\n",
              "      <td>5</td>\n",
              "      <td>27.78</td>\n",
              "      <td>0</td>\n",
              "      <td>2017</td>\n",
              "    </tr>\n",
              "    <tr>\n",
              "      <th>1</th>\n",
              "      <td>AFG</td>\n",
              "      <td>Najeeb Tarakai</td>\n",
              "      <td>0</td>\n",
              "      <td>0</td>\n",
              "      <td>0</td>\n",
              "      <td>5.0</td>\n",
              "      <td>0</td>\n",
              "      <td>5</td>\n",
              "      <td>1</td>\n",
              "      <td>1</td>\n",
              "      <td>0</td>\n",
              "      <td>5</td>\n",
              "      <td>27.78</td>\n",
              "      <td>0</td>\n",
              "      <td>Overall</td>\n",
              "    </tr>\n",
              "    <tr>\n",
              "      <th>2</th>\n",
              "      <td>AFG</td>\n",
              "      <td>Naveen -ul-Haq</td>\n",
              "      <td>0</td>\n",
              "      <td>0</td>\n",
              "      <td>0</td>\n",
              "      <td>NaN</td>\n",
              "      <td>2</td>\n",
              "      <td>0*</td>\n",
              "      <td>1</td>\n",
              "      <td>2</td>\n",
              "      <td>1</td>\n",
              "      <td>0</td>\n",
              "      <td>NaN</td>\n",
              "      <td>0</td>\n",
              "      <td>2016</td>\n",
              "    </tr>\n",
              "    <tr>\n",
              "      <th>3</th>\n",
              "      <td>AFG</td>\n",
              "      <td>Naveen -ul-Haq</td>\n",
              "      <td>0</td>\n",
              "      <td>0</td>\n",
              "      <td>0</td>\n",
              "      <td>9.0</td>\n",
              "      <td>0</td>\n",
              "      <td>8*</td>\n",
              "      <td>2</td>\n",
              "      <td>2</td>\n",
              "      <td>1</td>\n",
              "      <td>9</td>\n",
              "      <td>45.00</td>\n",
              "      <td>0</td>\n",
              "      <td>2019</td>\n",
              "    </tr>\n",
              "    <tr>\n",
              "      <th>4</th>\n",
              "      <td>AFG</td>\n",
              "      <td>Naveen -ul-Haq</td>\n",
              "      <td>0</td>\n",
              "      <td>0</td>\n",
              "      <td>0</td>\n",
              "      <td>9.0</td>\n",
              "      <td>2</td>\n",
              "      <td>8*</td>\n",
              "      <td>3</td>\n",
              "      <td>4</td>\n",
              "      <td>2</td>\n",
              "      <td>9</td>\n",
              "      <td>42.86</td>\n",
              "      <td>0</td>\n",
              "      <td>Overall</td>\n",
              "    </tr>\n",
              "  </tbody>\n",
              "</table>\n",
              "</div>"
            ],
            "text/plain": [
              "  country     player_name  0s  100s  50s  ...  NO  Runs    S/R  St     Year\n",
              "0     AFG  Najeeb Tarakai   0     0    0  ...   0     5  27.78   0     2017\n",
              "1     AFG  Najeeb Tarakai   0     0    0  ...   0     5  27.78   0  Overall\n",
              "2     AFG  Naveen -ul-Haq   0     0    0  ...   1     0    NaN   0     2016\n",
              "3     AFG  Naveen -ul-Haq   0     0    0  ...   1     9  45.00   0     2019\n",
              "4     AFG  Naveen -ul-Haq   0     0    0  ...   2     9  42.86   0  Overall\n",
              "\n",
              "[5 rows x 15 columns]"
            ]
          },
          "metadata": {
            "tags": []
          },
          "execution_count": 227
        }
      ]
    },
    {
      "cell_type": "code",
      "metadata": {
        "id": "X49YTOuC2yZK",
        "colab_type": "code",
        "outputId": "6bc1b989-202f-4a7f-c7a2-434cc71691fe",
        "colab": {
          "base_uri": "https://localhost:8080/",
          "height": 204
        }
      },
      "source": [
        "stats1 = stats[stats['Year']!=\"Overall\"]\n",
        "stats1.head()"
      ],
      "execution_count": 228,
      "outputs": [
        {
          "output_type": "execute_result",
          "data": {
            "text/html": [
              "<div>\n",
              "<style scoped>\n",
              "    .dataframe tbody tr th:only-of-type {\n",
              "        vertical-align: middle;\n",
              "    }\n",
              "\n",
              "    .dataframe tbody tr th {\n",
              "        vertical-align: top;\n",
              "    }\n",
              "\n",
              "    .dataframe thead th {\n",
              "        text-align: right;\n",
              "    }\n",
              "</style>\n",
              "<table border=\"1\" class=\"dataframe\">\n",
              "  <thead>\n",
              "    <tr style=\"text-align: right;\">\n",
              "      <th></th>\n",
              "      <th>country</th>\n",
              "      <th>player_name</th>\n",
              "      <th>0s</th>\n",
              "      <th>100s</th>\n",
              "      <th>50s</th>\n",
              "      <th>Avg</th>\n",
              "      <th>Ca</th>\n",
              "      <th>HS</th>\n",
              "      <th>Inns</th>\n",
              "      <th>Mat</th>\n",
              "      <th>NO</th>\n",
              "      <th>Runs</th>\n",
              "      <th>S/R</th>\n",
              "      <th>St</th>\n",
              "      <th>Year</th>\n",
              "    </tr>\n",
              "  </thead>\n",
              "  <tbody>\n",
              "    <tr>\n",
              "      <th>0</th>\n",
              "      <td>AFG</td>\n",
              "      <td>Najeeb Tarakai</td>\n",
              "      <td>0</td>\n",
              "      <td>0</td>\n",
              "      <td>0</td>\n",
              "      <td>5.0</td>\n",
              "      <td>0</td>\n",
              "      <td>5</td>\n",
              "      <td>1</td>\n",
              "      <td>1</td>\n",
              "      <td>0</td>\n",
              "      <td>5</td>\n",
              "      <td>27.78</td>\n",
              "      <td>0</td>\n",
              "      <td>2017</td>\n",
              "    </tr>\n",
              "    <tr>\n",
              "      <th>2</th>\n",
              "      <td>AFG</td>\n",
              "      <td>Naveen -ul-Haq</td>\n",
              "      <td>0</td>\n",
              "      <td>0</td>\n",
              "      <td>0</td>\n",
              "      <td>NaN</td>\n",
              "      <td>2</td>\n",
              "      <td>0*</td>\n",
              "      <td>1</td>\n",
              "      <td>2</td>\n",
              "      <td>1</td>\n",
              "      <td>0</td>\n",
              "      <td>NaN</td>\n",
              "      <td>0</td>\n",
              "      <td>2016</td>\n",
              "    </tr>\n",
              "    <tr>\n",
              "      <th>3</th>\n",
              "      <td>AFG</td>\n",
              "      <td>Naveen -ul-Haq</td>\n",
              "      <td>0</td>\n",
              "      <td>0</td>\n",
              "      <td>0</td>\n",
              "      <td>9.0</td>\n",
              "      <td>0</td>\n",
              "      <td>8*</td>\n",
              "      <td>2</td>\n",
              "      <td>2</td>\n",
              "      <td>1</td>\n",
              "      <td>9</td>\n",
              "      <td>45.00</td>\n",
              "      <td>0</td>\n",
              "      <td>2019</td>\n",
              "    </tr>\n",
              "    <tr>\n",
              "      <th>5</th>\n",
              "      <td>AFG</td>\n",
              "      <td>Zakiullah Zaki</td>\n",
              "      <td>0</td>\n",
              "      <td>0</td>\n",
              "      <td>0</td>\n",
              "      <td>NaN</td>\n",
              "      <td>0</td>\n",
              "      <td>3*</td>\n",
              "      <td>1</td>\n",
              "      <td>1</td>\n",
              "      <td>1</td>\n",
              "      <td>3</td>\n",
              "      <td>13.64</td>\n",
              "      <td>0</td>\n",
              "      <td>2012</td>\n",
              "    </tr>\n",
              "    <tr>\n",
              "      <th>7</th>\n",
              "      <td>AFG</td>\n",
              "      <td>Usman Ghani</td>\n",
              "      <td>1</td>\n",
              "      <td>1</td>\n",
              "      <td>2</td>\n",
              "      <td>39.5</td>\n",
              "      <td>2</td>\n",
              "      <td>118</td>\n",
              "      <td>8</td>\n",
              "      <td>8</td>\n",
              "      <td>0</td>\n",
              "      <td>316</td>\n",
              "      <td>78.61</td>\n",
              "      <td>0</td>\n",
              "      <td>2014</td>\n",
              "    </tr>\n",
              "  </tbody>\n",
              "</table>\n",
              "</div>"
            ],
            "text/plain": [
              "  country     player_name  0s  100s  50s   Avg  ...  Mat NO  Runs    S/R  St  Year\n",
              "0     AFG  Najeeb Tarakai   0     0    0   5.0  ...    1  0     5  27.78   0  2017\n",
              "2     AFG  Naveen -ul-Haq   0     0    0   NaN  ...    2  1     0    NaN   0  2016\n",
              "3     AFG  Naveen -ul-Haq   0     0    0   9.0  ...    2  1     9  45.00   0  2019\n",
              "5     AFG  Zakiullah Zaki   0     0    0   NaN  ...    1  1     3  13.64   0  2012\n",
              "7     AFG     Usman Ghani   1     1    2  39.5  ...    8  0   316  78.61   0  2014\n",
              "\n",
              "[5 rows x 15 columns]"
            ]
          },
          "metadata": {
            "tags": []
          },
          "execution_count": 228
        }
      ]
    },
    {
      "cell_type": "code",
      "metadata": {
        "id": "GnP0gPaG0CW4",
        "colab_type": "code",
        "outputId": "ce36905c-c0ff-4f51-e5d6-23e9c5d0ef6f",
        "colab": {
          "base_uri": "https://localhost:8080/",
          "height": 408
        }
      },
      "source": [
        "stats1[\"Avg\"] = stats1[\"Avg\"].fillna(0)\n",
        "stats1[\"S/R\"] = stats1[\"S/R\"].fillna(0)\n",
        "stats1.head()"
      ],
      "execution_count": 229,
      "outputs": [
        {
          "output_type": "stream",
          "text": [
            "/usr/local/lib/python3.6/dist-packages/ipykernel_launcher.py:1: SettingWithCopyWarning: \n",
            "A value is trying to be set on a copy of a slice from a DataFrame.\n",
            "Try using .loc[row_indexer,col_indexer] = value instead\n",
            "\n",
            "See the caveats in the documentation: http://pandas.pydata.org/pandas-docs/stable/user_guide/indexing.html#returning-a-view-versus-a-copy\n",
            "  \"\"\"Entry point for launching an IPython kernel.\n",
            "/usr/local/lib/python3.6/dist-packages/ipykernel_launcher.py:2: SettingWithCopyWarning: \n",
            "A value is trying to be set on a copy of a slice from a DataFrame.\n",
            "Try using .loc[row_indexer,col_indexer] = value instead\n",
            "\n",
            "See the caveats in the documentation: http://pandas.pydata.org/pandas-docs/stable/user_guide/indexing.html#returning-a-view-versus-a-copy\n",
            "  \n"
          ],
          "name": "stderr"
        },
        {
          "output_type": "execute_result",
          "data": {
            "text/html": [
              "<div>\n",
              "<style scoped>\n",
              "    .dataframe tbody tr th:only-of-type {\n",
              "        vertical-align: middle;\n",
              "    }\n",
              "\n",
              "    .dataframe tbody tr th {\n",
              "        vertical-align: top;\n",
              "    }\n",
              "\n",
              "    .dataframe thead th {\n",
              "        text-align: right;\n",
              "    }\n",
              "</style>\n",
              "<table border=\"1\" class=\"dataframe\">\n",
              "  <thead>\n",
              "    <tr style=\"text-align: right;\">\n",
              "      <th></th>\n",
              "      <th>country</th>\n",
              "      <th>player_name</th>\n",
              "      <th>0s</th>\n",
              "      <th>100s</th>\n",
              "      <th>50s</th>\n",
              "      <th>Avg</th>\n",
              "      <th>Ca</th>\n",
              "      <th>HS</th>\n",
              "      <th>Inns</th>\n",
              "      <th>Mat</th>\n",
              "      <th>NO</th>\n",
              "      <th>Runs</th>\n",
              "      <th>S/R</th>\n",
              "      <th>St</th>\n",
              "      <th>Year</th>\n",
              "    </tr>\n",
              "  </thead>\n",
              "  <tbody>\n",
              "    <tr>\n",
              "      <th>0</th>\n",
              "      <td>AFG</td>\n",
              "      <td>Najeeb Tarakai</td>\n",
              "      <td>0</td>\n",
              "      <td>0</td>\n",
              "      <td>0</td>\n",
              "      <td>5.0</td>\n",
              "      <td>0</td>\n",
              "      <td>5</td>\n",
              "      <td>1</td>\n",
              "      <td>1</td>\n",
              "      <td>0</td>\n",
              "      <td>5</td>\n",
              "      <td>27.78</td>\n",
              "      <td>0</td>\n",
              "      <td>2017</td>\n",
              "    </tr>\n",
              "    <tr>\n",
              "      <th>2</th>\n",
              "      <td>AFG</td>\n",
              "      <td>Naveen -ul-Haq</td>\n",
              "      <td>0</td>\n",
              "      <td>0</td>\n",
              "      <td>0</td>\n",
              "      <td>0.0</td>\n",
              "      <td>2</td>\n",
              "      <td>0*</td>\n",
              "      <td>1</td>\n",
              "      <td>2</td>\n",
              "      <td>1</td>\n",
              "      <td>0</td>\n",
              "      <td>0.00</td>\n",
              "      <td>0</td>\n",
              "      <td>2016</td>\n",
              "    </tr>\n",
              "    <tr>\n",
              "      <th>3</th>\n",
              "      <td>AFG</td>\n",
              "      <td>Naveen -ul-Haq</td>\n",
              "      <td>0</td>\n",
              "      <td>0</td>\n",
              "      <td>0</td>\n",
              "      <td>9.0</td>\n",
              "      <td>0</td>\n",
              "      <td>8*</td>\n",
              "      <td>2</td>\n",
              "      <td>2</td>\n",
              "      <td>1</td>\n",
              "      <td>9</td>\n",
              "      <td>45.00</td>\n",
              "      <td>0</td>\n",
              "      <td>2019</td>\n",
              "    </tr>\n",
              "    <tr>\n",
              "      <th>5</th>\n",
              "      <td>AFG</td>\n",
              "      <td>Zakiullah Zaki</td>\n",
              "      <td>0</td>\n",
              "      <td>0</td>\n",
              "      <td>0</td>\n",
              "      <td>0.0</td>\n",
              "      <td>0</td>\n",
              "      <td>3*</td>\n",
              "      <td>1</td>\n",
              "      <td>1</td>\n",
              "      <td>1</td>\n",
              "      <td>3</td>\n",
              "      <td>13.64</td>\n",
              "      <td>0</td>\n",
              "      <td>2012</td>\n",
              "    </tr>\n",
              "    <tr>\n",
              "      <th>7</th>\n",
              "      <td>AFG</td>\n",
              "      <td>Usman Ghani</td>\n",
              "      <td>1</td>\n",
              "      <td>1</td>\n",
              "      <td>2</td>\n",
              "      <td>39.5</td>\n",
              "      <td>2</td>\n",
              "      <td>118</td>\n",
              "      <td>8</td>\n",
              "      <td>8</td>\n",
              "      <td>0</td>\n",
              "      <td>316</td>\n",
              "      <td>78.61</td>\n",
              "      <td>0</td>\n",
              "      <td>2014</td>\n",
              "    </tr>\n",
              "  </tbody>\n",
              "</table>\n",
              "</div>"
            ],
            "text/plain": [
              "  country     player_name  0s  100s  50s   Avg  ...  Mat NO  Runs    S/R  St  Year\n",
              "0     AFG  Najeeb Tarakai   0     0    0   5.0  ...    1  0     5  27.78   0  2017\n",
              "2     AFG  Naveen -ul-Haq   0     0    0   0.0  ...    2  1     0   0.00   0  2016\n",
              "3     AFG  Naveen -ul-Haq   0     0    0   9.0  ...    2  1     9  45.00   0  2019\n",
              "5     AFG  Zakiullah Zaki   0     0    0   0.0  ...    1  1     3  13.64   0  2012\n",
              "7     AFG     Usman Ghani   1     1    2  39.5  ...    8  0   316  78.61   0  2014\n",
              "\n",
              "[5 rows x 15 columns]"
            ]
          },
          "metadata": {
            "tags": []
          },
          "execution_count": 229
        }
      ]
    },
    {
      "cell_type": "code",
      "metadata": {
        "id": "TxlSIfDv0CmA",
        "colab_type": "code",
        "outputId": "81e5d6ca-506a-487f-9345-b3def21b0b2a",
        "colab": {
          "base_uri": "https://localhost:8080/",
          "height": 51
        }
      },
      "source": [
        "Unique = stats.player_name.unique()\n",
        "Unique"
      ],
      "execution_count": 230,
      "outputs": [
        {
          "output_type": "execute_result",
          "data": {
            "text/plain": [
              "array(['Najeeb Tarakai', 'Naveen -ul-Haq', 'Zakiullah Zaki', ...,\n",
              "       'Babu Meman', 'Vincent Hogg', 'John Rennie'], dtype=object)"
            ]
          },
          "metadata": {
            "tags": []
          },
          "execution_count": 230
        }
      ]
    },
    {
      "cell_type": "code",
      "metadata": {
        "id": "-bj8f8rEsx1z",
        "colab_type": "code",
        "colab": {}
      },
      "source": [
        "#Better List"
      ],
      "execution_count": 0,
      "outputs": []
    },
    {
      "cell_type": "code",
      "metadata": {
        "id": "rPyR5V078_Vl",
        "colab_type": "code",
        "outputId": "3f13f2bc-a978-488b-e609-869fcb846133",
        "colab": {
          "base_uri": "https://localhost:8080/",
          "height": 204
        }
      },
      "source": [
        "\n",
        "stats1[\"Avg\"] = stats1[\"Avg\"]-stats[\"NO\"]\n",
        "stats1.head()"
      ],
      "execution_count": 270,
      "outputs": [
        {
          "output_type": "execute_result",
          "data": {
            "text/html": [
              "<div>\n",
              "<style scoped>\n",
              "    .dataframe tbody tr th:only-of-type {\n",
              "        vertical-align: middle;\n",
              "    }\n",
              "\n",
              "    .dataframe tbody tr th {\n",
              "        vertical-align: top;\n",
              "    }\n",
              "\n",
              "    .dataframe thead th {\n",
              "        text-align: right;\n",
              "    }\n",
              "</style>\n",
              "<table border=\"1\" class=\"dataframe\">\n",
              "  <thead>\n",
              "    <tr style=\"text-align: right;\">\n",
              "      <th></th>\n",
              "      <th>country</th>\n",
              "      <th>player_name</th>\n",
              "      <th>0s</th>\n",
              "      <th>100s</th>\n",
              "      <th>50s</th>\n",
              "      <th>Avg</th>\n",
              "      <th>Ca</th>\n",
              "      <th>HS</th>\n",
              "      <th>Inns</th>\n",
              "      <th>Mat</th>\n",
              "      <th>NO</th>\n",
              "      <th>Runs</th>\n",
              "      <th>S/R</th>\n",
              "      <th>St</th>\n",
              "      <th>Year</th>\n",
              "    </tr>\n",
              "  </thead>\n",
              "  <tbody>\n",
              "    <tr>\n",
              "      <th>0</th>\n",
              "      <td>AFG</td>\n",
              "      <td>Najeeb Tarakai</td>\n",
              "      <td>0</td>\n",
              "      <td>0</td>\n",
              "      <td>0</td>\n",
              "      <td>5.0</td>\n",
              "      <td>0</td>\n",
              "      <td>5</td>\n",
              "      <td>1</td>\n",
              "      <td>1</td>\n",
              "      <td>0</td>\n",
              "      <td>5</td>\n",
              "      <td>27.78</td>\n",
              "      <td>0</td>\n",
              "      <td>2017</td>\n",
              "    </tr>\n",
              "    <tr>\n",
              "      <th>2</th>\n",
              "      <td>AFG</td>\n",
              "      <td>Naveen -ul-Haq</td>\n",
              "      <td>0</td>\n",
              "      <td>0</td>\n",
              "      <td>0</td>\n",
              "      <td>-2.0</td>\n",
              "      <td>2</td>\n",
              "      <td>0*</td>\n",
              "      <td>1</td>\n",
              "      <td>2</td>\n",
              "      <td>1</td>\n",
              "      <td>0</td>\n",
              "      <td>0.00</td>\n",
              "      <td>0</td>\n",
              "      <td>2016</td>\n",
              "    </tr>\n",
              "    <tr>\n",
              "      <th>3</th>\n",
              "      <td>AFG</td>\n",
              "      <td>Naveen -ul-Haq</td>\n",
              "      <td>0</td>\n",
              "      <td>0</td>\n",
              "      <td>0</td>\n",
              "      <td>7.0</td>\n",
              "      <td>0</td>\n",
              "      <td>8*</td>\n",
              "      <td>2</td>\n",
              "      <td>2</td>\n",
              "      <td>1</td>\n",
              "      <td>9</td>\n",
              "      <td>45.00</td>\n",
              "      <td>0</td>\n",
              "      <td>2019</td>\n",
              "    </tr>\n",
              "    <tr>\n",
              "      <th>5</th>\n",
              "      <td>AFG</td>\n",
              "      <td>Zakiullah Zaki</td>\n",
              "      <td>0</td>\n",
              "      <td>0</td>\n",
              "      <td>0</td>\n",
              "      <td>-2.0</td>\n",
              "      <td>0</td>\n",
              "      <td>3*</td>\n",
              "      <td>1</td>\n",
              "      <td>1</td>\n",
              "      <td>1</td>\n",
              "      <td>3</td>\n",
              "      <td>13.64</td>\n",
              "      <td>0</td>\n",
              "      <td>2012</td>\n",
              "    </tr>\n",
              "    <tr>\n",
              "      <th>7</th>\n",
              "      <td>AFG</td>\n",
              "      <td>Usman Ghani</td>\n",
              "      <td>1</td>\n",
              "      <td>1</td>\n",
              "      <td>2</td>\n",
              "      <td>39.5</td>\n",
              "      <td>2</td>\n",
              "      <td>118</td>\n",
              "      <td>8</td>\n",
              "      <td>8</td>\n",
              "      <td>0</td>\n",
              "      <td>316</td>\n",
              "      <td>78.61</td>\n",
              "      <td>0</td>\n",
              "      <td>2014</td>\n",
              "    </tr>\n",
              "  </tbody>\n",
              "</table>\n",
              "</div>"
            ],
            "text/plain": [
              "  country     player_name  0s  100s  50s   Avg  ...  Mat NO  Runs    S/R  St  Year\n",
              "0     AFG  Najeeb Tarakai   0     0    0   5.0  ...    1  0     5  27.78   0  2017\n",
              "2     AFG  Naveen -ul-Haq   0     0    0  -2.0  ...    2  1     0   0.00   0  2016\n",
              "3     AFG  Naveen -ul-Haq   0     0    0   7.0  ...    2  1     9  45.00   0  2019\n",
              "5     AFG  Zakiullah Zaki   0     0    0  -2.0  ...    1  1     3  13.64   0  2012\n",
              "7     AFG     Usman Ghani   1     1    2  39.5  ...    8  0   316  78.61   0  2014\n",
              "\n",
              "[5 rows x 15 columns]"
            ]
          },
          "metadata": {
            "tags": []
          },
          "execution_count": 270
        }
      ]
    },
    {
      "cell_type": "code",
      "metadata": {
        "id": "w0H-W8Np8_ew",
        "colab_type": "code",
        "outputId": "bab4a61b-d46f-4294-a6b5-20691a5d5235",
        "colab": {
          "base_uri": "https://localhost:8080/",
          "height": 54
        }
      },
      "source": [
        "gradient = 8.0\n",
        "Year_Dict = {}\n",
        "for i in range(1971,2020):\n",
        "  Year_Dict[i] = gradient\n",
        "  gradient = gradient-0.1\n",
        "print(Year_Dict)"
      ],
      "execution_count": 265,
      "outputs": [
        {
          "output_type": "stream",
          "text": [
            "{1971: 8.0, 1972: 7.9, 1973: 7.800000000000001, 1974: 7.700000000000001, 1975: 7.600000000000001, 1976: 7.500000000000002, 1977: 7.400000000000002, 1978: 7.3000000000000025, 1979: 7.200000000000003, 1980: 7.100000000000003, 1981: 7.0000000000000036, 1982: 6.900000000000004, 1983: 6.800000000000004, 1984: 6.700000000000005, 1985: 6.600000000000005, 1986: 6.500000000000005, 1987: 6.400000000000006, 1988: 6.300000000000006, 1989: 6.200000000000006, 1990: 6.100000000000007, 1991: 6.000000000000007, 1992: 5.9000000000000075, 1993: 5.800000000000008, 1994: 5.700000000000008, 1995: 5.6000000000000085, 1996: 5.500000000000009, 1997: 5.400000000000009, 1998: 5.30000000000001, 1999: 5.20000000000001, 2000: 5.10000000000001, 2001: 5.000000000000011, 2002: 4.900000000000011, 2003: 4.800000000000011, 2004: 4.700000000000012, 2005: 4.600000000000012, 2006: 4.500000000000012, 2007: 4.400000000000013, 2008: 4.300000000000013, 2009: 4.2000000000000135, 2010: 4.100000000000014, 2011: 4.000000000000014, 2012: 3.900000000000014, 2013: 3.800000000000014, 2014: 3.700000000000014, 2015: 3.600000000000014, 2016: 3.5000000000000138, 2017: 3.4000000000000137, 2018: 3.3000000000000136, 2019: 3.2000000000000135}\n"
          ],
          "name": "stdout"
        }
      ]
    },
    {
      "cell_type": "code",
      "metadata": {
        "id": "PRQz-rTonLEf",
        "colab_type": "code",
        "colab": {}
      },
      "source": [
        "#Start"
      ],
      "execution_count": 0,
      "outputs": []
    },
    {
      "cell_type": "code",
      "metadata": {
        "id": "PIrVQFKgCYeV",
        "colab_type": "code",
        "outputId": "f1c81329-8af1-47d9-c3d8-8a00d40e7f6b",
        "colab": {
          "base_uri": "https://localhost:8080/",
          "height": 204
        }
      },
      "source": [
        "stats3 = stats1[stats1['Inns']>10]\n",
        "\n",
        "stats3.head()"
      ],
      "execution_count": 254,
      "outputs": [
        {
          "output_type": "execute_result",
          "data": {
            "text/html": [
              "<div>\n",
              "<style scoped>\n",
              "    .dataframe tbody tr th:only-of-type {\n",
              "        vertical-align: middle;\n",
              "    }\n",
              "\n",
              "    .dataframe tbody tr th {\n",
              "        vertical-align: top;\n",
              "    }\n",
              "\n",
              "    .dataframe thead th {\n",
              "        text-align: right;\n",
              "    }\n",
              "</style>\n",
              "<table border=\"1\" class=\"dataframe\">\n",
              "  <thead>\n",
              "    <tr style=\"text-align: right;\">\n",
              "      <th></th>\n",
              "      <th>country</th>\n",
              "      <th>player_name</th>\n",
              "      <th>0s</th>\n",
              "      <th>100s</th>\n",
              "      <th>50s</th>\n",
              "      <th>Avg</th>\n",
              "      <th>Ca</th>\n",
              "      <th>HS</th>\n",
              "      <th>Inns</th>\n",
              "      <th>Mat</th>\n",
              "      <th>NO</th>\n",
              "      <th>Runs</th>\n",
              "      <th>S/R</th>\n",
              "      <th>St</th>\n",
              "      <th>Year</th>\n",
              "    </tr>\n",
              "  </thead>\n",
              "  <tbody>\n",
              "    <tr>\n",
              "      <th>12</th>\n",
              "      <td>AFG</td>\n",
              "      <td>Karim Sadiq</td>\n",
              "      <td>3</td>\n",
              "      <td>1</td>\n",
              "      <td>0</td>\n",
              "      <td>21.50</td>\n",
              "      <td>3</td>\n",
              "      <td>114*</td>\n",
              "      <td>12</td>\n",
              "      <td>13</td>\n",
              "      <td>2</td>\n",
              "      <td>235</td>\n",
              "      <td>74.13</td>\n",
              "      <td>0</td>\n",
              "      <td>2010</td>\n",
              "    </tr>\n",
              "    <tr>\n",
              "      <th>39</th>\n",
              "      <td>AFG</td>\n",
              "      <td>Hashmatullah Shahidi</td>\n",
              "      <td>1</td>\n",
              "      <td>0</td>\n",
              "      <td>4</td>\n",
              "      <td>28.77</td>\n",
              "      <td>3</td>\n",
              "      <td>76</td>\n",
              "      <td>14</td>\n",
              "      <td>14</td>\n",
              "      <td>1</td>\n",
              "      <td>387</td>\n",
              "      <td>63.44</td>\n",
              "      <td>0</td>\n",
              "      <td>2019</td>\n",
              "    </tr>\n",
              "    <tr>\n",
              "      <th>87</th>\n",
              "      <td>AFG</td>\n",
              "      <td>Rahmat Shah</td>\n",
              "      <td>1</td>\n",
              "      <td>1</td>\n",
              "      <td>5</td>\n",
              "      <td>38.36</td>\n",
              "      <td>3</td>\n",
              "      <td>108*</td>\n",
              "      <td>15</td>\n",
              "      <td>16</td>\n",
              "      <td>1</td>\n",
              "      <td>551</td>\n",
              "      <td>70.10</td>\n",
              "      <td>0</td>\n",
              "      <td>2017</td>\n",
              "    </tr>\n",
              "    <tr>\n",
              "      <th>88</th>\n",
              "      <td>AFG</td>\n",
              "      <td>Rahmat Shah</td>\n",
              "      <td>0</td>\n",
              "      <td>1</td>\n",
              "      <td>6</td>\n",
              "      <td>38.00</td>\n",
              "      <td>6</td>\n",
              "      <td>114</td>\n",
              "      <td>19</td>\n",
              "      <td>20</td>\n",
              "      <td>0</td>\n",
              "      <td>722</td>\n",
              "      <td>74.74</td>\n",
              "      <td>0</td>\n",
              "      <td>2018</td>\n",
              "    </tr>\n",
              "    <tr>\n",
              "      <th>89</th>\n",
              "      <td>AFG</td>\n",
              "      <td>Rahmat Shah</td>\n",
              "      <td>1</td>\n",
              "      <td>1</td>\n",
              "      <td>4</td>\n",
              "      <td>32.30</td>\n",
              "      <td>6</td>\n",
              "      <td>113</td>\n",
              "      <td>20</td>\n",
              "      <td>20</td>\n",
              "      <td>0</td>\n",
              "      <td>646</td>\n",
              "      <td>68.58</td>\n",
              "      <td>0</td>\n",
              "      <td>2019</td>\n",
              "    </tr>\n",
              "  </tbody>\n",
              "</table>\n",
              "</div>"
            ],
            "text/plain": [
              "   country           player_name  0s  100s  50s  ...  NO  Runs    S/R  St  Year\n",
              "12     AFG           Karim Sadiq   3     1    0  ...   2   235  74.13   0  2010\n",
              "39     AFG  Hashmatullah Shahidi   1     0    4  ...   1   387  63.44   0  2019\n",
              "87     AFG           Rahmat Shah   1     1    5  ...   1   551  70.10   0  2017\n",
              "88     AFG           Rahmat Shah   0     1    6  ...   0   722  74.74   0  2018\n",
              "89     AFG           Rahmat Shah   1     1    4  ...   0   646  68.58   0  2019\n",
              "\n",
              "[5 rows x 15 columns]"
            ]
          },
          "metadata": {
            "tags": []
          },
          "execution_count": 254
        }
      ]
    },
    {
      "cell_type": "code",
      "metadata": {
        "id": "YgwTzqq9Jf05",
        "colab_type": "code",
        "colab": {}
      },
      "source": [
        "scaled_features = stats3.copy()"
      ],
      "execution_count": 0,
      "outputs": []
    },
    {
      "cell_type": "code",
      "metadata": {
        "id": "Eb5EhsSEJf-r",
        "colab_type": "code",
        "colab": {}
      },
      "source": [
        "from sklearn.preprocessing import MinMaxScaler\n",
        "col_names = ['Avg', 'S/R']\n",
        "features = scaled_features[col_names]\n",
        "scaler = MinMaxScaler().fit(features.values)\n",
        "features = scaler.transform(features.values)"
      ],
      "execution_count": 0,
      "outputs": []
    },
    {
      "cell_type": "code",
      "metadata": {
        "id": "INjojbyzCYxg",
        "colab_type": "code",
        "outputId": "cf148840-affc-49d1-9c06-cdea93fa6fa8",
        "colab": {
          "base_uri": "https://localhost:8080/",
          "height": 204
        }
      },
      "source": [
        "scaled_features[col_names] = features\n",
        "scaled_features.head()"
      ],
      "execution_count": 237,
      "outputs": [
        {
          "output_type": "execute_result",
          "data": {
            "text/html": [
              "<div>\n",
              "<style scoped>\n",
              "    .dataframe tbody tr th:only-of-type {\n",
              "        vertical-align: middle;\n",
              "    }\n",
              "\n",
              "    .dataframe tbody tr th {\n",
              "        vertical-align: top;\n",
              "    }\n",
              "\n",
              "    .dataframe thead th {\n",
              "        text-align: right;\n",
              "    }\n",
              "</style>\n",
              "<table border=\"1\" class=\"dataframe\">\n",
              "  <thead>\n",
              "    <tr style=\"text-align: right;\">\n",
              "      <th></th>\n",
              "      <th>country</th>\n",
              "      <th>player_name</th>\n",
              "      <th>0s</th>\n",
              "      <th>100s</th>\n",
              "      <th>50s</th>\n",
              "      <th>Avg</th>\n",
              "      <th>Ca</th>\n",
              "      <th>HS</th>\n",
              "      <th>Inns</th>\n",
              "      <th>Mat</th>\n",
              "      <th>NO</th>\n",
              "      <th>Runs</th>\n",
              "      <th>S/R</th>\n",
              "      <th>St</th>\n",
              "      <th>Year</th>\n",
              "    </tr>\n",
              "  </thead>\n",
              "  <tbody>\n",
              "    <tr>\n",
              "      <th>12</th>\n",
              "      <td>AFG</td>\n",
              "      <td>Karim Sadiq</td>\n",
              "      <td>3</td>\n",
              "      <td>1</td>\n",
              "      <td>0</td>\n",
              "      <td>0.189237</td>\n",
              "      <td>3</td>\n",
              "      <td>114*</td>\n",
              "      <td>12</td>\n",
              "      <td>13</td>\n",
              "      <td>2</td>\n",
              "      <td>235</td>\n",
              "      <td>0.417258</td>\n",
              "      <td>0</td>\n",
              "      <td>2010</td>\n",
              "    </tr>\n",
              "    <tr>\n",
              "      <th>39</th>\n",
              "      <td>AFG</td>\n",
              "      <td>Hashmatullah Shahidi</td>\n",
              "      <td>1</td>\n",
              "      <td>0</td>\n",
              "      <td>4</td>\n",
              "      <td>0.240380</td>\n",
              "      <td>3</td>\n",
              "      <td>76</td>\n",
              "      <td>14</td>\n",
              "      <td>14</td>\n",
              "      <td>1</td>\n",
              "      <td>387</td>\n",
              "      <td>0.357087</td>\n",
              "      <td>0</td>\n",
              "      <td>2019</td>\n",
              "    </tr>\n",
              "    <tr>\n",
              "      <th>87</th>\n",
              "      <td>AFG</td>\n",
              "      <td>Rahmat Shah</td>\n",
              "      <td>1</td>\n",
              "      <td>1</td>\n",
              "      <td>5</td>\n",
              "      <td>0.307844</td>\n",
              "      <td>3</td>\n",
              "      <td>108*</td>\n",
              "      <td>15</td>\n",
              "      <td>16</td>\n",
              "      <td>1</td>\n",
              "      <td>551</td>\n",
              "      <td>0.394574</td>\n",
              "      <td>0</td>\n",
              "      <td>2017</td>\n",
              "    </tr>\n",
              "    <tr>\n",
              "      <th>88</th>\n",
              "      <td>AFG</td>\n",
              "      <td>Rahmat Shah</td>\n",
              "      <td>0</td>\n",
              "      <td>1</td>\n",
              "      <td>6</td>\n",
              "      <td>0.305311</td>\n",
              "      <td>6</td>\n",
              "      <td>114</td>\n",
              "      <td>19</td>\n",
              "      <td>20</td>\n",
              "      <td>0</td>\n",
              "      <td>722</td>\n",
              "      <td>0.420691</td>\n",
              "      <td>0</td>\n",
              "      <td>2018</td>\n",
              "    </tr>\n",
              "    <tr>\n",
              "      <th>89</th>\n",
              "      <td>AFG</td>\n",
              "      <td>Rahmat Shah</td>\n",
              "      <td>1</td>\n",
              "      <td>1</td>\n",
              "      <td>4</td>\n",
              "      <td>0.265213</td>\n",
              "      <td>6</td>\n",
              "      <td>113</td>\n",
              "      <td>20</td>\n",
              "      <td>20</td>\n",
              "      <td>0</td>\n",
              "      <td>646</td>\n",
              "      <td>0.386018</td>\n",
              "      <td>0</td>\n",
              "      <td>2019</td>\n",
              "    </tr>\n",
              "  </tbody>\n",
              "</table>\n",
              "</div>"
            ],
            "text/plain": [
              "   country           player_name  0s  100s  50s  ...  NO  Runs       S/R  St  Year\n",
              "12     AFG           Karim Sadiq   3     1    0  ...   2   235  0.417258   0  2010\n",
              "39     AFG  Hashmatullah Shahidi   1     0    4  ...   1   387  0.357087   0  2019\n",
              "87     AFG           Rahmat Shah   1     1    5  ...   1   551  0.394574   0  2017\n",
              "88     AFG           Rahmat Shah   0     1    6  ...   0   722  0.420691   0  2018\n",
              "89     AFG           Rahmat Shah   1     1    4  ...   0   646  0.386018   0  2019\n",
              "\n",
              "[5 rows x 15 columns]"
            ]
          },
          "metadata": {
            "tags": []
          },
          "execution_count": 237
        }
      ]
    },
    {
      "cell_type": "code",
      "metadata": {
        "id": "qC8ixZymLmy8",
        "colab_type": "code",
        "outputId": "79410c3e-37ba-48be-a17e-16ee5622892a",
        "colab": {
          "base_uri": "https://localhost:8080/",
          "height": 221
        }
      },
      "source": [
        "stats3.player_name.value_counts()"
      ],
      "execution_count": 257,
      "outputs": [
        {
          "output_type": "execute_result",
          "data": {
            "text/plain": [
              "Sachin Tendulkar       20\n",
              "Sanath Jayasuriya      18\n",
              "Mahela Jayawardene     17\n",
              "Kumar Sangakkara       16\n",
              "Inzamam-ul-Haq         15\n",
              "                       ..\n",
              "Mominul Haque           1\n",
              "Blessing Muzarabani     1\n",
              "Hannan Sarkar           1\n",
              "Lee Germon              1\n",
              "Fraser Watts            1\n",
              "Name: player_name, Length: 676, dtype: int64"
            ]
          },
          "metadata": {
            "tags": []
          },
          "execution_count": 257
        }
      ]
    },
    {
      "cell_type": "code",
      "metadata": {
        "id": "gxby6ngm8_pS",
        "colab_type": "code",
        "outputId": "79919975-30c8-42c2-96e1-ddde9d65e0aa",
        "colab": {
          "base_uri": "https://localhost:8080/",
          "height": 34
        }
      },
      "source": [
        "(stats3['player_name']=='Rahmat Shah').sum()"
      ],
      "execution_count": 258,
      "outputs": [
        {
          "output_type": "execute_result",
          "data": {
            "text/plain": [
              "3"
            ]
          },
          "metadata": {
            "tags": []
          },
          "execution_count": 258
        }
      ]
    },
    {
      "cell_type": "code",
      "metadata": {
        "id": "ueEQhniXONk3",
        "colab_type": "code",
        "outputId": "bbdb6e9a-de57-421a-cf45-824ecc21abcf",
        "colab": {
          "base_uri": "https://localhost:8080/",
          "height": 204
        }
      },
      "source": [
        "stats3.reset_index(drop=True, inplace=True)\n",
        "stats3.head()"
      ],
      "execution_count": 259,
      "outputs": [
        {
          "output_type": "execute_result",
          "data": {
            "text/html": [
              "<div>\n",
              "<style scoped>\n",
              "    .dataframe tbody tr th:only-of-type {\n",
              "        vertical-align: middle;\n",
              "    }\n",
              "\n",
              "    .dataframe tbody tr th {\n",
              "        vertical-align: top;\n",
              "    }\n",
              "\n",
              "    .dataframe thead th {\n",
              "        text-align: right;\n",
              "    }\n",
              "</style>\n",
              "<table border=\"1\" class=\"dataframe\">\n",
              "  <thead>\n",
              "    <tr style=\"text-align: right;\">\n",
              "      <th></th>\n",
              "      <th>country</th>\n",
              "      <th>player_name</th>\n",
              "      <th>0s</th>\n",
              "      <th>100s</th>\n",
              "      <th>50s</th>\n",
              "      <th>Avg</th>\n",
              "      <th>Ca</th>\n",
              "      <th>HS</th>\n",
              "      <th>Inns</th>\n",
              "      <th>Mat</th>\n",
              "      <th>NO</th>\n",
              "      <th>Runs</th>\n",
              "      <th>S/R</th>\n",
              "      <th>St</th>\n",
              "      <th>Year</th>\n",
              "    </tr>\n",
              "  </thead>\n",
              "  <tbody>\n",
              "    <tr>\n",
              "      <th>0</th>\n",
              "      <td>AFG</td>\n",
              "      <td>Karim Sadiq</td>\n",
              "      <td>3</td>\n",
              "      <td>1</td>\n",
              "      <td>0</td>\n",
              "      <td>21.50</td>\n",
              "      <td>3</td>\n",
              "      <td>114*</td>\n",
              "      <td>12</td>\n",
              "      <td>13</td>\n",
              "      <td>2</td>\n",
              "      <td>235</td>\n",
              "      <td>74.13</td>\n",
              "      <td>0</td>\n",
              "      <td>2010</td>\n",
              "    </tr>\n",
              "    <tr>\n",
              "      <th>1</th>\n",
              "      <td>AFG</td>\n",
              "      <td>Hashmatullah Shahidi</td>\n",
              "      <td>1</td>\n",
              "      <td>0</td>\n",
              "      <td>4</td>\n",
              "      <td>28.77</td>\n",
              "      <td>3</td>\n",
              "      <td>76</td>\n",
              "      <td>14</td>\n",
              "      <td>14</td>\n",
              "      <td>1</td>\n",
              "      <td>387</td>\n",
              "      <td>63.44</td>\n",
              "      <td>0</td>\n",
              "      <td>2019</td>\n",
              "    </tr>\n",
              "    <tr>\n",
              "      <th>2</th>\n",
              "      <td>AFG</td>\n",
              "      <td>Rahmat Shah</td>\n",
              "      <td>1</td>\n",
              "      <td>1</td>\n",
              "      <td>5</td>\n",
              "      <td>38.36</td>\n",
              "      <td>3</td>\n",
              "      <td>108*</td>\n",
              "      <td>15</td>\n",
              "      <td>16</td>\n",
              "      <td>1</td>\n",
              "      <td>551</td>\n",
              "      <td>70.10</td>\n",
              "      <td>0</td>\n",
              "      <td>2017</td>\n",
              "    </tr>\n",
              "    <tr>\n",
              "      <th>3</th>\n",
              "      <td>AFG</td>\n",
              "      <td>Rahmat Shah</td>\n",
              "      <td>0</td>\n",
              "      <td>1</td>\n",
              "      <td>6</td>\n",
              "      <td>38.00</td>\n",
              "      <td>6</td>\n",
              "      <td>114</td>\n",
              "      <td>19</td>\n",
              "      <td>20</td>\n",
              "      <td>0</td>\n",
              "      <td>722</td>\n",
              "      <td>74.74</td>\n",
              "      <td>0</td>\n",
              "      <td>2018</td>\n",
              "    </tr>\n",
              "    <tr>\n",
              "      <th>4</th>\n",
              "      <td>AFG</td>\n",
              "      <td>Rahmat Shah</td>\n",
              "      <td>1</td>\n",
              "      <td>1</td>\n",
              "      <td>4</td>\n",
              "      <td>32.30</td>\n",
              "      <td>6</td>\n",
              "      <td>113</td>\n",
              "      <td>20</td>\n",
              "      <td>20</td>\n",
              "      <td>0</td>\n",
              "      <td>646</td>\n",
              "      <td>68.58</td>\n",
              "      <td>0</td>\n",
              "      <td>2019</td>\n",
              "    </tr>\n",
              "  </tbody>\n",
              "</table>\n",
              "</div>"
            ],
            "text/plain": [
              "  country           player_name  0s  100s  50s  ...  NO  Runs    S/R  St  Year\n",
              "0     AFG           Karim Sadiq   3     1    0  ...   2   235  74.13   0  2010\n",
              "1     AFG  Hashmatullah Shahidi   1     0    4  ...   1   387  63.44   0  2019\n",
              "2     AFG           Rahmat Shah   1     1    5  ...   1   551  70.10   0  2017\n",
              "3     AFG           Rahmat Shah   0     1    6  ...   0   722  74.74   0  2018\n",
              "4     AFG           Rahmat Shah   1     1    4  ...   0   646  68.58   0  2019\n",
              "\n",
              "[5 rows x 15 columns]"
            ]
          },
          "metadata": {
            "tags": []
          },
          "execution_count": 259
        }
      ]
    },
    {
      "cell_type": "code",
      "metadata": {
        "id": "NZULF1NOO-JE",
        "colab_type": "code",
        "outputId": "07e2391c-3178-44b6-86ed-6b66467c1031",
        "colab": {
          "base_uri": "https://localhost:8080/",
          "height": 34
        }
      },
      "source": [
        "stats3.shape"
      ],
      "execution_count": 260,
      "outputs": [
        {
          "output_type": "execute_result",
          "data": {
            "text/plain": [
              "(2422, 15)"
            ]
          },
          "metadata": {
            "tags": []
          },
          "execution_count": 260
        }
      ]
    },
    {
      "cell_type": "code",
      "metadata": {
        "id": "Iu6zDDt8P2Xa",
        "colab_type": "code",
        "outputId": "ebc541b8-7335-4bb4-812f-0f70177eb460",
        "colab": {
          "base_uri": "https://localhost:8080/",
          "height": 54
        }
      },
      "source": [
        "impact = {}\n",
        "experience = 1\n",
        "for i in range(2422): \n",
        "  career = (stats3['player_name']==stats3.loc[i, \"player_name\"]).sum()\n",
        "  if(career<4):\n",
        "    experience = 0\n",
        "  elif(career<8):\n",
        "    experience = 0.6\n",
        "  elif(career<12):\n",
        "    experience = 0.8\n",
        "  elif(career<16):\n",
        "    experience = 1.0\n",
        "  elif(career<16):\n",
        "    experience = 1.2\n",
        "  else:\n",
        "    experience = 1.4\n",
        "  if(stats3.loc[i, \"Avg\"]<30):\n",
        "    fluke = 3\n",
        "  if stats3.loc[i, \"player_name\"] in impact.keys(): \n",
        "    impact[stats3.loc[i, \"player_name\"]] += ((stats3.loc[i, \"Avg\"]*((stats3.loc[i, \"S/R\"])/3))/(career*fluke))*(experience*Year_Dict[int(stats3.loc[i, \"Year\"])])\n",
        "  else:\n",
        "    impact[stats3.loc[i, \"player_name\"]] = ((stats2.loc[i, \"Avg\"]*((stats3.loc[i, \"S/R\"]/3)))/(career*fluke))*(experience*Year_Dict[int(stats3.loc[i, \"Year\"])])\n",
        "print(impact)\n",
        "  \n"
      ],
      "execution_count": 271,
      "outputs": [
        {
          "output_type": "stream",
          "text": [
            "{'Karim Sadiq': 0.0, 'Hashmatullah Shahidi': 0.0, 'Rahmat Shah': 0.0, 'Asghar Afghan': 373.8553317777792, 'Samiullah Shinwari': 0.0, 'Hazratullah Zazai': 0.0, 'Mirwais Ashraf': 0.0, 'Ihsanullah': 0.0, 'Rashid Khan': 0.0, 'Najibullah Zadran': 0.0, 'Gulbadin Naib': 0.0, 'Ikram Ali Khil': 0.0, 'Mohammad Nabi': 522.2769084761925, 'Nawroz Mangal': 0.0, 'Andy Bichel': 0.0, 'Graeme Wood': 969.186885333334, 'James Hopes': 0.0, 'Kim Hughes': 692.2329240000004, 'Phillip Hughes': 0.0, 'Bradley Hodge': 0.0, 'Shaun Marsh': 0.0, 'Adam Voges': 0.0, 'Wayne Phillips': 0.0, 'Shane Lee': 0.0, 'Michael Veletta': 0.0, 'Ian Healy': 593.772594190477, 'Greg Matthews': 0.0, 'Geoff Marsh': 948.6770115555564, 'Bruce Laird': 0.0, 'Steve Smith': 0.0, 'Tim Paine': 0.0, 'Usman Khawaja': 0.0, 'Mitchell Marsh': 0.0, 'Michael Bevan': 1600.84988026667, 'Dean Jones': 1773.4357357037056, 'Shane Warne': 252.71594033333378, 'Rod Marsh': 0.0, 'Patrick Cummins': 0.0, 'Michael Slater': 0.0, 'Cameron White': 0.0, 'John Hastings': 0.0, 'Tom Moody': 0.0, 'Rodney Hogg': 0.0, 'Greg Blewett': 0.0, 'David Boon': 1264.451794666668, 'Matthew Hayden': 1071.7293888000027, 'Brendon Julian': 0.0, 'Darren Lehmann': 1104.5537980000022, 'Paul Reiffel': 0.0, 'Greg Chappell': 0.0, 'Geoff Lawson': 0.0, 'Marcus Stoinis': 0.0, 'Ian Harvey': 0.0, 'David Warner': 1166.8891154666712, 'Clinton McKay': 0.0, 'Timothy Zoehrer': 0.0, 'Mark Waugh': 1376.1273360000027, 'Damien Martyn': 1446.79621666667, 'Matthew Wade': 0.0, 'Michael Clarke': 1219.387816493831, 'Brad Hogg': 0.0, 'Daniel Christian': 0.0, 'David Hussey': 0.0, 'Glenn Maxwell': 931.7851276000036, 'Ricky Ponting': 1726.939340740745, 'Mitchell Johnson': 0.0, 'Michael Hussey': 1822.6867793333388, 'Travis Head': 0.0, 'Brett Lee': 381.92649666666773, 'Alex Carey': 0.0, 'Simon Katich': 0.0, 'George Bailey': 850.0215563333363, 'Shane Watson': 1229.0251705555597, 'Steve Waugh': 1439.5109664444467, 'Brad Haddin': 0.0, 'Adam Gilchrist': 1496.7634896161653, 'Nathan Hauritz': 0.0, 'Craig McDermott': 0.0, \"Simon O'Donnell\": 0.0, 'Greg Ritchie': 0.0, 'Aaron Finch': 820.288607777781, 'Peter Handscomb': 0.0, 'Allan Border': 1515.9183658730176, 'Mark Taylor': 819.2229760000009, 'Dirk Wellham': 0.0, 'Andrew Symonds': 1100.7666675238124, 'Peter Forrest': 0.0, 'Stuart Law': 0.0, 'James Faulkner': 0.0, 'David Hookes': 0.0, 'Callum Ferguson': 0.0, 'Anamul Haque': 0.0, 'Aminul Islam': 0.0, 'Sanwar Hossain': 0.0, 'Tapash Baisya': 0.0, 'Mehidy Hasan': 0.0, 'Shakib Al Hasan': 1030.3737656565695, 'Abdur Razzak': 140.8169858666671, 'Farhad Reza': 0.0, 'Rajin Saleh': 0.0, 'Mominul Haque': 0.0, 'Mashrafe Mortaza': 311.94118944444546, 'Tamim Iqbal': 1036.0960691358064, 'Nasir Hossain': 0.0, 'Mohammad Rafique': 245.13669240000064, 'Tushar Imran': 0.0, 'Liton Das': 0.0, 'Al Sahariar Rokon': 0.0, 'Aftab Ahmed': 0.0, 'Mushfiqur Rahman': 0.0, 'Soumya Sarkar': 0.0, 'Alok Kapali': 0.0, 'Manjural Islam Rana': 0.0, 'Mohammad Ashraful': 605.541130222224, 'Hannan Sarkar': 0.0, 'Shahriar Nafees': 528.7632106666682, 'Khaled Mashud': 433.45227133333435, 'Mahmudullah': 755.5184326913609, 'Sabbir Rahman': 0.0, 'Khaled Mahmud': 258.3394000000006, 'Shafiul Islam': 0.0, 'Naeem Islam': 0.0, 'Imrul Kayes': 0.0, 'Dhiman Ghosh': 0.0, 'Mushfiqur Rahim': 901.1488019555592, 'Habibul Bashar': 406.477593200001, 'David Hemp': 0.0, 'Lionel Cann': 0.0, 'Saleem Mukuddem': 0.0, 'Janeiro Tucker': 0.0, 'Irvine Romaine': 0.0, 'Ashif Mulla': 0.0, 'John Davison': 0.0, 'Abdool Samad': 0.0, 'Sunil Dhaniram': 0.0, 'Ashish Bagai': 0.0, 'Anderson Cummins': 0.0, 'Michael Vaughan': 548.2697543333347, 'Charles Athey': 0.0, 'Nicholas Knight': 913.417868111113, 'Jos Butler': 1073.9171504761946, 'Chris Jordan': 0.0, 'Nasser Hussain': 0.0, 'Victor Marks': 0.0, 'Paul Nixon': 0.0, 'James Tredwell': 0.0, 'Jonathan Trott': 0.0, 'Ian Bell': 1103.1528938888928, 'Robert Croft': 0.0, 'Ed Joyce': 0.0, 'Derek Randall': 0.0, 'Graeme Hick': 1054.0666188000016, 'Timothy Bresnan': 0.0, 'Vikram Solanki': 0.0, 'Graham Gooch': 1035.3787138333341, 'Jason Roy': 1062.8443956000042, 'Geraint Jones': 0.0, 'Andrew Strauss': 837.0180974285739, 'Moeen Ali': 621.8900544444468, 'Ian Gould': 0.0, 'Alexander Hales': 906.6774255000036, 'David Gower': 0.0, 'Andy Caddick': 0.0, 'Ronald Irani': 0.0, 'Liam Plunkett': 0.0, 'Jack Richards': 0.0, 'Neil Fairbrother': 0.0, 'Ravinda Bopara': 550.0084510000017, 'Chris Lewis': 0.0, 'Ben Stokes': 986.4918935000039, 'Craig White': 0.0, 'Jonny Bairstow': 0.0, 'Neil Foster': 0.0, 'Luke Wright': 0.0, 'Mark Ealham': 0.0, 'Chris Tavare': 0.0, 'Eoin Morgan': 1483.6574307407461, 'Graeme Swann': 0.0, 'Michael Atherton': 0.0, 'Adam Hollioake': 0.0, 'Graham Thorpe': 0.0, 'James Taylor': 0.0, 'John Emburey': 0.0, 'Andrew Flintoff': 991.4846432000026, 'Phillip De Freitas': 0.0, 'James Anderson': -0.0, 'Mike Gatting': 0.0, 'Matthew Prior': 0.0, 'Darren Gough': 0.0, 'Geoff Boycott': 0.0, 'Joe Root': 1007.396697047623, 'Stuart Broad': 0.0, 'Gavin Hamilton': 0.0, 'Chris Broad': 0.0, 'Allan Lamb': 1047.252142000001, 'Chris Woakes': 0.0, 'Marcus Trescothick': 976.2096465555577, 'Alastair Cook': 750.695899333336, 'Craig Kieswetter': 0.0, 'Michael Yardy': 0.0, 'Kevin Pietersen': 1137.3798485333364, 'Paul Collingwood': 979.0150127407435, 'Robin Smith': 0.0, 'Mike Brearley': 0.0, 'Alec Stewart': 913.4395406666683, 'James Dalrymple': 0.0, 'Sir Ian Botham': 653.6574998333339, 'Owais Shah': 0.0, 'Yusuf Pathan': 0.0, 'Rohit Sharma': 1342.2461336888941, 'Kris Srikkanth': 763.6122578095244, 'Javagal Srinath': 281.0300776666671, 'Zaheer Khan': 0.0, 'Sourav Ganguly': 1230.805942222225, 'Sunil Gavaskar': 1164.7232163333342, 'Ajay Jadeja': 803.684977619049, 'Abey Kuruvilla': -0.0, 'Parthiv Patel': 0.0, 'Ravichandran Ashwin': 0.0, 'Hardik Pandya': 0.0, 'Gautam Gambhir': 1005.5160451111144, 'Hemang Badani': 0.0, 'Rahul Dravid': 1367.5392060185216, 'Lakshmipathy Balaji': 0.0, 'Kapil Dev': 1150.1627019555567, 'Roger Binny': 0.0, 'Virat Kohli': 1844.7084993580318, 'Syed Kirmani': 0.0, 'Anil Kumble': 132.4546186666669, 'Axar Patel': 0.0, 'M S Dhoni': 1795.980623333339, 'Raman Lamba': 0.0, 'Sadagopan Ramesh': 0.0, 'Irfan Pathan': 490.1428435000014, 'Kedar Jadhav': 0.0, 'Harbhajan Singh': 257.9172660952388, 'Ravishankar Shastri': 688.0641945714292, 'Ajit Agarkar': 374.96574650000076, 'Virender Sehwag': 1565.1196330505097, 'Kiran More': 0.0, 'Dinesh Mongia': 0.0, 'Sandeep Patil': 0.0, 'Dinesh Karthik': 0.0, 'Navjot Sidhu': 955.6138011111123, 'Ajinkya Rahane': 712.1136306666693, 'KL Rahul': 0.0, 'Nayan Mongia': 368.54401516666724, 'Manoj Prabhakar': 631.1877430666675, 'Mohinder Amarnath': 0.0, 'Praveen Amre': 0.0, 'Sunil Joshi': 0.0, 'Mohammad Azharuddin': 1653.239839111113, 'Robin Singh': 631.0679813333345, 'Venkatesh Prasad': 0.0, 'Ravindra Jadeja': 0.0, 'Yashpal Sharma': 0.0, 'Robin Uthappa': 0.0, 'Suresh Raina': 1118.7186510617323, 'Ambati Rayudu': 0.0, 'Vinod Kambli': 0.0, 'Chetan Sharma': 0.0, 'Shikhar Dhawan': 969.7804955555594, 'Saba Karim': 0.0, 'Bhuvneshwar Kumar': 0.0, 'Ajay Sharma': 0.0, 'Sanjay Manjrekar': 807.5605671666675, 'Sachin Tendulkar': 2881.161027966673, 'Mohammad Kaif': 644.3075874666683, 'Dillip Vengsarkar': 1018.6511815000008, 'Yuvraj Singh': 1408.3146882906024, 'Hrishikesh Kanitkar': 0.0, 'Nikhil Chopra': 0.0, 'V V S Laxman': 0.0, \"Niall O'Brien\": 488.4089805000018, 'Gary Wilson': 0.0, 'George Dockrell': 0.0, 'Jeremy Bray': 0.0, 'Andy Balbirnie': 592.2780443333357, 'Andrew White': 0.0, 'Andre Botha': 0.0, 'William Porterfield': 530.7240722222241, 'Paul Stirling': 894.9675264444478, 'Trent Johnston': 0.0, 'William McCallan': 0.0, \"Kevin O'Brien\": 660.5842087777802, 'John Mooney': 0.0, 'Dave Langford-Smith': 0.0, 'David Obuya': 0.0, 'Maurice Ouma': 0.0, 'Peter Ongondo': 0.0, 'Alex Obanda': 0.0, 'Ravindu Shah': 0.0, 'Collins Obuya': 0.0, 'Thomas Odoyo': 0.0, 'Hiren Varaiya': 0.0, 'Maurice Odumbe': 0.0, 'Tanmay Mishra': 0.0, 'Stephen Tikolo': 538.2036746666682, 'Kennedy Otieno': 0.0, 'James Kamande': 0.0, 'Nehemiah Odhiambo': 0.0, 'Bas Zuiderent': 0.0, 'Eric Szwarczynski': 0.0, 'Peter Borren': 0.0, 'Chris Pringle': 0.0, 'Martin Guptill': 1141.510247209881, 'Matthew Sinclair': 0.0, 'Ross Taylor': 1259.0956371555603, 'Shane Thomson': 0.0, 'Jeffrey Crowe': 0.0, 'Martin Crowe': 1198.7493886666678, 'Daryl Tuffey': 0.0, 'Warren Lees': 0.0, 'Dipak Patel': 0.0, 'Chris Cairns': 1136.8036429333358, 'Scott Styris': 985.7798775555584, 'Jeremy Coney': 735.2214205000005, 'Mitchell Santner': 0.0, 'Gavin Larsen': 0.0, 'Lou Vincent': 624.2560495555572, 'Lance Cairns': 0.0, 'Sir Richard Hadlee': 0.0, 'Colin de Grandhomme': 0.0, 'Kane Williamson': 1074.1110473333376, 'Rodney Latham': 0.0, 'Jacob Oram': 632.4145406666682, 'Neil Broom': 0.0, 'Lee Germon': 0.0, 'Robert Nicol': 0.0, 'Luke Ronchi': 0.0, 'Nathan Astle': 1168.9579879595985, 'Mark Greatbatch': 951.8337310000011, 'Christopher Nevin': 0.0, 'Jamie How': 0.0, 'Grant Elliott': 0.0, 'Chris Harris': 874.1119787555572, 'Tim Southee': 0.0, 'John Wright': 605.3665151111114, 'Roger Twose': 940.1961966666684, 'Hamish Marshall': 0.0, 'Craig Spearman': 0.0, 'Brendon McCullum': 1063.7970663434378, 'Dion Nash': 0.0, 'James Neesham': 0.0, 'Ervin McSweeney': 0.0, 'Colin Munro': 0.0, 'Tom Latham': 627.7261488000025, 'Ian Smith': 0.0, 'Peter Fulton': 0.0, 'Blair Hartland': 0.0, 'Ken Rutherford': 723.6733768333341, 'Andre Adams': 0.0, 'Andrew Jones': 0.0, 'Bryan Young': 0.0, 'Adam Parore': 755.3682957777789, 'Matthew Horne': 0.0, 'Tony Blain': 0.0, 'Glenn Turner': 0.0, 'Henry Nicholls': 0.0, 'Bruce Blair': 0.0, 'Jesse Ryder': 0.0, 'Martin Snedden': 0.0, 'Daniel Vettori': 394.7494815555567, 'Craig McMillan': 886.7726144197552, 'John Bracewell': 0.0, 'Geoff Howarth': 0.0, 'James Franklin': 0.0, 'Stephen Fleming': 1240.8407398412726, 'Nathan McCullum': 0.0, 'Bruce Edgar': 0.0, 'Llorne Howell': 0.0, 'Kyle Mills': 0.0, 'Corey Anderson': 0.0, 'Abdul Razzaq': 974.161518844447, 'Shoaib Akhtar': 0.0, 'Haris Sohail': 0.0, 'Mohammad Wasim': 0.0, 'Nasir Jamshed': 0.0, 'Ahmed Shehzad': 636.7428075000023, 'Younis Khan': 1183.5383147222256, 'Junaid Khan': -0.0, 'Naved-ul-Hasan': 0.0, 'Saeed Anwar': 1515.1526357333357, 'Fawad Alam': 0.0, 'Sarfaraz Ahmed': 697.7697738333361, 'Zaheer Abbas': 0.0, 'Shoaib Mohammad': 0.0, 'Imran Nazir': 0.0, 'Salman Butt': 0.0, 'Saleem Malik': 1303.6036352888905, 'Mohammad Yousuf': 1346.2679018989932, 'Imad Wasim': 0.0, 'Azhar Ali': 0.0, 'Mohammad Hafeez': 836.8397104197562, 'Umar Gul': 0.0, 'Aamer Malik': 0.0, 'Mohammad Rizwan': 0.0, 'Waqar Younis': 230.9025865555559, 'Basit Ali': 0.0, 'Misbah-ul-Haq': 672.1175642222245, 'Imran Khan': 838.4999884000006, 'Fakhar Zaman': 0.0, 'Yasir Hameed': 0.0, 'Umar Amin': 0.0, 'Saeed Ajmal': 0.0, 'Qasim Omar': 0.0, 'Shadab Khan': 0.0, 'Akram Raza': 0.0, 'Mudassar Nazar': 556.1541481333337, 'Rashid Latif': 595.9335783333343, 'Imam-ul-Haq': 0.0, 'Mushtaq Ahmed': 0.0, 'Arshad Khan': 0.0, 'Aamir Sohail': 616.8818036190485, 'Asif Mujtaba': 0.0, 'Azhar Mahmood': 0.0, 'Imran Farhat': 0.0, 'Umar Akmal': 770.5272349333359, 'Kamran Akmal': 564.1151585714304, 'Manzoor Elahi': 0.0, 'Asad Shafiq': 0.0, 'Saleem Yousuf': 0.0, 'Inzamam-ul-Haq': 1549.1452121481511, 'Javed Miandad': 1418.5648318222236, 'Moin Khan': 665.7702300000012, 'Wahab Riaz': 0.0, 'Mohsin Khan': 1130.9639973333342, 'Babar Azam': 1064.3511448333375, 'Wasim Akram': 1034.6280703968268, 'Ramiz Raja': 1261.4435645333347, 'Mohammad Sami': 0.0, 'Abdul Qadir': 0.0, 'Saqlain Mushtaq': 180.52526283333364, 'Taufeeq Umar': 0.0, 'Shoaib Malik': 1378.8278942592638, 'Mohammad Irfan': 0.0, 'Wajahatullah Wasti': 0.0, 'Matthew Cross': 0.0, 'Navdeep Poonia': 0.0, 'Craig Wright': 0.0, 'Calum MacLeod': 0.0, 'Fraser Watts': 0.0, 'Ryan Watson': 0.0, 'Douglas Brown': 0.0, 'Neil McCallum': 0.0, 'Richard Berrington': 0.0, 'George Munsey': 0.0, 'Rana Haq': 0.0, 'Colin Smith': 0.0, 'John Blain': 0.0, 'Andrew Hudson': 877.0544285000012, 'Jean-Paul Duminy': 1003.0517760000037, 'Hashim Amla': 1287.4541110222272, 'Neil McKenzie': 0.0, 'Mark Boucher': 987.2079328395085, 'Jacques Kallis': 1746.4345046666713, 'Pat Symcox': 0.0, 'Johan Botha': 0.0, 'Aiden Markram': 0.0, 'Adrian Kuiper': 0.0, 'Nico Boje': 0.0, 'Boeta Dippenaar': 0.0, 'Albie Morkel': 0.0, 'Graeme Smith': 1232.9507203232358, 'Ashwell Prince': 0.0, 'Jacques Rudolph': 0.0, 'Lance Klusener': 1128.6417002222245, 'Rilee Rossouw': 0.0, 'David Miller': 844.7694773333365, 'Hansie Cronje': 1391.5448118888912, 'Colin Ingram': 0.0, 'Shaun Pollock': 1036.0749951515174, 'Eric Simons': 0.0, 'Jonty Rhodes': 1282.983014044447, 'Justin Kemp': 0.0, 'Peter Kirsten': 0.0, 'Faf du Plessis': 1232.1929104444494, 'Daryll Cullinan': 832.9303589523822, 'Herschelle Gibbs': 1232.3645543434375, 'Farhaan Behardien': 0.0, 'Gary Kirsten': 1347.7132275555582, 'Brian McMillan': 0.0, 'Fanie De Villiers': 0.0, 'Rassie van der Dussen': 0.0, 'Quinton de Kock': 1034.9414950000041, 'David Richardson': 0.0, 'Andile Phehlukwayo': 0.0, 'Robin Peterson': 0.0, 'Andrew Hall': 0.0, 'Ryan McLaren': 0.0, 'Lonwabo Tsotsobe': 0.0, 'Michael Rindel': 0.0, 'Kepler Wessels': 894.9479081111119, 'Heinrich Klaasen': 0.0, 'A B de Villiers': 2024.1267414141487, 'Thilina Kandamby': 0.0, 'Kusal Mendis': 578.4269958333356, 'Angelo Mathews': 1007.8528414814856, 'Chandika Hathurusingha': 0.0, 'Thilan Thushara': 0.0, 'Danushka Gunathilaka': 0.0, 'Jeevan Mendis': 0.0, 'Somachandra De Silva': 0.0, 'Ashan Priyanjan': 0.0, 'Thisara Perera': 530.4159315238117, 'Jehan Mubarak': 0.0, 'Amal Silva': 0.0, 'Dimuth Karunaratne': 0.0, 'Sanath Jayasuriya': 2329.254659061733, 'Sidath Wettimuny': 0.0, 'Tillakaratne Dilshan': 1458.2105052777824, 'Niroshan Dickwella': 0.0, 'Avishka Fernando': 0.0, 'Duleep Mendis': 0.0, 'Ravi Ratnayeke': 0.0, 'Hashan Tillakaratne': 775.8434377283962, 'Lasith Malinga': 509.0346300000018, 'Milinda Siriwardana': 0.0, 'Suranga Lakmal': 0.0, 'Russel Arnold': 904.1036850000022, 'Kumar Sangakkara': 2125.326717791673, 'Isuru Udana': 0.0, 'Muttiah Muralitharan': 215.9324548571434, 'Lahiru Thirimanne': 637.319033166669, 'Roy Dias': 0.0, 'Ranjan Madugalle': 0.0, 'Ajantha Mendis': 0.0, 'Nuwan Zoysa': 0.0, 'Brendon Kuruppu': 0.0, 'Sachithra Senanayake': 0.0, 'Upul Chandana': 274.98844816666724, 'Arjuna Ranatunga': 1622.8393205555578, 'Chaminda Vaas': 324.532956641976, 'Graeme Labrooy': 0.0, 'Rumesh Ratnayake': 0.0, 'Ruwan Kalpage': 0.0, 'Asanka Gurusinha': 566.5053691428578, 'Dinesh Chandimal': 499.4313599047637, 'Aravinda de Silva': 1670.493444444447, 'Avishka Gunawardene': 0.0, 'Farveez Maharoof': 0.0, 'Mahela Jayawardene': 1684.0282461699394, 'Thilan Samaraweera': 0.0, 'Chamara Silva': 0.0, 'Pramodya Wickremasinghe': 0.0, 'Chamara Kapugedera': 0.0, 'Asela Gunaratne': 0.0, 'Nuwan Kulasekara': 341.62910388889, 'Shaul Karnain': 0.0, 'Marvan Atapattu': 1091.6963888888913, 'Upul Tharanga': 952.8502059555589, 'Roshan Mahanama': 876.295823703705, 'Kumar Dharmasena': 598.1228568333344, 'Kusal Perera': 698.318698133336, 'Dhananjaya de Silva': 0.0, 'Dilhara Fernando': 0.0, 'Romesh Kaluwitharana': 820.0612905555571, 'W Jayantha': 0.0, 'Akila Dananjaya': 0.0, 'Rohan Mustafa': 0.0, 'Adnan Mufti': 0.0, 'Muhammad Usman': 0.0, 'Xavier Marshall': 0.0, 'Andre Russell': 0.0, 'Jason Mohammed': 0.0, 'Larry Gomes': 0.0, 'Devon Smith': 0.0, 'Shai Hope': 0.0, 'Nehemiah Perry': 0.0, 'Courtney Walsh': 0.0, 'Ashley Nurse': 0.0, 'Ramnaresh Sarwan': 1062.8742670000029, 'Denesh Ramdin': 562.718046111113, 'Philip Simmons': 629.530588190477, 'Narsingh Deonarine': 0.0, 'Rovman Powell': 0.0, 'Jeff Dujon': 562.871641555556, 'Nicholas Pooran': 0.0, 'Dwayne Bravo': 567.6235694285732, 'Kieran Powell': 0.0, 'Curtly Ambrose': 327.9521480000003, 'Merwyn Dillon': 0.0, 'Carl Hooper': 1155.192181037039, 'Shimron Hetmeyer': 0.0, 'Roger Harper': 0.0, 'Carlos Brathwaite': 0.0, 'Keith Arthurton': 637.4252965000009, 'Gus Logie': 715.4001368571435, 'Jonathan Carter': 0.0, 'Shivnarine Chanderpaul': 1328.1973616161652, 'Sunil Narine': 0.0, 'Sherwin Campbell': 654.4357831666679, 'Desmond Haynes': 1402.888552266668, 'Sir Viv Richards': 1801.5716067619062, 'Sewnarine Chattergoon': 0.0, 'Lendl Simmons': 0.0, 'Darren Ganga': 0.0, 'Evin Lewis': 0.0, 'Malcolm Marshall': 0.0, 'Carlton Baugh': 0.0, 'Johnson Charles': 0.0, 'Courtney Browne': 0.0, 'Jason Holder': 538.1478856000022, 'Darren Bravo': 558.390957000002, 'Kemar Roach': 0.0, 'Gordon Greenidge': 1130.3758828333343, 'Ricardo Powell': 738.9645278666683, 'Franklyn Rose': 0.0, 'Brian Lara': 1869.6034146825434, 'Marlon Samuels': 775.8638131358051, 'Reon King': 0.0, 'Runako Morton': 0.0, 'Richard Gabriel': 0.0, 'Wavell Hinds': 651.7561516666681, 'Clive Lloyd': 0.0, 'Jimmy Adams': 383.7366008888895, 'Nixon McLean': 0.0, 'Ridley Jacobs': 356.2996733333341, 'Kieron Pollard': 677.7285313333357, 'Richie Richardson': 1042.74188568889, 'Dwayne Smith': 419.8230540000012, 'Ian Bradshaw': 0.0, 'Stuart Williams': 0.0, 'Darren Sammy': 598.0413046666688, 'Vasbert Drakes': 0.0, 'Chris Gayle': 1657.7257074814863, 'Hamilton Masakadza': 733.1892482666691, 'Brendan Taylor': 887.3529856888919, 'Andrew Whittall': 0.0, 'Guy Whittall': 508.41933733333434, 'Sean Williams': 635.9061416000023, 'Douglas Marillier': 0.0, 'Andrew Flower': 1143.2057774814837, 'Sikandar Raza': 0.0, 'Mark Vermeulen': 0.0, 'Craig Evans': 0.0, 'Dion Ebrahim': 0.0, 'Ray Price': 0.0, 'Sean Ervine': 0.0, 'Heath Streak': 578.6011969333344, 'Kyle Jarvis': 0.0, 'Charles Coventry': 0.0, 'Vusi Sibanda': 592.6593850000017, 'Solomon Mire': 0.0, 'David Houghton': 0.0, 'Andy Blignaut': 0.0, 'Blessing Muzarabani': 0.0, 'Elton Chigumbura': 688.9931724444468, 'Murray Goodwin': 0.0, 'Gary Brent': 0.0, 'Luke Jongwe': 0.0, 'Blessing Mahwire': 0.0, 'Peter Moor': 0.0, 'Tendai Chatara': -0.0, 'Neil Johnson': 0.0, 'Paul Strang': 0.0, 'Malcolm Waller': 0.0, 'Prosper Utseya': 260.8236477142865, 'Alistair Campbell': 619.8623161904774, 'Terry Duffin': 0.0, 'Mluleki Nkala': 0.0, 'Travis Friend': 0.0, 'Tawanda Mupariwa': 0.0, 'Stuart Matsikenyeri': 0.0, 'Craig Ervine': 352.35621350000133, 'Craig Wishart': 0.0, 'Douglas Hondo': 0.0, 'Stuart Carlisle': 0.0, 'Justice Chibhabha': 0.0, 'Grant Flower': 985.7413248888909, 'Tinashe Panyangara': 0.0, 'Graeme Cremer': 241.0517340000008, 'Tatenda Taibu': 564.4934726666683, 'Richmond Mutumbami': 0.0, 'Dirk Viljoen': 0.0, 'Piet Rinke': 0.0}\n"
          ],
          "name": "stdout"
        }
      ]
    },
    {
      "cell_type": "code",
      "metadata": {
        "id": "uGQ7vZPZ8_yQ",
        "colab_type": "code",
        "outputId": "580135fe-4002-4d46-9747-7d514e4eb86a",
        "colab": {
          "base_uri": "https://localhost:8080/",
          "height": 255
        }
      },
      "source": [
        "data_items = impact.items()\n",
        "data_list = list(data_items)\n",
        "\n",
        "df = pd.DataFrame(data_list,columns = [\"Name\",\"Points\"])\n",
        "print(df)"
      ],
      "execution_count": 272,
      "outputs": [
        {
          "output_type": "stream",
          "text": [
            "                     Name      Points\n",
            "0             Karim Sadiq    0.000000\n",
            "1    Hashmatullah Shahidi    0.000000\n",
            "2             Rahmat Shah    0.000000\n",
            "3           Asghar Afghan  373.855332\n",
            "4      Samiullah Shinwari    0.000000\n",
            "..                    ...         ...\n",
            "671         Graeme Cremer  241.051734\n",
            "672         Tatenda Taibu  564.493473\n",
            "673    Richmond Mutumbami    0.000000\n",
            "674          Dirk Viljoen    0.000000\n",
            "675            Piet Rinke    0.000000\n",
            "\n",
            "[676 rows x 2 columns]\n"
          ],
          "name": "stdout"
        }
      ]
    },
    {
      "cell_type": "code",
      "metadata": {
        "id": "VEo9ltkoNOHj",
        "colab_type": "code",
        "outputId": "3380f159-51d6-4341-a122-ee88d270c107",
        "colab": {
          "base_uri": "https://localhost:8080/",
          "height": 255
        }
      },
      "source": [
        "df.sort_values(\"Points\", axis = 0, ascending = False, \n",
        "                 inplace = True)\n",
        "df.reset_index(drop=True, inplace=True)\n",
        "print(df)"
      ],
      "execution_count": 273,
      "outputs": [
        {
          "output_type": "stream",
          "text": [
            "                  Name       Points\n",
            "0     Sachin Tendulkar  2881.161028\n",
            "1    Sanath Jayasuriya  2329.254659\n",
            "2     Kumar Sangakkara  2125.326718\n",
            "3      A B de Villiers  2024.126741\n",
            "4           Brian Lara  1869.603415\n",
            "..                 ...          ...\n",
            "671  Bhuvneshwar Kumar     0.000000\n",
            "672         Saba Karim     0.000000\n",
            "673      Chetan Sharma     0.000000\n",
            "674       Vinod Kambli     0.000000\n",
            "675         Piet Rinke     0.000000\n",
            "\n",
            "[676 rows x 2 columns]\n"
          ],
          "name": "stdout"
        }
      ]
    },
    {
      "cell_type": "code",
      "metadata": {
        "id": "T2VaMjfrNOSK",
        "colab_type": "code",
        "outputId": "ba41c61d-3f19-4776-cb6e-9bf11c2b26c0",
        "colab": {
          "base_uri": "https://localhost:8080/",
          "height": 669
        }
      },
      "source": [
        "df.head(20)"
      ],
      "execution_count": 274,
      "outputs": [
        {
          "output_type": "execute_result",
          "data": {
            "text/html": [
              "<div>\n",
              "<style scoped>\n",
              "    .dataframe tbody tr th:only-of-type {\n",
              "        vertical-align: middle;\n",
              "    }\n",
              "\n",
              "    .dataframe tbody tr th {\n",
              "        vertical-align: top;\n",
              "    }\n",
              "\n",
              "    .dataframe thead th {\n",
              "        text-align: right;\n",
              "    }\n",
              "</style>\n",
              "<table border=\"1\" class=\"dataframe\">\n",
              "  <thead>\n",
              "    <tr style=\"text-align: right;\">\n",
              "      <th></th>\n",
              "      <th>Name</th>\n",
              "      <th>Points</th>\n",
              "    </tr>\n",
              "  </thead>\n",
              "  <tbody>\n",
              "    <tr>\n",
              "      <th>0</th>\n",
              "      <td>Sachin Tendulkar</td>\n",
              "      <td>2881.161028</td>\n",
              "    </tr>\n",
              "    <tr>\n",
              "      <th>1</th>\n",
              "      <td>Sanath Jayasuriya</td>\n",
              "      <td>2329.254659</td>\n",
              "    </tr>\n",
              "    <tr>\n",
              "      <th>2</th>\n",
              "      <td>Kumar Sangakkara</td>\n",
              "      <td>2125.326718</td>\n",
              "    </tr>\n",
              "    <tr>\n",
              "      <th>3</th>\n",
              "      <td>A B de Villiers</td>\n",
              "      <td>2024.126741</td>\n",
              "    </tr>\n",
              "    <tr>\n",
              "      <th>4</th>\n",
              "      <td>Brian Lara</td>\n",
              "      <td>1869.603415</td>\n",
              "    </tr>\n",
              "    <tr>\n",
              "      <th>5</th>\n",
              "      <td>Virat Kohli</td>\n",
              "      <td>1844.708499</td>\n",
              "    </tr>\n",
              "    <tr>\n",
              "      <th>6</th>\n",
              "      <td>Michael Hussey</td>\n",
              "      <td>1822.686779</td>\n",
              "    </tr>\n",
              "    <tr>\n",
              "      <th>7</th>\n",
              "      <td>Sir Viv Richards</td>\n",
              "      <td>1801.571607</td>\n",
              "    </tr>\n",
              "    <tr>\n",
              "      <th>8</th>\n",
              "      <td>M S Dhoni</td>\n",
              "      <td>1795.980623</td>\n",
              "    </tr>\n",
              "    <tr>\n",
              "      <th>9</th>\n",
              "      <td>Dean Jones</td>\n",
              "      <td>1773.435736</td>\n",
              "    </tr>\n",
              "    <tr>\n",
              "      <th>10</th>\n",
              "      <td>Jacques Kallis</td>\n",
              "      <td>1746.434505</td>\n",
              "    </tr>\n",
              "    <tr>\n",
              "      <th>11</th>\n",
              "      <td>Ricky Ponting</td>\n",
              "      <td>1726.939341</td>\n",
              "    </tr>\n",
              "    <tr>\n",
              "      <th>12</th>\n",
              "      <td>Mahela Jayawardene</td>\n",
              "      <td>1684.028246</td>\n",
              "    </tr>\n",
              "    <tr>\n",
              "      <th>13</th>\n",
              "      <td>Aravinda de Silva</td>\n",
              "      <td>1670.493444</td>\n",
              "    </tr>\n",
              "    <tr>\n",
              "      <th>14</th>\n",
              "      <td>Chris Gayle</td>\n",
              "      <td>1657.725707</td>\n",
              "    </tr>\n",
              "    <tr>\n",
              "      <th>15</th>\n",
              "      <td>Mohammad Azharuddin</td>\n",
              "      <td>1653.239839</td>\n",
              "    </tr>\n",
              "    <tr>\n",
              "      <th>16</th>\n",
              "      <td>Arjuna Ranatunga</td>\n",
              "      <td>1622.839321</td>\n",
              "    </tr>\n",
              "    <tr>\n",
              "      <th>17</th>\n",
              "      <td>Michael Bevan</td>\n",
              "      <td>1600.849880</td>\n",
              "    </tr>\n",
              "    <tr>\n",
              "      <th>18</th>\n",
              "      <td>Virender Sehwag</td>\n",
              "      <td>1565.119633</td>\n",
              "    </tr>\n",
              "    <tr>\n",
              "      <th>19</th>\n",
              "      <td>Inzamam-ul-Haq</td>\n",
              "      <td>1549.145212</td>\n",
              "    </tr>\n",
              "  </tbody>\n",
              "</table>\n",
              "</div>"
            ],
            "text/plain": [
              "                   Name       Points\n",
              "0      Sachin Tendulkar  2881.161028\n",
              "1     Sanath Jayasuriya  2329.254659\n",
              "2      Kumar Sangakkara  2125.326718\n",
              "3       A B de Villiers  2024.126741\n",
              "4            Brian Lara  1869.603415\n",
              "5           Virat Kohli  1844.708499\n",
              "6        Michael Hussey  1822.686779\n",
              "7      Sir Viv Richards  1801.571607\n",
              "8             M S Dhoni  1795.980623\n",
              "9            Dean Jones  1773.435736\n",
              "10       Jacques Kallis  1746.434505\n",
              "11        Ricky Ponting  1726.939341\n",
              "12   Mahela Jayawardene  1684.028246\n",
              "13    Aravinda de Silva  1670.493444\n",
              "14          Chris Gayle  1657.725707\n",
              "15  Mohammad Azharuddin  1653.239839\n",
              "16     Arjuna Ranatunga  1622.839321\n",
              "17        Michael Bevan  1600.849880\n",
              "18      Virender Sehwag  1565.119633\n",
              "19       Inzamam-ul-Haq  1549.145212"
            ]
          },
          "metadata": {
            "tags": []
          },
          "execution_count": 274
        }
      ]
    },
    {
      "cell_type": "code",
      "metadata": {
        "id": "VpQKR7N6NOim",
        "colab_type": "code",
        "colab": {}
      },
      "source": [
        ""
      ],
      "execution_count": 0,
      "outputs": []
    }
  ]
}