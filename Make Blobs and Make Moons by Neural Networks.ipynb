{
 "cells": [
  {
   "cell_type": "code",
   "execution_count": 3,
   "metadata": {},
   "outputs": [],
   "source": [
    "import numpy as np\n",
    "import matplotlib.pyplot as plt\n",
    "from sklearn.datasets import make_blobs,make_moons\n",
    "#Using the make_moons dataset which is difficult for the likes of k means clustering"
   ]
  },
  {
   "cell_type": "code",
   "execution_count": 4,
   "metadata": {},
   "outputs": [
    {
     "name": "stdout",
     "output_type": "stream",
     "text": [
      "(500, 2) (500,)\n"
     ]
    }
   ],
   "source": [
    "X,Y = make_blobs(n_samples=500, centers=2,n_features=2,random_state=1)\n",
    "print(X.shape,Y.shape)"
   ]
  },
  {
   "cell_type": "code",
   "execution_count": 5,
   "metadata": {},
   "outputs": [],
   "source": [
    "def sigmoid(z):\n",
    "    return (1.0)/(1+np.exp(-z))\n",
    "#Writing the sigmoid function "
   ]
  },
  {
   "cell_type": "code",
   "execution_count": 7,
   "metadata": {},
   "outputs": [],
   "source": [
    "def predict(X,weights):\n",
    "    #X -> mx(n+1) matrix, w -->(nX1,) vector\n",
    "    z = np.dot(X,weights) # z = Xi * wi\n",
    "    predictions = sigmoid(z) # predictions = Putting value of z in sigmoid function\n",
    "    return predictions\n",
    "\n",
    "def loss(X,Y,weights):\n",
    "    #Binary Cross Entropy\n",
    "    y_ = predict(X,weights) #Computing the value of Y\n",
    "    cost = np.mean(-Y*np.log(y_) - (1-Y)*np.log(1-y_)) #Computing the loss for each row and taking the mean\n",
    "    return cost\n",
    "\n",
    "def updateweight(X,Y,weights,learning_rate):\n",
    "    #Perform weight updates for 1 epoch\n",
    "    y_ = predict(X,weights) #Computing the expected value\n",
    "    dw = np.dot(X.T,y_ - Y) #Computing dj/dw\n",
    "    \n",
    "    m = X.shape[0] #Total number\n",
    "    weights = weights - learning_rate*dw/(float(m)) #W = w-learning*(dw/total number of items)\n",
    "    return weights #We will get updated weights\n",
    "\n",
    "def train(X,Y,learning_rate=0.5,maxEpochs=1000):\n",
    "    \n",
    "    #Modify the input to handle the bias term\n",
    "    ones = np.ones((X.shape[0],1)) #To append a column of ones which can be used as bias\n",
    "    X = np.hstack((ones,X)) #Appending to our dataset\n",
    "    \n",
    "    #Init Weights 0\n",
    "    weights = np.zeros(X.shape[1]) #n+1 features including the bias\n",
    "    \n",
    "    \n",
    "    #Iterate over all epochs and make updates\n",
    "    \n",
    "    for epoch in range(maxEpochs):\n",
    "        \n",
    "        weights = updateweight(X,Y,weights,learning_rate) #The weight will keep on updating\n",
    "        \n",
    "        if epoch%5==0:\n",
    "            l = loss(X,Y,weights) #Will compute and show loss for every 5th epoch\n",
    "            print(\"Epoch %d Loss %.6f\"%(epoch,l)) #One space after epoch and will show loss value upto six decimal places\n",
    "    return weights\n",
    "\n",
    "\n"
   ]
  },
  {
   "cell_type": "code",
   "execution_count": 20,
   "metadata": {},
   "outputs": [
    {
     "name": "stdout",
     "output_type": "stream",
     "text": [
      "Epoch 0 Loss 0.047046\n",
      "Epoch 5 Loss 0.016685\n",
      "Epoch 10 Loss 0.010001\n",
      "Epoch 15 Loss 0.007059\n",
      "Epoch 20 Loss 0.005427\n",
      "Epoch 25 Loss 0.004398\n",
      "Epoch 30 Loss 0.003694\n",
      "Epoch 35 Loss 0.003185\n",
      "Epoch 40 Loss 0.002800\n",
      "Epoch 45 Loss 0.002499\n",
      "Epoch 50 Loss 0.002258\n",
      "Epoch 55 Loss 0.002060\n",
      "Epoch 60 Loss 0.001895\n",
      "Epoch 65 Loss 0.001755\n",
      "Epoch 70 Loss 0.001636\n",
      "Epoch 75 Loss 0.001532\n",
      "Epoch 80 Loss 0.001442\n",
      "Epoch 85 Loss 0.001362\n",
      "Epoch 90 Loss 0.001291\n",
      "Epoch 95 Loss 0.001227\n",
      "Epoch 100 Loss 0.001170\n",
      "Epoch 105 Loss 0.001119\n",
      "Epoch 110 Loss 0.001072\n",
      "Epoch 115 Loss 0.001029\n",
      "Epoch 120 Loss 0.000990\n",
      "Epoch 125 Loss 0.000954\n",
      "Epoch 130 Loss 0.000921\n",
      "Epoch 135 Loss 0.000890\n",
      "Epoch 140 Loss 0.000862\n",
      "Epoch 145 Loss 0.000835\n",
      "Epoch 150 Loss 0.000811\n",
      "Epoch 155 Loss 0.000788\n",
      "Epoch 160 Loss 0.000766\n",
      "Epoch 165 Loss 0.000746\n",
      "Epoch 170 Loss 0.000727\n",
      "Epoch 175 Loss 0.000710\n",
      "Epoch 180 Loss 0.000693\n",
      "Epoch 185 Loss 0.000677\n",
      "Epoch 190 Loss 0.000662\n",
      "Epoch 195 Loss 0.000648\n",
      "Epoch 200 Loss 0.000634\n",
      "Epoch 205 Loss 0.000622\n",
      "Epoch 210 Loss 0.000610\n",
      "Epoch 215 Loss 0.000598\n",
      "Epoch 220 Loss 0.000587\n",
      "Epoch 225 Loss 0.000577\n",
      "Epoch 230 Loss 0.000567\n",
      "Epoch 235 Loss 0.000557\n",
      "Epoch 240 Loss 0.000548\n",
      "Epoch 245 Loss 0.000540\n",
      "Epoch 250 Loss 0.000531\n",
      "Epoch 255 Loss 0.000523\n",
      "Epoch 260 Loss 0.000516\n",
      "Epoch 265 Loss 0.000508\n",
      "Epoch 270 Loss 0.000501\n",
      "Epoch 275 Loss 0.000495\n",
      "Epoch 280 Loss 0.000488\n",
      "Epoch 285 Loss 0.000482\n",
      "Epoch 290 Loss 0.000476\n",
      "Epoch 295 Loss 0.000470\n",
      "Epoch 300 Loss 0.000465\n",
      "Epoch 305 Loss 0.000459\n",
      "Epoch 310 Loss 0.000454\n",
      "Epoch 315 Loss 0.000449\n",
      "Epoch 320 Loss 0.000444\n",
      "Epoch 325 Loss 0.000440\n",
      "Epoch 330 Loss 0.000435\n",
      "Epoch 335 Loss 0.000431\n",
      "Epoch 340 Loss 0.000426\n",
      "Epoch 345 Loss 0.000422\n",
      "Epoch 350 Loss 0.000418\n",
      "Epoch 355 Loss 0.000414\n",
      "Epoch 360 Loss 0.000411\n",
      "Epoch 365 Loss 0.000407\n",
      "Epoch 370 Loss 0.000404\n",
      "Epoch 375 Loss 0.000400\n",
      "Epoch 380 Loss 0.000397\n",
      "Epoch 385 Loss 0.000393\n",
      "Epoch 390 Loss 0.000390\n",
      "Epoch 395 Loss 0.000387\n",
      "Epoch 400 Loss 0.000384\n",
      "Epoch 405 Loss 0.000381\n",
      "Epoch 410 Loss 0.000378\n",
      "Epoch 415 Loss 0.000376\n",
      "Epoch 420 Loss 0.000373\n",
      "Epoch 425 Loss 0.000370\n",
      "Epoch 430 Loss 0.000368\n",
      "Epoch 435 Loss 0.000365\n",
      "Epoch 440 Loss 0.000363\n",
      "Epoch 445 Loss 0.000360\n",
      "Epoch 450 Loss 0.000358\n",
      "Epoch 455 Loss 0.000355\n",
      "Epoch 460 Loss 0.000353\n",
      "Epoch 465 Loss 0.000351\n",
      "Epoch 470 Loss 0.000349\n",
      "Epoch 475 Loss 0.000346\n",
      "Epoch 480 Loss 0.000344\n",
      "Epoch 485 Loss 0.000342\n",
      "Epoch 490 Loss 0.000340\n",
      "Epoch 495 Loss 0.000338\n"
     ]
    }
   ],
   "source": [
    "weights = train(X,Y,learning_rate=0.6,maxEpochs = 500)"
   ]
  },
  {
   "cell_type": "raw",
   "metadata": {},
   "source": []
  },
  {
   "cell_type": "code",
   "execution_count": 19,
   "metadata": {},
   "outputs": [],
   "source": [
    "def getPredictions(X_Test,weights,labels=True):\n",
    "    if X_Test.shape[1] != weights.shape[0]:\n",
    "        ones = np.ones((X_Test.shape[0],1)) #Take for bias\n",
    "        X_Test = np.hstack((ones,X_Test)) #Same number of features as weights and bias\n",
    "\n",
    "    probs = predict(X_Test,weights) #Will give a prediction\n",
    "    \n",
    "    if not labels: #If we don't want labels it will return a list of probabilities\n",
    "        return probs\n",
    "    else:\n",
    "        labels = np.zeros(probs.shape)\n",
    "        labels[probs>=0.5] = 1\n",
    "        return labels"
   ]
  },
  {
   "cell_type": "code",
   "execution_count": 23,
   "metadata": {},
   "outputs": [],
   "source": [
    "x1 = np.linspace(-12,2,10) #Will draw a line from -2 to 2 with 10 different data points\n",
    "x2 = -(weights[0] + weights[1]*x1)/weights[2] #Simply equation of line"
   ]
  },
  {
   "cell_type": "code",
   "execution_count": 24,
   "metadata": {},
   "outputs": [
    {
     "data": {
      "image/png": "[encoded data removed]",
      "text/plain": [
       "<Figure size 432x288 with 1 Axes>"
      ]
     },
     "metadata": {},
     "output_type": "display_data"
    }
   ],
   "source": [
    "plt.scatter(X[:,0],X[:,1],c=Y) #Plot all the points\n",
    "plt.plot(x1,x2,c='red') #Draw the line\n",
    "plt.show()"
   ]
  },
  {
   "cell_type": "code",
   "execution_count": 27,
   "metadata": {},
   "outputs": [
    {
     "name": "stdout",
     "output_type": "stream",
     "text": [
      "100.0\n"
     ]
    }
   ],
   "source": [
    "# Find the accuracy!\n",
    "y_ = getPredictions(X,weights,labels=True)\n",
    "accuracy = np.sum(y_==Y)/Y.shape[0]\n",
    "print(accuracy*100)"
   ]
  },
  {
   "cell_type": "code",
   "execution_count": 28,
   "metadata": {},
   "outputs": [],
   "source": [
    "#So let's take more complicated dataset and check performance in that\n",
    "x,y = make_moons(n_samples=1000, shuffle=True, noise=0.2, random_state=1)"
   ]
  },
  {
   "cell_type": "code",
   "execution_count": 29,
   "metadata": {},
   "outputs": [],
   "source": [
    "def sigmoid(z):\n",
    "    return (1.0)/(1+np.exp(-z))\n",
    "#Writing the sigmoid function \n"
   ]
  },
  {
   "cell_type": "code",
   "execution_count": 30,
   "metadata": {},
   "outputs": [],
   "source": [
    "def predict(X,weights):\n",
    "    #X -> mx(n+1) matrix, w -->(nX1,) vector\n",
    "    z = np.dot(X,weights) # z = Xi * wi\n",
    "    predictions = sigmoid(z) # predictions = Putting value of z in sigmoid function\n",
    "    return predictions\n",
    "\n",
    "def loss(X,Y,weights):\n",
    "    #Binary Cross Entropy\n",
    "    y_ = predict(X,weights) #Computing the value of Y\n",
    "    cost = np.mean(-Y*np.log(y_) - (1-Y)*np.log(1-y_)) #Computing the loss for each row and taking the mean\n",
    "    return cost\n",
    "\n",
    "def updateweight(X,Y,weights,learning_rate):\n",
    "    #Perform weight updates for 1 epoch\n",
    "    y_ = predict(X,weights) #Computing the expected value\n",
    "    dw = np.dot(X.T,y_ - Y) #Computing dj/dw\n",
    "    \n",
    "    m = X.shape[0] #Total number\n",
    "    weights = weights - learning_rate*dw/(float(m)) #W = w-learning*(dw/total number of items)\n",
    "    return weights #We will get updated weights\n",
    "\n",
    "def train(X,Y,learning_rate=0.5,maxEpochs=1000):\n",
    "    \n",
    "    #Modify the input to handle the bias term\n",
    "    ones = np.ones((X.shape[0],1)) #To append a column of ones which can be used as bias\n",
    "    X = np.hstack((ones,X)) #Appending to our dataset\n",
    "    \n",
    "    #Init Weights 0\n",
    "    weights = np.zeros(X.shape[1]) #n+1 features including the bias\n",
    "    \n",
    "    \n",
    "    #Iterate over all epochs and make updates\n",
    "    \n",
    "    for epoch in range(maxEpochs):\n",
    "        \n",
    "        weights = updateweight(X,Y,weights,learning_rate) #The weight will keep on updating\n",
    "        \n",
    "        if epoch%5==0:\n",
    "            l = loss(X,Y,weights) #Will compute and show loss for every 5th epoch\n",
    "            print(\"Epoch %d Loss %.6f\"%(epoch,l)) #One space after epoch and will show loss value upto six decimal places\n",
    "    return weights\n"
   ]
  },
  {
   "cell_type": "code",
   "execution_count": 31,
   "metadata": {},
   "outputs": [
    {
     "name": "stdout",
     "output_type": "stream",
     "text": [
      "Epoch 0 Loss 0.047046\n",
      "Epoch 5 Loss 0.016685\n",
      "Epoch 10 Loss 0.010001\n",
      "Epoch 15 Loss 0.007059\n",
      "Epoch 20 Loss 0.005427\n",
      "Epoch 25 Loss 0.004398\n",
      "Epoch 30 Loss 0.003694\n",
      "Epoch 35 Loss 0.003185\n",
      "Epoch 40 Loss 0.002800\n",
      "Epoch 45 Loss 0.002499\n",
      "Epoch 50 Loss 0.002258\n",
      "Epoch 55 Loss 0.002060\n",
      "Epoch 60 Loss 0.001895\n",
      "Epoch 65 Loss 0.001755\n",
      "Epoch 70 Loss 0.001636\n",
      "Epoch 75 Loss 0.001532\n",
      "Epoch 80 Loss 0.001442\n",
      "Epoch 85 Loss 0.001362\n",
      "Epoch 90 Loss 0.001291\n",
      "Epoch 95 Loss 0.001227\n",
      "Epoch 100 Loss 0.001170\n",
      "Epoch 105 Loss 0.001119\n",
      "Epoch 110 Loss 0.001072\n",
      "Epoch 115 Loss 0.001029\n",
      "Epoch 120 Loss 0.000990\n",
      "Epoch 125 Loss 0.000954\n",
      "Epoch 130 Loss 0.000921\n",
      "Epoch 135 Loss 0.000890\n",
      "Epoch 140 Loss 0.000862\n",
      "Epoch 145 Loss 0.000835\n",
      "Epoch 150 Loss 0.000811\n",
      "Epoch 155 Loss 0.000788\n",
      "Epoch 160 Loss 0.000766\n",
      "Epoch 165 Loss 0.000746\n",
      "Epoch 170 Loss 0.000727\n",
      "Epoch 175 Loss 0.000710\n",
      "Epoch 180 Loss 0.000693\n",
      "Epoch 185 Loss 0.000677\n",
      "Epoch 190 Loss 0.000662\n",
      "Epoch 195 Loss 0.000648\n",
      "Epoch 200 Loss 0.000634\n",
      "Epoch 205 Loss 0.000622\n",
      "Epoch 210 Loss 0.000610\n",
      "Epoch 215 Loss 0.000598\n",
      "Epoch 220 Loss 0.000587\n",
      "Epoch 225 Loss 0.000577\n",
      "Epoch 230 Loss 0.000567\n",
      "Epoch 235 Loss 0.000557\n",
      "Epoch 240 Loss 0.000548\n",
      "Epoch 245 Loss 0.000540\n",
      "Epoch 250 Loss 0.000531\n",
      "Epoch 255 Loss 0.000523\n",
      "Epoch 260 Loss 0.000516\n",
      "Epoch 265 Loss 0.000508\n",
      "Epoch 270 Loss 0.000501\n",
      "Epoch 275 Loss 0.000495\n",
      "Epoch 280 Loss 0.000488\n",
      "Epoch 285 Loss 0.000482\n",
      "Epoch 290 Loss 0.000476\n",
      "Epoch 295 Loss 0.000470\n",
      "Epoch 300 Loss 0.000465\n",
      "Epoch 305 Loss 0.000459\n",
      "Epoch 310 Loss 0.000454\n",
      "Epoch 315 Loss 0.000449\n",
      "Epoch 320 Loss 0.000444\n",
      "Epoch 325 Loss 0.000440\n",
      "Epoch 330 Loss 0.000435\n",
      "Epoch 335 Loss 0.000431\n",
      "Epoch 340 Loss 0.000426\n",
      "Epoch 345 Loss 0.000422\n",
      "Epoch 350 Loss 0.000418\n",
      "Epoch 355 Loss 0.000414\n",
      "Epoch 360 Loss 0.000411\n",
      "Epoch 365 Loss 0.000407\n",
      "Epoch 370 Loss 0.000404\n",
      "Epoch 375 Loss 0.000400\n",
      "Epoch 380 Loss 0.000397\n",
      "Epoch 385 Loss 0.000393\n",
      "Epoch 390 Loss 0.000390\n",
      "Epoch 395 Loss 0.000387\n",
      "Epoch 400 Loss 0.000384\n",
      "Epoch 405 Loss 0.000381\n",
      "Epoch 410 Loss 0.000378\n",
      "Epoch 415 Loss 0.000376\n",
      "Epoch 420 Loss 0.000373\n",
      "Epoch 425 Loss 0.000370\n",
      "Epoch 430 Loss 0.000368\n",
      "Epoch 435 Loss 0.000365\n",
      "Epoch 440 Loss 0.000363\n",
      "Epoch 445 Loss 0.000360\n",
      "Epoch 450 Loss 0.000358\n",
      "Epoch 455 Loss 0.000355\n",
      "Epoch 460 Loss 0.000353\n",
      "Epoch 465 Loss 0.000351\n",
      "Epoch 470 Loss 0.000349\n",
      "Epoch 475 Loss 0.000346\n",
      "Epoch 480 Loss 0.000344\n",
      "Epoch 485 Loss 0.000342\n",
      "Epoch 490 Loss 0.000340\n",
      "Epoch 495 Loss 0.000338\n"
     ]
    }
   ],
   "source": [
    "Weights = train(X,Y,learning_rate=0.6,maxEpochs = 500)"
   ]
  },
  {
   "cell_type": "code",
   "execution_count": 32,
   "metadata": {},
   "outputs": [],
   "source": [
    "def getPredictions(X_Test,weights,labels=True):\n",
    "    if X_Test.shape[1] != weights.shape[0]:\n",
    "        ones = np.ones((X_Test.shape[0],1)) #Take for bias\n",
    "        X_Test = np.hstack((ones,X_Test)) #Same number of features as weights and bias\n",
    "\n",
    "    probs = predict(X_Test,weights) #Will give a prediction\n",
    "    \n",
    "    if not labels: #If we don't want labels it will return a list of probabilities\n",
    "        return probs\n",
    "    else:\n",
    "        labels = np.zeros(probs.shape)\n",
    "        labels[probs>=0.5] = 1\n",
    "        return labels"
   ]
  },
  {
   "cell_type": "code",
   "execution_count": 35,
   "metadata": {},
   "outputs": [],
   "source": [
    "X1 = np.linspace(-2,2,10) #Will draw a line from -2 to 2 with 10 different data points\n",
    "X2 = -(Weights[0] + Weights[1]*x1)/Weights[2] #Simply equation of line"
   ]
  },
  {
   "cell_type": "code",
   "execution_count": 36,
   "metadata": {},
   "outputs": [
    {
     "data": {
      "image/png": "[encoded data removed]",
      "text/plain": [
       "<Figure size 432x288 with 1 Axes>"
      ]
     },
     "metadata": {},
     "output_type": "display_data"
    }
   ],
   "source": [
    "plt.scatter(x[:,0],x[:,1],c=y) #Plot all the points\n",
    "plt.plot(X1,X2,c='red') #Draw the line\n",
    "plt.show()"
   ]
  },
  {
   "cell_type": "code",
   "execution_count": 37,
   "metadata": {},
   "outputs": [
    {
     "name": "stdout",
     "output_type": "stream",
     "text": [
      "65.60000000000001\n"
     ]
    }
   ],
   "source": [
    "# Find the accuracy!\n",
    "y_ = getPredictions(x,Weights,labels=True)\n",
    "accuracy = np.sum(y_==y)/y.shape[0]\n",
    "print(accuracy*100)"
   ]
  },
  {
   "cell_type": "code",
   "execution_count": null,
   "metadata": {},
   "outputs": [],
   "source": []
  }
 ],
 "metadata": {
  "kernelspec": {
   "display_name": "Python 3",
   "language": "python",
   "name": "python3"
  },
  "language_info": {
   "codemirror_mode": {
    "name": "ipython",
    "version": 3
   },
   "file_extension": ".py",
   "mimetype": "text/x-python",
   "name": "python",
   "nbconvert_exporter": "python",
   "pygments_lexer": "ipython3",
   "version": "3.6.5"
  }
 },
 "nbformat": 4,
 "nbformat_minor": 2
}
