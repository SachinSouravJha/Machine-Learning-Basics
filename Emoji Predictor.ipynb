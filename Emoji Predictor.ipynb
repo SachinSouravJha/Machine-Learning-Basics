{
 "cells": [
  {
   "cell_type": "code",
   "execution_count": 1,
   "metadata": {},
   "outputs": [
    {
     "name": "stdout",
     "output_type": "stream",
     "text": [
      "Requirement already satisfied: emoji in c:\\users\\sachin sourav jha\\anaconda3\\envs\\antonioenv\\lib\\site-packages (0.5.4)\n"
     ]
    }
   ],
   "source": [
    "!pip install emoji"
   ]
  },
  {
   "cell_type": "code",
   "execution_count": 2,
   "metadata": {},
   "outputs": [],
   "source": [
    "import emoji as emoji #Importing the emoji the library which has certain emojis for certain text"
   ]
  },
  {
   "cell_type": "code",
   "execution_count": 3,
   "metadata": {},
   "outputs": [],
   "source": [
    "\n",
    "emoji_dictionary = {\"0\": \"\\u2764\\uFE0F\",    # :heart: prints a black instead of red heart depending on the font\n",
    "                    \"1\": \":baseball:\",\n",
    "                    \"2\": \":beaming_face_with_smiling_eyes:\",\n",
    "                    \"3\": \":downcast_face_with_sweat:\",\n",
    "                    \"4\": \":fork_and_knife:\",\n",
    "                   }\n",
    "#Only these are present in dictionary so we created labels for the emojis"
   ]
  },
  {
   "cell_type": "code",
   "execution_count": 4,
   "metadata": {},
   "outputs": [
    {
     "data": {
      "text/plain": [
       "'😓'"
      ]
     },
     "execution_count": 4,
     "metadata": {},
     "output_type": "execute_result"
    }
   ],
   "source": [
    "emoji.emojize(\":downcast_face_with_sweat:\") #Testing the function"
   ]
  },
  {
   "cell_type": "code",
   "execution_count": 5,
   "metadata": {},
   "outputs": [
    {
     "name": "stdout",
     "output_type": "stream",
     "text": [
      "❤️\n",
      "⚾\n",
      "😁\n",
      "😓\n",
      "🍴\n"
     ]
    }
   ],
   "source": [
    "for e in emoji_dictionary.values(): #Printing all the emojis\n",
    "    print(emoji.emojize(e))"
   ]
  },
  {
   "cell_type": "code",
   "execution_count": 6,
   "metadata": {},
   "outputs": [],
   "source": [
    "import numpy as np\n",
    "import pandas as pd\n",
    "train = pd.read_csv('train_emoji.csv',header=None) #Downloading train and test data\n",
    "test = pd.read_csv('test_emoji.csv',header=None)"
   ]
  },
  {
   "cell_type": "code",
   "execution_count": 7,
   "metadata": {},
   "outputs": [
    {
     "data": {
      "text/html": [
       "<div>\n",
       "<style scoped>\n",
       "    .dataframe tbody tr th:only-of-type {\n",
       "        vertical-align: middle;\n",
       "    }\n",
       "\n",
       "    .dataframe tbody tr th {\n",
       "        vertical-align: top;\n",
       "    }\n",
       "\n",
       "    .dataframe thead th {\n",
       "        text-align: right;\n",
       "    }\n",
       "</style>\n",
       "<table border=\"1\" class=\"dataframe\">\n",
       "  <thead>\n",
       "    <tr style=\"text-align: right;\">\n",
       "      <th></th>\n",
       "      <th>0</th>\n",
       "      <th>1</th>\n",
       "      <th>2</th>\n",
       "      <th>3</th>\n",
       "    </tr>\n",
       "  </thead>\n",
       "  <tbody>\n",
       "    <tr>\n",
       "      <th>0</th>\n",
       "      <td>never talk to me again</td>\n",
       "      <td>3</td>\n",
       "      <td>NaN</td>\n",
       "      <td>NaN</td>\n",
       "    </tr>\n",
       "    <tr>\n",
       "      <th>1</th>\n",
       "      <td>I am proud of your achievements</td>\n",
       "      <td>2</td>\n",
       "      <td>NaN</td>\n",
       "      <td>NaN</td>\n",
       "    </tr>\n",
       "    <tr>\n",
       "      <th>2</th>\n",
       "      <td>It is the worst day in my life</td>\n",
       "      <td>3</td>\n",
       "      <td>NaN</td>\n",
       "      <td>NaN</td>\n",
       "    </tr>\n",
       "    <tr>\n",
       "      <th>3</th>\n",
       "      <td>Miss you so much</td>\n",
       "      <td>0</td>\n",
       "      <td>NaN</td>\n",
       "      <td>[0]</td>\n",
       "    </tr>\n",
       "    <tr>\n",
       "      <th>4</th>\n",
       "      <td>food is life</td>\n",
       "      <td>4</td>\n",
       "      <td>NaN</td>\n",
       "      <td>NaN</td>\n",
       "    </tr>\n",
       "  </tbody>\n",
       "</table>\n",
       "</div>"
      ],
      "text/plain": [
       "                                 0  1   2     3\n",
       "0           never talk to me again  3 NaN   NaN\n",
       "1  I am proud of your achievements  2 NaN   NaN\n",
       "2   It is the worst day in my life  3 NaN   NaN\n",
       "3                 Miss you so much  0 NaN   [0]\n",
       "4                     food is life  4 NaN   NaN"
      ]
     },
     "execution_count": 7,
     "metadata": {},
     "output_type": "execute_result"
    }
   ],
   "source": [
    "train.head()\n",
    "#We can see only 0 and first column is useful"
   ]
  },
  {
   "cell_type": "code",
   "execution_count": 8,
   "metadata": {},
   "outputs": [
    {
     "name": "stdout",
     "output_type": "stream",
     "text": [
      "never talk to me again 😓\n",
      "I am proud of your achievements 😁\n",
      "It is the worst day in my life 😓\n",
      "Miss you so much ❤️\n",
      "food is life 🍴\n",
      "I love you mum ❤️\n",
      "Stop saying bullshit 😓\n",
      "congratulations on your acceptance 😁\n",
      "The assignment is too long  😓\n",
      "I want to go play ⚾\n"
     ]
    }
   ],
   "source": [
    "data = train.values\n",
    "for i in range(10): #First 10 rows\n",
    "    print(data[i][0],emoji.emojize(emoji_dictionary[str(data[i][1])])) #Will check each row\n",
    "    #The first column of each row will be printed\n",
    "    #Then second column has a label which has some string attached to it, which when used in a function gives us a emoji"
   ]
  },
  {
   "cell_type": "code",
   "execution_count": 11,
   "metadata": {},
   "outputs": [],
   "source": [
    "f = open('glove.6B.50d.txt',encoding='utf-8')\n",
    "#Taking the file"
   ]
  },
  {
   "cell_type": "code",
   "execution_count": 12,
   "metadata": {},
   "outputs": [],
   "source": [
    "embeddings = {}\n",
    "for line in f:\n",
    "        values = line.split()\n",
    "        word = values[0]\n",
    "        coeffs = np.asarray(values[1:],dtype='float32')\n",
    "\n",
    "        embeddings[word] = coeffs\n",
    "f.close()\n",
    "#We got 6 billion words and their coefficients in our dictionary"
   ]
  },
  {
   "cell_type": "code",
   "execution_count": 13,
   "metadata": {},
   "outputs": [],
   "source": [
    "def getOutputEmbeddings(X):\n",
    "    \n",
    "    embedding_matrix_output = np.zeros((X.shape[0],10,50)) #Create three dimensional matrix\n",
    "    #There are same number of rows as number of inputs\n",
    "    #Maximum length of each sentence is 10 so we will store 10\n",
    "    #Then for each word we will store their 50 embeddings\n",
    "    \n",
    "    for ix in range(X.shape[0]):\n",
    "        \n",
    "        X[ix] = X[ix].split()\n",
    "        #All words\n",
    "        for jx in range(len(X[ix])):\n",
    "            embedding_matrix_output[ix][jx] = embeddings[X[ix][jx].lower()]\n",
    "            #For words for which embeddings are there we will post them\n",
    "            \n",
    "    return embedding_matrix_output"
   ]
  },
  {
   "cell_type": "code",
   "execution_count": 10,
   "metadata": {},
   "outputs": [
    {
     "name": "stderr",
     "output_type": "stream",
     "text": [
      "Using TensorFlow backend.\n"
     ]
    },
    {
     "name": "stdout",
     "output_type": "stream",
     "text": [
      "(132,)\n",
      "(56,)\n",
      "(132, 5)\n",
      "(56, 5)\n"
     ]
    }
   ],
   "source": [
    "from keras.utils import to_categorical\n",
    "\n",
    "XT = train[0] #Will take all the setences\n",
    "Xt = test[0] #Test set sentences\n",
    "\n",
    "YT = to_categorical(train[1]) #Convert labels into hot encoder\n",
    "Yt = to_categorical(test[1])\n",
    "\n",
    "\n",
    "print(XT.shape)\n",
    "print(Xt.shape)\n",
    "print(YT.shape)\n",
    "print(Yt.shape)"
   ]
  },
  {
   "cell_type": "code",
   "execution_count": 14,
   "metadata": {},
   "outputs": [
    {
     "name": "stderr",
     "output_type": "stream",
     "text": [
      "C:\\Users\\Sachin Sourav Jha\\Anaconda3\\envs\\AntonioEnv\\lib\\site-packages\\ipykernel_launcher.py:10: SettingWithCopyWarning: \n",
      "A value is trying to be set on a copy of a slice from a DataFrame\n",
      "\n",
      "See the caveats in the documentation: https://pandas.pydata.org/pandas-docs/stable/user_guide/indexing.html#returning-a-view-versus-a-copy\n",
      "  # Remove the CWD from sys.path while we load stuff.\n"
     ]
    }
   ],
   "source": [
    "emb_XT = getOutputEmbeddings(XT)#For training\n",
    "emb_Xt = getOutputEmbeddings(Xt) #For test"
   ]
  },
  {
   "cell_type": "code",
   "execution_count": 17,
   "metadata": {},
   "outputs": [
    {
     "name": "stdout",
     "output_type": "stream",
     "text": [
      "(132, 10, 50)\n",
      "(56, 10, 50)\n"
     ]
    }
   ],
   "source": [
    "print(emb_XT.shape)\n",
    "print(emb_Xt.shape)"
   ]
  },
  {
   "cell_type": "code",
   "execution_count": 18,
   "metadata": {},
   "outputs": [],
   "source": [
    "from keras.layers import * #All the layers\n",
    "from keras.models import Sequential"
   ]
  },
  {
   "cell_type": "code",
   "execution_count": 28,
   "metadata": {},
   "outputs": [
    {
     "name": "stdout",
     "output_type": "stream",
     "text": [
      "_________________________________________________________________\n",
      "Layer (type)                 Output Shape              Param #   \n",
      "=================================================================\n",
      "lstm_5 (LSTM)                (None, 10, 64)            29440     \n",
      "_________________________________________________________________\n",
      "dropout_5 (Dropout)          (None, 10, 64)            0         \n",
      "_________________________________________________________________\n",
      "lstm_6 (LSTM)                (None, 64)                33024     \n",
      "_________________________________________________________________\n",
      "dropout_6 (Dropout)          (None, 64)                0         \n",
      "_________________________________________________________________\n",
      "dense_3 (Dense)              (None, 5)                 325       \n",
      "_________________________________________________________________\n",
      "activation_3 (Activation)    (None, 5)                 0         \n",
      "=================================================================\n",
      "Total params: 62,789\n",
      "Trainable params: 62,789\n",
      "Non-trainable params: 0\n",
      "_________________________________________________________________\n"
     ]
    }
   ],
   "source": [
    "model = Sequential() #We will do sequentially\n",
    "model.add(LSTM(64,input_shape=(10,50),return_sequences=True)) #We will take input and give 64 neurons\n",
    "#Return_Sequences being true ensures that we get an output which can be input for another LSTM layer\n",
    "model.add(Dropout(0.4)) #For saving overfitting\n",
    "model.add(LSTM(64,input_shape=(10,50))) #Then putting it in second LSTM, which is known as stacked LSTM\n",
    "model.add(Dropout(0.3))\n",
    "model.add(Dense(5)) #We have give different emojis so we use this \n",
    "model.add(Activation('softmax'))\n",
    "model.summary()\n"
   ]
  },
  {
   "cell_type": "code",
   "execution_count": 29,
   "metadata": {},
   "outputs": [],
   "source": [
    "model.compile(optimizer='adam',loss='categorical_crossentropy',metrics=['acc'])"
   ]
  },
  {
   "cell_type": "code",
   "execution_count": 30,
   "metadata": {},
   "outputs": [
    {
     "name": "stdout",
     "output_type": "stream",
     "text": [
      "Train on 118 samples, validate on 14 samples\n",
      "Epoch 1/40\n",
      "118/118 [==============================] - 2s 18ms/step - loss: 1.5666 - acc: 0.3136 - val_loss: 1.6055 - val_acc: 0.2857\n",
      "Epoch 2/40\n",
      "118/118 [==============================] - 0s 653us/step - loss: 1.5038 - acc: 0.3051 - val_loss: 1.6393 - val_acc: 0.3571\n",
      "Epoch 3/40\n",
      "118/118 [==============================] - 0s 600us/step - loss: 1.4860 - acc: 0.2966 - val_loss: 1.6606 - val_acc: 0.2857\n",
      "Epoch 4/40\n",
      "118/118 [==============================] - 0s 684us/step - loss: 1.4413 - acc: 0.4322 - val_loss: 1.6177 - val_acc: 0.2143\n",
      "Epoch 5/40\n",
      "118/118 [==============================] - 0s 579us/step - loss: 1.4038 - acc: 0.4322 - val_loss: 1.5501 - val_acc: 0.2857\n",
      "Epoch 6/40\n",
      "118/118 [==============================] - 0s 651us/step - loss: 1.3255 - acc: 0.5508 - val_loss: 1.4820 - val_acc: 0.2857\n",
      "Epoch 7/40\n",
      "118/118 [==============================] - 0s 657us/step - loss: 1.2479 - acc: 0.5932 - val_loss: 1.4126 - val_acc: 0.3571\n",
      "Epoch 8/40\n",
      "118/118 [==============================] - 0s 729us/step - loss: 1.1730 - acc: 0.6102 - val_loss: 1.3737 - val_acc: 0.3571\n",
      "Epoch 9/40\n",
      "118/118 [==============================] - 0s 731us/step - loss: 1.0357 - acc: 0.7119 - val_loss: 1.3095 - val_acc: 0.6429\n",
      "Epoch 10/40\n",
      "118/118 [==============================] - 0s 702us/step - loss: 0.9539 - acc: 0.7373 - val_loss: 1.1927 - val_acc: 0.5000\n",
      "Epoch 11/40\n",
      "118/118 [==============================] - 0s 718us/step - loss: 0.8388 - acc: 0.7288 - val_loss: 1.3244 - val_acc: 0.4286\n",
      "Epoch 12/40\n",
      "118/118 [==============================] - 0s 659us/step - loss: 0.7249 - acc: 0.7712 - val_loss: 1.2529 - val_acc: 0.5714\n",
      "Epoch 13/40\n",
      "118/118 [==============================] - 0s 625us/step - loss: 0.6834 - acc: 0.8136 - val_loss: 1.1645 - val_acc: 0.5000\n",
      "Epoch 14/40\n",
      "118/118 [==============================] - 0s 635us/step - loss: 0.6106 - acc: 0.8051 - val_loss: 0.9829 - val_acc: 0.5714\n",
      "Epoch 15/40\n",
      "118/118 [==============================] - 0s 713us/step - loss: 0.4905 - acc: 0.8475 - val_loss: 1.2476 - val_acc: 0.5714\n",
      "Epoch 16/40\n",
      "118/118 [==============================] - 0s 625us/step - loss: 0.4705 - acc: 0.8644 - val_loss: 1.0437 - val_acc: 0.6429\n",
      "Epoch 17/40\n",
      "118/118 [==============================] - 0s 642us/step - loss: 0.4463 - acc: 0.8390 - val_loss: 0.8320 - val_acc: 0.6429\n",
      "Epoch 18/40\n",
      "118/118 [==============================] - 0s 651us/step - loss: 0.4629 - acc: 0.8390 - val_loss: 1.1389 - val_acc: 0.5714\n",
      "Epoch 19/40\n",
      "118/118 [==============================] - 0s 744us/step - loss: 0.3663 - acc: 0.8729 - val_loss: 0.9955 - val_acc: 0.6429\n",
      "Epoch 20/40\n",
      "118/118 [==============================] - 0s 651us/step - loss: 0.2699 - acc: 0.9068 - val_loss: 1.2814 - val_acc: 0.6429\n",
      "Epoch 21/40\n",
      "118/118 [==============================] - 0s 625us/step - loss: 0.2695 - acc: 0.9068 - val_loss: 1.1468 - val_acc: 0.5714\n",
      "Epoch 22/40\n",
      "118/118 [==============================] - 0s 710us/step - loss: 0.2435 - acc: 0.9237 - val_loss: 1.0903 - val_acc: 0.5714\n",
      "Epoch 23/40\n",
      "118/118 [==============================] - 0s 642us/step - loss: 0.2470 - acc: 0.9153 - val_loss: 1.2386 - val_acc: 0.6429\n",
      "Epoch 24/40\n",
      "118/118 [==============================] - 0s 642us/step - loss: 0.2312 - acc: 0.9237 - val_loss: 1.0774 - val_acc: 0.6429\n",
      "Epoch 25/40\n",
      "118/118 [==============================] - 0s 642us/step - loss: 0.1799 - acc: 0.9492 - val_loss: 1.6268 - val_acc: 0.5714\n",
      "Epoch 26/40\n",
      "118/118 [==============================] - 0s 651us/step - loss: 0.2671 - acc: 0.8898 - val_loss: 0.9638 - val_acc: 0.7857\n",
      "Epoch 27/40\n",
      "118/118 [==============================] - 0s 642us/step - loss: 0.2914 - acc: 0.8814 - val_loss: 1.0054 - val_acc: 0.7143\n",
      "Epoch 28/40\n",
      "118/118 [==============================] - 0s 634us/step - loss: 0.1304 - acc: 0.9746 - val_loss: 1.5823 - val_acc: 0.5714\n",
      "Epoch 29/40\n",
      "118/118 [==============================] - 0s 668us/step - loss: 0.1957 - acc: 0.9237 - val_loss: 1.3044 - val_acc: 0.6429\n",
      "Epoch 30/40\n",
      "118/118 [==============================] - 0s 659us/step - loss: 0.1341 - acc: 0.9576 - val_loss: 1.0001 - val_acc: 0.7857\n",
      "Epoch 31/40\n",
      "118/118 [==============================] - 0s 651us/step - loss: 0.1525 - acc: 0.9492 - val_loss: 1.0938 - val_acc: 0.6429\n",
      "Epoch 32/40\n",
      "118/118 [==============================] - 0s 778us/step - loss: 0.1221 - acc: 0.9492 - val_loss: 1.4841 - val_acc: 0.5714\n",
      "Epoch 33/40\n",
      "118/118 [==============================] - 0s 642us/step - loss: 0.1067 - acc: 0.9661 - val_loss: 1.3508 - val_acc: 0.5714\n",
      "Epoch 34/40\n",
      "118/118 [==============================] - 0s 668us/step - loss: 0.0763 - acc: 0.9831 - val_loss: 1.2214 - val_acc: 0.5714\n",
      "Epoch 35/40\n",
      "118/118 [==============================] - 0s 659us/step - loss: 0.0813 - acc: 0.9831 - val_loss: 1.2345 - val_acc: 0.5714\n",
      "Epoch 36/40\n",
      "118/118 [==============================] - 0s 693us/step - loss: 0.0828 - acc: 0.9831 - val_loss: 1.3374 - val_acc: 0.5714\n",
      "Epoch 37/40\n",
      "118/118 [==============================] - 0s 752us/step - loss: 0.0516 - acc: 0.9915 - val_loss: 1.4477 - val_acc: 0.6429\n",
      "Epoch 38/40\n",
      "118/118 [==============================] - 0s 685us/step - loss: 0.0718 - acc: 0.9831 - val_loss: 1.6376 - val_acc: 0.5714\n",
      "Epoch 39/40\n",
      "118/118 [==============================] - 0s 735us/step - loss: 0.0787 - acc: 0.9746 - val_loss: 1.7277 - val_acc: 0.6429\n",
      "Epoch 40/40\n",
      "118/118 [==============================] - 0s 693us/step - loss: 0.0994 - acc: 0.9576 - val_loss: 1.3190 - val_acc: 0.6429\n"
     ]
    }
   ],
   "source": [
    "from keras.callbacks import ModelCheckpoint # save the best model, fight overfiitting\n",
    "from keras.callbacks import EarlyStopping #save time\n",
    "checkpoint = ModelCheckpoint(\"best_model.h5\", monitor='val_loss', verbose=0, save_best_only=True, save_weights_only=False, mode='auto', period=1)\n",
    "#Will keep checking the val_loss and it will only store the best one\n",
    "\n",
    "hist = model.fit(emb_XT,YT,batch_size=32,epochs=40,shuffle=True,validation_split=0.1, callbacks=[checkpoint])"
   ]
  },
  {
   "cell_type": "code",
   "execution_count": 31,
   "metadata": {},
   "outputs": [
    {
     "name": "stdout",
     "output_type": "stream",
     "text": [
      "56/56 [==============================] - 0s 285us/step\n"
     ]
    },
    {
     "data": {
      "text/plain": [
       "[1.8381744623184204, 0.5892857228006635]"
      ]
     },
     "execution_count": 31,
     "metadata": {},
     "output_type": "execute_result"
    }
   ],
   "source": [
    "model.evaluate(emb_Xt,Yt) #Will give best accuracy\n",
    "#Low accuracy is because the emojis are similar as we can check\n",
    "#Smile and heart emojis can be used interchangebly so it is ok\n"
   ]
  },
  {
   "cell_type": "code",
   "execution_count": null,
   "metadata": {},
   "outputs": [],
   "source": []
  }
 ],
 "metadata": {
  "kernelspec": {
   "display_name": "Python [conda env:AntonioEnv] *",
   "language": "python",
   "name": "conda-env-AntonioEnv-py"
  },
  "language_info": {
   "codemirror_mode": {
    "name": "ipython",
    "version": 3
   },
   "file_extension": ".py",
   "mimetype": "text/x-python",
   "name": "python",
   "nbconvert_exporter": "python",
   "pygments_lexer": "ipython3",
   "version": "3.7.6"
  }
 },
 "nbformat": 4,
 "nbformat_minor": 4
}
