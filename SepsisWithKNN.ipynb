{
  "nbformat": 4,
  "nbformat_minor": 0,
  "metadata": {
    "colab": {
      "name": "Sepsis.ipynb",
      "provenance": [],
      "authorship_tag": "ABX9TyPG2n2x39MW+ybhmVbYFddg",
      "include_colab_link": true
    },
    "kernelspec": {
      "name": "python3",
      "display_name": "Python 3"
    },
    "accelerator": "GPU"
  },
  "cells": [
    {
      "cell_type": "markdown",
      "metadata": {
        "id": "view-in-github",
        "colab_type": "text"
      },
      "source": [
        "<a href=\"https://colab.research.google.com/github/SachinSouravJha/Machine-Learning-Basics/blob/master/SepsisWithKNN.ipynb\" target=\"_parent\"><img src=\"https://colab.research.google.com/assets/colab-badge.svg\" alt=\"Open In Colab\"/></a>"
      ]
    },
    {
      "cell_type": "code",
      "metadata": {
        "id": "cFpKWPeDNgc8",
        "colab_type": "code",
        "outputId": "87e710ae-f195-40c0-8563-ff02e4db15d1",
        "colab": {
          "base_uri": "https://localhost:8080/",
          "height": 377
        }
      },
      "source": [
        "!wget https://www.dropbox.com/s/xdqcrhlh5rwrvzm/sepsis.csv?dl=0"
      ],
      "execution_count": 1,
      "outputs": [
        {
          "output_type": "stream",
          "text": [
            "--2020-02-26 07:52:29--  https://www.dropbox.com/s/xdqcrhlh5rwrvzm/sepsis.csv?dl=0\n",
            "Resolving www.dropbox.com (www.dropbox.com)... 162.125.1.1, 2620:100:6016:1::a27d:101\n",
            "Connecting to www.dropbox.com (www.dropbox.com)|162.125.1.1|:443... connected.\n",
            "HTTP request sent, awaiting response... 301 Moved Permanently\n",
            "Location: /s/raw/xdqcrhlh5rwrvzm/sepsis.csv [following]\n",
            "--2020-02-26 07:52:34--  https://www.dropbox.com/s/raw/xdqcrhlh5rwrvzm/sepsis.csv\n",
            "Reusing existing connection to www.dropbox.com:443.\n",
            "HTTP request sent, awaiting response... 302 Found\n",
            "Location: https://uc9edb3f3c1bf1622d8a3f2744c6.dl.dropboxusercontent.com/cd/0/inline/Ay32IXCfX-Hd50e6s0J-DHox2saIclK1gYy3J7Q1ceFSrzjtiw9ssdN9jjrOyLZ3xPOxXYBCXyrbPQ8Ijrc9Fi6GSjd5X4mORXde3JkJKw5yEQGJyiea0OPlXw8J3_LOgr4/file# [following]\n",
            "--2020-02-26 07:52:34--  https://uc9edb3f3c1bf1622d8a3f2744c6.dl.dropboxusercontent.com/cd/0/inline/Ay32IXCfX-Hd50e6s0J-DHox2saIclK1gYy3J7Q1ceFSrzjtiw9ssdN9jjrOyLZ3xPOxXYBCXyrbPQ8Ijrc9Fi6GSjd5X4mORXde3JkJKw5yEQGJyiea0OPlXw8J3_LOgr4/file\n",
            "Resolving uc9edb3f3c1bf1622d8a3f2744c6.dl.dropboxusercontent.com (uc9edb3f3c1bf1622d8a3f2744c6.dl.dropboxusercontent.com)... 162.125.1.6, 2620:100:601b:6::a27d:806\n",
            "Connecting to uc9edb3f3c1bf1622d8a3f2744c6.dl.dropboxusercontent.com (uc9edb3f3c1bf1622d8a3f2744c6.dl.dropboxusercontent.com)|162.125.1.6|:443... connected.\n",
            "HTTP request sent, awaiting response... 200 OK\n",
            "Length: 213491517 (204M) [text/plain]\n",
            "Saving to: ‘sepsis.csv?dl=0’\n",
            "\n",
            "sepsis.csv?dl=0     100%[===================>] 203.60M  29.6MB/s    in 6.5s    \n",
            "\n",
            "2020-02-26 07:52:41 (31.1 MB/s) - ‘sepsis.csv?dl=0’ saved [213491517/213491517]\n",
            "\n"
          ],
          "name": "stdout"
        }
      ]
    },
    {
      "cell_type": "code",
      "metadata": {
        "id": "OqjlLXKANjpo",
        "colab_type": "code",
        "outputId": "12f3a244-55b0-464d-f6fb-f2e6465967f9",
        "colab": {
          "base_uri": "https://localhost:8080/",
          "height": 34
        }
      },
      "source": [
        "!ls"
      ],
      "execution_count": 2,
      "outputs": [
        {
          "output_type": "stream",
          "text": [
            " sample_data  'sepsis.csv?dl=0'\n"
          ],
          "name": "stdout"
        }
      ]
    },
    {
      "cell_type": "code",
      "metadata": {
        "id": "7xIJtLg3NxAo",
        "colab_type": "code",
        "colab": {}
      },
      "source": [
        "import pandas as pd\n",
        "sepsis_data = pd.read_csv('sepsis.csv?dl=0', sep ='|')"
      ],
      "execution_count": 0,
      "outputs": []
    },
    {
      "cell_type": "code",
      "metadata": {
        "id": "CP5kr5K8QRDb",
        "colab_type": "code",
        "outputId": "ec04e5dd-2bb1-4966-8d72-3c2dca3a1c4f",
        "colab": {
          "base_uri": "https://localhost:8080/",
          "height": 153
        }
      },
      "source": [
        "print(sepsis_data.head())"
      ],
      "execution_count": 4,
      "outputs": [
        {
          "output_type": "stream",
          "text": [
            "      HR  O2Sat  Temp    SBP  ...  Unit2  HospAdmTime  ICULOS  SepsisLabel\n",
            "0    NaN    NaN   NaN    NaN  ...    NaN        -0.03       1            0\n",
            "1   97.0   95.0   NaN   98.0  ...    NaN        -0.03       2            0\n",
            "2   89.0   99.0   NaN  122.0  ...    NaN        -0.03       3            0\n",
            "3   90.0   95.0   NaN    NaN  ...    NaN        -0.03       4            0\n",
            "4  103.0   88.5   NaN  122.0  ...    NaN        -0.03       5            0\n",
            "\n",
            "[5 rows x 41 columns]\n"
          ],
          "name": "stdout"
        }
      ]
    },
    {
      "cell_type": "code",
      "metadata": {
        "id": "SNiV4tKkQVvW",
        "colab_type": "code",
        "outputId": "725d767f-d2b7-437c-ae92-71035730d6ee",
        "colab": {
          "base_uri": "https://localhost:8080/",
          "height": 34
        }
      },
      "source": [
        "sepsis_data.shape"
      ],
      "execution_count": 5,
      "outputs": [
        {
          "output_type": "execute_result",
          "data": {
            "text/plain": [
              "(1361672, 41)"
            ]
          },
          "metadata": {
            "tags": []
          },
          "execution_count": 5
        }
      ]
    },
    {
      "cell_type": "code",
      "metadata": {
        "id": "K1GNGcZGfCAd",
        "colab_type": "code",
        "colab": {}
      },
      "source": [
        "#We have a lot of columns with a lot of missing values so we just need to remove those columns "
      ],
      "execution_count": 0,
      "outputs": []
    },
    {
      "cell_type": "code",
      "metadata": {
        "id": "g_F2EpewfCYU",
        "colab_type": "code",
        "colab": {
          "base_uri": "https://localhost:8080/",
          "height": 731
        },
        "outputId": "dc56b1ad-c378-40f0-c48d-7fcca00ad9ae"
      },
      "source": [
        "# Sum of all missing values in dataset\n",
        "missing = sepsis_data.isnull().sum() #Using this we will get the number of rows in which the value is null for that column \n",
        "missing"
      ],
      "execution_count": 8,
      "outputs": [
        {
          "output_type": "execute_result",
          "data": {
            "text/plain": [
              "HR                   130133\n",
              "O2Sat                175676\n",
              "Temp                 902590\n",
              "SBP                  199680\n",
              "MAP                  165134\n",
              "DBP                  459960\n",
              "Resp                 198043\n",
              "EtCO2               1319201\n",
              "BaseExcess          1277998\n",
              "HCO3                1297001\n",
              "FiO2                1236770\n",
              "pH                  1258514\n",
              "PaCO2               1279813\n",
              "SaO2                1311871\n",
              "AST                 1339842\n",
              "BUN                 1265550\n",
              "Alkalinephos        1340093\n",
              "Calcium             1283397\n",
              "Chloride            1292412\n",
              "Creatinine          1277512\n",
              "Bilirubin_direct    1359132\n",
              "Glucose             1138773\n",
              "Lactate             1323998\n",
              "Magnesium           1272850\n",
              "Phosphate           1304990\n",
              "Potassium           1231945\n",
              "Bilirubin_total     1341905\n",
              "TroponinI           1350388\n",
              "Hct                 1235350\n",
              "Hgb                 1258251\n",
              "PTT                 1317887\n",
              "WBC                 1272210\n",
              "Fibrinogen          1352505\n",
              "Platelets           1279609\n",
              "Age                       0\n",
              "Gender                    0\n",
              "Unit1                555263\n",
              "Unit2                555263\n",
              "HospAdmTime               8\n",
              "ICULOS                    0\n",
              "SepsisLabel               0\n",
              "dtype: int64"
            ]
          },
          "metadata": {
            "tags": []
          },
          "execution_count": 8
        }
      ]
    },
    {
      "cell_type": "code",
      "metadata": {
        "id": "qVk9Q0rLfCfT",
        "colab_type": "code",
        "colab": {
          "base_uri": "https://localhost:8080/",
          "height": 731
        },
        "outputId": "c576e3d5-efbc-44b0-ed67-4a7694bfb3d6"
      },
      "source": [
        "#We can see that there are rows in which the numbe of missing values is a lot, so let's take percentage and then we can just remove columns with more than 90% values\n",
        "missing_percent = (missing/1361672)*100 #Missing in all columns/Number of rows in each column \n",
        "missing_percent"
      ],
      "execution_count": 9,
      "outputs": [
        {
          "output_type": "execute_result",
          "data": {
            "text/plain": [
              "HR                   9.556854\n",
              "O2Sat               12.901492\n",
              "Temp                66.285420\n",
              "SBP                 14.664324\n",
              "MAP                 12.127296\n",
              "DBP                 33.779060\n",
              "Resp                14.544105\n",
              "EtCO2               96.880967\n",
              "BaseExcess          93.855055\n",
              "HCO3                95.250618\n",
              "FiO2                90.827306\n",
              "pH                  92.424167\n",
              "PaCO2               93.988347\n",
              "SaO2                96.342658\n",
              "AST                 98.396824\n",
              "BUN                 92.940884\n",
              "Alkalinephos        98.415257\n",
              "Calcium             94.251553\n",
              "Chloride            94.913606\n",
              "Creatinine          93.819363\n",
              "Bilirubin_direct    99.813465\n",
              "Glucose             83.630493\n",
              "Lactate             97.233254\n",
              "Magnesium           93.476990\n",
              "Phosphate           95.837324\n",
              "Potassium           90.472963\n",
              "Bilirubin_total     98.548329\n",
              "TroponinI           99.171313\n",
              "Hct                 90.723023\n",
              "Hgb                 92.404852\n",
              "PTT                 96.784468\n",
              "WBC                 93.429989\n",
              "Fibrinogen          99.326784\n",
              "Platelets           93.973365\n",
              "Age                  0.000000\n",
              "Gender               0.000000\n",
              "Unit1               40.778029\n",
              "Unit2               40.778029\n",
              "HospAdmTime          0.000588\n",
              "ICULOS               0.000000\n",
              "SepsisLabel          0.000000\n",
              "dtype: float64"
            ]
          },
          "metadata": {
            "tags": []
          },
          "execution_count": 9
        }
      ]
    },
    {
      "cell_type": "code",
      "metadata": {
        "id": "Vf6vsgyjijTn",
        "colab_type": "code",
        "colab": {
          "base_uri": "https://localhost:8080/",
          "height": 459
        },
        "outputId": "c05bac28-beb4-4eeb-d108-e74563282af5"
      },
      "source": [
        "#Taking the list the of all columns which has more than 90% missing values\n",
        "drop_cols = list(missing_percent[missing_percent > 90].index)\n",
        "drop_cols"
      ],
      "execution_count": 10,
      "outputs": [
        {
          "output_type": "execute_result",
          "data": {
            "text/plain": [
              "['EtCO2',\n",
              " 'BaseExcess',\n",
              " 'HCO3',\n",
              " 'FiO2',\n",
              " 'pH',\n",
              " 'PaCO2',\n",
              " 'SaO2',\n",
              " 'AST',\n",
              " 'BUN',\n",
              " 'Alkalinephos',\n",
              " 'Calcium',\n",
              " 'Chloride',\n",
              " 'Creatinine',\n",
              " 'Bilirubin_direct',\n",
              " 'Lactate',\n",
              " 'Magnesium',\n",
              " 'Phosphate',\n",
              " 'Potassium',\n",
              " 'Bilirubin_total',\n",
              " 'TroponinI',\n",
              " 'Hct',\n",
              " 'Hgb',\n",
              " 'PTT',\n",
              " 'WBC',\n",
              " 'Fibrinogen',\n",
              " 'Platelets']"
            ]
          },
          "metadata": {
            "tags": []
          },
          "execution_count": 10
        }
      ]
    },
    {
      "cell_type": "code",
      "metadata": {
        "id": "0efQOe3lijjg",
        "colab_type": "code",
        "colab": {
          "base_uri": "https://localhost:8080/",
          "height": 289
        },
        "outputId": "6fb484b9-52a6-48bc-9da3-33a058d9ee4c"
      },
      "source": [
        "sepsis_data = sepsis_data.drop(drop_cols,axis=1) #Removes those columns\n",
        "missing_data = sepsis_data.isnull().sum() #Checking missed percent in the columns which are left\n",
        "missing_percent = (missing_data/sepsis_data.shape[0])*100 #Calculating the percentage \n",
        "missing_percent"
      ],
      "execution_count": 12,
      "outputs": [
        {
          "output_type": "execute_result",
          "data": {
            "text/plain": [
              "HR              9.556854\n",
              "O2Sat          12.901492\n",
              "Temp           66.285420\n",
              "SBP            14.664324\n",
              "MAP            12.127296\n",
              "DBP            33.779060\n",
              "Resp           14.544105\n",
              "Glucose        83.630493\n",
              "Age             0.000000\n",
              "Gender          0.000000\n",
              "Unit1          40.778029\n",
              "Unit2          40.778029\n",
              "HospAdmTime     0.000588\n",
              "ICULOS          0.000000\n",
              "SepsisLabel     0.000000\n",
              "dtype: float64"
            ]
          },
          "metadata": {
            "tags": []
          },
          "execution_count": 12
        }
      ]
    },
    {
      "cell_type": "code",
      "metadata": {
        "id": "xkwcTyzJfCrq",
        "colab_type": "code",
        "colab": {
          "base_uri": "https://localhost:8080/",
          "height": 204
        },
        "outputId": "bd32f542-355e-46ee-c798-ba588286f301"
      },
      "source": [
        "sepsis_data.head()"
      ],
      "execution_count": 13,
      "outputs": [
        {
          "output_type": "execute_result",
          "data": {
            "text/html": [
              "<div>\n",
              "<style scoped>\n",
              "    .dataframe tbody tr th:only-of-type {\n",
              "        vertical-align: middle;\n",
              "    }\n",
              "\n",
              "    .dataframe tbody tr th {\n",
              "        vertical-align: top;\n",
              "    }\n",
              "\n",
              "    .dataframe thead th {\n",
              "        text-align: right;\n",
              "    }\n",
              "</style>\n",
              "<table border=\"1\" class=\"dataframe\">\n",
              "  <thead>\n",
              "    <tr style=\"text-align: right;\">\n",
              "      <th></th>\n",
              "      <th>HR</th>\n",
              "      <th>O2Sat</th>\n",
              "      <th>Temp</th>\n",
              "      <th>SBP</th>\n",
              "      <th>MAP</th>\n",
              "      <th>DBP</th>\n",
              "      <th>Resp</th>\n",
              "      <th>Glucose</th>\n",
              "      <th>Age</th>\n",
              "      <th>Gender</th>\n",
              "      <th>Unit1</th>\n",
              "      <th>Unit2</th>\n",
              "      <th>HospAdmTime</th>\n",
              "      <th>ICULOS</th>\n",
              "      <th>SepsisLabel</th>\n",
              "    </tr>\n",
              "  </thead>\n",
              "  <tbody>\n",
              "    <tr>\n",
              "      <th>0</th>\n",
              "      <td>NaN</td>\n",
              "      <td>NaN</td>\n",
              "      <td>NaN</td>\n",
              "      <td>NaN</td>\n",
              "      <td>NaN</td>\n",
              "      <td>NaN</td>\n",
              "      <td>NaN</td>\n",
              "      <td>NaN</td>\n",
              "      <td>83.14</td>\n",
              "      <td>0</td>\n",
              "      <td>NaN</td>\n",
              "      <td>NaN</td>\n",
              "      <td>-0.03</td>\n",
              "      <td>1</td>\n",
              "      <td>0</td>\n",
              "    </tr>\n",
              "    <tr>\n",
              "      <th>1</th>\n",
              "      <td>97.0</td>\n",
              "      <td>95.0</td>\n",
              "      <td>NaN</td>\n",
              "      <td>98.0</td>\n",
              "      <td>75.33</td>\n",
              "      <td>NaN</td>\n",
              "      <td>19.0</td>\n",
              "      <td>NaN</td>\n",
              "      <td>83.14</td>\n",
              "      <td>0</td>\n",
              "      <td>NaN</td>\n",
              "      <td>NaN</td>\n",
              "      <td>-0.03</td>\n",
              "      <td>2</td>\n",
              "      <td>0</td>\n",
              "    </tr>\n",
              "    <tr>\n",
              "      <th>2</th>\n",
              "      <td>89.0</td>\n",
              "      <td>99.0</td>\n",
              "      <td>NaN</td>\n",
              "      <td>122.0</td>\n",
              "      <td>86.00</td>\n",
              "      <td>NaN</td>\n",
              "      <td>22.0</td>\n",
              "      <td>NaN</td>\n",
              "      <td>83.14</td>\n",
              "      <td>0</td>\n",
              "      <td>NaN</td>\n",
              "      <td>NaN</td>\n",
              "      <td>-0.03</td>\n",
              "      <td>3</td>\n",
              "      <td>0</td>\n",
              "    </tr>\n",
              "    <tr>\n",
              "      <th>3</th>\n",
              "      <td>90.0</td>\n",
              "      <td>95.0</td>\n",
              "      <td>NaN</td>\n",
              "      <td>NaN</td>\n",
              "      <td>NaN</td>\n",
              "      <td>NaN</td>\n",
              "      <td>30.0</td>\n",
              "      <td>NaN</td>\n",
              "      <td>83.14</td>\n",
              "      <td>0</td>\n",
              "      <td>NaN</td>\n",
              "      <td>NaN</td>\n",
              "      <td>-0.03</td>\n",
              "      <td>4</td>\n",
              "      <td>0</td>\n",
              "    </tr>\n",
              "    <tr>\n",
              "      <th>4</th>\n",
              "      <td>103.0</td>\n",
              "      <td>88.5</td>\n",
              "      <td>NaN</td>\n",
              "      <td>122.0</td>\n",
              "      <td>91.33</td>\n",
              "      <td>NaN</td>\n",
              "      <td>24.5</td>\n",
              "      <td>NaN</td>\n",
              "      <td>83.14</td>\n",
              "      <td>0</td>\n",
              "      <td>NaN</td>\n",
              "      <td>NaN</td>\n",
              "      <td>-0.03</td>\n",
              "      <td>5</td>\n",
              "      <td>0</td>\n",
              "    </tr>\n",
              "  </tbody>\n",
              "</table>\n",
              "</div>"
            ],
            "text/plain": [
              "      HR  O2Sat  Temp    SBP  ...  Unit2  HospAdmTime  ICULOS  SepsisLabel\n",
              "0    NaN    NaN   NaN    NaN  ...    NaN        -0.03       1            0\n",
              "1   97.0   95.0   NaN   98.0  ...    NaN        -0.03       2            0\n",
              "2   89.0   99.0   NaN  122.0  ...    NaN        -0.03       3            0\n",
              "3   90.0   95.0   NaN    NaN  ...    NaN        -0.03       4            0\n",
              "4  103.0   88.5   NaN  122.0  ...    NaN        -0.03       5            0\n",
              "\n",
              "[5 rows x 15 columns]"
            ]
          },
          "metadata": {
            "tags": []
          },
          "execution_count": 13
        }
      ]
    },
    {
      "cell_type": "code",
      "metadata": {
        "id": "SLGYB-R0kIoT",
        "colab_type": "code",
        "colab": {
          "base_uri": "https://localhost:8080/",
          "height": 34
        },
        "outputId": "2500939b-6d1e-4426-a0eb-f1ebdaf707a8"
      },
      "source": [
        "sepsis_data.shape"
      ],
      "execution_count": 14,
      "outputs": [
        {
          "output_type": "execute_result",
          "data": {
            "text/plain": [
              "(1361672, 15)"
            ]
          },
          "metadata": {
            "tags": []
          },
          "execution_count": 14
        }
      ]
    },
    {
      "cell_type": "code",
      "metadata": {
        "id": "rXT3enHUkI0L",
        "colab_type": "code",
        "colab": {}
      },
      "source": [
        "#We are now left with 15 columns instead of 41 we had at start, in this the HospAdmTime does not look useful so I will drop this too\n",
        "sepsis_data = sepsis_data.drop([\"HospAdmTime\"],axis=1)"
      ],
      "execution_count": 0,
      "outputs": []
    },
    {
      "cell_type": "code",
      "metadata": {
        "id": "B_Lwj5TDfCv5",
        "colab_type": "code",
        "colab": {
          "base_uri": "https://localhost:8080/",
          "height": 204
        },
        "outputId": "299d153c-fd61-4912-cd9d-7c763a8f9822"
      },
      "source": [
        "sepsis_data.head()"
      ],
      "execution_count": 17,
      "outputs": [
        {
          "output_type": "execute_result",
          "data": {
            "text/html": [
              "<div>\n",
              "<style scoped>\n",
              "    .dataframe tbody tr th:only-of-type {\n",
              "        vertical-align: middle;\n",
              "    }\n",
              "\n",
              "    .dataframe tbody tr th {\n",
              "        vertical-align: top;\n",
              "    }\n",
              "\n",
              "    .dataframe thead th {\n",
              "        text-align: right;\n",
              "    }\n",
              "</style>\n",
              "<table border=\"1\" class=\"dataframe\">\n",
              "  <thead>\n",
              "    <tr style=\"text-align: right;\">\n",
              "      <th></th>\n",
              "      <th>HR</th>\n",
              "      <th>O2Sat</th>\n",
              "      <th>Temp</th>\n",
              "      <th>SBP</th>\n",
              "      <th>MAP</th>\n",
              "      <th>DBP</th>\n",
              "      <th>Resp</th>\n",
              "      <th>Glucose</th>\n",
              "      <th>Age</th>\n",
              "      <th>Gender</th>\n",
              "      <th>Unit1</th>\n",
              "      <th>Unit2</th>\n",
              "      <th>ICULOS</th>\n",
              "      <th>SepsisLabel</th>\n",
              "    </tr>\n",
              "  </thead>\n",
              "  <tbody>\n",
              "    <tr>\n",
              "      <th>0</th>\n",
              "      <td>NaN</td>\n",
              "      <td>NaN</td>\n",
              "      <td>NaN</td>\n",
              "      <td>NaN</td>\n",
              "      <td>NaN</td>\n",
              "      <td>NaN</td>\n",
              "      <td>NaN</td>\n",
              "      <td>NaN</td>\n",
              "      <td>83.14</td>\n",
              "      <td>0</td>\n",
              "      <td>NaN</td>\n",
              "      <td>NaN</td>\n",
              "      <td>1</td>\n",
              "      <td>0</td>\n",
              "    </tr>\n",
              "    <tr>\n",
              "      <th>1</th>\n",
              "      <td>97.0</td>\n",
              "      <td>95.0</td>\n",
              "      <td>NaN</td>\n",
              "      <td>98.0</td>\n",
              "      <td>75.33</td>\n",
              "      <td>NaN</td>\n",
              "      <td>19.0</td>\n",
              "      <td>NaN</td>\n",
              "      <td>83.14</td>\n",
              "      <td>0</td>\n",
              "      <td>NaN</td>\n",
              "      <td>NaN</td>\n",
              "      <td>2</td>\n",
              "      <td>0</td>\n",
              "    </tr>\n",
              "    <tr>\n",
              "      <th>2</th>\n",
              "      <td>89.0</td>\n",
              "      <td>99.0</td>\n",
              "      <td>NaN</td>\n",
              "      <td>122.0</td>\n",
              "      <td>86.00</td>\n",
              "      <td>NaN</td>\n",
              "      <td>22.0</td>\n",
              "      <td>NaN</td>\n",
              "      <td>83.14</td>\n",
              "      <td>0</td>\n",
              "      <td>NaN</td>\n",
              "      <td>NaN</td>\n",
              "      <td>3</td>\n",
              "      <td>0</td>\n",
              "    </tr>\n",
              "    <tr>\n",
              "      <th>3</th>\n",
              "      <td>90.0</td>\n",
              "      <td>95.0</td>\n",
              "      <td>NaN</td>\n",
              "      <td>NaN</td>\n",
              "      <td>NaN</td>\n",
              "      <td>NaN</td>\n",
              "      <td>30.0</td>\n",
              "      <td>NaN</td>\n",
              "      <td>83.14</td>\n",
              "      <td>0</td>\n",
              "      <td>NaN</td>\n",
              "      <td>NaN</td>\n",
              "      <td>4</td>\n",
              "      <td>0</td>\n",
              "    </tr>\n",
              "    <tr>\n",
              "      <th>4</th>\n",
              "      <td>103.0</td>\n",
              "      <td>88.5</td>\n",
              "      <td>NaN</td>\n",
              "      <td>122.0</td>\n",
              "      <td>91.33</td>\n",
              "      <td>NaN</td>\n",
              "      <td>24.5</td>\n",
              "      <td>NaN</td>\n",
              "      <td>83.14</td>\n",
              "      <td>0</td>\n",
              "      <td>NaN</td>\n",
              "      <td>NaN</td>\n",
              "      <td>5</td>\n",
              "      <td>0</td>\n",
              "    </tr>\n",
              "  </tbody>\n",
              "</table>\n",
              "</div>"
            ],
            "text/plain": [
              "      HR  O2Sat  Temp    SBP    MAP  ...  Gender  Unit1  Unit2  ICULOS  SepsisLabel\n",
              "0    NaN    NaN   NaN    NaN    NaN  ...       0    NaN    NaN       1            0\n",
              "1   97.0   95.0   NaN   98.0  75.33  ...       0    NaN    NaN       2            0\n",
              "2   89.0   99.0   NaN  122.0  86.00  ...       0    NaN    NaN       3            0\n",
              "3   90.0   95.0   NaN    NaN    NaN  ...       0    NaN    NaN       4            0\n",
              "4  103.0   88.5   NaN  122.0  91.33  ...       0    NaN    NaN       5            0\n",
              "\n",
              "[5 rows x 14 columns]"
            ]
          },
          "metadata": {
            "tags": []
          },
          "execution_count": 17
        }
      ]
    },
    {
      "cell_type": "code",
      "metadata": {
        "id": "q5DTe6p2fCya",
        "colab_type": "code",
        "colab": {}
      },
      "source": [
        "sepsis_data[\"HR\"] = sepsis_data[\"HR\"].fillna(80)\n",
        "#I googled to find heart rate of a normal person and filled that for missing values\n",
        "#If I am a doctor and I don't have report, I will assume it to be normal so it makes sense"
      ],
      "execution_count": 0,
      "outputs": []
    },
    {
      "cell_type": "code",
      "metadata": {
        "id": "yknhH0cWpd6y",
        "colab_type": "code",
        "colab": {
          "base_uri": "https://localhost:8080/",
          "height": 204
        },
        "outputId": "737bde85-14d9-4250-d3af-5efea8333896"
      },
      "source": [
        "sepsis_data.head()"
      ],
      "execution_count": 22,
      "outputs": [
        {
          "output_type": "execute_result",
          "data": {
            "text/html": [
              "<div>\n",
              "<style scoped>\n",
              "    .dataframe tbody tr th:only-of-type {\n",
              "        vertical-align: middle;\n",
              "    }\n",
              "\n",
              "    .dataframe tbody tr th {\n",
              "        vertical-align: top;\n",
              "    }\n",
              "\n",
              "    .dataframe thead th {\n",
              "        text-align: right;\n",
              "    }\n",
              "</style>\n",
              "<table border=\"1\" class=\"dataframe\">\n",
              "  <thead>\n",
              "    <tr style=\"text-align: right;\">\n",
              "      <th></th>\n",
              "      <th>HR</th>\n",
              "      <th>O2Sat</th>\n",
              "      <th>Temp</th>\n",
              "      <th>SBP</th>\n",
              "      <th>MAP</th>\n",
              "      <th>DBP</th>\n",
              "      <th>Resp</th>\n",
              "      <th>Glucose</th>\n",
              "      <th>Age</th>\n",
              "      <th>Gender</th>\n",
              "      <th>Unit1</th>\n",
              "      <th>Unit2</th>\n",
              "      <th>ICULOS</th>\n",
              "      <th>SepsisLabel</th>\n",
              "    </tr>\n",
              "  </thead>\n",
              "  <tbody>\n",
              "    <tr>\n",
              "      <th>0</th>\n",
              "      <td>80.0</td>\n",
              "      <td>NaN</td>\n",
              "      <td>NaN</td>\n",
              "      <td>NaN</td>\n",
              "      <td>NaN</td>\n",
              "      <td>NaN</td>\n",
              "      <td>NaN</td>\n",
              "      <td>NaN</td>\n",
              "      <td>83.14</td>\n",
              "      <td>0</td>\n",
              "      <td>NaN</td>\n",
              "      <td>NaN</td>\n",
              "      <td>1</td>\n",
              "      <td>0</td>\n",
              "    </tr>\n",
              "    <tr>\n",
              "      <th>1</th>\n",
              "      <td>97.0</td>\n",
              "      <td>95.0</td>\n",
              "      <td>NaN</td>\n",
              "      <td>98.0</td>\n",
              "      <td>75.33</td>\n",
              "      <td>NaN</td>\n",
              "      <td>19.0</td>\n",
              "      <td>NaN</td>\n",
              "      <td>83.14</td>\n",
              "      <td>0</td>\n",
              "      <td>NaN</td>\n",
              "      <td>NaN</td>\n",
              "      <td>2</td>\n",
              "      <td>0</td>\n",
              "    </tr>\n",
              "    <tr>\n",
              "      <th>2</th>\n",
              "      <td>89.0</td>\n",
              "      <td>99.0</td>\n",
              "      <td>NaN</td>\n",
              "      <td>122.0</td>\n",
              "      <td>86.00</td>\n",
              "      <td>NaN</td>\n",
              "      <td>22.0</td>\n",
              "      <td>NaN</td>\n",
              "      <td>83.14</td>\n",
              "      <td>0</td>\n",
              "      <td>NaN</td>\n",
              "      <td>NaN</td>\n",
              "      <td>3</td>\n",
              "      <td>0</td>\n",
              "    </tr>\n",
              "    <tr>\n",
              "      <th>3</th>\n",
              "      <td>90.0</td>\n",
              "      <td>95.0</td>\n",
              "      <td>NaN</td>\n",
              "      <td>NaN</td>\n",
              "      <td>NaN</td>\n",
              "      <td>NaN</td>\n",
              "      <td>30.0</td>\n",
              "      <td>NaN</td>\n",
              "      <td>83.14</td>\n",
              "      <td>0</td>\n",
              "      <td>NaN</td>\n",
              "      <td>NaN</td>\n",
              "      <td>4</td>\n",
              "      <td>0</td>\n",
              "    </tr>\n",
              "    <tr>\n",
              "      <th>4</th>\n",
              "      <td>103.0</td>\n",
              "      <td>88.5</td>\n",
              "      <td>NaN</td>\n",
              "      <td>122.0</td>\n",
              "      <td>91.33</td>\n",
              "      <td>NaN</td>\n",
              "      <td>24.5</td>\n",
              "      <td>NaN</td>\n",
              "      <td>83.14</td>\n",
              "      <td>0</td>\n",
              "      <td>NaN</td>\n",
              "      <td>NaN</td>\n",
              "      <td>5</td>\n",
              "      <td>0</td>\n",
              "    </tr>\n",
              "  </tbody>\n",
              "</table>\n",
              "</div>"
            ],
            "text/plain": [
              "      HR  O2Sat  Temp    SBP    MAP  ...  Gender  Unit1  Unit2  ICULOS  SepsisLabel\n",
              "0   80.0    NaN   NaN    NaN    NaN  ...       0    NaN    NaN       1            0\n",
              "1   97.0   95.0   NaN   98.0  75.33  ...       0    NaN    NaN       2            0\n",
              "2   89.0   99.0   NaN  122.0  86.00  ...       0    NaN    NaN       3            0\n",
              "3   90.0   95.0   NaN    NaN    NaN  ...       0    NaN    NaN       4            0\n",
              "4  103.0   88.5   NaN  122.0  91.33  ...       0    NaN    NaN       5            0\n",
              "\n",
              "[5 rows x 14 columns]"
            ]
          },
          "metadata": {
            "tags": []
          },
          "execution_count": 22
        }
      ]
    },
    {
      "cell_type": "code",
      "metadata": {
        "id": "wWynEsSdpeEd",
        "colab_type": "code",
        "colab": {
          "base_uri": "https://localhost:8080/",
          "height": 204
        },
        "outputId": "04760b7c-856c-44a7-99b2-1f291a9a41c2"
      },
      "source": [
        "sepsis_data = sepsis_data.drop([\"Unit1\",\"Unit2\"],axis=1)\n",
        "sepsis_data.head()"
      ],
      "execution_count": 23,
      "outputs": [
        {
          "output_type": "execute_result",
          "data": {
            "text/html": [
              "<div>\n",
              "<style scoped>\n",
              "    .dataframe tbody tr th:only-of-type {\n",
              "        vertical-align: middle;\n",
              "    }\n",
              "\n",
              "    .dataframe tbody tr th {\n",
              "        vertical-align: top;\n",
              "    }\n",
              "\n",
              "    .dataframe thead th {\n",
              "        text-align: right;\n",
              "    }\n",
              "</style>\n",
              "<table border=\"1\" class=\"dataframe\">\n",
              "  <thead>\n",
              "    <tr style=\"text-align: right;\">\n",
              "      <th></th>\n",
              "      <th>HR</th>\n",
              "      <th>O2Sat</th>\n",
              "      <th>Temp</th>\n",
              "      <th>SBP</th>\n",
              "      <th>MAP</th>\n",
              "      <th>DBP</th>\n",
              "      <th>Resp</th>\n",
              "      <th>Glucose</th>\n",
              "      <th>Age</th>\n",
              "      <th>Gender</th>\n",
              "      <th>ICULOS</th>\n",
              "      <th>SepsisLabel</th>\n",
              "    </tr>\n",
              "  </thead>\n",
              "  <tbody>\n",
              "    <tr>\n",
              "      <th>0</th>\n",
              "      <td>80.0</td>\n",
              "      <td>NaN</td>\n",
              "      <td>NaN</td>\n",
              "      <td>NaN</td>\n",
              "      <td>NaN</td>\n",
              "      <td>NaN</td>\n",
              "      <td>NaN</td>\n",
              "      <td>NaN</td>\n",
              "      <td>83.14</td>\n",
              "      <td>0</td>\n",
              "      <td>1</td>\n",
              "      <td>0</td>\n",
              "    </tr>\n",
              "    <tr>\n",
              "      <th>1</th>\n",
              "      <td>97.0</td>\n",
              "      <td>95.0</td>\n",
              "      <td>NaN</td>\n",
              "      <td>98.0</td>\n",
              "      <td>75.33</td>\n",
              "      <td>NaN</td>\n",
              "      <td>19.0</td>\n",
              "      <td>NaN</td>\n",
              "      <td>83.14</td>\n",
              "      <td>0</td>\n",
              "      <td>2</td>\n",
              "      <td>0</td>\n",
              "    </tr>\n",
              "    <tr>\n",
              "      <th>2</th>\n",
              "      <td>89.0</td>\n",
              "      <td>99.0</td>\n",
              "      <td>NaN</td>\n",
              "      <td>122.0</td>\n",
              "      <td>86.00</td>\n",
              "      <td>NaN</td>\n",
              "      <td>22.0</td>\n",
              "      <td>NaN</td>\n",
              "      <td>83.14</td>\n",
              "      <td>0</td>\n",
              "      <td>3</td>\n",
              "      <td>0</td>\n",
              "    </tr>\n",
              "    <tr>\n",
              "      <th>3</th>\n",
              "      <td>90.0</td>\n",
              "      <td>95.0</td>\n",
              "      <td>NaN</td>\n",
              "      <td>NaN</td>\n",
              "      <td>NaN</td>\n",
              "      <td>NaN</td>\n",
              "      <td>30.0</td>\n",
              "      <td>NaN</td>\n",
              "      <td>83.14</td>\n",
              "      <td>0</td>\n",
              "      <td>4</td>\n",
              "      <td>0</td>\n",
              "    </tr>\n",
              "    <tr>\n",
              "      <th>4</th>\n",
              "      <td>103.0</td>\n",
              "      <td>88.5</td>\n",
              "      <td>NaN</td>\n",
              "      <td>122.0</td>\n",
              "      <td>91.33</td>\n",
              "      <td>NaN</td>\n",
              "      <td>24.5</td>\n",
              "      <td>NaN</td>\n",
              "      <td>83.14</td>\n",
              "      <td>0</td>\n",
              "      <td>5</td>\n",
              "      <td>0</td>\n",
              "    </tr>\n",
              "  </tbody>\n",
              "</table>\n",
              "</div>"
            ],
            "text/plain": [
              "      HR  O2Sat  Temp    SBP  ...    Age  Gender  ICULOS  SepsisLabel\n",
              "0   80.0    NaN   NaN    NaN  ...  83.14       0       1            0\n",
              "1   97.0   95.0   NaN   98.0  ...  83.14       0       2            0\n",
              "2   89.0   99.0   NaN  122.0  ...  83.14       0       3            0\n",
              "3   90.0   95.0   NaN    NaN  ...  83.14       0       4            0\n",
              "4  103.0   88.5   NaN  122.0  ...  83.14       0       5            0\n",
              "\n",
              "[5 rows x 12 columns]"
            ]
          },
          "metadata": {
            "tags": []
          },
          "execution_count": 23
        }
      ]
    },
    {
      "cell_type": "code",
      "metadata": {
        "id": "zHTHhaX-peeC",
        "colab_type": "code",
        "colab": {}
      },
      "source": [
        "sepsis_data[\"O2Sat\"] = sepsis_data[\"O2Sat\"].fillna(97)\n",
        "sepsis_data[\"Temp\"] = sepsis_data[\"Temp\"].fillna(37.2)\n",
        "sepsis_data[\"SBP\"] = sepsis_data[\"SBP\"].fillna(140)\n",
        "sepsis_data[\"MAP\"] = sepsis_data[\"MAP\"].fillna(85)\n",
        "sepsis_data[\"DBP\"] = sepsis_data[\"DBP\"].fillna(90)\n",
        "sepsis_data[\"Glucose\"] = sepsis_data[\"Glucose\"].fillna(112)\n",
        "sepsis_data[\"Resp\"] = sepsis_data[\"Resp\"].fillna(20)\n",
        "sepsis_data[\"Age\"] = sepsis_data[\"Age\"].fillna(sepsis_data[\"Age\"].mean())"
      ],
      "execution_count": 0,
      "outputs": []
    },
    {
      "cell_type": "code",
      "metadata": {
        "id": "SDM_UytDqwel",
        "colab_type": "code",
        "colab": {
          "base_uri": "https://localhost:8080/",
          "height": 204
        },
        "outputId": "d65adba3-a40a-4041-9594-3434bfe60d01"
      },
      "source": [
        "sepsis_data.head()"
      ],
      "execution_count": 50,
      "outputs": [
        {
          "output_type": "execute_result",
          "data": {
            "text/html": [
              "<div>\n",
              "<style scoped>\n",
              "    .dataframe tbody tr th:only-of-type {\n",
              "        vertical-align: middle;\n",
              "    }\n",
              "\n",
              "    .dataframe tbody tr th {\n",
              "        vertical-align: top;\n",
              "    }\n",
              "\n",
              "    .dataframe thead th {\n",
              "        text-align: right;\n",
              "    }\n",
              "</style>\n",
              "<table border=\"1\" class=\"dataframe\">\n",
              "  <thead>\n",
              "    <tr style=\"text-align: right;\">\n",
              "      <th></th>\n",
              "      <th>HR</th>\n",
              "      <th>O2Sat</th>\n",
              "      <th>Temp</th>\n",
              "      <th>SBP</th>\n",
              "      <th>MAP</th>\n",
              "      <th>DBP</th>\n",
              "      <th>Resp</th>\n",
              "      <th>Glucose</th>\n",
              "      <th>Age</th>\n",
              "      <th>Gender</th>\n",
              "      <th>ICULOS</th>\n",
              "      <th>SepsisLabel</th>\n",
              "    </tr>\n",
              "  </thead>\n",
              "  <tbody>\n",
              "    <tr>\n",
              "      <th>0</th>\n",
              "      <td>80.0</td>\n",
              "      <td>97.0</td>\n",
              "      <td>37.2</td>\n",
              "      <td>140.0</td>\n",
              "      <td>85.00</td>\n",
              "      <td>90.0</td>\n",
              "      <td>20.0</td>\n",
              "      <td>112.0</td>\n",
              "      <td>83.14</td>\n",
              "      <td>0</td>\n",
              "      <td>1</td>\n",
              "      <td>0</td>\n",
              "    </tr>\n",
              "    <tr>\n",
              "      <th>1</th>\n",
              "      <td>97.0</td>\n",
              "      <td>95.0</td>\n",
              "      <td>37.2</td>\n",
              "      <td>98.0</td>\n",
              "      <td>75.33</td>\n",
              "      <td>90.0</td>\n",
              "      <td>19.0</td>\n",
              "      <td>112.0</td>\n",
              "      <td>83.14</td>\n",
              "      <td>0</td>\n",
              "      <td>2</td>\n",
              "      <td>0</td>\n",
              "    </tr>\n",
              "    <tr>\n",
              "      <th>2</th>\n",
              "      <td>89.0</td>\n",
              "      <td>99.0</td>\n",
              "      <td>37.2</td>\n",
              "      <td>122.0</td>\n",
              "      <td>86.00</td>\n",
              "      <td>90.0</td>\n",
              "      <td>22.0</td>\n",
              "      <td>112.0</td>\n",
              "      <td>83.14</td>\n",
              "      <td>0</td>\n",
              "      <td>3</td>\n",
              "      <td>0</td>\n",
              "    </tr>\n",
              "    <tr>\n",
              "      <th>3</th>\n",
              "      <td>90.0</td>\n",
              "      <td>95.0</td>\n",
              "      <td>37.2</td>\n",
              "      <td>140.0</td>\n",
              "      <td>85.00</td>\n",
              "      <td>90.0</td>\n",
              "      <td>30.0</td>\n",
              "      <td>112.0</td>\n",
              "      <td>83.14</td>\n",
              "      <td>0</td>\n",
              "      <td>4</td>\n",
              "      <td>0</td>\n",
              "    </tr>\n",
              "    <tr>\n",
              "      <th>4</th>\n",
              "      <td>103.0</td>\n",
              "      <td>88.5</td>\n",
              "      <td>37.2</td>\n",
              "      <td>122.0</td>\n",
              "      <td>91.33</td>\n",
              "      <td>90.0</td>\n",
              "      <td>24.5</td>\n",
              "      <td>112.0</td>\n",
              "      <td>83.14</td>\n",
              "      <td>0</td>\n",
              "      <td>5</td>\n",
              "      <td>0</td>\n",
              "    </tr>\n",
              "  </tbody>\n",
              "</table>\n",
              "</div>"
            ],
            "text/plain": [
              "      HR  O2Sat  Temp    SBP  ...    Age  Gender  ICULOS  SepsisLabel\n",
              "0   80.0   97.0  37.2  140.0  ...  83.14       0       1            0\n",
              "1   97.0   95.0  37.2   98.0  ...  83.14       0       2            0\n",
              "2   89.0   99.0  37.2  122.0  ...  83.14       0       3            0\n",
              "3   90.0   95.0  37.2  140.0  ...  83.14       0       4            0\n",
              "4  103.0   88.5  37.2  122.0  ...  83.14       0       5            0\n",
              "\n",
              "[5 rows x 12 columns]"
            ]
          },
          "metadata": {
            "tags": []
          },
          "execution_count": 50
        }
      ]
    },
    {
      "cell_type": "code",
      "metadata": {
        "id": "nljPguQCqwoN",
        "colab_type": "code",
        "colab": {
          "base_uri": "https://localhost:8080/",
          "height": 68
        },
        "outputId": "9c8e9d54-907d-4259-c11e-a2865a608ed9"
      },
      "source": [
        "from sklearn.preprocessing import MinMaxScaler #Normalizing the data\n",
        "scaler = MinMaxScaler() \n",
        "data = scaler.fit_transform(sepsis_data)\n",
        "data[1]"
      ],
      "execution_count": 53,
      "outputs": [
        {
          "output_type": "execute_result",
          "data": {
            "text/plain": [
              "array([0.29615385, 0.9375    , 0.56013746, 0.27857143, 0.19760714,\n",
              "       0.25      , 0.18181818, 0.10429448, 0.80395349, 0.        ,\n",
              "       0.00298507, 0.        ])"
            ]
          },
          "metadata": {
            "tags": []
          },
          "execution_count": 53
        }
      ]
    },
    {
      "cell_type": "code",
      "metadata": {
        "id": "FV8qiQ_auh-i",
        "colab_type": "code",
        "colab": {}
      },
      "source": [
        "def hypothesis(x,w,b):\n",
        "    '''accepts input vector x, input weight vector w and bias b'''\n",
        "    \n",
        "    h = np.dot(x,w) + b #Doing dot ensures we don't need to use loop to multiply both variables with their respective weights\n",
        "    return sigmoid(h)\n",
        "    #Calculating the score on the basis of weight and variable's value + bias\n",
        "    #Then simply put that value in sigmoid to get a value between 0 and 1\n",
        "def sigmoid(z):\n",
        "    return 1.0/(1.0 + np.exp(-1.0*z))\n",
        "\n",
        "def error(y_true,x,w,b):\n",
        "    \n",
        "    m = x.shape[0]\n",
        "    \n",
        "    err = 0.0\n",
        "    \n",
        "    for i in range(m):\n",
        "        hx = hypothesis(x[i],w,b) \n",
        "        err += y_true[i]*np.log2(hx) + (1-y_true[i])*np.log2(1-hx) #This is simply LL function which we need to maximize\n",
        "        \n",
        "    \n",
        "    return -err/m #Negative of LL\n",
        "\n",
        "\n",
        "def get_grads(y_true,x,w,b):\n",
        "    \n",
        "    grad_w = np.zeros(w.shape)\n",
        "    grad_b = 0.0\n",
        "    \n",
        "    m = x.shape[0]\n",
        "    \n",
        "    for i in range(m):\n",
        "        hx = hypothesis(x[i],w,b)\n",
        "        \n",
        "        grad_w += (y_true[i] - hx)*x[i]\n",
        "        grad_b +=  (y_true[i]-hx) #Basically multiplies by x[0] which is 1\n",
        "        \n",
        "    \n",
        "    grad_w /= m\n",
        "    grad_b /= m #Average Error and Average Gradient\n",
        "    \n",
        "    return [grad_w,grad_b]\n",
        "\n",
        "\n",
        "# One Iteration of Gradient Descent\n",
        "def grad_descent(x,y_true,w,b,learning_rate=0.1):\n",
        "    loss = []\n",
        "    for i in range(100):\n",
        "        err = error(y_true,x,w,b)\n",
        "        loss.append(err)\n",
        "        [grad_w,grad_b] = get_grads(y_true,x,w,b)\n",
        "    \n",
        "        w = w + learning_rate*grad_w\n",
        "        b = b + learning_rate*grad_b\n",
        "    #So after applying gradient descent our weights and biases are updating themselves \n",
        "    return loss,w,b"
      ],
      "execution_count": 0,
      "outputs": []
    },
    {
      "cell_type": "code",
      "metadata": {
        "id": "GBEMsbe7ukFB",
        "colab_type": "code",
        "colab": {}
      },
      "source": [
        "def predict(x,w,b):\n",
        "    \n",
        "    confidence = hypothesis(x,w,b)\n",
        "    if confidence<0.5:\n",
        "        return 0\n",
        "    else:\n",
        "        return 1\n",
        "    \n",
        "def get_acc(x_tst,y_tst,w,b):\n",
        "    \n",
        "    y_pred = []\n",
        "    \n",
        "    for i in range(y_tst.shape[0]):\n",
        "        p = predict(x_tst[i],w,b)\n",
        "        y_pred.append(p)\n",
        "        \n",
        "    y_pred = np.array(y_pred)\n",
        "    \n",
        "    return  float((y_pred==y_tst).sum())/y_tst.shape[0]"
      ],
      "execution_count": 0,
      "outputs": []
    },
    {
      "cell_type": "code",
      "metadata": {
        "id": "W_o9pgiZ5W4v",
        "colab_type": "code",
        "colab": {
          "base_uri": "https://localhost:8080/",
          "height": 51
        },
        "outputId": "6862be3a-8121-465f-ee5b-340d3b0fe6d3"
      },
      "source": [
        "split = int(0.8*data.shape[0]) #We will include 80% in training set while rest will go to test\n",
        "X_train = data[:split,:-1]\n",
        "X_test = data[split:,:-1]\n",
        "\n",
        "Y_train = data[:split,-1]\n",
        "Y_test  = data[split:,-1]\n",
        "\n",
        "print(X_train.shape,X_test.shape)\n",
        "print(Y_train.shape,Y_test.shape)"
      ],
      "execution_count": 58,
      "outputs": [
        {
          "output_type": "stream",
          "text": [
            "(1089337, 11) (272335, 11)\n",
            "(1089337,) (272335,)\n"
          ],
          "name": "stdout"
        }
      ]
    },
    {
      "cell_type": "code",
      "metadata": {
        "id": "1OJhepKC4dii",
        "colab_type": "code",
        "colab": {
          "base_uri": "https://localhost:8080/",
          "height": 71
        },
        "outputId": "7c447041-3f49-4dc2-a10f-eddf1e1bf3bb"
      },
      "source": [
        "w = 2*np.random.random((X_train.shape[1],))#Taking same number of random variables as weights\n",
        "b = 5*np.random.random()#Taking a random bias\n",
        "loss = []\n",
        "loss,w,b = grad_descent(X_train,Y_train,w,b,learning_rate=0.1)\n",
        "acc = get_acc(X_test,Y_test,w,b)\n",
        "print(loss)\n",
        "print(acc)"
      ],
      "execution_count": 59,
      "outputs": [
        {
          "output_type": "stream",
          "text": [
            "[5.585596897496662, 5.159118646594576, 4.7392077126609555, 4.327922254770561, 3.9278098016078724, 3.541910152849486, 3.1736753383982563, 2.826771368346263, 2.5047478818255025, 2.2106091939540113, 1.9463806031591309, 1.712800696323262, 1.5092457541091189, 1.3339065203966172, 1.1841412936552522, 1.0568818227613541, 0.9489861478156832, 0.8574855110635481, 0.7797220228100208, 0.713401001981093, 0.6565883810283469, 0.6076787228907806, 0.5653513031741856, 0.5285245121192953, 0.49631375941389094, 0.4679949626331867, 0.4429740069222835, 0.4207617489911826, 0.40095382100063665, 0.3832144295408201, 0.36726340338936236, 0.35286584690650746, 0.3398238668478217, 0.32796994254685635, 0.3171615968820188, 0.3072770973585685, 0.29821197438344726, 0.2898761895218037, 0.2821918224092104, 0.27509117303255776, 0.26851519796217904, 0.2624122161693667, 0.2567368333746165, 0.25144904428259046, 0.2465134802250155, 0.2418987761539599, 0.23757703599771993, 0.2335233794057835, 0.22971555610181577, 0.22613361661181047, 0.2227596301737787, 0.219577442279354, 0.21657246562031937, 0.21373149928823595, 0.21104257194834752, 0.20849480542224427, 0.20607829569696623, 0.20378400885960082, 0.20160368985175253, 0.1995297822665977, 0.19755535768353555, 0.19567405326179257, 0.19388001650502024, 0.19216785626641444, 0.19053259919880436, 0.18896965096567386, 0.18747476162495025, 0.18604399467812188, 0.1846736993450749, 0.18336048568455546, 0.18210120222924758, 0.18089291584755054, 0.17973289358075475, 0.17861858623610027, 0.17754761354269077, 0.1765177507020943, 0.17552691618396885, 0.1745731606367068, 0.1736546567968457, 0.17276969029514705, 0.17191665126897512, 0.17109402670029578, 0.1703003934082874, 0.1695344116325199, 0.1687948191503384, 0.16808042587796523, 0.1673901089094895, 0.1667228079542168, 0.16607752113489366, 0.16545330111520515, 0.16484925152657418, 0.1642645236682997, 0.1636983134566934, 0.16314985860240952, 0.16261843599612527, 0.16210335928504002, 0.16160397662453924, 0.16111966859028054, 0.16064984623786596, 0.160193949298268]\n",
            "0.9862669139111756\n"
          ],
          "name": "stdout"
        }
      ]
    },
    {
      "cell_type": "code",
      "metadata": {
        "id": "w6flcaC7BTat",
        "colab_type": "code",
        "colab": {
          "base_uri": "https://localhost:8080/",
          "height": 34
        },
        "outputId": "d0583422-f074-483a-9db6-29e08d818bbd"
      },
      "source": [
        "print(acc*100) #For percentage"
      ],
      "execution_count": 63,
      "outputs": [
        {
          "output_type": "stream",
          "text": [
            "98.62669139111756\n"
          ],
          "name": "stdout"
        }
      ]
    },
    {
      "cell_type": "code",
      "metadata": {
        "id": "2DPqMW1_2N9R",
        "colab_type": "code",
        "colab": {
          "base_uri": "https://localhost:8080/",
          "height": 306
        },
        "outputId": "36eec4db-4c49-43f5-8dba-b2b94a922f11"
      },
      "source": [
        "sepsis_data.info()"
      ],
      "execution_count": 54,
      "outputs": [
        {
          "output_type": "stream",
          "text": [
            "<class 'pandas.core.frame.DataFrame'>\n",
            "RangeIndex: 1361672 entries, 0 to 1361671\n",
            "Data columns (total 12 columns):\n",
            "HR             1361672 non-null float64\n",
            "O2Sat          1361672 non-null float64\n",
            "Temp           1361672 non-null float64\n",
            "SBP            1361672 non-null float64\n",
            "MAP            1361672 non-null float64\n",
            "DBP            1361672 non-null float64\n",
            "Resp           1361672 non-null float64\n",
            "Glucose        1361672 non-null float64\n",
            "Age            1361672 non-null float64\n",
            "Gender         1361672 non-null int64\n",
            "ICULOS         1361672 non-null int64\n",
            "SepsisLabel    1361672 non-null int64\n",
            "dtypes: float64(9), int64(3)\n",
            "memory usage: 124.7 MB\n"
          ],
          "name": "stdout"
        }
      ]
    },
    {
      "cell_type": "code",
      "metadata": {
        "id": "75yfvuvjuknx",
        "colab_type": "code",
        "colab": {
          "base_uri": "https://localhost:8080/",
          "height": 51
        },
        "outputId": "dc4da3ab-406f-42bc-f5d9-fb304c74b68c"
      },
      "source": [
        "X = data[:,:-1]\n",
        "Y = data[:,-1]\n",
        "print(X.shape)\n",
        "print(Y.shape)"
      ],
      "execution_count": 60,
      "outputs": [
        {
          "output_type": "stream",
          "text": [
            "(1361672, 11)\n",
            "(1361672,)\n"
          ],
          "name": "stdout"
        }
      ]
    },
    {
      "cell_type": "code",
      "metadata": {
        "id": "0197P97g2m6z",
        "colab_type": "code",
        "colab": {}
      },
      "source": [
        "from sklearn.model_selection import train_test_split\n",
        "X_train,X_valid,y_train,y_valid = train_test_split(X,Y, test_size = 0.15, random_state = 42)"
      ],
      "execution_count": 0,
      "outputs": []
    },
    {
      "cell_type": "code",
      "metadata": {
        "id": "gVoeQ8iJ2nFB",
        "colab_type": "code",
        "colab": {
          "base_uri": "https://localhost:8080/",
          "height": 34
        },
        "outputId": "839839b4-933e-4f67-c0c2-94860deef28e"
      },
      "source": [
        "from sklearn.linear_model import LogisticRegression\n",
        "LR = LogisticRegression()\n",
        "LR.fit(X_train,y_train)\n",
        "y_pred = LR.predict(X_valid)\n",
        "print('Accuracy:{:.2f}'.format(LR.score(X_valid,y_valid)))"
      ],
      "execution_count": 62,
      "outputs": [
        {
          "output_type": "stream",
          "text": [
            "Accuracy:0.98\n"
          ],
          "name": "stdout"
        }
      ]
    },
    {
      "cell_type": "code",
      "metadata": {
        "id": "8nvbhYkB2nV6",
        "colab_type": "code",
        "colab": {}
      },
      "source": [
        "#To be continued in future"
      ],
      "execution_count": 0,
      "outputs": []
    },
    {
      "cell_type": "code",
      "metadata": {
        "id": "FLgxre_12ncb",
        "colab_type": "code",
        "colab": {}
      },
      "source": [
        "def dist(x1,x2):\n",
        "    return np.sqrt(sum((x1-x2)**2)) #We will find squares of distance between the two matrices\n",
        "    #Then we will sum the squares\n",
        "def knn(X,Y,queryPoint,k=5):\n",
        "    #Writing KNN\n",
        "    vals = []\n",
        "    m = X.shape[0]\n",
        "    #Traversing all rows\n",
        "    for i in range(m):\n",
        "        d = dist(queryPoint,X[i])\n",
        "        #Here we will find \n",
        "        vals.append((d,Y[i]))\n",
        "        #Updating array with the distance and it's value\n",
        "    \n",
        "    vals = sorted(vals)\n",
        "    # Nearest/First K points\n",
        "    vals = vals[:k]\n",
        "    \n",
        "    vals = np.array(vals)\n",
        "    #Converting into numpy\n",
        "    #print(vals)\n",
        "    \n",
        "    new_vals = np.unique(vals[:,1],return_counts=True) #This array will store all the unique values in the second column \n",
        "    #Then it will also frequency of the numbers\n",
        "    \n",
        "    #print(new_vals)\n",
        "    \n",
        "    index = new_vals[1].argmax()\n",
        "    #Here we found the index of number which came most number of times\n",
        "    pred = new_vals[0][index]\n",
        "    #Using that index we find the number which came most number of times\n",
        "    return pred"
      ],
      "execution_count": 0,
      "outputs": []
    },
    {
      "cell_type": "code",
      "metadata": {
        "id": "WrpLN732uiJh",
        "colab_type": "code",
        "colab": {}
      },
      "source": [
        "def get_acc(X_train,Y_train,X_test,Y_test):\n",
        "    \n",
        "    y_pred = []\n",
        "    \n",
        "    for i in range(Y_test.shape[0]):\n",
        "        p = knn(X_train,Y_train,X_test[1])\n",
        "        y_pred.append(p)\n",
        "        \n",
        "    y_pred = np.array(y_pred)\n",
        "    \n",
        "    return float((y_pred==Y_test).sum())/Y_test.shape[0]"
      ],
      "execution_count": 0,
      "outputs": []
    },
    {
      "cell_type": "code",
      "metadata": {
        "id": "FSBBW4VrI91F",
        "colab_type": "code",
        "colab": {
          "base_uri": "https://localhost:8080/",
          "height": 34
        },
        "outputId": "934caed9-6c92-4b3d-f6a4-87c8dd78b7e4"
      },
      "source": [
        "\n",
        "X = data[:50000,1:]\n",
        "Y = data[:50000,0]\n",
        "#All the variables go in X\n",
        "#The answers to each sets of variables is in Y\n",
        "print(X.shape,Y.shape)"
      ],
      "execution_count": 73,
      "outputs": [
        {
          "output_type": "stream",
          "text": [
            "(50000, 11) (50000,)\n"
          ],
          "name": "stdout"
        }
      ]
    },
    {
      "cell_type": "code",
      "metadata": {
        "id": "4pF5ZHGkI9-p",
        "colab_type": "code",
        "colab": {
          "base_uri": "https://localhost:8080/",
          "height": 68
        },
        "outputId": "51559de2-9a9d-4f0e-eaff-cfd5df0afff8"
      },
      "source": [
        "split = int(0.8*X.shape[0])\n",
        "print(split)\n",
        "#Not using libraries\n",
        "#Causing a split to divide into test and training set\n",
        "X_train = X[:split,:]\n",
        "Y_train = Y[:split]\n",
        "\n",
        "X_test = X[split:,:]\n",
        "Y_test = Y[split:]\n",
        "\n",
        "print(X_train.shape,Y_train.shape)\n",
        "print(X_test.shape,Y_test.shape)"
      ],
      "execution_count": 74,
      "outputs": [
        {
          "output_type": "stream",
          "text": [
            "40000\n",
            "(40000, 11) (40000,)\n",
            "(10000, 11) (10000,)\n"
          ],
          "name": "stdout"
        }
      ]
    },
    {
      "cell_type": "code",
      "metadata": {
        "id": "2p0vSF3HfC1O",
        "colab_type": "code",
        "colab": {}
      },
      "source": [
        "accuracy = get_acc(X_train,Y_train,X_test,Y_test)\n",
        "print(accuracy*100)"
      ],
      "execution_count": 0,
      "outputs": []
    },
    {
      "cell_type": "code",
      "metadata": {
        "id": "gSinVaCn2GlG",
        "colab_type": "code",
        "colab": {}
      },
      "source": [
        ""
      ],
      "execution_count": 0,
      "outputs": []
    },
    {
      "cell_type": "code",
      "metadata": {
        "id": "QYkyM9nA2G91",
        "colab_type": "code",
        "colab": {}
      },
      "source": [
        ""
      ],
      "execution_count": 0,
      "outputs": []
    }
  ]
}