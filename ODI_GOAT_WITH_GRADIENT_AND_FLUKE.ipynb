{
  "nbformat": 4,
  "nbformat_minor": 0,
  "metadata": {
    "colab": {
      "name": "Stats.ipynb",
      "provenance": [],
      "authorship_tag": "ABX9TyMiBnYiC+a6B5b90blu6ji/",
      "include_colab_link": true
    },
    "kernelspec": {
      "name": "python3",
      "display_name": "Python 3"
    }
  },
  "cells": [
    {
      "cell_type": "markdown",
      "metadata": {
        "id": "view-in-github",
        "colab_type": "text"
      },
      "source": [
        "<a href=\"https://colab.research.google.com/github/SachinSouravJha/Machine-Learning-Basics/blob/master/ODI_GOAT_WITH_GRADIENT_AND_FLUKE.ipynb\" target=\"_parent\"><img src=\"https://colab.research.google.com/assets/colab-badge.svg\" alt=\"Open In Colab\"/></a>"
      ]
    },
    {
      "cell_type": "code",
      "metadata": {
        "id": "HjCbsB4Np7Uq",
        "colab_type": "code",
        "colab": {}
      },
      "source": [
        "#!wget https://www.dropbox.com/s/pxw4ps4xeqgyzr8/Year_wise_batting_stats_all_ODI_players%2820-12-19%29.csv?dl=0\n"
      ],
      "execution_count": 0,
      "outputs": []
    },
    {
      "cell_type": "code",
      "metadata": {
        "id": "v6aNyJol0B0e",
        "colab_type": "code",
        "outputId": "4803eedc-560d-47f4-8052-a9ccb00f8859",
        "colab": {
          "base_uri": "https://localhost:8080/",
          "height": 34
        }
      },
      "source": [
        "!ls"
      ],
      "execution_count": 378,
      "outputs": [
        {
          "output_type": "stream",
          "text": [
            " sample_data  'Year_wise_batting_stats_all_ODI_players(20-12-19).csv?dl=0'\n"
          ],
          "name": "stdout"
        }
      ]
    },
    {
      "cell_type": "code",
      "metadata": {
        "id": "Nk8drWpg0CJq",
        "colab_type": "code",
        "colab": {}
      },
      "source": [
        "import pandas as pd\n",
        "stats = pd.read_csv('Year_wise_batting_stats_all_ODI_players(20-12-19).csv?dl=0')"
      ],
      "execution_count": 0,
      "outputs": []
    },
    {
      "cell_type": "code",
      "metadata": {
        "id": "Sa5UrRdY2xc6",
        "colab_type": "code",
        "outputId": "6acc2bba-7388-4c9d-e130-7db7980bbac5",
        "colab": {
          "base_uri": "https://localhost:8080/",
          "height": 204
        }
      },
      "source": [
        "stats.head()"
      ],
      "execution_count": 380,
      "outputs": [
        {
          "output_type": "execute_result",
          "data": {
            "text/html": [
              "<div>\n",
              "<style scoped>\n",
              "    .dataframe tbody tr th:only-of-type {\n",
              "        vertical-align: middle;\n",
              "    }\n",
              "\n",
              "    .dataframe tbody tr th {\n",
              "        vertical-align: top;\n",
              "    }\n",
              "\n",
              "    .dataframe thead th {\n",
              "        text-align: right;\n",
              "    }\n",
              "</style>\n",
              "<table border=\"1\" class=\"dataframe\">\n",
              "  <thead>\n",
              "    <tr style=\"text-align: right;\">\n",
              "      <th></th>\n",
              "      <th>country</th>\n",
              "      <th>player_name</th>\n",
              "      <th>0s</th>\n",
              "      <th>100s</th>\n",
              "      <th>50s</th>\n",
              "      <th>Avg</th>\n",
              "      <th>Ca</th>\n",
              "      <th>HS</th>\n",
              "      <th>Inns</th>\n",
              "      <th>Mat</th>\n",
              "      <th>NO</th>\n",
              "      <th>Runs</th>\n",
              "      <th>S/R</th>\n",
              "      <th>St</th>\n",
              "      <th>Year</th>\n",
              "    </tr>\n",
              "  </thead>\n",
              "  <tbody>\n",
              "    <tr>\n",
              "      <th>0</th>\n",
              "      <td>AFG</td>\n",
              "      <td>Najeeb Tarakai</td>\n",
              "      <td>0</td>\n",
              "      <td>0</td>\n",
              "      <td>0</td>\n",
              "      <td>5.0</td>\n",
              "      <td>0</td>\n",
              "      <td>5</td>\n",
              "      <td>1</td>\n",
              "      <td>1</td>\n",
              "      <td>0</td>\n",
              "      <td>5</td>\n",
              "      <td>27.78</td>\n",
              "      <td>0</td>\n",
              "      <td>2017</td>\n",
              "    </tr>\n",
              "    <tr>\n",
              "      <th>1</th>\n",
              "      <td>AFG</td>\n",
              "      <td>Najeeb Tarakai</td>\n",
              "      <td>0</td>\n",
              "      <td>0</td>\n",
              "      <td>0</td>\n",
              "      <td>5.0</td>\n",
              "      <td>0</td>\n",
              "      <td>5</td>\n",
              "      <td>1</td>\n",
              "      <td>1</td>\n",
              "      <td>0</td>\n",
              "      <td>5</td>\n",
              "      <td>27.78</td>\n",
              "      <td>0</td>\n",
              "      <td>Overall</td>\n",
              "    </tr>\n",
              "    <tr>\n",
              "      <th>2</th>\n",
              "      <td>AFG</td>\n",
              "      <td>Naveen -ul-Haq</td>\n",
              "      <td>0</td>\n",
              "      <td>0</td>\n",
              "      <td>0</td>\n",
              "      <td>NaN</td>\n",
              "      <td>2</td>\n",
              "      <td>0*</td>\n",
              "      <td>1</td>\n",
              "      <td>2</td>\n",
              "      <td>1</td>\n",
              "      <td>0</td>\n",
              "      <td>NaN</td>\n",
              "      <td>0</td>\n",
              "      <td>2016</td>\n",
              "    </tr>\n",
              "    <tr>\n",
              "      <th>3</th>\n",
              "      <td>AFG</td>\n",
              "      <td>Naveen -ul-Haq</td>\n",
              "      <td>0</td>\n",
              "      <td>0</td>\n",
              "      <td>0</td>\n",
              "      <td>9.0</td>\n",
              "      <td>0</td>\n",
              "      <td>8*</td>\n",
              "      <td>2</td>\n",
              "      <td>2</td>\n",
              "      <td>1</td>\n",
              "      <td>9</td>\n",
              "      <td>45.00</td>\n",
              "      <td>0</td>\n",
              "      <td>2019</td>\n",
              "    </tr>\n",
              "    <tr>\n",
              "      <th>4</th>\n",
              "      <td>AFG</td>\n",
              "      <td>Naveen -ul-Haq</td>\n",
              "      <td>0</td>\n",
              "      <td>0</td>\n",
              "      <td>0</td>\n",
              "      <td>9.0</td>\n",
              "      <td>2</td>\n",
              "      <td>8*</td>\n",
              "      <td>3</td>\n",
              "      <td>4</td>\n",
              "      <td>2</td>\n",
              "      <td>9</td>\n",
              "      <td>42.86</td>\n",
              "      <td>0</td>\n",
              "      <td>Overall</td>\n",
              "    </tr>\n",
              "  </tbody>\n",
              "</table>\n",
              "</div>"
            ],
            "text/plain": [
              "  country     player_name  0s  100s  50s  ...  NO  Runs    S/R  St     Year\n",
              "0     AFG  Najeeb Tarakai   0     0    0  ...   0     5  27.78   0     2017\n",
              "1     AFG  Najeeb Tarakai   0     0    0  ...   0     5  27.78   0  Overall\n",
              "2     AFG  Naveen -ul-Haq   0     0    0  ...   1     0    NaN   0     2016\n",
              "3     AFG  Naveen -ul-Haq   0     0    0  ...   1     9  45.00   0     2019\n",
              "4     AFG  Naveen -ul-Haq   0     0    0  ...   2     9  42.86   0  Overall\n",
              "\n",
              "[5 rows x 15 columns]"
            ]
          },
          "metadata": {
            "tags": []
          },
          "execution_count": 380
        }
      ]
    },
    {
      "cell_type": "code",
      "metadata": {
        "id": "X49YTOuC2yZK",
        "colab_type": "code",
        "outputId": "1485819f-f77a-4237-c737-4919540f0e3e",
        "colab": {
          "base_uri": "https://localhost:8080/",
          "height": 204
        }
      },
      "source": [
        "stats1 = stats[stats['Year']!=\"Overall\"]\n",
        "stats1.head()"
      ],
      "execution_count": 381,
      "outputs": [
        {
          "output_type": "execute_result",
          "data": {
            "text/html": [
              "<div>\n",
              "<style scoped>\n",
              "    .dataframe tbody tr th:only-of-type {\n",
              "        vertical-align: middle;\n",
              "    }\n",
              "\n",
              "    .dataframe tbody tr th {\n",
              "        vertical-align: top;\n",
              "    }\n",
              "\n",
              "    .dataframe thead th {\n",
              "        text-align: right;\n",
              "    }\n",
              "</style>\n",
              "<table border=\"1\" class=\"dataframe\">\n",
              "  <thead>\n",
              "    <tr style=\"text-align: right;\">\n",
              "      <th></th>\n",
              "      <th>country</th>\n",
              "      <th>player_name</th>\n",
              "      <th>0s</th>\n",
              "      <th>100s</th>\n",
              "      <th>50s</th>\n",
              "      <th>Avg</th>\n",
              "      <th>Ca</th>\n",
              "      <th>HS</th>\n",
              "      <th>Inns</th>\n",
              "      <th>Mat</th>\n",
              "      <th>NO</th>\n",
              "      <th>Runs</th>\n",
              "      <th>S/R</th>\n",
              "      <th>St</th>\n",
              "      <th>Year</th>\n",
              "    </tr>\n",
              "  </thead>\n",
              "  <tbody>\n",
              "    <tr>\n",
              "      <th>0</th>\n",
              "      <td>AFG</td>\n",
              "      <td>Najeeb Tarakai</td>\n",
              "      <td>0</td>\n",
              "      <td>0</td>\n",
              "      <td>0</td>\n",
              "      <td>5.0</td>\n",
              "      <td>0</td>\n",
              "      <td>5</td>\n",
              "      <td>1</td>\n",
              "      <td>1</td>\n",
              "      <td>0</td>\n",
              "      <td>5</td>\n",
              "      <td>27.78</td>\n",
              "      <td>0</td>\n",
              "      <td>2017</td>\n",
              "    </tr>\n",
              "    <tr>\n",
              "      <th>2</th>\n",
              "      <td>AFG</td>\n",
              "      <td>Naveen -ul-Haq</td>\n",
              "      <td>0</td>\n",
              "      <td>0</td>\n",
              "      <td>0</td>\n",
              "      <td>NaN</td>\n",
              "      <td>2</td>\n",
              "      <td>0*</td>\n",
              "      <td>1</td>\n",
              "      <td>2</td>\n",
              "      <td>1</td>\n",
              "      <td>0</td>\n",
              "      <td>NaN</td>\n",
              "      <td>0</td>\n",
              "      <td>2016</td>\n",
              "    </tr>\n",
              "    <tr>\n",
              "      <th>3</th>\n",
              "      <td>AFG</td>\n",
              "      <td>Naveen -ul-Haq</td>\n",
              "      <td>0</td>\n",
              "      <td>0</td>\n",
              "      <td>0</td>\n",
              "      <td>9.0</td>\n",
              "      <td>0</td>\n",
              "      <td>8*</td>\n",
              "      <td>2</td>\n",
              "      <td>2</td>\n",
              "      <td>1</td>\n",
              "      <td>9</td>\n",
              "      <td>45.00</td>\n",
              "      <td>0</td>\n",
              "      <td>2019</td>\n",
              "    </tr>\n",
              "    <tr>\n",
              "      <th>5</th>\n",
              "      <td>AFG</td>\n",
              "      <td>Zakiullah Zaki</td>\n",
              "      <td>0</td>\n",
              "      <td>0</td>\n",
              "      <td>0</td>\n",
              "      <td>NaN</td>\n",
              "      <td>0</td>\n",
              "      <td>3*</td>\n",
              "      <td>1</td>\n",
              "      <td>1</td>\n",
              "      <td>1</td>\n",
              "      <td>3</td>\n",
              "      <td>13.64</td>\n",
              "      <td>0</td>\n",
              "      <td>2012</td>\n",
              "    </tr>\n",
              "    <tr>\n",
              "      <th>7</th>\n",
              "      <td>AFG</td>\n",
              "      <td>Usman Ghani</td>\n",
              "      <td>1</td>\n",
              "      <td>1</td>\n",
              "      <td>2</td>\n",
              "      <td>39.5</td>\n",
              "      <td>2</td>\n",
              "      <td>118</td>\n",
              "      <td>8</td>\n",
              "      <td>8</td>\n",
              "      <td>0</td>\n",
              "      <td>316</td>\n",
              "      <td>78.61</td>\n",
              "      <td>0</td>\n",
              "      <td>2014</td>\n",
              "    </tr>\n",
              "  </tbody>\n",
              "</table>\n",
              "</div>"
            ],
            "text/plain": [
              "  country     player_name  0s  100s  50s   Avg  ...  Mat NO  Runs    S/R  St  Year\n",
              "0     AFG  Najeeb Tarakai   0     0    0   5.0  ...    1  0     5  27.78   0  2017\n",
              "2     AFG  Naveen -ul-Haq   0     0    0   NaN  ...    2  1     0    NaN   0  2016\n",
              "3     AFG  Naveen -ul-Haq   0     0    0   9.0  ...    2  1     9  45.00   0  2019\n",
              "5     AFG  Zakiullah Zaki   0     0    0   NaN  ...    1  1     3  13.64   0  2012\n",
              "7     AFG     Usman Ghani   1     1    2  39.5  ...    8  0   316  78.61   0  2014\n",
              "\n",
              "[5 rows x 15 columns]"
            ]
          },
          "metadata": {
            "tags": []
          },
          "execution_count": 381
        }
      ]
    },
    {
      "cell_type": "code",
      "metadata": {
        "id": "GnP0gPaG0CW4",
        "colab_type": "code",
        "outputId": "114790b7-f3b8-44f5-84af-494aca03de22",
        "colab": {
          "base_uri": "https://localhost:8080/",
          "height": 408
        }
      },
      "source": [
        "stats1[\"Avg\"] = stats1[\"Avg\"].fillna(0)\n",
        "stats1[\"S/R\"] = stats1[\"S/R\"].fillna(0)\n",
        "stats1.head()"
      ],
      "execution_count": 382,
      "outputs": [
        {
          "output_type": "stream",
          "text": [
            "/usr/local/lib/python3.6/dist-packages/ipykernel_launcher.py:1: SettingWithCopyWarning: \n",
            "A value is trying to be set on a copy of a slice from a DataFrame.\n",
            "Try using .loc[row_indexer,col_indexer] = value instead\n",
            "\n",
            "See the caveats in the documentation: http://pandas.pydata.org/pandas-docs/stable/user_guide/indexing.html#returning-a-view-versus-a-copy\n",
            "  \"\"\"Entry point for launching an IPython kernel.\n",
            "/usr/local/lib/python3.6/dist-packages/ipykernel_launcher.py:2: SettingWithCopyWarning: \n",
            "A value is trying to be set on a copy of a slice from a DataFrame.\n",
            "Try using .loc[row_indexer,col_indexer] = value instead\n",
            "\n",
            "See the caveats in the documentation: http://pandas.pydata.org/pandas-docs/stable/user_guide/indexing.html#returning-a-view-versus-a-copy\n",
            "  \n"
          ],
          "name": "stderr"
        },
        {
          "output_type": "execute_result",
          "data": {
            "text/html": [
              "<div>\n",
              "<style scoped>\n",
              "    .dataframe tbody tr th:only-of-type {\n",
              "        vertical-align: middle;\n",
              "    }\n",
              "\n",
              "    .dataframe tbody tr th {\n",
              "        vertical-align: top;\n",
              "    }\n",
              "\n",
              "    .dataframe thead th {\n",
              "        text-align: right;\n",
              "    }\n",
              "</style>\n",
              "<table border=\"1\" class=\"dataframe\">\n",
              "  <thead>\n",
              "    <tr style=\"text-align: right;\">\n",
              "      <th></th>\n",
              "      <th>country</th>\n",
              "      <th>player_name</th>\n",
              "      <th>0s</th>\n",
              "      <th>100s</th>\n",
              "      <th>50s</th>\n",
              "      <th>Avg</th>\n",
              "      <th>Ca</th>\n",
              "      <th>HS</th>\n",
              "      <th>Inns</th>\n",
              "      <th>Mat</th>\n",
              "      <th>NO</th>\n",
              "      <th>Runs</th>\n",
              "      <th>S/R</th>\n",
              "      <th>St</th>\n",
              "      <th>Year</th>\n",
              "    </tr>\n",
              "  </thead>\n",
              "  <tbody>\n",
              "    <tr>\n",
              "      <th>0</th>\n",
              "      <td>AFG</td>\n",
              "      <td>Najeeb Tarakai</td>\n",
              "      <td>0</td>\n",
              "      <td>0</td>\n",
              "      <td>0</td>\n",
              "      <td>5.0</td>\n",
              "      <td>0</td>\n",
              "      <td>5</td>\n",
              "      <td>1</td>\n",
              "      <td>1</td>\n",
              "      <td>0</td>\n",
              "      <td>5</td>\n",
              "      <td>27.78</td>\n",
              "      <td>0</td>\n",
              "      <td>2017</td>\n",
              "    </tr>\n",
              "    <tr>\n",
              "      <th>2</th>\n",
              "      <td>AFG</td>\n",
              "      <td>Naveen -ul-Haq</td>\n",
              "      <td>0</td>\n",
              "      <td>0</td>\n",
              "      <td>0</td>\n",
              "      <td>0.0</td>\n",
              "      <td>2</td>\n",
              "      <td>0*</td>\n",
              "      <td>1</td>\n",
              "      <td>2</td>\n",
              "      <td>1</td>\n",
              "      <td>0</td>\n",
              "      <td>0.00</td>\n",
              "      <td>0</td>\n",
              "      <td>2016</td>\n",
              "    </tr>\n",
              "    <tr>\n",
              "      <th>3</th>\n",
              "      <td>AFG</td>\n",
              "      <td>Naveen -ul-Haq</td>\n",
              "      <td>0</td>\n",
              "      <td>0</td>\n",
              "      <td>0</td>\n",
              "      <td>9.0</td>\n",
              "      <td>0</td>\n",
              "      <td>8*</td>\n",
              "      <td>2</td>\n",
              "      <td>2</td>\n",
              "      <td>1</td>\n",
              "      <td>9</td>\n",
              "      <td>45.00</td>\n",
              "      <td>0</td>\n",
              "      <td>2019</td>\n",
              "    </tr>\n",
              "    <tr>\n",
              "      <th>5</th>\n",
              "      <td>AFG</td>\n",
              "      <td>Zakiullah Zaki</td>\n",
              "      <td>0</td>\n",
              "      <td>0</td>\n",
              "      <td>0</td>\n",
              "      <td>0.0</td>\n",
              "      <td>0</td>\n",
              "      <td>3*</td>\n",
              "      <td>1</td>\n",
              "      <td>1</td>\n",
              "      <td>1</td>\n",
              "      <td>3</td>\n",
              "      <td>13.64</td>\n",
              "      <td>0</td>\n",
              "      <td>2012</td>\n",
              "    </tr>\n",
              "    <tr>\n",
              "      <th>7</th>\n",
              "      <td>AFG</td>\n",
              "      <td>Usman Ghani</td>\n",
              "      <td>1</td>\n",
              "      <td>1</td>\n",
              "      <td>2</td>\n",
              "      <td>39.5</td>\n",
              "      <td>2</td>\n",
              "      <td>118</td>\n",
              "      <td>8</td>\n",
              "      <td>8</td>\n",
              "      <td>0</td>\n",
              "      <td>316</td>\n",
              "      <td>78.61</td>\n",
              "      <td>0</td>\n",
              "      <td>2014</td>\n",
              "    </tr>\n",
              "  </tbody>\n",
              "</table>\n",
              "</div>"
            ],
            "text/plain": [
              "  country     player_name  0s  100s  50s   Avg  ...  Mat NO  Runs    S/R  St  Year\n",
              "0     AFG  Najeeb Tarakai   0     0    0   5.0  ...    1  0     5  27.78   0  2017\n",
              "2     AFG  Naveen -ul-Haq   0     0    0   0.0  ...    2  1     0   0.00   0  2016\n",
              "3     AFG  Naveen -ul-Haq   0     0    0   9.0  ...    2  1     9  45.00   0  2019\n",
              "5     AFG  Zakiullah Zaki   0     0    0   0.0  ...    1  1     3  13.64   0  2012\n",
              "7     AFG     Usman Ghani   1     1    2  39.5  ...    8  0   316  78.61   0  2014\n",
              "\n",
              "[5 rows x 15 columns]"
            ]
          },
          "metadata": {
            "tags": []
          },
          "execution_count": 382
        }
      ]
    },
    {
      "cell_type": "code",
      "metadata": {
        "id": "TxlSIfDv0CmA",
        "colab_type": "code",
        "outputId": "b468bc3b-bae1-4ab9-837e-95fdd70f3842",
        "colab": {
          "base_uri": "https://localhost:8080/",
          "height": 51
        }
      },
      "source": [
        "Unique = stats.player_name.unique()\n",
        "Unique"
      ],
      "execution_count": 383,
      "outputs": [
        {
          "output_type": "execute_result",
          "data": {
            "text/plain": [
              "array(['Najeeb Tarakai', 'Naveen -ul-Haq', 'Zakiullah Zaki', ...,\n",
              "       'Babu Meman', 'Vincent Hogg', 'John Rennie'], dtype=object)"
            ]
          },
          "metadata": {
            "tags": []
          },
          "execution_count": 383
        }
      ]
    },
    {
      "cell_type": "code",
      "metadata": {
        "id": "-bj8f8rEsx1z",
        "colab_type": "code",
        "colab": {}
      },
      "source": [
        "#Better List"
      ],
      "execution_count": 0,
      "outputs": []
    },
    {
      "cell_type": "code",
      "metadata": {
        "id": "rPyR5V078_Vl",
        "colab_type": "code",
        "outputId": "7f069a1a-c837-4dd6-b920-9e3ad0d7849a",
        "colab": {
          "base_uri": "https://localhost:8080/",
          "height": 306
        }
      },
      "source": [
        "\n",
        "stats1[\"Avg\"] = stats1[\"Avg\"]-(3*stats[\"NO\"])\n",
        "stats1.head()"
      ],
      "execution_count": 385,
      "outputs": [
        {
          "output_type": "stream",
          "text": [
            "/usr/local/lib/python3.6/dist-packages/ipykernel_launcher.py:2: SettingWithCopyWarning: \n",
            "A value is trying to be set on a copy of a slice from a DataFrame.\n",
            "Try using .loc[row_indexer,col_indexer] = value instead\n",
            "\n",
            "See the caveats in the documentation: http://pandas.pydata.org/pandas-docs/stable/user_guide/indexing.html#returning-a-view-versus-a-copy\n",
            "  \n"
          ],
          "name": "stderr"
        },
        {
          "output_type": "execute_result",
          "data": {
            "text/html": [
              "<div>\n",
              "<style scoped>\n",
              "    .dataframe tbody tr th:only-of-type {\n",
              "        vertical-align: middle;\n",
              "    }\n",
              "\n",
              "    .dataframe tbody tr th {\n",
              "        vertical-align: top;\n",
              "    }\n",
              "\n",
              "    .dataframe thead th {\n",
              "        text-align: right;\n",
              "    }\n",
              "</style>\n",
              "<table border=\"1\" class=\"dataframe\">\n",
              "  <thead>\n",
              "    <tr style=\"text-align: right;\">\n",
              "      <th></th>\n",
              "      <th>country</th>\n",
              "      <th>player_name</th>\n",
              "      <th>0s</th>\n",
              "      <th>100s</th>\n",
              "      <th>50s</th>\n",
              "      <th>Avg</th>\n",
              "      <th>Ca</th>\n",
              "      <th>HS</th>\n",
              "      <th>Inns</th>\n",
              "      <th>Mat</th>\n",
              "      <th>NO</th>\n",
              "      <th>Runs</th>\n",
              "      <th>S/R</th>\n",
              "      <th>St</th>\n",
              "      <th>Year</th>\n",
              "    </tr>\n",
              "  </thead>\n",
              "  <tbody>\n",
              "    <tr>\n",
              "      <th>0</th>\n",
              "      <td>AFG</td>\n",
              "      <td>Najeeb Tarakai</td>\n",
              "      <td>0</td>\n",
              "      <td>0</td>\n",
              "      <td>0</td>\n",
              "      <td>5.0</td>\n",
              "      <td>0</td>\n",
              "      <td>5</td>\n",
              "      <td>1</td>\n",
              "      <td>1</td>\n",
              "      <td>0</td>\n",
              "      <td>5</td>\n",
              "      <td>27.78</td>\n",
              "      <td>0</td>\n",
              "      <td>2017</td>\n",
              "    </tr>\n",
              "    <tr>\n",
              "      <th>2</th>\n",
              "      <td>AFG</td>\n",
              "      <td>Naveen -ul-Haq</td>\n",
              "      <td>0</td>\n",
              "      <td>0</td>\n",
              "      <td>0</td>\n",
              "      <td>-3.0</td>\n",
              "      <td>2</td>\n",
              "      <td>0*</td>\n",
              "      <td>1</td>\n",
              "      <td>2</td>\n",
              "      <td>1</td>\n",
              "      <td>0</td>\n",
              "      <td>0.00</td>\n",
              "      <td>0</td>\n",
              "      <td>2016</td>\n",
              "    </tr>\n",
              "    <tr>\n",
              "      <th>3</th>\n",
              "      <td>AFG</td>\n",
              "      <td>Naveen -ul-Haq</td>\n",
              "      <td>0</td>\n",
              "      <td>0</td>\n",
              "      <td>0</td>\n",
              "      <td>6.0</td>\n",
              "      <td>0</td>\n",
              "      <td>8*</td>\n",
              "      <td>2</td>\n",
              "      <td>2</td>\n",
              "      <td>1</td>\n",
              "      <td>9</td>\n",
              "      <td>45.00</td>\n",
              "      <td>0</td>\n",
              "      <td>2019</td>\n",
              "    </tr>\n",
              "    <tr>\n",
              "      <th>5</th>\n",
              "      <td>AFG</td>\n",
              "      <td>Zakiullah Zaki</td>\n",
              "      <td>0</td>\n",
              "      <td>0</td>\n",
              "      <td>0</td>\n",
              "      <td>-3.0</td>\n",
              "      <td>0</td>\n",
              "      <td>3*</td>\n",
              "      <td>1</td>\n",
              "      <td>1</td>\n",
              "      <td>1</td>\n",
              "      <td>3</td>\n",
              "      <td>13.64</td>\n",
              "      <td>0</td>\n",
              "      <td>2012</td>\n",
              "    </tr>\n",
              "    <tr>\n",
              "      <th>7</th>\n",
              "      <td>AFG</td>\n",
              "      <td>Usman Ghani</td>\n",
              "      <td>1</td>\n",
              "      <td>1</td>\n",
              "      <td>2</td>\n",
              "      <td>39.5</td>\n",
              "      <td>2</td>\n",
              "      <td>118</td>\n",
              "      <td>8</td>\n",
              "      <td>8</td>\n",
              "      <td>0</td>\n",
              "      <td>316</td>\n",
              "      <td>78.61</td>\n",
              "      <td>0</td>\n",
              "      <td>2014</td>\n",
              "    </tr>\n",
              "  </tbody>\n",
              "</table>\n",
              "</div>"
            ],
            "text/plain": [
              "  country     player_name  0s  100s  50s   Avg  ...  Mat NO  Runs    S/R  St  Year\n",
              "0     AFG  Najeeb Tarakai   0     0    0   5.0  ...    1  0     5  27.78   0  2017\n",
              "2     AFG  Naveen -ul-Haq   0     0    0  -3.0  ...    2  1     0   0.00   0  2016\n",
              "3     AFG  Naveen -ul-Haq   0     0    0   6.0  ...    2  1     9  45.00   0  2019\n",
              "5     AFG  Zakiullah Zaki   0     0    0  -3.0  ...    1  1     3  13.64   0  2012\n",
              "7     AFG     Usman Ghani   1     1    2  39.5  ...    8  0   316  78.61   0  2014\n",
              "\n",
              "[5 rows x 15 columns]"
            ]
          },
          "metadata": {
            "tags": []
          },
          "execution_count": 385
        }
      ]
    },
    {
      "cell_type": "code",
      "metadata": {
        "id": "w0H-W8Np8_ew",
        "colab_type": "code",
        "outputId": "5bd9ebcd-64d4-41dd-9c85-ba30c8228ad5",
        "colab": {
          "base_uri": "https://localhost:8080/",
          "height": 54
        }
      },
      "source": [
        "gradient = 8.0\n",
        "Year_Dict = {}\n",
        "for i in range(1971,2020):\n",
        "  Year_Dict[i] = gradient\n",
        "  gradient = gradient-0.08\n",
        "print(Year_Dict)"
      ],
      "execution_count": 386,
      "outputs": [
        {
          "output_type": "stream",
          "text": [
            "{1971: 8.0, 1972: 7.92, 1973: 7.84, 1974: 7.76, 1975: 7.68, 1976: 7.6, 1977: 7.52, 1978: 7.4399999999999995, 1979: 7.359999999999999, 1980: 7.279999999999999, 1981: 7.199999999999999, 1982: 7.119999999999999, 1983: 7.039999999999999, 1984: 6.959999999999999, 1985: 6.879999999999999, 1986: 6.799999999999999, 1987: 6.719999999999999, 1988: 6.639999999999999, 1989: 6.559999999999999, 1990: 6.479999999999999, 1991: 6.399999999999999, 1992: 6.3199999999999985, 1993: 6.239999999999998, 1994: 6.159999999999998, 1995: 6.079999999999998, 1996: 5.999999999999998, 1997: 5.919999999999998, 1998: 5.839999999999998, 1999: 5.759999999999998, 2000: 5.679999999999998, 2001: 5.599999999999998, 2002: 5.519999999999998, 2003: 5.439999999999998, 2004: 5.359999999999998, 2005: 5.279999999999998, 2006: 5.1999999999999975, 2007: 5.119999999999997, 2008: 5.039999999999997, 2009: 4.959999999999997, 2010: 4.879999999999997, 2011: 4.799999999999997, 2012: 4.719999999999997, 2013: 4.639999999999997, 2014: 4.559999999999997, 2015: 4.479999999999997, 2016: 4.399999999999997, 2017: 4.319999999999997, 2018: 4.239999999999997, 2019: 4.159999999999997}\n"
          ],
          "name": "stdout"
        }
      ]
    },
    {
      "cell_type": "code",
      "metadata": {
        "id": "PRQz-rTonLEf",
        "colab_type": "code",
        "colab": {}
      },
      "source": [
        "#Start\n",
        "stats1 = stats1[stats1['player_name']!=\"Shahid Afridi\"]"
      ],
      "execution_count": 0,
      "outputs": []
    },
    {
      "cell_type": "code",
      "metadata": {
        "id": "PIrVQFKgCYeV",
        "colab_type": "code",
        "outputId": "3f91e631-dc74-4512-9be1-e9a07a2e0903",
        "colab": {
          "base_uri": "https://localhost:8080/",
          "height": 204
        }
      },
      "source": [
        "stats3 = stats1[stats1['Inns']>10]\n",
        "\n",
        "stats3.head()"
      ],
      "execution_count": 388,
      "outputs": [
        {
          "output_type": "execute_result",
          "data": {
            "text/html": [
              "<div>\n",
              "<style scoped>\n",
              "    .dataframe tbody tr th:only-of-type {\n",
              "        vertical-align: middle;\n",
              "    }\n",
              "\n",
              "    .dataframe tbody tr th {\n",
              "        vertical-align: top;\n",
              "    }\n",
              "\n",
              "    .dataframe thead th {\n",
              "        text-align: right;\n",
              "    }\n",
              "</style>\n",
              "<table border=\"1\" class=\"dataframe\">\n",
              "  <thead>\n",
              "    <tr style=\"text-align: right;\">\n",
              "      <th></th>\n",
              "      <th>country</th>\n",
              "      <th>player_name</th>\n",
              "      <th>0s</th>\n",
              "      <th>100s</th>\n",
              "      <th>50s</th>\n",
              "      <th>Avg</th>\n",
              "      <th>Ca</th>\n",
              "      <th>HS</th>\n",
              "      <th>Inns</th>\n",
              "      <th>Mat</th>\n",
              "      <th>NO</th>\n",
              "      <th>Runs</th>\n",
              "      <th>S/R</th>\n",
              "      <th>St</th>\n",
              "      <th>Year</th>\n",
              "    </tr>\n",
              "  </thead>\n",
              "  <tbody>\n",
              "    <tr>\n",
              "      <th>12</th>\n",
              "      <td>AFG</td>\n",
              "      <td>Karim Sadiq</td>\n",
              "      <td>3</td>\n",
              "      <td>1</td>\n",
              "      <td>0</td>\n",
              "      <td>17.50</td>\n",
              "      <td>3</td>\n",
              "      <td>114*</td>\n",
              "      <td>12</td>\n",
              "      <td>13</td>\n",
              "      <td>2</td>\n",
              "      <td>235</td>\n",
              "      <td>74.13</td>\n",
              "      <td>0</td>\n",
              "      <td>2010</td>\n",
              "    </tr>\n",
              "    <tr>\n",
              "      <th>39</th>\n",
              "      <td>AFG</td>\n",
              "      <td>Hashmatullah Shahidi</td>\n",
              "      <td>1</td>\n",
              "      <td>0</td>\n",
              "      <td>4</td>\n",
              "      <td>26.77</td>\n",
              "      <td>3</td>\n",
              "      <td>76</td>\n",
              "      <td>14</td>\n",
              "      <td>14</td>\n",
              "      <td>1</td>\n",
              "      <td>387</td>\n",
              "      <td>63.44</td>\n",
              "      <td>0</td>\n",
              "      <td>2019</td>\n",
              "    </tr>\n",
              "    <tr>\n",
              "      <th>87</th>\n",
              "      <td>AFG</td>\n",
              "      <td>Rahmat Shah</td>\n",
              "      <td>1</td>\n",
              "      <td>1</td>\n",
              "      <td>5</td>\n",
              "      <td>36.36</td>\n",
              "      <td>3</td>\n",
              "      <td>108*</td>\n",
              "      <td>15</td>\n",
              "      <td>16</td>\n",
              "      <td>1</td>\n",
              "      <td>551</td>\n",
              "      <td>70.10</td>\n",
              "      <td>0</td>\n",
              "      <td>2017</td>\n",
              "    </tr>\n",
              "    <tr>\n",
              "      <th>88</th>\n",
              "      <td>AFG</td>\n",
              "      <td>Rahmat Shah</td>\n",
              "      <td>0</td>\n",
              "      <td>1</td>\n",
              "      <td>6</td>\n",
              "      <td>38.00</td>\n",
              "      <td>6</td>\n",
              "      <td>114</td>\n",
              "      <td>19</td>\n",
              "      <td>20</td>\n",
              "      <td>0</td>\n",
              "      <td>722</td>\n",
              "      <td>74.74</td>\n",
              "      <td>0</td>\n",
              "      <td>2018</td>\n",
              "    </tr>\n",
              "    <tr>\n",
              "      <th>89</th>\n",
              "      <td>AFG</td>\n",
              "      <td>Rahmat Shah</td>\n",
              "      <td>1</td>\n",
              "      <td>1</td>\n",
              "      <td>4</td>\n",
              "      <td>32.30</td>\n",
              "      <td>6</td>\n",
              "      <td>113</td>\n",
              "      <td>20</td>\n",
              "      <td>20</td>\n",
              "      <td>0</td>\n",
              "      <td>646</td>\n",
              "      <td>68.58</td>\n",
              "      <td>0</td>\n",
              "      <td>2019</td>\n",
              "    </tr>\n",
              "  </tbody>\n",
              "</table>\n",
              "</div>"
            ],
            "text/plain": [
              "   country           player_name  0s  100s  50s  ...  NO  Runs    S/R  St  Year\n",
              "12     AFG           Karim Sadiq   3     1    0  ...   2   235  74.13   0  2010\n",
              "39     AFG  Hashmatullah Shahidi   1     0    4  ...   1   387  63.44   0  2019\n",
              "87     AFG           Rahmat Shah   1     1    5  ...   1   551  70.10   0  2017\n",
              "88     AFG           Rahmat Shah   0     1    6  ...   0   722  74.74   0  2018\n",
              "89     AFG           Rahmat Shah   1     1    4  ...   0   646  68.58   0  2019\n",
              "\n",
              "[5 rows x 15 columns]"
            ]
          },
          "metadata": {
            "tags": []
          },
          "execution_count": 388
        }
      ]
    },
    {
      "cell_type": "code",
      "metadata": {
        "id": "YgwTzqq9Jf05",
        "colab_type": "code",
        "colab": {}
      },
      "source": [
        "scaled_features = stats3.copy()"
      ],
      "execution_count": 0,
      "outputs": []
    },
    {
      "cell_type": "code",
      "metadata": {
        "id": "Eb5EhsSEJf-r",
        "colab_type": "code",
        "colab": {}
      },
      "source": [
        "from sklearn.preprocessing import MinMaxScaler\n",
        "col_names = ['Avg', 'S/R']\n",
        "features = scaled_features[col_names]\n",
        "scaler = MinMaxScaler().fit(features.values)\n",
        "features = scaler.transform(features.values)"
      ],
      "execution_count": 0,
      "outputs": []
    },
    {
      "cell_type": "code",
      "metadata": {
        "id": "INjojbyzCYxg",
        "colab_type": "code",
        "outputId": "ababae49-f106-4e1a-f3ef-2093d753991a",
        "colab": {
          "base_uri": "https://localhost:8080/",
          "height": 204
        }
      },
      "source": [
        "scaled_features[col_names] = features\n",
        "scaled_features.head()"
      ],
      "execution_count": 391,
      "outputs": [
        {
          "output_type": "execute_result",
          "data": {
            "text/html": [
              "<div>\n",
              "<style scoped>\n",
              "    .dataframe tbody tr th:only-of-type {\n",
              "        vertical-align: middle;\n",
              "    }\n",
              "\n",
              "    .dataframe tbody tr th {\n",
              "        vertical-align: top;\n",
              "    }\n",
              "\n",
              "    .dataframe thead th {\n",
              "        text-align: right;\n",
              "    }\n",
              "</style>\n",
              "<table border=\"1\" class=\"dataframe\">\n",
              "  <thead>\n",
              "    <tr style=\"text-align: right;\">\n",
              "      <th></th>\n",
              "      <th>country</th>\n",
              "      <th>player_name</th>\n",
              "      <th>0s</th>\n",
              "      <th>100s</th>\n",
              "      <th>50s</th>\n",
              "      <th>Avg</th>\n",
              "      <th>Ca</th>\n",
              "      <th>HS</th>\n",
              "      <th>Inns</th>\n",
              "      <th>Mat</th>\n",
              "      <th>NO</th>\n",
              "      <th>Runs</th>\n",
              "      <th>S/R</th>\n",
              "      <th>St</th>\n",
              "      <th>Year</th>\n",
              "    </tr>\n",
              "  </thead>\n",
              "  <tbody>\n",
              "    <tr>\n",
              "      <th>12</th>\n",
              "      <td>AFG</td>\n",
              "      <td>Karim Sadiq</td>\n",
              "      <td>3</td>\n",
              "      <td>1</td>\n",
              "      <td>0</td>\n",
              "      <td>0.288109</td>\n",
              "      <td>3</td>\n",
              "      <td>114*</td>\n",
              "      <td>12</td>\n",
              "      <td>13</td>\n",
              "      <td>2</td>\n",
              "      <td>235</td>\n",
              "      <td>0.417258</td>\n",
              "      <td>0</td>\n",
              "      <td>2010</td>\n",
              "    </tr>\n",
              "    <tr>\n",
              "      <th>39</th>\n",
              "      <td>AFG</td>\n",
              "      <td>Hashmatullah Shahidi</td>\n",
              "      <td>1</td>\n",
              "      <td>0</td>\n",
              "      <td>4</td>\n",
              "      <td>0.353409</td>\n",
              "      <td>3</td>\n",
              "      <td>76</td>\n",
              "      <td>14</td>\n",
              "      <td>14</td>\n",
              "      <td>1</td>\n",
              "      <td>387</td>\n",
              "      <td>0.357087</td>\n",
              "      <td>0</td>\n",
              "      <td>2019</td>\n",
              "    </tr>\n",
              "    <tr>\n",
              "      <th>87</th>\n",
              "      <td>AFG</td>\n",
              "      <td>Rahmat Shah</td>\n",
              "      <td>1</td>\n",
              "      <td>1</td>\n",
              "      <td>5</td>\n",
              "      <td>0.420964</td>\n",
              "      <td>3</td>\n",
              "      <td>108*</td>\n",
              "      <td>15</td>\n",
              "      <td>16</td>\n",
              "      <td>1</td>\n",
              "      <td>551</td>\n",
              "      <td>0.394574</td>\n",
              "      <td>0</td>\n",
              "      <td>2017</td>\n",
              "    </tr>\n",
              "    <tr>\n",
              "      <th>88</th>\n",
              "      <td>AFG</td>\n",
              "      <td>Rahmat Shah</td>\n",
              "      <td>0</td>\n",
              "      <td>1</td>\n",
              "      <td>6</td>\n",
              "      <td>0.432516</td>\n",
              "      <td>6</td>\n",
              "      <td>114</td>\n",
              "      <td>19</td>\n",
              "      <td>20</td>\n",
              "      <td>0</td>\n",
              "      <td>722</td>\n",
              "      <td>0.420691</td>\n",
              "      <td>0</td>\n",
              "      <td>2018</td>\n",
              "    </tr>\n",
              "    <tr>\n",
              "      <th>89</th>\n",
              "      <td>AFG</td>\n",
              "      <td>Rahmat Shah</td>\n",
              "      <td>1</td>\n",
              "      <td>1</td>\n",
              "      <td>4</td>\n",
              "      <td>0.392364</td>\n",
              "      <td>6</td>\n",
              "      <td>113</td>\n",
              "      <td>20</td>\n",
              "      <td>20</td>\n",
              "      <td>0</td>\n",
              "      <td>646</td>\n",
              "      <td>0.386018</td>\n",
              "      <td>0</td>\n",
              "      <td>2019</td>\n",
              "    </tr>\n",
              "  </tbody>\n",
              "</table>\n",
              "</div>"
            ],
            "text/plain": [
              "   country           player_name  0s  100s  50s  ...  NO  Runs       S/R  St  Year\n",
              "12     AFG           Karim Sadiq   3     1    0  ...   2   235  0.417258   0  2010\n",
              "39     AFG  Hashmatullah Shahidi   1     0    4  ...   1   387  0.357087   0  2019\n",
              "87     AFG           Rahmat Shah   1     1    5  ...   1   551  0.394574   0  2017\n",
              "88     AFG           Rahmat Shah   0     1    6  ...   0   722  0.420691   0  2018\n",
              "89     AFG           Rahmat Shah   1     1    4  ...   0   646  0.386018   0  2019\n",
              "\n",
              "[5 rows x 15 columns]"
            ]
          },
          "metadata": {
            "tags": []
          },
          "execution_count": 391
        }
      ]
    },
    {
      "cell_type": "code",
      "metadata": {
        "id": "qC8ixZymLmy8",
        "colab_type": "code",
        "outputId": "c37b7bac-a1e3-41df-fbd6-57609cfcf7c1",
        "colab": {
          "base_uri": "https://localhost:8080/",
          "height": 221
        }
      },
      "source": [
        "stats3.player_name.value_counts()"
      ],
      "execution_count": 392,
      "outputs": [
        {
          "output_type": "execute_result",
          "data": {
            "text/plain": [
              "Sachin Tendulkar        20\n",
              "Sanath Jayasuriya       18\n",
              "Mahela Jayawardene      17\n",
              "Kumar Sangakkara        16\n",
              "Inzamam-ul-Haq          15\n",
              "                        ..\n",
              "Dhiman Ghosh             1\n",
              "Somachandra De Silva     1\n",
              "Blessing Mahwire         1\n",
              "James Tredwell           1\n",
              "Llorne Howell            1\n",
              "Name: player_name, Length: 676, dtype: int64"
            ]
          },
          "metadata": {
            "tags": []
          },
          "execution_count": 392
        }
      ]
    },
    {
      "cell_type": "code",
      "metadata": {
        "id": "gxby6ngm8_pS",
        "colab_type": "code",
        "outputId": "e62ee891-8e0b-4837-92e5-d90ab9da87af",
        "colab": {
          "base_uri": "https://localhost:8080/",
          "height": 34
        }
      },
      "source": [
        "(stats3['player_name']=='Rahmat Shah').sum()"
      ],
      "execution_count": 393,
      "outputs": [
        {
          "output_type": "execute_result",
          "data": {
            "text/plain": [
              "3"
            ]
          },
          "metadata": {
            "tags": []
          },
          "execution_count": 393
        }
      ]
    },
    {
      "cell_type": "code",
      "metadata": {
        "id": "ueEQhniXONk3",
        "colab_type": "code",
        "outputId": "70556bcf-6f7f-47a1-fa6e-333871e0ad37",
        "colab": {
          "base_uri": "https://localhost:8080/",
          "height": 204
        }
      },
      "source": [
        "stats3.reset_index(drop=True, inplace=True)\n",
        "stats3.head()"
      ],
      "execution_count": 394,
      "outputs": [
        {
          "output_type": "execute_result",
          "data": {
            "text/html": [
              "<div>\n",
              "<style scoped>\n",
              "    .dataframe tbody tr th:only-of-type {\n",
              "        vertical-align: middle;\n",
              "    }\n",
              "\n",
              "    .dataframe tbody tr th {\n",
              "        vertical-align: top;\n",
              "    }\n",
              "\n",
              "    .dataframe thead th {\n",
              "        text-align: right;\n",
              "    }\n",
              "</style>\n",
              "<table border=\"1\" class=\"dataframe\">\n",
              "  <thead>\n",
              "    <tr style=\"text-align: right;\">\n",
              "      <th></th>\n",
              "      <th>country</th>\n",
              "      <th>player_name</th>\n",
              "      <th>0s</th>\n",
              "      <th>100s</th>\n",
              "      <th>50s</th>\n",
              "      <th>Avg</th>\n",
              "      <th>Ca</th>\n",
              "      <th>HS</th>\n",
              "      <th>Inns</th>\n",
              "      <th>Mat</th>\n",
              "      <th>NO</th>\n",
              "      <th>Runs</th>\n",
              "      <th>S/R</th>\n",
              "      <th>St</th>\n",
              "      <th>Year</th>\n",
              "    </tr>\n",
              "  </thead>\n",
              "  <tbody>\n",
              "    <tr>\n",
              "      <th>0</th>\n",
              "      <td>AFG</td>\n",
              "      <td>Karim Sadiq</td>\n",
              "      <td>3</td>\n",
              "      <td>1</td>\n",
              "      <td>0</td>\n",
              "      <td>17.50</td>\n",
              "      <td>3</td>\n",
              "      <td>114*</td>\n",
              "      <td>12</td>\n",
              "      <td>13</td>\n",
              "      <td>2</td>\n",
              "      <td>235</td>\n",
              "      <td>74.13</td>\n",
              "      <td>0</td>\n",
              "      <td>2010</td>\n",
              "    </tr>\n",
              "    <tr>\n",
              "      <th>1</th>\n",
              "      <td>AFG</td>\n",
              "      <td>Hashmatullah Shahidi</td>\n",
              "      <td>1</td>\n",
              "      <td>0</td>\n",
              "      <td>4</td>\n",
              "      <td>26.77</td>\n",
              "      <td>3</td>\n",
              "      <td>76</td>\n",
              "      <td>14</td>\n",
              "      <td>14</td>\n",
              "      <td>1</td>\n",
              "      <td>387</td>\n",
              "      <td>63.44</td>\n",
              "      <td>0</td>\n",
              "      <td>2019</td>\n",
              "    </tr>\n",
              "    <tr>\n",
              "      <th>2</th>\n",
              "      <td>AFG</td>\n",
              "      <td>Rahmat Shah</td>\n",
              "      <td>1</td>\n",
              "      <td>1</td>\n",
              "      <td>5</td>\n",
              "      <td>36.36</td>\n",
              "      <td>3</td>\n",
              "      <td>108*</td>\n",
              "      <td>15</td>\n",
              "      <td>16</td>\n",
              "      <td>1</td>\n",
              "      <td>551</td>\n",
              "      <td>70.10</td>\n",
              "      <td>0</td>\n",
              "      <td>2017</td>\n",
              "    </tr>\n",
              "    <tr>\n",
              "      <th>3</th>\n",
              "      <td>AFG</td>\n",
              "      <td>Rahmat Shah</td>\n",
              "      <td>0</td>\n",
              "      <td>1</td>\n",
              "      <td>6</td>\n",
              "      <td>38.00</td>\n",
              "      <td>6</td>\n",
              "      <td>114</td>\n",
              "      <td>19</td>\n",
              "      <td>20</td>\n",
              "      <td>0</td>\n",
              "      <td>722</td>\n",
              "      <td>74.74</td>\n",
              "      <td>0</td>\n",
              "      <td>2018</td>\n",
              "    </tr>\n",
              "    <tr>\n",
              "      <th>4</th>\n",
              "      <td>AFG</td>\n",
              "      <td>Rahmat Shah</td>\n",
              "      <td>1</td>\n",
              "      <td>1</td>\n",
              "      <td>4</td>\n",
              "      <td>32.30</td>\n",
              "      <td>6</td>\n",
              "      <td>113</td>\n",
              "      <td>20</td>\n",
              "      <td>20</td>\n",
              "      <td>0</td>\n",
              "      <td>646</td>\n",
              "      <td>68.58</td>\n",
              "      <td>0</td>\n",
              "      <td>2019</td>\n",
              "    </tr>\n",
              "  </tbody>\n",
              "</table>\n",
              "</div>"
            ],
            "text/plain": [
              "  country           player_name  0s  100s  50s  ...  NO  Runs    S/R  St  Year\n",
              "0     AFG           Karim Sadiq   3     1    0  ...   2   235  74.13   0  2010\n",
              "1     AFG  Hashmatullah Shahidi   1     0    4  ...   1   387  63.44   0  2019\n",
              "2     AFG           Rahmat Shah   1     1    5  ...   1   551  70.10   0  2017\n",
              "3     AFG           Rahmat Shah   0     1    6  ...   0   722  74.74   0  2018\n",
              "4     AFG           Rahmat Shah   1     1    4  ...   0   646  68.58   0  2019\n",
              "\n",
              "[5 rows x 15 columns]"
            ]
          },
          "metadata": {
            "tags": []
          },
          "execution_count": 394
        }
      ]
    },
    {
      "cell_type": "code",
      "metadata": {
        "id": "NZULF1NOO-JE",
        "colab_type": "code",
        "outputId": "56cb727a-2687-4553-fbda-b6d70337f65c",
        "colab": {
          "base_uri": "https://localhost:8080/",
          "height": 34
        }
      },
      "source": [
        "stats3.shape"
      ],
      "execution_count": 395,
      "outputs": [
        {
          "output_type": "execute_result",
          "data": {
            "text/plain": [
              "(2422, 15)"
            ]
          },
          "metadata": {
            "tags": []
          },
          "execution_count": 395
        }
      ]
    },
    {
      "cell_type": "code",
      "metadata": {
        "id": "Iu6zDDt8P2Xa",
        "colab_type": "code",
        "outputId": "ebf779e8-d11a-41fb-bfda-d994d15a1f39",
        "colab": {
          "base_uri": "https://localhost:8080/",
          "height": 54
        }
      },
      "source": [
        "impact = {}\n",
        "experience = 1\n",
        "for i in range(2422): \n",
        "  career = (stats3['player_name']==stats3.loc[i, \"player_name\"]).sum()\n",
        "  if(career<4):\n",
        "    experience = 0\n",
        "  elif(career<8):\n",
        "    experience = 0.6\n",
        "  elif(career<12):\n",
        "    experience = 0.8\n",
        "  elif(career<16):\n",
        "    experience = 1.0\n",
        "  elif(career<16):\n",
        "    experience = 1.2\n",
        "  else:\n",
        "    experience = 1.4\n",
        "  if(stats3.loc[i, \"Avg\"]<30):\n",
        "    fluke = 6\n",
        "  else:\n",
        "    fluke = 1\n",
        "  if stats3.loc[i, \"player_name\"] in impact.keys(): \n",
        "    impact[stats3.loc[i, \"player_name\"]] += ((stats3.loc[i, \"Avg\"]*((stats3.loc[i, \"S/R\"])/fluke))/(career))*(experience*Year_Dict[int(stats3.loc[i, \"Year\"])])\n",
        "  else:\n",
        "    impact[stats3.loc[i, \"player_name\"]] = ((stats3.loc[i, \"Avg\"]*((stats3.loc[i, \"S/R\"])/fluke))/(career))*(experience*Year_Dict[int(stats3.loc[i, \"Year\"])])\n",
        "print(impact)\n",
        "  \n"
      ],
      "execution_count": 396,
      "outputs": [
        {
          "output_type": "stream",
          "text": [
            "{'Karim Sadiq': 0.0, 'Hashmatullah Shahidi': 0.0, 'Rahmat Shah': 0.0, 'Asghar Afghan': 1509.1027127999987, 'Samiullah Shinwari': 0.0, 'Hazratullah Zazai': 0.0, 'Mirwais Ashraf': -0.0, 'Ihsanullah': 0.0, 'Rashid Khan': -0.0, 'Najibullah Zadran': 0.0, 'Gulbadin Naib': 0.0, 'Ikram Ali Khil': 0.0, 'Mohammad Nabi': 863.3512821714278, 'Nawroz Mangal': 0.0, 'Andy Bichel': 0.0, 'Graeme Wood': 5331.6093684, 'James Hopes': 0.0, 'Kim Hughes': 979.1934063999998, 'Phillip Hughes': 0.0, 'Bradley Hodge': 0.0, 'Shaun Marsh': 0.0, 'Adam Voges': 0.0, 'Wayne Phillips': 0.0, 'Shane Lee': 0.0, 'Michael Veletta': 0.0, 'Ian Healy': 556.8880798857142, 'Greg Matthews': 0.0, 'Geoff Marsh': 8581.904851199997, 'Bruce Laird': 0.0, 'Steve Smith': 0.0, 'Tim Paine': 0.0, 'Usman Khawaja': 0.0, 'Mitchell Marsh': 0.0, 'Michael Bevan': 8859.371178986663, 'Dean Jones': 13974.769176177775, 'Shane Warne': 153.39578039999992, 'Rod Marsh': 0.0, 'Patrick Cummins': -0.0, 'Michael Slater': 0.0, 'Cameron White': 0.0, 'John Hastings': 0.0, 'Tom Moody': 0.0, 'Rodney Hogg': 0.0, 'Greg Blewett': 0.0, 'David Boon': 8333.566121599999, 'Matthew Hayden': 7507.0499689599965, 'Brendon Julian': 0.0, 'Darren Lehmann': 6365.518601599997, 'Paul Reiffel': 0.0, 'Greg Chappell': 0.0, 'Geoff Lawson': 0.0, 'Marcus Stoinis': 0.0, 'Ian Harvey': 0.0, 'David Warner': 12645.832882559991, 'Clinton McKay': 0.0, 'Timothy Zoehrer': 0.0, 'Mark Waugh': 10293.353102399997, 'Damien Martyn': 6395.533366666665, 'Matthew Wade': 0.0, 'Michael Clarke': 8172.633210311108, 'Brad Hogg': 0.0, 'Daniel Christian': 0.0, 'David Hussey': 0.0, 'Glenn Maxwell': 4133.874313119997, 'Ricky Ponting': 12690.329440888883, 'Mitchell Johnson': 0.0, 'Michael Hussey': 12566.67734986666, 'Travis Head': 0.0, 'Brett Lee': 198.21397999999988, 'Alex Carey': 0.0, 'Simon Katich': 0.0, 'George Bailey': 6171.632077599996, 'Shane Watson': 8647.743661999995, 'Steve Waugh': 3670.5053290666656, 'Brad Haddin': 0.0, 'Adam Gilchrist': 11712.514572993934, 'Nathan Hauritz': 0.0, 'Craig McDermott': 0.0, \"Simon O'Donnell\": 0.0, 'Greg Ritchie': 0.0, 'Aaron Finch': 8155.992519999993, 'Peter Handscomb': 0.0, 'Allan Border': 3220.5254104761907, 'Mark Taylor': 6865.649723199998, 'Dirk Wellham': 0.0, 'Andrew Symonds': 6336.387298742854, 'Peter Forrest': 0.0, 'Stuart Law': 0.0, 'James Faulkner': 0.0, 'David Hookes': 0.0, 'Callum Ferguson': 0.0, 'Anamul Haque': 0.0, 'Aminul Islam': 0.0, 'Sanwar Hossain': 0.0, 'Tapash Baisya': 0.0, 'Mehidy Hasan': 0.0, 'Shakib Al Hasan': 7082.589067636359, 'Abdur Razzak': -59.33459935999999, 'Farhad Reza': 0.0, 'Rajin Saleh': 0.0, 'Mominul Haque': 0.0, 'Mashrafe Mortaza': 287.9966459999998, 'Tamim Iqbal': 9323.259775999994, 'Nasir Hossain': 0.0, 'Mohammad Rafique': 218.4568660799999, 'Tushar Imran': 0.0, 'Liton Das': 0.0, 'Al Sahariar Rokon': 0.0, 'Aftab Ahmed': 0.0, 'Mushfiqur Rahman': 0.0, 'Soumya Sarkar': 0.0, 'Alok Kapali': 0.0, 'Manjural Islam Rana': 0.0, 'Mohammad Ashraful': 894.407246933333, 'Hannan Sarkar': 0.0, 'Shahriar Nafees': 2294.2617807999986, 'Khaled Mashud': 498.8111767999997, 'Mahmudullah': 3041.028481303702, 'Sabbir Rahman': 0.0, 'Khaled Mahmud': 386.50500399999976, 'Shafiul Islam': -0.0, 'Naeem Islam': 0.0, 'Imrul Kayes': 0.0, 'Dhiman Ghosh': 0.0, 'Mushfiqur Rahim': 6770.60499221333, 'Habibul Bashar': 632.2505678399996, 'David Hemp': 0.0, 'Lionel Cann': 0.0, 'Saleem Mukuddem': 0.0, 'Janeiro Tucker': 0.0, 'Irvine Romaine': 0.0, 'Ashif Mulla': 0.0, 'John Davison': 0.0, 'Abdool Samad': 0.0, 'Sunil Dhaniram': 0.0, 'Ashish Bagai': 0.0, 'Anderson Cummins': 0.0, 'Michael Vaughan': 782.7901291999997, 'Charles Athey': 0.0, 'Nicholas Knight': 7133.45401573333, 'Jos Butler': 7888.126679999993, 'Chris Jordan': -0.0, 'Nasser Hussain': 0.0, 'Victor Marks': 0.0, 'Paul Nixon': 0.0, 'James Tredwell': 0.0, 'Jonathan Trott': 0.0, 'Ian Bell': 9670.534899999995, 'Robert Croft': 0.0, 'Ed Joyce': 0.0, 'Derek Randall': 0.0, 'Graeme Hick': 6514.837083359998, 'Timothy Bresnan': 0.0, 'Vikram Solanki': 0.0, 'Graham Gooch': 6706.086100599999, 'Jason Roy': 11982.19828511999, 'Geraint Jones': 0.0, 'Andrew Strauss': 5420.935136914282, 'Moeen Ali': 4358.127306666664, 'Ian Gould': 0.0, 'Alexander Hales': 8451.424903599993, 'David Gower': 0.0, 'Andy Caddick': -0.0, 'Ronald Irani': 0.0, 'Liam Plunkett': 0.0, 'Jack Richards': 0.0, 'Neil Fairbrother': 0.0, 'Ravinda Bopara': 791.8587438666661, 'Chris Lewis': 0.0, 'Ben Stokes': 9349.585660199993, 'Craig White': 0.0, 'Jonny Bairstow': 0.0, 'Neil Foster': -0.0, 'Luke Wright': 0.0, 'Mark Ealham': 0.0, 'Chris Tavare': 0.0, 'Eoin Morgan': 10725.757977999994, 'Graeme Swann': -0.0, 'Michael Atherton': 0.0, 'Adam Hollioake': 0.0, 'Graham Thorpe': 0.0, 'James Taylor': 0.0, 'John Emburey': -0.0, 'Andrew Flintoff': 5614.371577439997, 'Phillip De Freitas': -0.0, 'James Anderson': -0.0, 'Mike Gatting': 0.0, 'Matthew Prior': 0.0, 'Darren Gough': 0.0, 'Geoff Boycott': 0.0, 'Joe Root': 10081.237288457134, 'Stuart Broad': 0.0, 'Gavin Hamilton': 0.0, 'Chris Broad': 0.0, 'Allan Lamb': 5385.7238584, 'Chris Woakes': 0.0, 'Marcus Trescothick': 8705.145787199997, 'Alastair Cook': 5983.9332007999965, 'Craig Kieswetter': 0.0, 'Michael Yardy': 0.0, 'Kevin Pietersen': 10465.760989439996, 'Paul Collingwood': 2485.348068029629, 'Robin Smith': 0.0, 'Mike Brearley': 0.0, 'Alec Stewart': 5374.699381371426, 'James Dalrymple': 0.0, 'Sir Ian Botham': 853.1330917999999, 'Owais Shah': 0.0, 'Yusuf Pathan': 0.0, 'Rohit Sharma': 12867.475077759993, 'Kris Srikkanth': 3498.222449371428, 'Javagal Srinath': -122.50597079999997, 'Zaheer Khan': 0.0, 'Sourav Ganguly': 9939.227053866663, 'Sunil Gavaskar': 8189.422005599998, 'Ajay Jadeja': 3035.120990285713, 'Abey Kuruvilla': -0.0, 'Parthiv Patel': 0.0, 'Ravichandran Ashwin': 0.0, 'Hardik Pandya': 0.0, 'Gautam Gambhir': 8949.722852799994, 'Hemang Badani': 0.0, 'Rahul Dravid': 8121.4592399999965, 'Lakshmipathy Balaji': -0.0, 'Kapil Dev': 1259.8590012799998, 'Roger Binny': 0.0, 'Virat Kohli': 17311.654904414805, 'Syed Kirmani': 0.0, 'Anil Kumble': -183.16297759999992, 'Axar Patel': -0.0, 'M S Dhoni': 12508.229112615376, 'Raman Lamba': 0.0, 'Sadagopan Ramesh': 0.0, 'Irfan Pathan': 2404.507088199999, 'Kedar Jadhav': 0.0, 'Harbhajan Singh': 179.40033302857134, 'Ravishankar Shastri': 2994.5895066285707, 'Ajit Agarkar': 101.02981979999996, 'Virender Sehwag': 12470.150078448478, 'Kiran More': 0.0, 'Dinesh Mongia': 0.0, 'Sandeep Patil': 0.0, 'Dinesh Karthik': 0.0, 'Navjot Sidhu': 8132.195303999998, 'Ajinkya Rahane': 7733.1017087999935, 'KL Rahul': 0.0, 'Nayan Mongia': 45.06170619999994, 'Manoj Prabhakar': 2014.5322500799994, 'Mohinder Amarnath': 0.0, 'Praveen Amre': 0.0, 'Sunil Joshi': 0.0, 'Mohammad Azharuddin': 6605.569865155555, 'Robin Singh': 553.0699455999998, 'Venkatesh Prasad': -0.0, 'Ravindra Jadeja': 0.0, 'Yashpal Sharma': 0.0, 'Robin Uthappa': 0.0, 'Suresh Raina': 4103.918189274073, 'Ambati Rayudu': 0.0, 'Vinod Kambli': 0.0, 'Chetan Sharma': 0.0, 'Shikhar Dhawan': 10368.280431999992, 'Saba Karim': 0.0, 'Bhuvneshwar Kumar': -0.0, 'Ajay Sharma': 0.0, 'Sanjay Manjrekar': 3952.864020599999, 'Sachin Tendulkar': 23963.13600295999, 'Mohammad Kaif': 721.8041129599998, 'Dillip Vengsarkar': 5368.872709799999, 'Yuvraj Singh': 7044.186844410253, 'Hrishikesh Kanitkar': 0.0, 'Nikhil Chopra': 0.0, 'V V S Laxman': 0.0, \"Niall O'Brien\": 2493.547988599998, 'Gary Wilson': 0.0, 'George Dockrell': 0.0, 'Jeremy Bray': 0.0, 'Andy Balbirnie': 4516.051747199996, 'Andrew White': 0.0, 'Andre Botha': 0.0, 'William Porterfield': 3161.7285466666635, 'Paul Stirling': 9089.760222399993, 'Trent Johnston': 0.0, 'William McCallan': -0.0, \"Kevin O'Brien\": 1065.8052931999991, 'John Mooney': 0.0, 'Dave Langford-Smith': -0.0, 'David Obuya': 0.0, 'Maurice Ouma': 0.0, 'Peter Ongondo': 0.0, 'Alex Obanda': 0.0, 'Ravindu Shah': 0.0, 'Collins Obuya': 0.0, 'Thomas Odoyo': 0.0, 'Hiren Varaiya': 0.0, 'Maurice Odumbe': 0.0, 'Tanmay Mishra': 0.0, 'Stephen Tikolo': 2609.5238655999988, 'Kennedy Otieno': 0.0, 'James Kamande': 0.0, 'Nehemiah Odhiambo': 0.0, 'Bas Zuiderent': 0.0, 'Eric Szwarczynski': 0.0, 'Peter Borren': 0.0, 'Chris Pringle': -0.0, 'Martin Guptill': 10683.565059911105, 'Matthew Sinclair': 0.0, 'Ross Taylor': 10773.235624319996, 'Shane Thomson': 0.0, 'Jeffrey Crowe': 0.0, 'Martin Crowe': 7080.418361066666, 'Daryl Tuffey': -0.0, 'Warren Lees': -0.0, 'Dipak Patel': 0.0, 'Chris Cairns': 2772.100785386666, 'Scott Styris': 5290.741801066664, 'Jeremy Coney': 798.8935845999999, 'Mitchell Santner': 0.0, 'Gavin Larsen': 0.0, 'Lou Vincent': 4071.0859834666644, 'Lance Cairns': 0.0, 'Sir Richard Hadlee': 0.0, 'Colin de Grandhomme': 0.0, 'Kane Williamson': 10807.837990133326, 'Rodney Latham': 0.0, 'Jacob Oram': 3072.0077207999975, 'Neil Broom': 0.0, 'Lee Germon': 0.0, 'Robert Nicol': 0.0, 'Luke Ronchi': 0.0, 'Nathan Astle': 7998.755192339391, 'Mark Greatbatch': 5208.437285199998, 'Christopher Nevin': 0.0, 'Jamie How': 0.0, 'Grant Elliott': 0.0, 'Chris Harris': 1875.4698454399997, 'Tim Southee': -0.0, 'John Wright': 2203.4359234666663, 'Roger Twose': 5767.339655999997, 'Hamish Marshall': 0.0, 'Craig Spearman': 0.0, 'Brendon McCullum': 5965.441476460604, 'Dion Nash': 0.0, 'James Neesham': 0.0, 'Ervin McSweeney': -0.0, 'Colin Munro': 0.0, 'Tom Latham': 4912.9200825599955, 'Ian Smith': 0.0, 'Peter Fulton': 0.0, 'Blair Hartland': 0.0, 'Ken Rutherford': 961.6026241999996, 'Andre Adams': 0.0, 'Andrew Jones': 0.0, 'Bryan Young': 0.0, 'Adam Parore': 2366.3449575999994, 'Matthew Horne': 0.0, 'Tony Blain': 0.0, 'Glenn Turner': 0.0, 'Henry Nicholls': 0.0, 'Bruce Blair': 0.0, 'Jesse Ryder': 0.0, 'Martin Snedden': 0.0, 'Daniel Vettori': 232.2366231999999, 'Craig McMillan': 2222.403735229629, 'John Bracewell': 0.0, 'Geoff Howarth': 0.0, 'James Franklin': 0.0, 'Stephen Fleming': 6302.947710190476, 'Nathan McCullum': 0.0, 'Bruce Edgar': 0.0, 'Llorne Howell': 0.0, 'Kyle Mills': 0.0, 'Corey Anderson': 0.0, 'Abdul Razzaq': 2400.6065095466656, 'Shoaib Akhtar': 0.0, 'Haris Sohail': 0.0, 'Mohammad Wasim': 0.0, 'Nasir Jamshed': 0.0, 'Ahmed Shehzad': 5883.020069999997, 'Younis Khan': 5583.207105999998, 'Junaid Khan': -0.0, 'Naved-ul-Hasan': 0.0, 'Saeed Anwar': 12465.345255679997, 'Fawad Alam': 0.0, 'Sarfaraz Ahmed': 3547.5306635999978, 'Zaheer Abbas': 0.0, 'Shoaib Mohammad': 0.0, 'Imran Nazir': 0.0, 'Salman Butt': 0.0, 'Saleem Malik': 5463.486378346665, 'Mohammad Yousuf': 10335.02091403636, 'Imad Wasim': 0.0, 'Azhar Ali': 0.0, 'Mohammad Hafeez': 5910.975050429626, 'Umar Gul': 0.0, 'Aamer Malik': 0.0, 'Mohammad Rizwan': 0.0, 'Waqar Younis': -91.96132413333332, 'Basit Ali': 0.0, 'Misbah-ul-Haq': 3635.0565695999976, 'Imran Khan': 825.7030190399996, 'Fakhar Zaman': 0.0, 'Yasir Hameed': 0.0, 'Umar Amin': 0.0, 'Saeed Ajmal': -0.0, 'Qasim Omar': 0.0, 'Shadab Khan': 0.0, 'Akram Raza': 0.0, 'Mudassar Nazar': 795.44196512, 'Rashid Latif': 176.7897899999999, 'Imam-ul-Haq': 0.0, 'Mushtaq Ahmed': -0.0, 'Arshad Khan': -0.0, 'Aamir Sohail': 3857.359800914285, 'Asif Mujtaba': 0.0, 'Azhar Mahmood': 0.0, 'Imran Farhat': 0.0, 'Umar Akmal': 2394.7315491199984, 'Kamran Akmal': 860.7799313142852, 'Manzoor Elahi': 0.0, 'Asad Shafiq': 0.0, 'Saleem Yousuf': 0.0, 'Inzamam-ul-Haq': 8741.784795377776, 'Javed Miandad': 10127.927273919999, 'Moin Khan': 403.57204666666644, 'Wahab Riaz': 0.0, 'Mohsin Khan': 4097.306758799999, 'Babar Azam': 9964.22110079999, 'Wasim Akram': 719.1415892380951, 'Ramiz Raja': 6683.277335999999, 'Mohammad Sami': 0.0, 'Abdul Qadir': 0.0, 'Saqlain Mushtaq': -141.05037759999993, 'Taufeeq Umar': 0.0, 'Shoaib Malik': 6977.555874222218, 'Mohammad Irfan': -0.0, 'Wajahatullah Wasti': 0.0, 'Matthew Cross': 0.0, 'Navdeep Poonia': 0.0, 'Craig Wright': 0.0, 'Calum MacLeod': 0.0, 'Fraser Watts': 0.0, 'Ryan Watson': 0.0, 'Douglas Brown': 0.0, 'Neil McCallum': 0.0, 'Richard Berrington': 0.0, 'George Munsey': 0.0, 'Rana Haq': 0.0, 'Colin Smith': 0.0, 'John Blain': 0.0, 'Andrew Hudson': 6836.809916399998, 'Jean-Paul Duminy': 5642.010545454542, 'Hashim Amla': 13434.704426026658, 'Neil McKenzie': 0.0, 'Mark Boucher': 952.4417033481477, 'Jacques Kallis': 12015.302485599994, 'Pat Symcox': 0.0, 'Johan Botha': 0.0, 'Aiden Markram': 0.0, 'Adrian Kuiper': 0.0, 'Nico Boje': 0.0, 'Boeta Dippenaar': 0.0, 'Albie Morkel': 0.0, 'Graeme Smith': 9342.606409115147, 'Ashwell Prince': 0.0, 'Jacques Rudolph': 0.0, 'Lance Klusener': 3531.077360266666, 'Rilee Rossouw': 0.0, 'David Miller': 4471.749890799996, 'Hansie Cronje': 7007.937326266665, 'Colin Ingram': 0.0, 'Shaun Pollock': 663.906348121212, 'Eric Simons': 0.0, 'Jonty Rhodes': 1367.7789239466663, 'Justin Kemp': 0.0, 'Peter Kirsten': 0.0, 'Faf du Plessis': 10145.29404986666, 'Daryll Cullinan': 3538.3208124571415, 'Herschelle Gibbs': 9234.38985561212, 'Farhaan Behardien': 0.0, 'Gary Kirsten': 9231.426089733332, 'Brian McMillan': 0.0, 'Fanie De Villiers': -0.0, 'Rassie van der Dussen': 0.0, 'Quinton de Kock': 10021.23019066666, 'David Richardson': 0.0, 'Andile Phehlukwayo': 0.0, 'Robin Peterson': 0.0, 'Andrew Hall': 0.0, 'Ryan McLaren': -0.0, 'Lonwabo Tsotsobe': -0.0, 'Michael Rindel': 0.0, 'Kepler Wessels': 4598.609243466666, 'Heinrich Klaasen': 0.0, 'A B de Villiers': 18191.002929648475, 'Thilina Kandamby': 0.0, 'Kusal Mendis': 2726.409402999998, 'Angelo Mathews': 4884.299941925923, 'Chandika Hathurusingha': 0.0, 'Thilan Thushara': 0.0, 'Danushka Gunathilaka': 0.0, 'Jeevan Mendis': 0.0, 'Somachandra De Silva': 0.0, 'Ashan Priyanjan': 0.0, 'Thisara Perera': 735.6431103999995, 'Jehan Mubarak': 0.0, 'Amal Silva': 0.0, 'Dimuth Karunaratne': 0.0, 'Sanath Jayasuriya': 13981.741390399993, 'Sidath Wettimuny': 0.0, 'Tillakaratne Dilshan': 10059.355014222216, 'Niroshan Dickwella': 0.0, 'Avishka Fernando': 0.0, 'Duleep Mendis': 0.0, 'Ravi Ratnayeke': 0.0, 'Hashan Tillakaratne': 948.8379559111111, 'Lasith Malinga': -142.1442639999999, 'Milinda Siriwardana': 0.0, 'Suranga Lakmal': -0.0, 'Russel Arnold': 2400.4833398666656, 'Kumar Sangakkara': 17287.692799416654, 'Isuru Udana': 0.0, 'Muttiah Muralitharan': -208.94997302857138, 'Lahiru Thirimanne': 2204.1104705999983, 'Roy Dias': 0.0, 'Ranjan Madugalle': 0.0, 'Ajantha Mendis': -0.0, 'Nuwan Zoysa': 0.0, 'Brendon Kuruppu': 0.0, 'Sachithra Senanayake': 0.0, 'Upul Chandana': 516.1881187999998, 'Arjuna Ranatunga': 8503.161583555551, 'Chaminda Vaas': -179.51595543703698, 'Graeme Labrooy': -0.0, 'Rumesh Ratnayake': 0.0, 'Ruwan Kalpage': 0.0, 'Asanka Gurusinha': 1691.4785515428566, 'Dinesh Chandimal': 2133.7576913142843, 'Aravinda de Silva': 10196.172919794868, 'Avishka Gunawardene': 0.0, 'Farveez Maharoof': 0.0, 'Mahela Jayawardene': 8541.403081098033, 'Thilan Samaraweera': 0.0, 'Chamara Silva': 0.0, 'Pramodya Wickremasinghe': -0.0, 'Chamara Kapugedera': 0.0, 'Asela Gunaratne': 0.0, 'Nuwan Kulasekara': 182.61388199999985, 'Shaul Karnain': 0.0, 'Marvan Atapattu': 7057.520696533332, 'Upul Tharanga': 5699.788210026663, 'Roshan Mahanama': 3964.9006356148143, 'Kumar Dharmasena': 339.3452711999999, 'Kusal Perera': 4281.480972159996, 'Dhananjaya de Silva': 0.0, 'Dilhara Fernando': -0.0, 'Romesh Kaluwitharana': 1016.0366918666663, 'W Jayantha': 0.0, 'Akila Dananjaya': 0.0, 'Rohan Mustafa': 0.0, 'Adnan Mufti': 0.0, 'Muhammad Usman': 0.0, 'Xavier Marshall': 0.0, 'Andre Russell': 0.0, 'Jason Mohammed': 0.0, 'Larry Gomes': 0.0, 'Devon Smith': 0.0, 'Shai Hope': 0.0, 'Nehemiah Perry': 0.0, 'Courtney Walsh': -0.0, 'Ashley Nurse': 0.0, 'Ramnaresh Sarwan': 7727.767157066663, 'Denesh Ramdin': 2758.083016666664, 'Philip Simmons': 6046.158026971428, 'Narsingh Deonarine': 0.0, 'Rovman Powell': 0.0, 'Jeff Dujon': 435.2213850666666, 'Nicholas Pooran': 0.0, 'Dwayne Bravo': 1802.6886975999987, 'Kieran Powell': 0.0, 'Curtly Ambrose': -31.57610944000001, 'Merwyn Dillon': -0.0, 'Carl Hooper': 6495.0151090962945, 'Shimron Hetmeyer': 0.0, 'Roger Harper': 0.0, 'Carlos Brathwaite': 0.0, 'Keith Arthurton': 3148.802088599998, 'Gus Logie': 814.1992606857142, 'Jonathan Carter': 0.0, 'Shivnarine Chanderpaul': 8973.761967515149, 'Sunil Narine': 0.0, 'Sherwin Campbell': 2743.946105799999, 'Desmond Haynes': 10227.016530133333, 'Sir Viv Richards': 13068.348295885713, 'Sewnarine Chattergoon': 0.0, 'Lendl Simmons': 0.0, 'Darren Ganga': 0.0, 'Evin Lewis': 0.0, 'Malcolm Marshall': 0.0, 'Carlton Baugh': -0.0, 'Johnson Charles': 0.0, 'Courtney Browne': 0.0, 'Jason Holder': 820.6421225599994, 'Darren Bravo': 691.2748243999996, 'Kemar Roach': -0.0, 'Gordon Greenidge': 11716.710356399997, 'Ricardo Powell': 884.8207729599995, 'Franklyn Rose': 0.0, 'Brian Lara': 13697.931405714282, 'Marlon Samuels': 3288.1590646518503, 'Reon King': -0.0, 'Runako Morton': 0.0, 'Richard Gabriel': 0.0, 'Wavell Hinds': 2063.1446214666657, 'Clive Lloyd': 0.0, 'Jimmy Adams': 1755.3618471999991, 'Nixon McLean': 0.0, 'Ridley Jacobs': 360.25860799999987, 'Kieron Pollard': 1131.2993779999993, 'Richie Richardson': 4645.222496959999, 'Dwayne Smith': 614.9762181999996, 'Ian Bradshaw': 0.0, 'Stuart Williams': 0.0, 'Darren Sammy': 541.9012255999996, 'Vasbert Drakes': -0.0, 'Chris Gayle': 13284.231388799995, 'Hamilton Masakadza': 4482.402369813331, 'Brendan Taylor': 5456.788450879998, 'Andrew Whittall': -0.0, 'Guy Whittall': 554.3387287999998, 'Sean Williams': 5383.605035519996, 'Douglas Marillier': 0.0, 'Andrew Flower': 5917.086106548146, 'Sikandar Raza': 0.0, 'Mark Vermeulen': 0.0, 'Craig Evans': 0.0, 'Dion Ebrahim': 0.0, 'Ray Price': 0.0, 'Sean Ervine': 0.0, 'Heath Streak': 300.47823631999984, 'Kyle Jarvis': 0.0, 'Charles Coventry': 0.0, 'Vusi Sibanda': 4869.07247893333, 'Solomon Mire': 0.0, 'David Houghton': 0.0, 'Andy Blignaut': 0.0, 'Blessing Muzarabani': -0.0, 'Elton Chigumbura': 1032.3756623407403, 'Murray Goodwin': 0.0, 'Gary Brent': 0.0, 'Luke Jongwe': 0.0, 'Blessing Mahwire': -0.0, 'Peter Moor': 0.0, 'Tendai Chatara': -0.0, 'Neil Johnson': 0.0, 'Paul Strang': 0.0, 'Malcolm Waller': 0.0, 'Prosper Utseya': 30.784488799999977, 'Alistair Campbell': 1782.471983999999, 'Terry Duffin': 0.0, 'Mluleki Nkala': 0.0, 'Travis Friend': 0.0, 'Tawanda Mupariwa': 0.0, 'Stuart Matsikenyeri': 0.0, 'Craig Ervine': 736.8576975999994, 'Craig Wishart': 0.0, 'Douglas Hondo': -0.0, 'Stuart Carlisle': 0.0, 'Justice Chibhabha': 0.0, 'Grant Flower': 6112.8105111999985, 'Tinashe Panyangara': -0.0, 'Graeme Cremer': 99.54303759999992, 'Tatenda Taibu': 835.9096978666662, 'Richmond Mutumbami': 0.0, 'Dirk Viljoen': 0.0, 'Piet Rinke': 0.0}\n"
          ],
          "name": "stdout"
        }
      ]
    },
    {
      "cell_type": "code",
      "metadata": {
        "id": "uGQ7vZPZ8_yQ",
        "colab_type": "code",
        "outputId": "4b002d0b-56ad-4eb7-a73d-67c360d7f4e4",
        "colab": {
          "base_uri": "https://localhost:8080/",
          "height": 255
        }
      },
      "source": [
        "data_items = impact.items()\n",
        "data_list = list(data_items)\n",
        "\n",
        "df = pd.DataFrame(data_list,columns = [\"Name\",\"Points\"])\n",
        "print(df)"
      ],
      "execution_count": 397,
      "outputs": [
        {
          "output_type": "stream",
          "text": [
            "                     Name       Points\n",
            "0             Karim Sadiq     0.000000\n",
            "1    Hashmatullah Shahidi     0.000000\n",
            "2             Rahmat Shah     0.000000\n",
            "3           Asghar Afghan  1509.102713\n",
            "4      Samiullah Shinwari     0.000000\n",
            "..                    ...          ...\n",
            "671         Graeme Cremer    99.543038\n",
            "672         Tatenda Taibu   835.909698\n",
            "673    Richmond Mutumbami     0.000000\n",
            "674          Dirk Viljoen     0.000000\n",
            "675            Piet Rinke     0.000000\n",
            "\n",
            "[676 rows x 2 columns]\n"
          ],
          "name": "stdout"
        }
      ]
    },
    {
      "cell_type": "code",
      "metadata": {
        "id": "VEo9ltkoNOHj",
        "colab_type": "code",
        "outputId": "e028effc-fe10-4051-a830-5f11b2ccd49f",
        "colab": {
          "base_uri": "https://localhost:8080/",
          "height": 255
        }
      },
      "source": [
        "df.sort_values(\"Points\", axis = 0, ascending = False, \n",
        "                 inplace = True)\n",
        "df.reset_index(drop=True, inplace=True)\n",
        "print(df)"
      ],
      "execution_count": 398,
      "outputs": [
        {
          "output_type": "stream",
          "text": [
            "                     Name        Points\n",
            "0        Sachin Tendulkar  23963.136003\n",
            "1         A B de Villiers  18191.002930\n",
            "2             Virat Kohli  17311.654904\n",
            "3        Kumar Sangakkara  17287.692799\n",
            "4       Sanath Jayasuriya  13981.741390\n",
            "..                    ...           ...\n",
            "671       Saqlain Mushtaq   -141.050378\n",
            "672        Lasith Malinga   -142.144264\n",
            "673         Chaminda Vaas   -179.515955\n",
            "674           Anil Kumble   -183.162978\n",
            "675  Muttiah Muralitharan   -208.949973\n",
            "\n",
            "[676 rows x 2 columns]\n"
          ],
          "name": "stdout"
        }
      ]
    },
    {
      "cell_type": "code",
      "metadata": {
        "id": "T2VaMjfrNOSK",
        "colab_type": "code",
        "outputId": "df9c3900-50de-45c1-ce39-0c97db6fd552",
        "colab": {
          "base_uri": "https://localhost:8080/",
          "height": 669
        }
      },
      "source": [
        "df.head(20)"
      ],
      "execution_count": 399,
      "outputs": [
        {
          "output_type": "execute_result",
          "data": {
            "text/html": [
              "<div>\n",
              "<style scoped>\n",
              "    .dataframe tbody tr th:only-of-type {\n",
              "        vertical-align: middle;\n",
              "    }\n",
              "\n",
              "    .dataframe tbody tr th {\n",
              "        vertical-align: top;\n",
              "    }\n",
              "\n",
              "    .dataframe thead th {\n",
              "        text-align: right;\n",
              "    }\n",
              "</style>\n",
              "<table border=\"1\" class=\"dataframe\">\n",
              "  <thead>\n",
              "    <tr style=\"text-align: right;\">\n",
              "      <th></th>\n",
              "      <th>Name</th>\n",
              "      <th>Points</th>\n",
              "    </tr>\n",
              "  </thead>\n",
              "  <tbody>\n",
              "    <tr>\n",
              "      <th>0</th>\n",
              "      <td>Sachin Tendulkar</td>\n",
              "      <td>23963.136003</td>\n",
              "    </tr>\n",
              "    <tr>\n",
              "      <th>1</th>\n",
              "      <td>A B de Villiers</td>\n",
              "      <td>18191.002930</td>\n",
              "    </tr>\n",
              "    <tr>\n",
              "      <th>2</th>\n",
              "      <td>Virat Kohli</td>\n",
              "      <td>17311.654904</td>\n",
              "    </tr>\n",
              "    <tr>\n",
              "      <th>3</th>\n",
              "      <td>Kumar Sangakkara</td>\n",
              "      <td>17287.692799</td>\n",
              "    </tr>\n",
              "    <tr>\n",
              "      <th>4</th>\n",
              "      <td>Sanath Jayasuriya</td>\n",
              "      <td>13981.741390</td>\n",
              "    </tr>\n",
              "    <tr>\n",
              "      <th>5</th>\n",
              "      <td>Dean Jones</td>\n",
              "      <td>13974.769176</td>\n",
              "    </tr>\n",
              "    <tr>\n",
              "      <th>6</th>\n",
              "      <td>Brian Lara</td>\n",
              "      <td>13697.931406</td>\n",
              "    </tr>\n",
              "    <tr>\n",
              "      <th>7</th>\n",
              "      <td>Hashim Amla</td>\n",
              "      <td>13434.704426</td>\n",
              "    </tr>\n",
              "    <tr>\n",
              "      <th>8</th>\n",
              "      <td>Chris Gayle</td>\n",
              "      <td>13284.231389</td>\n",
              "    </tr>\n",
              "    <tr>\n",
              "      <th>9</th>\n",
              "      <td>Sir Viv Richards</td>\n",
              "      <td>13068.348296</td>\n",
              "    </tr>\n",
              "    <tr>\n",
              "      <th>10</th>\n",
              "      <td>Rohit Sharma</td>\n",
              "      <td>12867.475078</td>\n",
              "    </tr>\n",
              "    <tr>\n",
              "      <th>11</th>\n",
              "      <td>Ricky Ponting</td>\n",
              "      <td>12690.329441</td>\n",
              "    </tr>\n",
              "    <tr>\n",
              "      <th>12</th>\n",
              "      <td>David Warner</td>\n",
              "      <td>12645.832883</td>\n",
              "    </tr>\n",
              "    <tr>\n",
              "      <th>13</th>\n",
              "      <td>Michael Hussey</td>\n",
              "      <td>12566.677350</td>\n",
              "    </tr>\n",
              "    <tr>\n",
              "      <th>14</th>\n",
              "      <td>M S Dhoni</td>\n",
              "      <td>12508.229113</td>\n",
              "    </tr>\n",
              "    <tr>\n",
              "      <th>15</th>\n",
              "      <td>Virender Sehwag</td>\n",
              "      <td>12470.150078</td>\n",
              "    </tr>\n",
              "    <tr>\n",
              "      <th>16</th>\n",
              "      <td>Saeed Anwar</td>\n",
              "      <td>12465.345256</td>\n",
              "    </tr>\n",
              "    <tr>\n",
              "      <th>17</th>\n",
              "      <td>Jacques Kallis</td>\n",
              "      <td>12015.302486</td>\n",
              "    </tr>\n",
              "    <tr>\n",
              "      <th>18</th>\n",
              "      <td>Jason Roy</td>\n",
              "      <td>11982.198285</td>\n",
              "    </tr>\n",
              "    <tr>\n",
              "      <th>19</th>\n",
              "      <td>Gordon Greenidge</td>\n",
              "      <td>11716.710356</td>\n",
              "    </tr>\n",
              "  </tbody>\n",
              "</table>\n",
              "</div>"
            ],
            "text/plain": [
              "                 Name        Points\n",
              "0    Sachin Tendulkar  23963.136003\n",
              "1     A B de Villiers  18191.002930\n",
              "2         Virat Kohli  17311.654904\n",
              "3    Kumar Sangakkara  17287.692799\n",
              "4   Sanath Jayasuriya  13981.741390\n",
              "5          Dean Jones  13974.769176\n",
              "6          Brian Lara  13697.931406\n",
              "7         Hashim Amla  13434.704426\n",
              "8         Chris Gayle  13284.231389\n",
              "9    Sir Viv Richards  13068.348296\n",
              "10       Rohit Sharma  12867.475078\n",
              "11      Ricky Ponting  12690.329441\n",
              "12       David Warner  12645.832883\n",
              "13     Michael Hussey  12566.677350\n",
              "14          M S Dhoni  12508.229113\n",
              "15    Virender Sehwag  12470.150078\n",
              "16        Saeed Anwar  12465.345256\n",
              "17     Jacques Kallis  12015.302486\n",
              "18          Jason Roy  11982.198285\n",
              "19   Gordon Greenidge  11716.710356"
            ]
          },
          "metadata": {
            "tags": []
          },
          "execution_count": 399
        }
      ]
    },
    {
      "cell_type": "code",
      "metadata": {
        "id": "VpQKR7N6NOim",
        "colab_type": "code",
        "colab": {}
      },
      "source": [
        ""
      ],
      "execution_count": 0,
      "outputs": []
    }
  ]
}