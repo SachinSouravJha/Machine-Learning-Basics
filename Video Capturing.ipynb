{
 "cells": [
  {
   "cell_type": "code",
   "execution_count": 4,
   "metadata": {},
   "outputs": [],
   "source": [
    "import cv2\n",
    "\n",
    "cap = cv2.VideoCapture(0) #Capturing the image\n",
    "\n",
    "while True:\n",
    "\n",
    "    success,img = cap.read() #Reading image and checking if it was read succesfully\n",
    "    greyimg= cv2.cvtColor(img,cv2.COLOR_BGR2GRAY)#Converting image to gray\n",
    "    if not success: #If image was not read we just continue \n",
    "        continue\n",
    "\n",
    "    cv2.imshow(\"color\",img) #Showing simple image\n",
    "    cv2.imshow(\"grey\",greyimg) #Showing image in grey\n",
    "    #Let's say we want to stop the stream on press of certain key like 'a'\n",
    "    key = cv2.waitKey(1)&0xFF #Multiplying eight digits with 32 bits to get 8 bit number\n",
    "    if key== ord('a'):\n",
    "        break\n",
    "cap.release()\n",
    "cv2.destroyAllWindows()"
   ]
  },
  {
   "cell_type": "code",
   "execution_count": null,
   "metadata": {},
   "outputs": [],
   "source": []
  },
  {
   "cell_type": "code",
   "execution_count": null,
   "metadata": {},
   "outputs": [],
   "source": []
  }
 ],
 "metadata": {
  "kernelspec": {
   "display_name": "Python 3",
   "language": "python",
   "name": "python3"
  },
  "language_info": {
   "codemirror_mode": {
    "name": "ipython",
    "version": 3
   },
   "file_extension": ".py",
   "mimetype": "text/x-python",
   "name": "python",
   "nbconvert_exporter": "python",
   "pygments_lexer": "ipython3",
   "version": "3.6.5"
  }
 },
 "nbformat": 4,
 "nbformat_minor": 2
}
